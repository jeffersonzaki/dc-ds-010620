{
 "cells": [
  {
   "cell_type": "markdown",
   "metadata": {},
   "source": [
    "Goals/Objectives\n",
    "\n",
    "- extracting tables from html\n",
    "- extracting comments from html\n",
    "- pdf parser (?)"
   ]
  },
  {
   "cell_type": "code",
   "execution_count": 12,
   "metadata": {},
   "outputs": [],
   "source": [
    "import PyPDF2"
   ]
  },
  {
   "cell_type": "markdown",
   "metadata": {},
   "source": [
    "https://www.archives.gov/files/research/order/standard-form-180.pdf"
   ]
  },
  {
   "cell_type": "code",
   "execution_count": 13,
   "metadata": {},
   "outputs": [
    {
     "data": {
      "text/plain": [
       "3"
      ]
     },
     "execution_count": 13,
     "metadata": {},
     "output_type": "execute_result"
    }
   ],
   "source": [
    "pdfFileObj = open('standard-form-180.pdf', 'rb')\n",
    "# pdf reader object\n",
    "pdfReader = PyPDF2.PdfFileReader(pdfFileObj)\n",
    "# number of pages in pdf\n",
    "pages = pdfReader.numPages\n",
    "pages"
   ]
  },
  {
   "cell_type": "code",
   "execution_count": 16,
   "metadata": {},
   "outputs": [],
   "source": [
    "pdfObj = pdfReader.getPage(2)"
   ]
  },
  {
   "cell_type": "code",
   "execution_count": 18,
   "metadata": {},
   "outputs": [
    {
     "data": {
      "text/plain": [
       "' \\n \\n  \\n \\n  \\n \\n   \\nStandard Form 180 (Rev. 11\\n/2015) (Page \\n2\\n)\\n \\nAuthorized for local reproduction\\n \\n \\nPrescribed by NARA (36 CFR 1233.18 (d))\\n \\n \\nPrevious edition unusable \\n \\nOMB No. 3095\\n-\\n0029  Expires 04/30/201\\n8\\n \\nLOCATION OF MILITARY RECORDS\\n \\nThe various categories of \\nmilitary service records are described in the chart below. For each category there is a code number which indicates the addre\\nss at the bottom of the \\npage to which this request should be sent.  Please refer to the Instruction and Information Sheet accompany\\ning this form as needed.\\n \\nBRANCH\\n \\nCURRENT STATUS OF SERVICE MEMBER\\n \\nADDRESS CODE\\n \\nPersonnel \\n \\nRecord\\n \\nMedical or Service\\n \\nTreatment Record\\n \\nAIR \\nFORCE\\n \\nDischarged, deceased, or retired before 5/1/1994\\n \\n14\\n \\n14\\n \\nDischarged, deceased, or retired 5/1/1994 \\n\\n \\n9/30/2004\\n \\n14\\n \\n11\\n \\nDischarged, deceased, or retired 10/1/2004 \\n\\n \\n12/31/2013\\n \\n1\\n \\n11\\n \\nDischarged, deceased, or retired on or after 1/1/2014\\n \\n1\\n \\n13\\n \\nActive (including National Guard on active duty in the Air Force), TDRL, or general officers retired with pay\\n \\n1\\n \\n \\nReserve, IRR, Retired R\\neserve in non\\n-\\npay status, current National Guard officers not on active duty in the Air Force, or National Guard \\nreleased from active duty in the Air Force\\n \\n2\\n \\n \\nCurrent National Guard enlisted not on active duty in the Air Force\\n \\n2\\n \\n13\\n \\nCOAST  \\nGUARD\\n \\nDischarge , deceased, or retired before 1/1/1898\\n \\n6\\n \\n \\nDischarged, deceased, or retired 1/1/1898 \\n\\n \\n3/31/1998\\n \\n14\\n \\n14\\n \\nDischarged, deceased, or retired 4/1/1998 \\n\\n \\n9/30/2006 \\n \\n14\\n \\n11\\n \\nDischarged, deceased, or retired 10/1/2006 \\n\\n \\n9/30/2013\\n \\n3\\n \\n11\\n \\nDischarged, deceased, or retired on or after 10/1/2013\\n \\n3\\n \\n14\\n \\nActive, R\\neserve, Individual Ready Reserve or TDRL\\n \\n3\\n \\n \\nMARINE \\nCORPS\\n \\nDischarged, dec\\neased, or retired before 1/1/18\\n9\\n5\\n \\n6\\n \\n \\nDischarged, deceased, or retired \\n1\\n/1/1905 \\n\\n \\n4/30/1994\\n \\n1\\n4\\n \\n1\\n4\\n \\nDi\\nscharged, deceased, or retired 5\\n/1/199\\n4\\n \\n\\n \\n12/31/1998\\n \\n1\\n4\\n \\n11\\n \\nDischarged, deceased, or retired 1/1/1999 \\n-\\n \\n12/31/2013\\n \\n4\\n \\n11\\n \\nDischarged, deceased, or retired on or after 1/1/2014\\n \\n4\\n \\n8\\n \\nIndividual Ready Reserve \\n \\n5\\n \\n \\nActive, Selected Marine Corps Reserve, TDRL\\n \\n4\\n \\n \\nARMY\\n \\nDischarged, deceased, or retired before 11/1/1912 (enlisted) or before 7/1/1917 (officer)\\n \\n6\\n \\n \\nDischarged, deceased, or retired 11/1/1912 \\n\\n \\n10/15/1992 (enlisted) or \\n7/1/1917 \\n\\n \\n10/15/1992 (officer)\\n \\n14\\n \\n \\nDischarged, deceased, or retired 10/16/1992 \\n\\n \\n9/30/2002\\n \\n14\\n \\n11\\n \\nDischarged, deceased, or retired (including TDRL) 10/1/2002 \\n\\n \\n12/31/2013\\n \\n7\\n \\n11\\n \\nDischarged, deceased, or retired (including TDRL) on or after 1/1/2014\\n \\n7\\n \\n9\\n \\nCurrent S\\noldier (Active, Reserve (including Individual Ready Reserve) or National Guard)\\n \\n7\\n \\n \\nNAVY\\n \\nDischarged, deceased, or retired before 1/1/1886 (enlisted) or before 1/1/1903 (officer)\\n \\n6\\n \\n \\nDischarged, deceased, or retired 1/1/1886 \\n\\n \\n1/30/1994 \\n(enlisted) or 1/1/1903 \\n\\n \\n1/30/1994 (officer)\\n \\n14\\n \\n14\\n \\nDischarged, deceased, or retired 1/31/1994 \\n\\n \\n12/31/1994\\n \\n14\\n \\n11\\n \\nDischarged, deceased, or retired 1/1/1995 \\n\\n \\n12/31/2013\\n \\n10\\n \\n11\\n \\nDischarged, deceased, or retired on or after 1/1/2014\\n \\n10\\n \\n8\\n \\nActive, \\nR\\neserve, or TDRL\\n \\n10\\n \\n \\nPHS\\n \\nPublic Health Service  \\n-\\n  \\nCommissioned Corps officers only\\n \\n12\\n \\n \\n \\n \\n \\n \\n \\n \\nADDRESS LIST OF CUSTODIANS and SELF\\n-\\nSERVICE WEBSITES (BY CODE NUMBERS SHOWN ABOVE) \\n\\n \\nWhere to write/send this form\\n \\n \\n1\\n \\nAir Force Personnel Center\\n \\nHQ AFPC/DPSIRP\\n \\n550 C Street West, Suite 19\\n \\nRandolph AFB, TX  78150\\n-\\n4721\\n \\n6\\n \\nNational Archives & Records Administration\\n \\nResearch Services (RDT1R)\\n \\n700 Pennsylvania Avenue NW\\n \\nWashington, DC  20408\\n-\\n0001         \\n \\n11\\n \\nDepartment of Veterans Affairs\\n \\nRecords Management Center\\n \\nATTN:\\n  \\nRelease of Information\\n \\nP.O. Box 5020\\n \\nSt. Louis, MO  63115\\n-\\n5020\\n \\n2\\n \\nAir Reserve Personnel Center\\n \\nRecords Management Branch (DPTSC)\\n \\n18420 E. Silver Creek Avenue\\n \\nBuilding 390 MS 68\\n \\nBuckley AFB, CO  80011\\n \\n7\\n \\n\\n \\n \\nhttps://www.hrc.army.mil/TAGD/Accessing%20or%20\\nRequesting%20Your%20Official%20Military%20Pers\\nonnel%20File%20Documents\\n \\n \\nor \\n1\\n-\\n888\\n-\\nARMYHRC (1\\n-\\n888\\n-\\n276\\n-\\n9472)\\n \\n12\\n \\nDivision of Commissioned Corps Officer Support \\n \\nATTN:  Records Officer\\n \\n1101 Wooton Parkway, Plaza Level, Suite 100\\n \\nRockville, MD  20852\\n \\n3\\n \\nCommander,  Personnel Service Center\\n \\n(BOPS\\n-\\nC\\n-\\nMR) MS7200\\n \\nUS Coast Guard\\n \\n2703 Martin \\nLuther King Jr Ave SE\\n \\nWashington, DC 20593\\n-\\n7200\\n \\nMR_CustomerService@uscg.mil\\n \\n8\\n \\nNavy Medicine Records Activity (NMRA)\\n \\nBUMED Detachment St. Louis\\n \\n4300 Goodfellow Boulevard, Building 103\\n \\nSt. Louis, MO 63120\\n \\n13\\n \\nAF STR Processing Center\\n \\nATTN:  Release of Information\\n \\n3370 Nacogdoches Road, Suite 116\\n \\nSan Antonio, TX  78217\\n \\n14\\n \\nNational Personnel Records Center\\n \\n(Military Personnel Records)\\n \\n1 Archives Drive\\n \\nSt. Louis, MO  63138\\n-\\n1002\\n \\n \\ne\\nVetRecs:\\n \\nhttp://www.archives.gov/veterans/military\\n-\\nservice\\n-\\nrecords/\\n \\n4\\n \\nHeadquarters U.S. Marine Corps\\n \\nManpower Management Records & Performance \\n(MMRP\\n-\\n10)\\n \\n2008 Elliot Road\\n \\nQuantico, VA  22134\\n-\\n5030    \\n \\n9\\n \\nAMEDD Record Processing Center\\n \\n3370 Nacogdoches Road, Suite 116\\n \\nSan Antonio, TX  78217\\n \\n \\n5\\n \\nMarine Forces Reserve\\n \\n2000 Opelousas Avenue\\n \\nNew Orleans, LA  70146\\n-\\n5400\\n \\n10\\n \\nNavy Personnel Command (PERS\\n-\\n313)\\n \\n5720 Integrity Drive\\n \\nMillington, TN  38055\\n-\\n3120           \\n \\n \\n \\n \\n'"
      ]
     },
     "execution_count": 18,
     "metadata": {},
     "output_type": "execute_result"
    }
   ],
   "source": [
    "pdfObj.extractText()"
   ]
  },
  {
   "cell_type": "code",
   "execution_count": 25,
   "metadata": {},
   "outputs": [],
   "source": [
    "data_place_parse = pdfObj.extractText().split(\"Where to write/send this form\")[1]  # Returns a list"
   ]
  },
  {
   "cell_type": "code",
   "execution_count": 26,
   "metadata": {},
   "outputs": [
    {
     "data": {
      "text/plain": [
       "'\\n \\n \\n1\\n \\nAir Force Personnel Center\\n \\nHQ AFPC/DPSIRP\\n \\n550 C Street West, Suite 19\\n \\nRandolph AFB, TX  78150\\n-\\n4721\\n \\n6\\n \\nNational Archives & Records Administration\\n \\nResearch Services (RDT1R)\\n \\n700 Pennsylvania Avenue NW\\n \\nWashington, DC  20408\\n-\\n0001         \\n \\n11\\n \\nDepartment of Veterans Affairs\\n \\nRecords Management Center\\n \\nATTN:\\n  \\nRelease of Information\\n \\nP.O. Box 5020\\n \\nSt. Louis, MO  63115\\n-\\n5020\\n \\n2\\n \\nAir Reserve Personnel Center\\n \\nRecords Management Branch (DPTSC)\\n \\n18420 E. Silver Creek Avenue\\n \\nBuilding 390 MS 68\\n \\nBuckley AFB, CO  80011\\n \\n7\\n \\n\\n \\n \\nhttps://www.hrc.army.mil/TAGD/Accessing%20or%20\\nRequesting%20Your%20Official%20Military%20Pers\\nonnel%20File%20Documents\\n \\n \\nor \\n1\\n-\\n888\\n-\\nARMYHRC (1\\n-\\n888\\n-\\n276\\n-\\n9472)\\n \\n12\\n \\nDivision of Commissioned Corps Officer Support \\n \\nATTN:  Records Officer\\n \\n1101 Wooton Parkway, Plaza Level, Suite 100\\n \\nRockville, MD  20852\\n \\n3\\n \\nCommander,  Personnel Service Center\\n \\n(BOPS\\n-\\nC\\n-\\nMR) MS7200\\n \\nUS Coast Guard\\n \\n2703 Martin \\nLuther King Jr Ave SE\\n \\nWashington, DC 20593\\n-\\n7200\\n \\nMR_CustomerService@uscg.mil\\n \\n8\\n \\nNavy Medicine Records Activity (NMRA)\\n \\nBUMED Detachment St. Louis\\n \\n4300 Goodfellow Boulevard, Building 103\\n \\nSt. Louis, MO 63120\\n \\n13\\n \\nAF STR Processing Center\\n \\nATTN:  Release of Information\\n \\n3370 Nacogdoches Road, Suite 116\\n \\nSan Antonio, TX  78217\\n \\n14\\n \\nNational Personnel Records Center\\n \\n(Military Personnel Records)\\n \\n1 Archives Drive\\n \\nSt. Louis, MO  63138\\n-\\n1002\\n \\n \\ne\\nVetRecs:\\n \\nhttp://www.archives.gov/veterans/military\\n-\\nservice\\n-\\nrecords/\\n \\n4\\n \\nHeadquarters U.S. Marine Corps\\n \\nManpower Management Records & Performance \\n(MMRP\\n-\\n10)\\n \\n2008 Elliot Road\\n \\nQuantico, VA  22134\\n-\\n5030    \\n \\n9\\n \\nAMEDD Record Processing Center\\n \\n3370 Nacogdoches Road, Suite 116\\n \\nSan Antonio, TX  78217\\n \\n \\n5\\n \\nMarine Forces Reserve\\n \\n2000 Opelousas Avenue\\n \\nNew Orleans, LA  70146\\n-\\n5400\\n \\n10\\n \\nNavy Personnel Command (PERS\\n-\\n313)\\n \\n5720 Integrity Drive\\n \\nMillington, TN  38055\\n-\\n3120           \\n \\n \\n \\n \\n'"
      ]
     },
     "execution_count": 26,
     "metadata": {},
     "output_type": "execute_result"
    }
   ],
   "source": [
    "data_place_parse"
   ]
  },
  {
   "cell_type": "code",
   "execution_count": 42,
   "metadata": {},
   "outputs": [],
   "source": [
    "parse_list = list(data_place_parse.split())"
   ]
  },
  {
   "cell_type": "code",
   "execution_count": 49,
   "metadata": {},
   "outputs": [],
   "source": [
    "list_of_address = []\n",
    "start = 0\n",
    "stop = 0\n",
    "\n",
    "for line in parse_list:\n",
    "    if (len(line) == 4) and line.isnumeric():\n",
    "        stop += 1\n",
    "        list_of_address.append(parse_list[start:stop])\n",
    "        start = stop"
   ]
  },
  {
   "cell_type": "code",
   "execution_count": 50,
   "metadata": {},
   "outputs": [
    {
     "data": {
      "text/plain": [
       "[['1'],\n",
       " ['Air'],\n",
       " ['Force'],\n",
       " ['Personnel'],\n",
       " ['Center'],\n",
       " ['HQ'],\n",
       " ['AFPC/DPSIRP'],\n",
       " ['550'],\n",
       " ['C'],\n",
       " ['Street'],\n",
       " ['West,'],\n",
       " ['Suite'],\n",
       " ['19'],\n",
       " ['Randolph'],\n",
       " ['AFB,'],\n",
       " ['TX'],\n",
       " ['78150']]"
      ]
     },
     "execution_count": 50,
     "metadata": {},
     "output_type": "execute_result"
    }
   ],
   "source": [
    "list_of_address"
   ]
  },
  {
   "cell_type": "markdown",
   "metadata": {},
   "source": [
    "___\n",
    "___\n",
    "___"
   ]
  },
  {
   "cell_type": "markdown",
   "metadata": {},
   "source": [
    "Scraping"
   ]
  },
  {
   "cell_type": "code",
   "execution_count": 52,
   "metadata": {},
   "outputs": [],
   "source": [
    "from bs4 import BeautifulSoup\n",
    "import requests\n",
    "import pandas as pd"
   ]
  },
  {
   "cell_type": "code",
   "execution_count": 53,
   "metadata": {},
   "outputs": [],
   "source": [
    "url_thes = \"https://www.thesaurus.com/browse/impossible\"\n",
    "page = requests.get(url_thes)\n",
    "soup = BeautifulSoup(page.content, \"html.parser\")"
   ]
  },
  {
   "cell_type": "code",
   "execution_count": 90,
   "metadata": {},
   "outputs": [],
   "source": [
    "impossible = soup.find_all(\"span\", class_=\"css-133coio etbu2a32\")\n",
    "\n",
    "synonyms = [words.find(\"a\").get(\"href\") for words in impossible]"
   ]
  },
  {
   "cell_type": "code",
   "execution_count": 54,
   "metadata": {},
   "outputs": [],
   "source": [
    "url_disney = \"https://www.shopdisney.com/toys/shop-by-category/action-figures/\"\n",
    "page = requests.get(url_disney)\n",
    "soup = BeautifulSoup(page.content, \"html.parser\")"
   ]
  },
  {
   "cell_type": "markdown",
   "metadata": {},
   "source": [
    "___\n",
    "___\n",
    "___"
   ]
  },
  {
   "cell_type": "code",
   "execution_count": null,
   "metadata": {},
   "outputs": [],
   "source": [
    "url = \"https://www.imdb.com/chart/moviemeter/?ref_=nv_mv_mpm\"\n",
    "page = requests.get(url)\n",
    "soup = BeautifulSoup(page.content, 'html.parser')"
   ]
  },
  {
   "cell_type": "code",
   "execution_count": null,
   "metadata": {},
   "outputs": [],
   "source": [
    "# dfs = pd.read_html(\"https://www.imdb.com/chart/moviemeter/?ref_=nv_mv_mpm\")\n",
    "# for df in dfs:\n",
    "#     print(df.head())"
   ]
  },
  {
   "cell_type": "code",
   "execution_count": null,
   "metadata": {},
   "outputs": [],
   "source": []
  }
 ],
 "metadata": {
  "kernelspec": {
   "display_name": "Python 3",
   "language": "python",
   "name": "python3"
  },
  "language_info": {
   "codemirror_mode": {
    "name": "ipython",
    "version": 3
   },
   "file_extension": ".py",
   "mimetype": "text/x-python",
   "name": "python",
   "nbconvert_exporter": "python",
   "pygments_lexer": "ipython3",
   "version": "3.8.1"
  }
 },
 "nbformat": 4,
 "nbformat_minor": 4
}
