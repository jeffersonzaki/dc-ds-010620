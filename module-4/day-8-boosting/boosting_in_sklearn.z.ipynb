{
 "cells": [
  {
   "cell_type": "markdown",
   "metadata": {},
   "source": [
    "# Boosting"
   ]
  },
  {
   "cell_type": "code",
   "execution_count": 1,
   "metadata": {},
   "outputs": [],
   "source": [
    "from sklearn.ensemble import AdaBoostClassifier, AdaBoostRegressor, GradientBoostingClassifier\n",
    "import pandas as pd\n",
    "import matplotlib as mpl\n",
    "from sklearn.model_selection import train_test_split, cross_val_score, GridSearchCV\n",
    "from sklearn.metrics import precision_score, recall_score, confusion_matrix\n",
    "%matplotlib inline"
   ]
  },
  {
   "cell_type": "markdown",
   "metadata": {},
   "source": [
    "One of the problems with using single decision trees and random forests is that, once I make a split, I can't go back and consider how another feature varies across the whole dataset. But suppose I were to consider **my tree's errors**. The fundamental idea of ***boosting*** is to start with a weak learner and then to use information about its errors to build a new model that can supplement the original model."
   ]
  },
  {
   "cell_type": "markdown",
   "metadata": {},
   "source": [
    "## Two Types\n",
    "\n",
    "The two main types of boosting available in Scikit-Learn are adaptive boosting (AdaBoostClassifier, AdaBoostRegressor) and gradient boosting (GradientBoostingClassifier, GradientBoostingRegressor).\n",
    "\n",
    "Again, the fundamental idea of boosting is to use a sequence of **weak** learners to build a model. Though the individual learners are weak, the idea is to train iteratively in order to produce a better predictor. More specifically, the first learner will be trained on the data as it stands, but future learners will be trained on modified versions of the data. The point of the modifications is to highlight the \"hard-to-predict-accurately\" portions of the data.\n",
    "\n",
    "- **AdaBoost** works by iteratively adapting two related series of weights, one attached to the datapoints and the other attached to the learners themselves. Datapoints that are incorrectly classified receive greater weights for the next learner in the sequence. That way, future learners will be more likely to focus on those datapoints. At the end of the sequence, the learners that make better predictions, especially on the datapoints that are more resistant to correct classification, receive more weight in the final \"vote\" that determines the ensemble's prediction. <br/> Suppose we have binary classification problem and we represent the two classes with 1 and -1. (This is standard for describing the algorithm of AdaBoost.) <br/>\n",
    "Then, in a nutshell: <br/>\n",
    "    1. Train a weak learner. <br/>\n",
    "    2. Calculate its error $\\epsilon$. <br/>\n",
    "    3. Use that error as a weight on the classifier: $\\theta = \\frac{1}{2}ln\\left(\\frac{1-\\epsilon}{\\epsilon}\\right)$. <br/>\n",
    "    Note that $\\theta$ CAN be negative. This represents a classifier whose accuracy is _worse_ than chance. <br/>\n",
    "    4. Use _that_ to adjust the data points' weights: $w_{n+1} = w_n\\left(\\frac{e^{\\pm\\theta}}{scaler}\\right)$. Use $+\\theta$ for incorrect predictions, $-\\theta$ for correct predictions. <br/>  $\\rightarrow$ For more detail on AdaBoost, see [here](https://towardsdatascience.com/boosting-algorithm-adaboost-b6737a9ee60c).\n",
    "\n",
    "- **Gradient Boosting** works instead by training each new learner on the residuals of the model built with the learners that have so far been constructed. That is, Model $n+1$ (with $n+1$ learners) will focus on the predictions of Model $n$ (with only $n$ learners) that were **most off the mark**. As the training process repeats, the learners learn and the residuals get smaller. I would get a sequence going: <br/> Model 0 is very simple. Perhaps it merely predicts the mean: <br/>\n",
    "$\\hat{y}_0 = \\bar{y}$; <br/>\n",
    "Model 1's predictions would then be the sum of (i) Model 0's predictions and (ii) the predictions of the model fitted to Model 0's residuals: <br/> $\\hat{y}_1 = \\hat{y}_0 + \\hat{(y - \\hat{y})}_{err0}$; <br/>\n",
    "Now iterate: Model 2's predictions will be the sum of (i) Model 0's predictions, (ii) the predictions of the model fitted to Model 0's residuals, and (iii) the predictions of the model fitted to Model 1's residuals: <br/> $\\hat{y}_2 = \\hat{y}_0 + \\hat{(y - \\hat{y})}_{err0} + \\hat{(y - \\hat{y})}_{err1}$<br/>\n",
    "Etc.\n",
    "<br/>\n",
    "\n",
    "For more on this idea, see [here](http://blog.kaggle.com/2017/01/23/a-kaggle-master-explains-gradient-boosting/). <br/> $\\rightarrow$ How does gradient boosting work for a classification problem? How do we even make sense of the notion of a gradient in that context? The short answer is that we appeal to the probabilities associated with the predictions for the various classes. See more on this topic [here](https://sefiks.com/2018/10/29/a-step-by-step-gradient-boosting-example-for-classification/). <br/> $\\rightarrow$ Why is this called \"_gradient_ boosting\"? The short answer is that fitting a learner to a model's residuals comes to the same things as fitting it to the derivative of that model's loss function. See more on this topic [here](https://www.ritchievink.com/blog/2018/11/19/algorithm-breakdown-why-do-we-call-it-gradient-boosting/).\n",
    "\n",
    "## AdaBoost in Scikit-Learn"
   ]
  },
  {
   "cell_type": "code",
   "execution_count": 2,
   "metadata": {
    "scrolled": true
   },
   "outputs": [
    {
     "data": {
      "text/html": [
       "<div>\n",
       "<style scoped>\n",
       "    .dataframe tbody tr th:only-of-type {\n",
       "        vertical-align: middle;\n",
       "    }\n",
       "\n",
       "    .dataframe tbody tr th {\n",
       "        vertical-align: top;\n",
       "    }\n",
       "\n",
       "    .dataframe thead th {\n",
       "        text-align: right;\n",
       "    }\n",
       "</style>\n",
       "<table border=\"1\" class=\"dataframe\">\n",
       "  <thead>\n",
       "    <tr style=\"text-align: right;\">\n",
       "      <th></th>\n",
       "      <th>Nr</th>\n",
       "      <th>Rmag</th>\n",
       "      <th>e.Rmag</th>\n",
       "      <th>ApDRmag</th>\n",
       "      <th>mumax</th>\n",
       "      <th>Mcz</th>\n",
       "      <th>e.Mcz</th>\n",
       "      <th>MCzml</th>\n",
       "      <th>chi2red</th>\n",
       "      <th>UjMAG</th>\n",
       "      <th>...</th>\n",
       "      <th>UFS</th>\n",
       "      <th>e.UFS</th>\n",
       "      <th>BFS</th>\n",
       "      <th>e.BFS</th>\n",
       "      <th>VFD</th>\n",
       "      <th>e.VFD</th>\n",
       "      <th>RFS</th>\n",
       "      <th>e.RFS</th>\n",
       "      <th>IFD</th>\n",
       "      <th>e.IFD</th>\n",
       "    </tr>\n",
       "  </thead>\n",
       "  <tbody>\n",
       "    <tr>\n",
       "      <th>0</th>\n",
       "      <td>6</td>\n",
       "      <td>24.995</td>\n",
       "      <td>0.097</td>\n",
       "      <td>0.935</td>\n",
       "      <td>24.214</td>\n",
       "      <td>0.832</td>\n",
       "      <td>0.036</td>\n",
       "      <td>1.400</td>\n",
       "      <td>0.64</td>\n",
       "      <td>-17.67</td>\n",
       "      <td>...</td>\n",
       "      <td>0.01870</td>\n",
       "      <td>0.00239</td>\n",
       "      <td>0.01630</td>\n",
       "      <td>0.00129</td>\n",
       "      <td>0.017300</td>\n",
       "      <td>0.00141</td>\n",
       "      <td>0.01650</td>\n",
       "      <td>0.000434</td>\n",
       "      <td>0.02470</td>\n",
       "      <td>0.00483</td>\n",
       "    </tr>\n",
       "    <tr>\n",
       "      <th>1</th>\n",
       "      <td>9</td>\n",
       "      <td>25.013</td>\n",
       "      <td>0.181</td>\n",
       "      <td>-0.135</td>\n",
       "      <td>25.303</td>\n",
       "      <td>0.927</td>\n",
       "      <td>0.122</td>\n",
       "      <td>0.864</td>\n",
       "      <td>0.41</td>\n",
       "      <td>-18.28</td>\n",
       "      <td>...</td>\n",
       "      <td>0.00706</td>\n",
       "      <td>0.00238</td>\n",
       "      <td>0.00420</td>\n",
       "      <td>0.00115</td>\n",
       "      <td>0.003930</td>\n",
       "      <td>0.00182</td>\n",
       "      <td>0.00723</td>\n",
       "      <td>0.000500</td>\n",
       "      <td>0.00973</td>\n",
       "      <td>0.00460</td>\n",
       "    </tr>\n",
       "    <tr>\n",
       "      <th>2</th>\n",
       "      <td>16</td>\n",
       "      <td>24.246</td>\n",
       "      <td>0.054</td>\n",
       "      <td>0.821</td>\n",
       "      <td>23.511</td>\n",
       "      <td>1.202</td>\n",
       "      <td>0.037</td>\n",
       "      <td>1.217</td>\n",
       "      <td>0.92</td>\n",
       "      <td>-19.75</td>\n",
       "      <td>...</td>\n",
       "      <td>0.01260</td>\n",
       "      <td>0.00184</td>\n",
       "      <td>0.01830</td>\n",
       "      <td>0.00115</td>\n",
       "      <td>0.018800</td>\n",
       "      <td>0.00167</td>\n",
       "      <td>0.02880</td>\n",
       "      <td>0.000655</td>\n",
       "      <td>0.05700</td>\n",
       "      <td>0.00465</td>\n",
       "    </tr>\n",
       "    <tr>\n",
       "      <th>3</th>\n",
       "      <td>21</td>\n",
       "      <td>25.203</td>\n",
       "      <td>0.128</td>\n",
       "      <td>0.639</td>\n",
       "      <td>24.948</td>\n",
       "      <td>0.912</td>\n",
       "      <td>0.177</td>\n",
       "      <td>0.776</td>\n",
       "      <td>0.39</td>\n",
       "      <td>-17.83</td>\n",
       "      <td>...</td>\n",
       "      <td>0.01410</td>\n",
       "      <td>0.00186</td>\n",
       "      <td>0.01180</td>\n",
       "      <td>0.00110</td>\n",
       "      <td>0.009670</td>\n",
       "      <td>0.00204</td>\n",
       "      <td>0.01050</td>\n",
       "      <td>0.000416</td>\n",
       "      <td>0.01340</td>\n",
       "      <td>0.00330</td>\n",
       "    </tr>\n",
       "    <tr>\n",
       "      <th>4</th>\n",
       "      <td>26</td>\n",
       "      <td>25.504</td>\n",
       "      <td>0.112</td>\n",
       "      <td>-1.588</td>\n",
       "      <td>24.934</td>\n",
       "      <td>0.848</td>\n",
       "      <td>0.067</td>\n",
       "      <td>1.330</td>\n",
       "      <td>1.45</td>\n",
       "      <td>-17.69</td>\n",
       "      <td>...</td>\n",
       "      <td>0.00514</td>\n",
       "      <td>0.00170</td>\n",
       "      <td>0.00102</td>\n",
       "      <td>0.00127</td>\n",
       "      <td>0.000039</td>\n",
       "      <td>0.00160</td>\n",
       "      <td>0.00139</td>\n",
       "      <td>0.000499</td>\n",
       "      <td>0.00590</td>\n",
       "      <td>0.00444</td>\n",
       "    </tr>\n",
       "  </tbody>\n",
       "</table>\n",
       "<p>5 rows × 65 columns</p>\n",
       "</div>"
      ],
      "text/plain": [
       "   Nr    Rmag  e.Rmag  ApDRmag   mumax    Mcz  e.Mcz  MCzml  chi2red  UjMAG  \\\n",
       "0   6  24.995   0.097    0.935  24.214  0.832  0.036  1.400     0.64 -17.67   \n",
       "1   9  25.013   0.181   -0.135  25.303  0.927  0.122  0.864     0.41 -18.28   \n",
       "2  16  24.246   0.054    0.821  23.511  1.202  0.037  1.217     0.92 -19.75   \n",
       "3  21  25.203   0.128    0.639  24.948  0.912  0.177  0.776     0.39 -17.83   \n",
       "4  26  25.504   0.112   -1.588  24.934  0.848  0.067  1.330     1.45 -17.69   \n",
       "\n",
       "   ...      UFS    e.UFS      BFS    e.BFS       VFD    e.VFD      RFS  \\\n",
       "0  ...  0.01870  0.00239  0.01630  0.00129  0.017300  0.00141  0.01650   \n",
       "1  ...  0.00706  0.00238  0.00420  0.00115  0.003930  0.00182  0.00723   \n",
       "2  ...  0.01260  0.00184  0.01830  0.00115  0.018800  0.00167  0.02880   \n",
       "3  ...  0.01410  0.00186  0.01180  0.00110  0.009670  0.00204  0.01050   \n",
       "4  ...  0.00514  0.00170  0.00102  0.00127  0.000039  0.00160  0.00139   \n",
       "\n",
       "      e.RFS      IFD    e.IFD  \n",
       "0  0.000434  0.02470  0.00483  \n",
       "1  0.000500  0.00973  0.00460  \n",
       "2  0.000655  0.05700  0.00465  \n",
       "3  0.000416  0.01340  0.00330  \n",
       "4  0.000499  0.00590  0.00444  \n",
       "\n",
       "[5 rows x 65 columns]"
      ]
     },
     "execution_count": 2,
     "metadata": {},
     "output_type": "execute_result"
    }
   ],
   "source": [
    "galaxies = pd.read_csv('COMBO17.csv')\n",
    "galaxies.head()"
   ]
  },
  {
   "cell_type": "markdown",
   "metadata": {},
   "source": [
    "This is a dataset about galaxies. The Mcz and MCzml columns are measures of redshift, which is our target. Mcz is usually understood to be a better measure, so that will be our target column. Many of the other columns have to do with various measures of galaxies' magnitudes. For more on the dataset, see [here](https://astrostatistics.psu.edu/datasets/COMBO17.html)."
   ]
  },
  {
   "cell_type": "code",
   "execution_count": 3,
   "metadata": {},
   "outputs": [
    {
     "data": {
      "text/plain": [
       "Index(['Nr', 'Rmag', 'e.Rmag', 'ApDRmag', 'mumax', 'Mcz', 'e.Mcz', 'MCzml',\n",
       "       'chi2red', 'UjMAG', 'e.UjMAG', 'BjMAG', 'e.BjMAG', 'VjMAG', 'e.VjMAG',\n",
       "       'usMAG', 'e.usMAG', 'gsMAG', 'e.gsMAG', 'rsMAG', 'e.rsMAG', 'UbMAG',\n",
       "       'e.UbMAG', 'BbMAG', 'e.BbMAG', 'VnMAG', 'e.VbMAG', 'S280MAG',\n",
       "       'e.S280MA', 'W420FE', 'e.W420FE', 'W462FE', 'e.W462FE', 'W485FD',\n",
       "       'e.W485FD', 'W518FE', 'e.W518FE', 'W571FS', 'e.W571FS', 'W604FE',\n",
       "       'e.W604FE', 'W646FD', 'e.W646FD', 'W696FE', 'e.W696FE', 'W753FE',\n",
       "       'e.W753FE', 'W815FS', 'e.W815FS', 'W856FD', 'e.W856FD', 'W914FD',\n",
       "       'e.W914FD', 'W914FE', 'e.W914FE', 'UFS', 'e.UFS', 'BFS', 'e.BFS', 'VFD',\n",
       "       'e.VFD', 'RFS', 'e.RFS', 'IFD', 'e.IFD'],\n",
       "      dtype='object')"
      ]
     },
     "execution_count": 3,
     "metadata": {},
     "output_type": "execute_result"
    }
   ],
   "source": [
    "galaxies.columns"
   ]
  },
  {
   "cell_type": "code",
   "execution_count": 4,
   "metadata": {},
   "outputs": [
    {
     "data": {
      "text/plain": [
       "50"
      ]
     },
     "execution_count": 4,
     "metadata": {},
     "output_type": "execute_result"
    }
   ],
   "source": [
    "galaxies.isnull().sum().sum()"
   ]
  },
  {
   "cell_type": "code",
   "execution_count": 5,
   "metadata": {},
   "outputs": [],
   "source": [
    "galaxies = galaxies.dropna()"
   ]
  },
  {
   "cell_type": "markdown",
   "metadata": {},
   "source": [
    "Let's collect together the columns that have high correlation with Mcz, our target:"
   ]
  },
  {
   "cell_type": "code",
   "execution_count": 6,
   "metadata": {},
   "outputs": [],
   "source": [
    "preds = []\n",
    "for ind in galaxies.corr()['Mcz'].index:\n",
    "    if abs(galaxies.corr()['Mcz'][ind]) > 0.5:\n",
    "        preds.append(ind)"
   ]
  },
  {
   "cell_type": "code",
   "execution_count": 7,
   "metadata": {
    "scrolled": true
   },
   "outputs": [
    {
     "data": {
      "text/html": [
       "<div>\n",
       "<style scoped>\n",
       "    .dataframe tbody tr th:only-of-type {\n",
       "        vertical-align: middle;\n",
       "    }\n",
       "\n",
       "    .dataframe tbody tr th {\n",
       "        vertical-align: top;\n",
       "    }\n",
       "\n",
       "    .dataframe thead th {\n",
       "        text-align: right;\n",
       "    }\n",
       "</style>\n",
       "<table border=\"1\" class=\"dataframe\">\n",
       "  <thead>\n",
       "    <tr style=\"text-align: right;\">\n",
       "      <th></th>\n",
       "      <th>Mcz</th>\n",
       "      <th>e.Mcz</th>\n",
       "      <th>MCzml</th>\n",
       "      <th>UjMAG</th>\n",
       "      <th>BjMAG</th>\n",
       "      <th>VjMAG</th>\n",
       "      <th>usMAG</th>\n",
       "      <th>gsMAG</th>\n",
       "      <th>rsMAG</th>\n",
       "      <th>UbMAG</th>\n",
       "      <th>BbMAG</th>\n",
       "      <th>VnMAG</th>\n",
       "      <th>S280MAG</th>\n",
       "    </tr>\n",
       "  </thead>\n",
       "  <tbody>\n",
       "    <tr>\n",
       "      <th>Mcz</th>\n",
       "      <td>1.000000</td>\n",
       "      <td>0.613071</td>\n",
       "      <td>0.872016</td>\n",
       "      <td>-0.699550</td>\n",
       "      <td>-0.628226</td>\n",
       "      <td>-0.641983</td>\n",
       "      <td>-0.698304</td>\n",
       "      <td>-0.652170</td>\n",
       "      <td>-0.631398</td>\n",
       "      <td>-0.699731</td>\n",
       "      <td>-0.659506</td>\n",
       "      <td>-0.641870</td>\n",
       "      <td>-0.700453</td>\n",
       "    </tr>\n",
       "    <tr>\n",
       "      <th>e.Mcz</th>\n",
       "      <td>0.613071</td>\n",
       "      <td>1.000000</td>\n",
       "      <td>0.590179</td>\n",
       "      <td>-0.170296</td>\n",
       "      <td>-0.122309</td>\n",
       "      <td>-0.122616</td>\n",
       "      <td>-0.168326</td>\n",
       "      <td>-0.126491</td>\n",
       "      <td>-0.114022</td>\n",
       "      <td>-0.170208</td>\n",
       "      <td>-0.130680</td>\n",
       "      <td>-0.122546</td>\n",
       "      <td>-0.169344</td>\n",
       "    </tr>\n",
       "    <tr>\n",
       "      <th>MCzml</th>\n",
       "      <td>0.872016</td>\n",
       "      <td>0.590179</td>\n",
       "      <td>1.000000</td>\n",
       "      <td>-0.565663</td>\n",
       "      <td>-0.520006</td>\n",
       "      <td>-0.532880</td>\n",
       "      <td>-0.563591</td>\n",
       "      <td>-0.536750</td>\n",
       "      <td>-0.525495</td>\n",
       "      <td>-0.565406</td>\n",
       "      <td>-0.544325</td>\n",
       "      <td>-0.532837</td>\n",
       "      <td>-0.562474</td>\n",
       "    </tr>\n",
       "    <tr>\n",
       "      <th>UjMAG</th>\n",
       "      <td>-0.699550</td>\n",
       "      <td>-0.170296</td>\n",
       "      <td>-0.565663</td>\n",
       "      <td>1.000000</td>\n",
       "      <td>0.933252</td>\n",
       "      <td>0.961088</td>\n",
       "      <td>0.999865</td>\n",
       "      <td>0.970124</td>\n",
       "      <td>0.954853</td>\n",
       "      <td>0.999986</td>\n",
       "      <td>0.975476</td>\n",
       "      <td>0.960981</td>\n",
       "      <td>0.963415</td>\n",
       "    </tr>\n",
       "    <tr>\n",
       "      <th>BjMAG</th>\n",
       "      <td>-0.628226</td>\n",
       "      <td>-0.122309</td>\n",
       "      <td>-0.520006</td>\n",
       "      <td>0.933252</td>\n",
       "      <td>1.000000</td>\n",
       "      <td>0.950728</td>\n",
       "      <td>0.932328</td>\n",
       "      <td>0.954006</td>\n",
       "      <td>0.947597</td>\n",
       "      <td>0.932831</td>\n",
       "      <td>0.957836</td>\n",
       "      <td>0.950694</td>\n",
       "      <td>0.885382</td>\n",
       "    </tr>\n",
       "    <tr>\n",
       "      <th>VjMAG</th>\n",
       "      <td>-0.641983</td>\n",
       "      <td>-0.122616</td>\n",
       "      <td>-0.532880</td>\n",
       "      <td>0.961088</td>\n",
       "      <td>0.950728</td>\n",
       "      <td>1.000000</td>\n",
       "      <td>0.959432</td>\n",
       "      <td>0.997956</td>\n",
       "      <td>0.999324</td>\n",
       "      <td>0.960265</td>\n",
       "      <td>0.992178</td>\n",
       "      <td>0.999997</td>\n",
       "      <td>0.894171</td>\n",
       "    </tr>\n",
       "    <tr>\n",
       "      <th>usMAG</th>\n",
       "      <td>-0.698304</td>\n",
       "      <td>-0.168326</td>\n",
       "      <td>-0.563591</td>\n",
       "      <td>0.999865</td>\n",
       "      <td>0.932328</td>\n",
       "      <td>0.959432</td>\n",
       "      <td>1.000000</td>\n",
       "      <td>0.968971</td>\n",
       "      <td>0.953027</td>\n",
       "      <td>0.999903</td>\n",
       "      <td>0.974515</td>\n",
       "      <td>0.959320</td>\n",
       "      <td>0.964972</td>\n",
       "    </tr>\n",
       "    <tr>\n",
       "      <th>gsMAG</th>\n",
       "      <td>-0.652170</td>\n",
       "      <td>-0.126491</td>\n",
       "      <td>-0.536750</td>\n",
       "      <td>0.970124</td>\n",
       "      <td>0.954006</td>\n",
       "      <td>0.997956</td>\n",
       "      <td>0.968971</td>\n",
       "      <td>1.000000</td>\n",
       "      <td>0.995436</td>\n",
       "      <td>0.969562</td>\n",
       "      <td>0.995887</td>\n",
       "      <td>0.997923</td>\n",
       "      <td>0.914118</td>\n",
       "    </tr>\n",
       "    <tr>\n",
       "      <th>rsMAG</th>\n",
       "      <td>-0.631398</td>\n",
       "      <td>-0.114022</td>\n",
       "      <td>-0.525495</td>\n",
       "      <td>0.954853</td>\n",
       "      <td>0.947597</td>\n",
       "      <td>0.999324</td>\n",
       "      <td>0.953027</td>\n",
       "      <td>0.995436</td>\n",
       "      <td>1.000000</td>\n",
       "      <td>0.953909</td>\n",
       "      <td>0.988695</td>\n",
       "      <td>0.999341</td>\n",
       "      <td>0.882782</td>\n",
       "    </tr>\n",
       "    <tr>\n",
       "      <th>UbMAG</th>\n",
       "      <td>-0.699731</td>\n",
       "      <td>-0.170208</td>\n",
       "      <td>-0.565406</td>\n",
       "      <td>0.999986</td>\n",
       "      <td>0.932831</td>\n",
       "      <td>0.960265</td>\n",
       "      <td>0.999903</td>\n",
       "      <td>0.969562</td>\n",
       "      <td>0.953909</td>\n",
       "      <td>1.000000</td>\n",
       "      <td>0.975035</td>\n",
       "      <td>0.960155</td>\n",
       "      <td>0.964189</td>\n",
       "    </tr>\n",
       "    <tr>\n",
       "      <th>BbMAG</th>\n",
       "      <td>-0.659506</td>\n",
       "      <td>-0.130680</td>\n",
       "      <td>-0.544325</td>\n",
       "      <td>0.975476</td>\n",
       "      <td>0.957836</td>\n",
       "      <td>0.992178</td>\n",
       "      <td>0.974515</td>\n",
       "      <td>0.995887</td>\n",
       "      <td>0.988695</td>\n",
       "      <td>0.975035</td>\n",
       "      <td>1.000000</td>\n",
       "      <td>0.992127</td>\n",
       "      <td>0.925047</td>\n",
       "    </tr>\n",
       "    <tr>\n",
       "      <th>VnMAG</th>\n",
       "      <td>-0.641870</td>\n",
       "      <td>-0.122546</td>\n",
       "      <td>-0.532837</td>\n",
       "      <td>0.960981</td>\n",
       "      <td>0.950694</td>\n",
       "      <td>0.999997</td>\n",
       "      <td>0.959320</td>\n",
       "      <td>0.997923</td>\n",
       "      <td>0.999341</td>\n",
       "      <td>0.960155</td>\n",
       "      <td>0.992127</td>\n",
       "      <td>1.000000</td>\n",
       "      <td>0.893972</td>\n",
       "    </tr>\n",
       "    <tr>\n",
       "      <th>S280MAG</th>\n",
       "      <td>-0.700453</td>\n",
       "      <td>-0.169344</td>\n",
       "      <td>-0.562474</td>\n",
       "      <td>0.963415</td>\n",
       "      <td>0.885382</td>\n",
       "      <td>0.894171</td>\n",
       "      <td>0.964972</td>\n",
       "      <td>0.914118</td>\n",
       "      <td>0.882782</td>\n",
       "      <td>0.964189</td>\n",
       "      <td>0.925047</td>\n",
       "      <td>0.893972</td>\n",
       "      <td>1.000000</td>\n",
       "    </tr>\n",
       "  </tbody>\n",
       "</table>\n",
       "</div>"
      ],
      "text/plain": [
       "              Mcz     e.Mcz     MCzml     UjMAG     BjMAG     VjMAG     usMAG  \\\n",
       "Mcz      1.000000  0.613071  0.872016 -0.699550 -0.628226 -0.641983 -0.698304   \n",
       "e.Mcz    0.613071  1.000000  0.590179 -0.170296 -0.122309 -0.122616 -0.168326   \n",
       "MCzml    0.872016  0.590179  1.000000 -0.565663 -0.520006 -0.532880 -0.563591   \n",
       "UjMAG   -0.699550 -0.170296 -0.565663  1.000000  0.933252  0.961088  0.999865   \n",
       "BjMAG   -0.628226 -0.122309 -0.520006  0.933252  1.000000  0.950728  0.932328   \n",
       "VjMAG   -0.641983 -0.122616 -0.532880  0.961088  0.950728  1.000000  0.959432   \n",
       "usMAG   -0.698304 -0.168326 -0.563591  0.999865  0.932328  0.959432  1.000000   \n",
       "gsMAG   -0.652170 -0.126491 -0.536750  0.970124  0.954006  0.997956  0.968971   \n",
       "rsMAG   -0.631398 -0.114022 -0.525495  0.954853  0.947597  0.999324  0.953027   \n",
       "UbMAG   -0.699731 -0.170208 -0.565406  0.999986  0.932831  0.960265  0.999903   \n",
       "BbMAG   -0.659506 -0.130680 -0.544325  0.975476  0.957836  0.992178  0.974515   \n",
       "VnMAG   -0.641870 -0.122546 -0.532837  0.960981  0.950694  0.999997  0.959320   \n",
       "S280MAG -0.700453 -0.169344 -0.562474  0.963415  0.885382  0.894171  0.964972   \n",
       "\n",
       "            gsMAG     rsMAG     UbMAG     BbMAG     VnMAG   S280MAG  \n",
       "Mcz     -0.652170 -0.631398 -0.699731 -0.659506 -0.641870 -0.700453  \n",
       "e.Mcz   -0.126491 -0.114022 -0.170208 -0.130680 -0.122546 -0.169344  \n",
       "MCzml   -0.536750 -0.525495 -0.565406 -0.544325 -0.532837 -0.562474  \n",
       "UjMAG    0.970124  0.954853  0.999986  0.975476  0.960981  0.963415  \n",
       "BjMAG    0.954006  0.947597  0.932831  0.957836  0.950694  0.885382  \n",
       "VjMAG    0.997956  0.999324  0.960265  0.992178  0.999997  0.894171  \n",
       "usMAG    0.968971  0.953027  0.999903  0.974515  0.959320  0.964972  \n",
       "gsMAG    1.000000  0.995436  0.969562  0.995887  0.997923  0.914118  \n",
       "rsMAG    0.995436  1.000000  0.953909  0.988695  0.999341  0.882782  \n",
       "UbMAG    0.969562  0.953909  1.000000  0.975035  0.960155  0.964189  \n",
       "BbMAG    0.995887  0.988695  0.975035  1.000000  0.992127  0.925047  \n",
       "VnMAG    0.997923  0.999341  0.960155  0.992127  1.000000  0.893972  \n",
       "S280MAG  0.914118  0.882782  0.964189  0.925047  0.893972  1.000000  "
      ]
     },
     "execution_count": 7,
     "metadata": {},
     "output_type": "execute_result"
    }
   ],
   "source": [
    "galaxies[preds].corr()"
   ]
  },
  {
   "cell_type": "markdown",
   "metadata": {},
   "source": [
    "These various magnitude columns all have high correlations **with one another**! Let's try a simple model with just the S280MAG column, since it has the highest correlation with Mcz."
   ]
  },
  {
   "cell_type": "code",
   "execution_count": 8,
   "metadata": {},
   "outputs": [],
   "source": [
    "x = galaxies['S280MAG']\n",
    "y = galaxies['Mcz']"
   ]
  },
  {
   "cell_type": "markdown",
   "metadata": {},
   "source": [
    "Since we only have one predictor, we can visualize the correlation with the target! We can also reshape it for modeling purposes!"
   ]
  },
  {
   "cell_type": "code",
   "execution_count": 9,
   "metadata": {},
   "outputs": [],
   "source": [
    "x_rev = x.values.reshape(-1, 1)"
   ]
  },
  {
   "cell_type": "code",
   "execution_count": 10,
   "metadata": {},
   "outputs": [
    {
     "data": {
      "image/png": "[encoded data removed]",
      "text/plain": [
       "<Figure size 432x288 with 1 Axes>"
      ]
     },
     "metadata": {
      "needs_background": "light"
     },
     "output_type": "display_data"
    }
   ],
   "source": [
    "mpl.pyplot.scatter(x_rev, y);"
   ]
  },
  {
   "cell_type": "code",
   "execution_count": 11,
   "metadata": {},
   "outputs": [],
   "source": [
    "x_train, x_test, y_train, y_test = train_test_split(x_rev, y, random_state=42)"
   ]
  },
  {
   "cell_type": "code",
   "execution_count": 12,
   "metadata": {},
   "outputs": [
    {
     "data": {
      "text/plain": [
       "AdaBoostRegressor(base_estimator=None, learning_rate=1.0, loss='linear',\n",
       "                  n_estimators=50, random_state=42)"
      ]
     },
     "execution_count": 12,
     "metadata": {},
     "output_type": "execute_result"
    }
   ],
   "source": [
    "abr = AdaBoostRegressor(random_state=42)\n",
    "\n",
    "abr.fit(x_train, y_train)"
   ]
  },
  {
   "cell_type": "code",
   "execution_count": 13,
   "metadata": {},
   "outputs": [
    {
     "data": {
      "text/plain": [
       "array([0.50416011, 0.51277109, 0.58225908, 0.47066606, 0.58004547])"
      ]
     },
     "execution_count": 13,
     "metadata": {},
     "output_type": "execute_result"
    }
   ],
   "source": [
    "cross_val_score(abr, x_test, y_test, cv=5)"
   ]
  },
  {
   "cell_type": "markdown",
   "metadata": {},
   "source": [
    "## Hyperparameter Tuning\n",
    "\n",
    "Let's see if we can do better by trying different hyperparameter values:"
   ]
  },
  {
   "cell_type": "code",
   "execution_count": 14,
   "metadata": {},
   "outputs": [],
   "source": [
    "gs = GridSearchCV(estimator=abr,\n",
    "                 param_grid={\n",
    "                     'n_estimators': [25, 50, 100],\n",
    "                     'loss': ['linear', 'square']\n",
    "                 }, cv=5)"
   ]
  },
  {
   "cell_type": "code",
   "execution_count": 15,
   "metadata": {},
   "outputs": [
    {
     "data": {
      "text/plain": [
       "GridSearchCV(cv=5, error_score=nan,\n",
       "             estimator=AdaBoostRegressor(base_estimator=None, learning_rate=1.0,\n",
       "                                         loss='linear', n_estimators=50,\n",
       "                                         random_state=42),\n",
       "             iid='deprecated', n_jobs=None,\n",
       "             param_grid={'loss': ['linear', 'square'],\n",
       "                         'n_estimators': [25, 50, 100]},\n",
       "             pre_dispatch='2*n_jobs', refit=True, return_train_score=False,\n",
       "             scoring=None, verbose=0)"
      ]
     },
     "execution_count": 15,
     "metadata": {},
     "output_type": "execute_result"
    }
   ],
   "source": [
    "gs.fit(x_train, y_train)"
   ]
  },
  {
   "cell_type": "code",
   "execution_count": 16,
   "metadata": {},
   "outputs": [
    {
     "data": {
      "text/plain": [
       "{'loss': 'linear', 'n_estimators': 25}"
      ]
     },
     "execution_count": 16,
     "metadata": {},
     "output_type": "execute_result"
    }
   ],
   "source": [
    "gs.best_params_"
   ]
  },
  {
   "cell_type": "markdown",
   "metadata": {},
   "source": [
    "## Regression or Classification?\n",
    "\n",
    "What does my target look like?"
   ]
  },
  {
   "cell_type": "code",
   "execution_count": 17,
   "metadata": {
    "scrolled": true
   },
   "outputs": [
    {
     "data": {
      "image/png": "[encoded data removed]",
      "text/plain": [
       "<Figure size 432x288 with 1 Axes>"
      ]
     },
     "metadata": {
      "needs_background": "light"
     },
     "output_type": "display_data"
    }
   ],
   "source": [
    "galaxies['Mcz'].hist();"
   ]
  },
  {
   "cell_type": "markdown",
   "metadata": {},
   "source": [
    "There seems to be a bit of a bimodal shape here. We might therefore try predicting whether the redshift factor is likely to be greater or less than 0.5:"
   ]
  },
  {
   "cell_type": "code",
   "execution_count": 18,
   "metadata": {},
   "outputs": [],
   "source": [
    "galaxies['bool'] = galaxies['Mcz'] > 0.5"
   ]
  },
  {
   "cell_type": "code",
   "execution_count": 19,
   "metadata": {},
   "outputs": [],
   "source": [
    "x_train2, x_test2, y_train2, y_test2 = train_test_split(x_rev, galaxies['bool'])"
   ]
  },
  {
   "cell_type": "code",
   "execution_count": 20,
   "metadata": {},
   "outputs": [
    {
     "data": {
      "text/plain": [
       "AdaBoostClassifier(algorithm='SAMME.R', base_estimator=None, learning_rate=1.0,\n",
       "                   n_estimators=50, random_state=42)"
      ]
     },
     "execution_count": 20,
     "metadata": {},
     "output_type": "execute_result"
    }
   ],
   "source": [
    "abc = AdaBoostClassifier(random_state=42)\n",
    "\n",
    "abc.fit(x_train2, y_train2)"
   ]
  },
  {
   "cell_type": "code",
   "execution_count": 21,
   "metadata": {},
   "outputs": [
    {
     "data": {
      "text/plain": [
       "0.8837209302325582"
      ]
     },
     "execution_count": 21,
     "metadata": {},
     "output_type": "execute_result"
    }
   ],
   "source": [
    "abc.score(x_test2, y_test2)"
   ]
  },
  {
   "cell_type": "code",
   "execution_count": 22,
   "metadata": {},
   "outputs": [
    {
     "data": {
      "text/plain": [
       "0.9130434782608695"
      ]
     },
     "execution_count": 22,
     "metadata": {},
     "output_type": "execute_result"
    }
   ],
   "source": [
    "precision_score(y_test2, abc.predict(x_test2))"
   ]
  },
  {
   "cell_type": "code",
   "execution_count": 23,
   "metadata": {},
   "outputs": [
    {
     "data": {
      "text/plain": [
       "0.9402985074626866"
      ]
     },
     "execution_count": 23,
     "metadata": {},
     "output_type": "execute_result"
    }
   ],
   "source": [
    "recall_score(y_test2, abc.predict(x_test2))"
   ]
  },
  {
   "cell_type": "code",
   "execution_count": 24,
   "metadata": {},
   "outputs": [
    {
     "data": {
      "text/plain": [
       "GradientBoostingClassifier(ccp_alpha=0.0, criterion='friedman_mse', init=None,\n",
       "                           learning_rate=0.1, loss='deviance', max_depth=3,\n",
       "                           max_features=None, max_leaf_nodes=None,\n",
       "                           min_impurity_decrease=0.0, min_impurity_split=None,\n",
       "                           min_samples_leaf=1, min_samples_split=2,\n",
       "                           min_weight_fraction_leaf=0.0, n_estimators=100,\n",
       "                           n_iter_no_change=None, presort='deprecated',\n",
       "                           random_state=42, subsample=1.0, tol=0.0001,\n",
       "                           validation_fraction=0.1, verbose=0,\n",
       "                           warm_start=False)"
      ]
     },
     "execution_count": 24,
     "metadata": {},
     "output_type": "execute_result"
    }
   ],
   "source": [
    "gbc = GradientBoostingClassifier(random_state=42)\n",
    "\n",
    "gbc.fit(x_test2, y_test2)"
   ]
  },
  {
   "cell_type": "code",
   "execution_count": 25,
   "metadata": {},
   "outputs": [
    {
     "data": {
      "text/plain": [
       "0.9174418604651163"
      ]
     },
     "execution_count": 25,
     "metadata": {},
     "output_type": "execute_result"
    }
   ],
   "source": [
    "gbc.score(x_test2, y_test2)"
   ]
  },
  {
   "cell_type": "code",
   "execution_count": 26,
   "metadata": {},
   "outputs": [
    {
     "data": {
      "text/plain": [
       "0.9260312944523471"
      ]
     },
     "execution_count": 26,
     "metadata": {},
     "output_type": "execute_result"
    }
   ],
   "source": [
    "precision_score(y_test2, gbc.predict(x_test2))"
   ]
  },
  {
   "cell_type": "code",
   "execution_count": 27,
   "metadata": {},
   "outputs": [
    {
     "data": {
      "text/plain": [
       "0.9716417910447761"
      ]
     },
     "execution_count": 27,
     "metadata": {},
     "output_type": "execute_result"
    }
   ],
   "source": [
    "recall_score(y_test2, gbc.predict(x_test2))"
   ]
  },
  {
   "cell_type": "code",
   "execution_count": 28,
   "metadata": {},
   "outputs": [
    {
     "data": {
      "text/plain": [
       "array([[138,  52],\n",
       "       [ 19, 651]])"
      ]
     },
     "execution_count": 28,
     "metadata": {},
     "output_type": "execute_result"
    }
   ],
   "source": [
    "confusion_matrix(y_test2, gbc.predict(x_test2))"
   ]
  },
  {
   "cell_type": "code",
   "execution_count": null,
   "metadata": {},
   "outputs": [],
   "source": []
  }
 ],
 "metadata": {
  "kernelspec": {
   "display_name": "Python 3",
   "language": "python",
   "name": "python3"
  },
  "language_info": {
   "codemirror_mode": {
    "name": "ipython",
    "version": 3
   },
   "file_extension": ".py",
   "mimetype": "text/x-python",
   "name": "python",
   "nbconvert_exporter": "python",
   "pygments_lexer": "ipython3",
   "version": "3.8.1"
  }
 },
 "nbformat": 4,
 "nbformat_minor": 4
}
