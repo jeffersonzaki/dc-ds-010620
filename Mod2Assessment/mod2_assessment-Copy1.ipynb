{
 "cells": [
  {
   "cell_type": "markdown",
   "metadata": {},
   "source": [
    "# Mod 2 Assessment"
   ]
  },
  {
   "cell_type": "markdown",
   "metadata": {},
   "source": [
    "### Congratulations on making it to your second assessment! Just a few reminders before you continue:\n",
    "- This should only take an hour, so be sure to manage your time effectively.\n",
    "- Read the instructions carefully for _specified variable names_.\n",
    "- Check your progress by running **`make tests`** in the terminal, </br>\n",
    "  OR **if you have a PC**, manually run these lines in the terminal:\n",
    "  - `jupyter nbconvert --to script mod2_assessment.ipynb`\n",
    "  - `python -m pytest --disable-pytest-warnings -v`"
   ]
  },
  {
   "cell_type": "markdown",
   "metadata": {},
   "source": [
    "If there is any confusion on a question, please ask for clarification from a coach. </br>Though we can't give you the answer, we can help clear up any misunderstandings and get you back on track."
   ]
  },
  {
   "cell_type": "code",
   "execution_count": 1,
   "metadata": {},
   "outputs": [],
   "source": [
    "# You'll need these imports to start.\n",
    "import pymongo\n",
    "from bson.json_util import loads\n",
    "from collections import Counter\n",
    "\n",
    "# put all of your additional imports here:\n",
    "import requests\n",
    "import sqlite3\n",
    "import json\n",
    "import pandas as pd\n",
    "from bs4 import BeautifulSoup"
   ]
  },
  {
   "cell_type": "markdown",
   "metadata": {},
   "source": [
    "## Section 1: SQL (20 Minutes)\n",
    "There is a sqlite3 database in `assets/books.db`. The SQL to create this is also in `assets/books.sql`; if you want to run it manually you can also import this using https://sqliteonline.com/, or run the SQL file directly.  Both have the same schema and data.\n",
    "\n",
    "The schema has three tables. You can explore the schema in the file posted above.  Please answer the following questions.\n",
    "\n",
    "Connect to the database using sqlite3. <br/>\n",
    "Assign `conn` to the sqlite3 connection <br/>\n",
    "Assign `cur`  to the connection's cursor object"
   ]
  },
  {
   "cell_type": "code",
   "execution_count": 2,
   "metadata": {},
   "outputs": [],
   "source": [
    "conn = sqlite3.connect(\"books-Copy1.db\")\n",
    "cur = conn.cursor()"
   ]
  },
  {
   "cell_type": "markdown",
   "metadata": {},
   "source": [
    "#### Querying the DB: "
   ]
  },
  {
   "cell_type": "markdown",
   "metadata": {},
   "source": [
    "1. How many pages are in the book \"Nine Stories\"?"
   ]
  },
  {
   "cell_type": "code",
   "execution_count": 3,
   "metadata": {},
   "outputs": [],
   "source": [
    "# Assign `answer_1` to your final answer\n",
    "cur.execute(\"\"\"\n",
    "SELECT title, pages FROM book\n",
    "WHERE title LIKE \"Nine Stories\" \"\"\")\n",
    "\n",
    "answer_1 = cur.fetchall()"
   ]
  },
  {
   "cell_type": "markdown",
   "metadata": {},
   "source": [
    "2. How many authors are from the USA?"
   ]
  },
  {
   "cell_type": "code",
   "execution_count": 4,
   "metadata": {},
   "outputs": [],
   "source": [
    "# Assign `answer_2` to your final answer\n",
    "cur.execute(\"\"\"\n",
    "SELECT COUNT(author_id), country FROM author\n",
    "WHERE country LIKE \"USA\" \"\"\")\n",
    "\n",
    "answer_2 = cur.fetchall()"
   ]
  },
  {
   "cell_type": "markdown",
   "metadata": {},
   "source": [
    "3. How many authors does the book \"Professional ASP.NET 4.5 in C# and VB\" have?"
   ]
  },
  {
   "cell_type": "code",
   "execution_count": 5,
   "metadata": {},
   "outputs": [],
   "source": [
    "# Assign `answer_3` to your final answer\n",
    "cur.execute(\"\"\"\n",
    "SELECT COUNT(author_id), title FROM book\n",
    "JOIN book_author ON book.book_id = book_author.book_id \n",
    "WHERE title LIKE \"Professional ASP.NET 4.5 in C# and VB\" \"\"\")\n",
    "answer_3 = cur.fetchall()"
   ]
  },
  {
   "cell_type": "markdown",
   "metadata": {},
   "source": [
    "4. How many pages total have been written by non-American authors?"
   ]
  },
  {
   "cell_type": "code",
   "execution_count": 6,
   "metadata": {},
   "outputs": [],
   "source": [
    "# Assign `answer_4` to your final answer\n",
    "cur.execute(\"\"\"\n",
    "SELECT SUM(pages) FROM book\n",
    "JOIN author\n",
    "WHERE country NOT LIKE \"USA\" \"\"\")\n",
    "answer_4 = cur.fetchall()"
   ]
  },
  {
   "cell_type": "markdown",
   "metadata": {},
   "source": [
    "## Section 2: Object Oriented Programming (10 Minutes)"
   ]
  },
  {
   "cell_type": "markdown",
   "metadata": {},
   "source": [
    "### Creating a Class\n",
    "1. Force every new instance of `WeWorkMember` to expect a value which is assigned to the `name` **attribute**.\n",
    "1. Give every new instance of `WeWorkMember` a `caffeinated` **attribute** that is set to `False`. \n",
    "1. Give `WeWorkMember` an **instance method** called `caffeinate()` that prints out \"Getting coffee!\" and sets the `caffeinated` attribute to `True`."
   ]
  },
  {
   "cell_type": "code",
   "execution_count": 7,
   "metadata": {},
   "outputs": [],
   "source": [
    "class WeWorkMember:\n",
    "    # Constructor that initializes the name and caffeinated instance varaibles/attributes\n",
    "    def __init__(self, name):\n",
    "        self.name = name\n",
    "        self.caffeinated = False\n",
    "        \n",
    "    # Instance method\n",
    "    def caffeinate(self):\n",
    "        print(\"Getting coffee!\")\n",
    "        self.caffeinated = True"
   ]
  },
  {
   "cell_type": "markdown",
   "metadata": {},
   "source": [
    "### Inheriting from a Class\n",
    "\n",
    "1. Have `Staff` and `Student` inherit all methods from `WeWorkMember`\n",
    "1. Give `Staff` a **static method** called `cheer()` that prints out \"Goooooooo Flatiron Students!\"\n",
    "1. Give `Students` a **class method** called `learn()` that takes in an integer and returns that number +1"
   ]
  },
  {
   "cell_type": "code",
   "execution_count": 8,
   "metadata": {},
   "outputs": [],
   "source": [
    "class Staff(WeWorkMember):\n",
    "    \n",
    "    @staticmethod\n",
    "    def cheer():\n",
    "        print(\"Goooooooo Flatiron Students!\")\n",
    "\n",
    "class Student(WeWorkMember):\n",
    "    \n",
    "    @classmethod\n",
    "    def learn(cls, num):\n",
    "        cls.number = int(num)\n",
    "        return cls.number + 1"
   ]
  },
  {
   "cell_type": "code",
   "execution_count": 9,
   "metadata": {},
   "outputs": [
    {
     "name": "stdout",
     "output_type": "stream",
     "text": [
      "Getting coffee!\n",
      "True\n"
     ]
    }
   ],
   "source": [
    "st1 = Student(\"Jack\")\n",
    "st1.caffeinate()\n",
    "print(st1.caffeinated)"
   ]
  },
  {
   "cell_type": "code",
   "execution_count": 10,
   "metadata": {},
   "outputs": [
    {
     "data": {
      "text/plain": [
       "46"
      ]
     },
     "execution_count": 10,
     "metadata": {},
     "output_type": "execute_result"
    }
   ],
   "source": [
    "st1.learn(45)"
   ]
  },
  {
   "cell_type": "markdown",
   "metadata": {},
   "source": [
    "## Section 3: APIs & Web Scraping\n",
    "### APIs (10 Minutes)\n",
    "Using the API about RuPaul's Drag Race, tell me how many judges of each **`type`** there were in the **first 50 records** the API returns.\n",
    "\n",
    "API: http://www.nokeynoshade.party/api/judges </br>\n",
    "Docs: https://drag-race-api.readme.io/docs/get-all-judges\n",
    "\n",
    " - Assign `rupaul_resp` to the response of the API request.\n",
    " - Ensure the request only returns the first 50 records\n",
    "     - note the documentation shows parameters as uppercase, but they should be **lowercase**\n",
    "     - the judges will have **`id`** ranging from 1 to 53\n",
    " - Do the aggregation in pure Python, Pandas, or SQL -- whatever's easiest for you\n",
    " - Assign `judge_count` to a dictionary with the number of judges for each type"
   ]
  },
  {
   "cell_type": "code",
   "execution_count": 11,
   "metadata": {},
   "outputs": [],
   "source": [
    "# Return the first 50 records using the id param\n",
    "def records_50():\n",
    "    record_limit = {\"limit\": 47}\n",
    "    rupaul_resp = requests.get(\"http://www.nokeynoshade.party/api/judges\", record_limit)\n",
    "    return rupaul_resp.json()  # Returns it as a list with a nested dictionary"
   ]
  },
  {
   "cell_type": "code",
   "execution_count": 12,
   "metadata": {},
   "outputs": [
    {
     "data": {
      "text/plain": [
       "Counter({'regular': 2, 'guest': 44, 'interim': 1})"
      ]
     },
     "execution_count": 12,
     "metadata": {},
     "output_type": "execute_result"
    }
   ],
   "source": [
    "# Returning type and counting how many of each type their are\n",
    "# We can use a for loop to iterate through the list and dict to get their type\n",
    "judge_count = Counter([judge[\"type\"] for judge in records_50()])\n",
    "\n",
    "judge_count"
   ]
  },
  {
   "cell_type": "markdown",
   "metadata": {},
   "source": [
    "### Web Scraping (15 Minutes)\n",
    "We want all of the **Music** books from [http://books.toscrape.com/](http://books.toscrape.com/).  Download the page of books in the *music* category and save it to the `book_resp` variable. Then use BeautifulSoup to convert each book on the page into a row in a Pandas dataframe.  The dataframe should consist of five columns:\n",
    "- FULL book title\n",
    "- book cover image link (relative is fine)\n",
    "- book cost (as a float or decimal, not a string)\n",
    "- inventory status (in stock?)\n",
    "- **BONUS** Star rating (if you choose not to include this, just fill the column with `NaN`s.\n",
    "\n",
    "The final result should be a dataframe of 13 rows (not counting header) and 5 columns (not counting index), named `book_df`.\n",
    "\n",
    "- Set the response to a variable named `book_resp`\n",
    "- Set the BeautifulSoup() object to a variable named `book_soup`\n",
    "- Set the final dataframe object to a variable named `book_df`"
   ]
  },
  {
   "cell_type": "code",
   "execution_count": 13,
   "metadata": {},
   "outputs": [],
   "source": [
    "page = requests.get(\"http://books.toscrape.com/\")\n",
    "books_soup = BeautifulSoup(page.text, \"html.parser\")"
   ]
  },
  {
   "cell_type": "code",
   "execution_count": 14,
   "metadata": {},
   "outputs": [],
   "source": [
    "# Scrapping the book titles\n",
    "book_title = books_soup.find_all(\"h3\", title=\"\") # tag, attribute or class\n",
    "# Looping through book title to get the elements\n",
    "titles = []\n",
    "for title in book_title:\n",
    "    titles.append(title.find(\"a\").get(\"title\"))  # tag, attribute\n",
    "\n",
    "# OR\n",
    "\n",
    "title = [titles.find(\"a\").get(\"title\") for titles in book_title]"
   ]
  },
  {
   "cell_type": "code",
   "execution_count": 15,
   "metadata": {},
   "outputs": [],
   "source": [
    "# Scrapping the book image link\n",
    "book_image_link = books_soup.find_all(\"div\", class_=\"image_container\")\n",
    "# Looping through to find and get the exact links\n",
    "image_links = [links.find(\"img\").get(\"src\") for links in book_image_link]"
   ]
  },
  {
   "cell_type": "code",
   "execution_count": 16,
   "metadata": {},
   "outputs": [],
   "source": [
    "book_cost = books_soup.find_all(\"p\", class_=\"price_color\")\n",
    "cost = [price.text.split(\"Â\")[1] for price in book_cost]"
   ]
  },
  {
   "cell_type": "code",
   "execution_count": 18,
   "metadata": {},
   "outputs": [],
   "source": [
    "# Scrapping the inventory status of the books\n",
    "inventory_status = books_soup.find_all(\"p\", class_=\"instock availability\")\n",
    "availability = [stock.text.strip() for stock in inventory_status]"
   ]
  },
  {
   "cell_type": "code",
   "execution_count": 19,
   "metadata": {},
   "outputs": [
    {
     "data": {
      "text/html": [
       "<div>\n",
       "<style scoped>\n",
       "    .dataframe tbody tr th:only-of-type {\n",
       "        vertical-align: middle;\n",
       "    }\n",
       "\n",
       "    .dataframe tbody tr th {\n",
       "        vertical-align: top;\n",
       "    }\n",
       "\n",
       "    .dataframe thead th {\n",
       "        text-align: right;\n",
       "    }\n",
       "</style>\n",
       "<table border=\"1\" class=\"dataframe\">\n",
       "  <thead>\n",
       "    <tr style=\"text-align: right;\">\n",
       "      <th></th>\n",
       "      <th>title</th>\n",
       "      <th>image_link</th>\n",
       "      <th>cost</th>\n",
       "      <th>availability</th>\n",
       "    </tr>\n",
       "  </thead>\n",
       "  <tbody>\n",
       "    <tr>\n",
       "      <th>0</th>\n",
       "      <td>A Light in the Attic</td>\n",
       "      <td>media/cache/2c/da/2cdad67c44b002e7ead0cc35693c...</td>\n",
       "      <td>£51.77</td>\n",
       "      <td>In stock</td>\n",
       "    </tr>\n",
       "    <tr>\n",
       "      <th>1</th>\n",
       "      <td>Tipping the Velvet</td>\n",
       "      <td>media/cache/26/0c/260c6ae16bce31c8f8c95daddd9f...</td>\n",
       "      <td>£53.74</td>\n",
       "      <td>In stock</td>\n",
       "    </tr>\n",
       "    <tr>\n",
       "      <th>2</th>\n",
       "      <td>Soumission</td>\n",
       "      <td>media/cache/3e/ef/3eef99c9d9adef34639f51066202...</td>\n",
       "      <td>£50.10</td>\n",
       "      <td>In stock</td>\n",
       "    </tr>\n",
       "    <tr>\n",
       "      <th>3</th>\n",
       "      <td>Sharp Objects</td>\n",
       "      <td>media/cache/32/51/3251cf3a3412f53f339e42cac213...</td>\n",
       "      <td>£47.82</td>\n",
       "      <td>In stock</td>\n",
       "    </tr>\n",
       "    <tr>\n",
       "      <th>4</th>\n",
       "      <td>Sapiens: A Brief History of Humankind</td>\n",
       "      <td>media/cache/be/a5/bea5697f2534a2f86a3ef27b5a8c...</td>\n",
       "      <td>£54.23</td>\n",
       "      <td>In stock</td>\n",
       "    </tr>\n",
       "    <tr>\n",
       "      <th>5</th>\n",
       "      <td>The Requiem Red</td>\n",
       "      <td>media/cache/68/33/68339b4c9bc034267e1da611ab3b...</td>\n",
       "      <td>£22.65</td>\n",
       "      <td>In stock</td>\n",
       "    </tr>\n",
       "    <tr>\n",
       "      <th>6</th>\n",
       "      <td>The Dirty Little Secrets of Getting Your Dream...</td>\n",
       "      <td>media/cache/92/27/92274a95b7c251fea59a2b8a7827...</td>\n",
       "      <td>£33.34</td>\n",
       "      <td>In stock</td>\n",
       "    </tr>\n",
       "    <tr>\n",
       "      <th>7</th>\n",
       "      <td>The Coming Woman: A Novel Based on the Life of...</td>\n",
       "      <td>media/cache/3d/54/3d54940e57e662c4dd1f3ff00c78...</td>\n",
       "      <td>£17.93</td>\n",
       "      <td>In stock</td>\n",
       "    </tr>\n",
       "    <tr>\n",
       "      <th>8</th>\n",
       "      <td>The Boys in the Boat: Nine Americans and Their...</td>\n",
       "      <td>media/cache/66/88/66883b91f6804b2323c8369331cb...</td>\n",
       "      <td>£22.60</td>\n",
       "      <td>In stock</td>\n",
       "    </tr>\n",
       "    <tr>\n",
       "      <th>9</th>\n",
       "      <td>The Black Maria</td>\n",
       "      <td>media/cache/58/46/5846057e28022268153beff6d352...</td>\n",
       "      <td>£52.15</td>\n",
       "      <td>In stock</td>\n",
       "    </tr>\n",
       "    <tr>\n",
       "      <th>10</th>\n",
       "      <td>Starving Hearts (Triangular Trade Trilogy, #1)</td>\n",
       "      <td>media/cache/be/f4/bef44da28c98f905a3ebec0b87be...</td>\n",
       "      <td>£13.99</td>\n",
       "      <td>In stock</td>\n",
       "    </tr>\n",
       "    <tr>\n",
       "      <th>11</th>\n",
       "      <td>Shakespeare's Sonnets</td>\n",
       "      <td>media/cache/10/48/1048f63d3b5061cd2f424d20b3f9...</td>\n",
       "      <td>£20.66</td>\n",
       "      <td>In stock</td>\n",
       "    </tr>\n",
       "    <tr>\n",
       "      <th>12</th>\n",
       "      <td>Set Me Free</td>\n",
       "      <td>media/cache/5b/88/5b88c52633f53cacf162c15f4f82...</td>\n",
       "      <td>£17.46</td>\n",
       "      <td>In stock</td>\n",
       "    </tr>\n",
       "    <tr>\n",
       "      <th>13</th>\n",
       "      <td>Scott Pilgrim's Precious Little Life (Scott Pi...</td>\n",
       "      <td>media/cache/94/b1/94b1b8b244bce9677c2f29ccc890...</td>\n",
       "      <td>£52.29</td>\n",
       "      <td>In stock</td>\n",
       "    </tr>\n",
       "    <tr>\n",
       "      <th>14</th>\n",
       "      <td>Rip it Up and Start Again</td>\n",
       "      <td>media/cache/81/c4/81c4a973364e17d01f217e118825...</td>\n",
       "      <td>£35.02</td>\n",
       "      <td>In stock</td>\n",
       "    </tr>\n",
       "    <tr>\n",
       "      <th>15</th>\n",
       "      <td>Our Band Could Be Your Life: Scenes from the A...</td>\n",
       "      <td>media/cache/54/60/54607fe8945897cdcced0044103b...</td>\n",
       "      <td>£57.25</td>\n",
       "      <td>In stock</td>\n",
       "    </tr>\n",
       "    <tr>\n",
       "      <th>16</th>\n",
       "      <td>Olio</td>\n",
       "      <td>media/cache/55/33/553310a7162dfbc2c6d19a84da0d...</td>\n",
       "      <td>£23.88</td>\n",
       "      <td>In stock</td>\n",
       "    </tr>\n",
       "    <tr>\n",
       "      <th>17</th>\n",
       "      <td>Mesaerion: The Best Science Fiction Stories 18...</td>\n",
       "      <td>media/cache/09/a3/09a3aef48557576e1a85ba7efea8...</td>\n",
       "      <td>£37.59</td>\n",
       "      <td>In stock</td>\n",
       "    </tr>\n",
       "    <tr>\n",
       "      <th>18</th>\n",
       "      <td>Libertarianism for Beginners</td>\n",
       "      <td>media/cache/0b/bc/0bbcd0a6f4bcd81ccb1049a52736...</td>\n",
       "      <td>£51.33</td>\n",
       "      <td>In stock</td>\n",
       "    </tr>\n",
       "    <tr>\n",
       "      <th>19</th>\n",
       "      <td>It's Only the Himalayas</td>\n",
       "      <td>media/cache/27/a5/27a53d0bb95bdd88288eaf66c923...</td>\n",
       "      <td>£45.17</td>\n",
       "      <td>In stock</td>\n",
       "    </tr>\n",
       "  </tbody>\n",
       "</table>\n",
       "</div>"
      ],
      "text/plain": [
       "                                                title  \\\n",
       "0                                A Light in the Attic   \n",
       "1                                  Tipping the Velvet   \n",
       "2                                          Soumission   \n",
       "3                                       Sharp Objects   \n",
       "4               Sapiens: A Brief History of Humankind   \n",
       "5                                     The Requiem Red   \n",
       "6   The Dirty Little Secrets of Getting Your Dream...   \n",
       "7   The Coming Woman: A Novel Based on the Life of...   \n",
       "8   The Boys in the Boat: Nine Americans and Their...   \n",
       "9                                     The Black Maria   \n",
       "10     Starving Hearts (Triangular Trade Trilogy, #1)   \n",
       "11                              Shakespeare's Sonnets   \n",
       "12                                        Set Me Free   \n",
       "13  Scott Pilgrim's Precious Little Life (Scott Pi...   \n",
       "14                          Rip it Up and Start Again   \n",
       "15  Our Band Could Be Your Life: Scenes from the A...   \n",
       "16                                               Olio   \n",
       "17  Mesaerion: The Best Science Fiction Stories 18...   \n",
       "18                       Libertarianism for Beginners   \n",
       "19                            It's Only the Himalayas   \n",
       "\n",
       "                                           image_link    cost availability  \n",
       "0   media/cache/2c/da/2cdad67c44b002e7ead0cc35693c...  £51.77     In stock  \n",
       "1   media/cache/26/0c/260c6ae16bce31c8f8c95daddd9f...  £53.74     In stock  \n",
       "2   media/cache/3e/ef/3eef99c9d9adef34639f51066202...  £50.10     In stock  \n",
       "3   media/cache/32/51/3251cf3a3412f53f339e42cac213...  £47.82     In stock  \n",
       "4   media/cache/be/a5/bea5697f2534a2f86a3ef27b5a8c...  £54.23     In stock  \n",
       "5   media/cache/68/33/68339b4c9bc034267e1da611ab3b...  £22.65     In stock  \n",
       "6   media/cache/92/27/92274a95b7c251fea59a2b8a7827...  £33.34     In stock  \n",
       "7   media/cache/3d/54/3d54940e57e662c4dd1f3ff00c78...  £17.93     In stock  \n",
       "8   media/cache/66/88/66883b91f6804b2323c8369331cb...  £22.60     In stock  \n",
       "9   media/cache/58/46/5846057e28022268153beff6d352...  £52.15     In stock  \n",
       "10  media/cache/be/f4/bef44da28c98f905a3ebec0b87be...  £13.99     In stock  \n",
       "11  media/cache/10/48/1048f63d3b5061cd2f424d20b3f9...  £20.66     In stock  \n",
       "12  media/cache/5b/88/5b88c52633f53cacf162c15f4f82...  £17.46     In stock  \n",
       "13  media/cache/94/b1/94b1b8b244bce9677c2f29ccc890...  £52.29     In stock  \n",
       "14  media/cache/81/c4/81c4a973364e17d01f217e118825...  £35.02     In stock  \n",
       "15  media/cache/54/60/54607fe8945897cdcced0044103b...  £57.25     In stock  \n",
       "16  media/cache/55/33/553310a7162dfbc2c6d19a84da0d...  £23.88     In stock  \n",
       "17  media/cache/09/a3/09a3aef48557576e1a85ba7efea8...  £37.59     In stock  \n",
       "18  media/cache/0b/bc/0bbcd0a6f4bcd81ccb1049a52736...  £51.33     In stock  \n",
       "19  media/cache/27/a5/27a53d0bb95bdd88288eaf66c923...  £45.17     In stock  "
      ]
     },
     "execution_count": 19,
     "metadata": {},
     "output_type": "execute_result"
    }
   ],
   "source": [
    "# Creating a DataFrame\n",
    "book_info_df = pd.DataFrame([title, image_links, cost, availability]).T\n",
    "\n",
    "# Creating column names\n",
    "book_info_df.columns = [\"title\", \"image_link\", \"cost\", \"availability\"]\n",
    "\n",
    "book_info_df"
   ]
  },
  {
   "cell_type": "markdown",
   "metadata": {},
   "source": [
    "## Section 4: NoSQL (10 Minutes)\n",
    "\n",
    "#### Load data from `assets/grades.json` into Mongo \n",
    "\n",
    "(this code is written for you)"
   ]
  },
  {
   "cell_type": "code",
   "execution_count": 7,
   "metadata": {},
   "outputs": [
    {
     "data": {
      "text/plain": [
       "<pymongo.results.InsertManyResult at 0x125bb6b00>"
      ]
     },
     "execution_count": 7,
     "metadata": {},
     "output_type": "execute_result"
    }
   ],
   "source": [
    "# you shouldn't need to edit this cell!\n",
    "db_name = \"mod2db\"\n",
    "\n",
    "with open('Mod2Assessment/Data/grades.jsonl') as f:\n",
    "    # loads() comes from the bson library\n",
    "    file_data = [loads(line) for line in f.readlines()]\n",
    "\n",
    "client = pymongo.MongoClient(\"mongodb://localhost:27017/\")\n",
    "client.drop_database(db_name)\n",
    "db = client[db_name]\n",
    "coll = db[\"testcoll\"]\n",
    "\n",
    "coll.insert_many(file_data)"
   ]
  },
  {
   "cell_type": "markdown",
   "metadata": {},
   "source": [
    "#### Answer all of the following questions by querying Mongo and manipulating the results in Python"
   ]
  },
  {
   "cell_type": "markdown",
   "metadata": {},
   "source": [
    "1. How many records are there total?"
   ]
  },
  {
   "cell_type": "code",
   "execution_count": 35,
   "metadata": {},
   "outputs": [
    {
     "data": {
      "text/plain": [
       "280"
      ]
     },
     "execution_count": 35,
     "metadata": {},
     "output_type": "execute_result"
    }
   ],
   "source": [
    "# Set `nosql_answer1` to your final answer\n",
    "nosql_answer1 = coll.count_documents(filter = {})\n",
    "nosql_answer1"
   ]
  },
  {
   "cell_type": "markdown",
   "metadata": {},
   "source": [
    "2. How many students have taken the class with `class_id` = **29**?"
   ]
  },
  {
   "cell_type": "code",
   "execution_count": 34,
   "metadata": {},
   "outputs": [
    {
     "name": "stderr",
     "output_type": "stream",
     "text": [
      "<ipython-input-34-697ea6239bad>:2: DeprecationWarning: count is deprecated. Use estimated_document_count or count_documents instead. Please note that $where must be replaced by $expr, $near must be replaced by $geoWithin with $center, and $nearSphere must be replaced by $geoWithin with $centerSphere\n",
      "  nosql_answer2 = coll.count(filter = {\"class_id\": 29})\n"
     ]
    },
    {
     "data": {
      "text/plain": [
       "9"
      ]
     },
     "execution_count": 34,
     "metadata": {},
     "output_type": "execute_result"
    }
   ],
   "source": [
    "# Set `nosql_answer2` to your final answer\n",
    "nosql_answer2 = coll.count(filter = {\"class_id\": 29})\n",
    "nosql_answer2"
   ]
  },
  {
   "cell_type": "markdown",
   "metadata": {},
   "source": [
    " "
   ]
  },
  {
   "cell_type": "markdown",
   "metadata": {},
   "source": [
    "**Super bonus question**: </br>For student **12** in class **23**, what grade did they get on their exam?"
   ]
  },
  {
   "cell_type": "code",
   "execution_count": 33,
   "metadata": {},
   "outputs": [
    {
     "data": {
      "text/plain": [
       "26.9857216299485"
      ]
     },
     "execution_count": 33,
     "metadata": {},
     "output_type": "execute_result"
    }
   ],
   "source": [
    "# Set `nosql_answer3` to your final answer\n",
    "nosql_answer3 = coll.find_one(filter = {'class_id': 23, 'student_id': 12})['scores']\n",
    "nosql_answer3[0]['score']"
   ]
  },
  {
   "cell_type": "markdown",
   "metadata": {},
   "source": [
    " "
   ]
  },
  {
   "cell_type": "code",
   "execution_count": 6,
   "metadata": {},
   "outputs": [],
   "source": [
    "# for when you're done with this portion, this deletes the data we added.\n",
    "client.drop_database(\"mod2db\")"
   ]
  },
  {
   "cell_type": "markdown",
   "metadata": {},
   "source": [
    "## Assessment submission (2 Minutes)\n",
    "Please **save** your completed file (`mod2_assessment.ipynb`) and upload it using [this form](https://docs.google.com/forms/d/e/1FAIpQLSf1uGNuz4fyzVz5i3aFTxmMKvH50DEJiN5uRmNFghpmFzoi3g/viewform)"
   ]
  }
 ],
 "metadata": {
  "kernelspec": {
   "display_name": "Python 3",
   "language": "python",
   "name": "python3"
  },
  "language_info": {
   "codemirror_mode": {
    "name": "ipython",
    "version": 3
   },
   "file_extension": ".py",
   "mimetype": "text/x-python",
   "name": "python",
   "nbconvert_exporter": "python",
   "pygments_lexer": "ipython3",
   "version": "3.8.1"
  }
 },
 "nbformat": 4,
 "nbformat_minor": 4
}
