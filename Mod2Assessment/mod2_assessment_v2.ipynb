{
 "cells": [
  {
   "cell_type": "markdown",
   "metadata": {},
   "source": [
    "# Mod 2 Assessment"
   ]
  },
  {
   "cell_type": "markdown",
   "metadata": {},
   "source": [
    "### Congratulations on making it to your second assessment! Just a few reminders before you continue:\n",
    "- This should only take an hour, so be sure to manage your time effectively.\n",
    "- Read the instructions carefully for _specified variable names_.\n",
    "- Check your progress by running **`make tests`** in the terminal, </br>\n",
    "  OR **if you have a PC**, manually run these lines in the terminal:\n",
    "  - `jupyter nbconvert --to script mod2_assessment.ipynb`\n",
    "  - `python -m pytest --disable-pytest-warnings -v`"
   ]
  },
  {
   "cell_type": "markdown",
   "metadata": {},
   "source": [
    "If there is any confusion on a question, please ask for clarification from a coach. </br>Though we can't give you the answer, we can help clear up any misunderstandings and get you back on track."
   ]
  },
  {
   "cell_type": "code",
   "execution_count": 78,
   "metadata": {},
   "outputs": [],
   "source": [
    "# You'll need these imports to start.\n",
    "import pymongo\n",
    "from bson.json_util import loads\n",
    "from collections import Counter\n",
    "\n",
    "# put all of your additional imports here:\n",
    "import pandas as pd\n",
    "import sqlite3 \n",
    "import requests\n",
    "from bs4 import BeautifulSoup\n",
    "import json"
   ]
  },
  {
   "cell_type": "markdown",
   "metadata": {},
   "source": [
    "## Section 1: SQL (20 Minutes)\n",
    "There is a sqlite3 database in `assets/books.db`. The SQL to create this is also in `assets/books.sql`; if you want to run it manually you can also import this using https://sqliteonline.com/, or run the SQL file directly.  Both have the same schema and data.\n",
    "\n",
    "The schema has three tables. You can explore the schema in the file posted above.  Please answer the following questions.\n",
    "\n",
    "Connect to the database using sqlite3. <br/>\n",
    "Assign `conn` to the sqlite3 connection <br/>\n",
    "Assign `cur`  to the connection's cursor object"
   ]
  },
  {
   "cell_type": "code",
   "execution_count": 79,
   "metadata": {},
   "outputs": [],
   "source": [
    "conn = sqlite3.connect(\"books-Copy1.db\")\n",
    "cur = conn.cursor()"
   ]
  },
  {
   "cell_type": "markdown",
   "metadata": {},
   "source": [
    "#### Querying the DB: "
   ]
  },
  {
   "cell_type": "markdown",
   "metadata": {},
   "source": [
    "1. How many pages are in the book \"Nine Stories\"?"
   ]
  },
  {
   "cell_type": "code",
   "execution_count": 80,
   "metadata": {},
   "outputs": [
    {
     "data": {
      "text/plain": [
       "[('Nine Stories', 600)]"
      ]
     },
     "execution_count": 80,
     "metadata": {},
     "output_type": "execute_result"
    }
   ],
   "source": [
    "# Assign `answer_1` to your final answer\n",
    "\n",
    "answer_1 = cur.execute(\"\"\"\n",
    "SELECT title, pages FROM book \n",
    "WHERE title LIKE \"Nine Stories\" \"\"\").fetchall()\n",
    "\n",
    "answer_1"
   ]
  },
  {
   "cell_type": "markdown",
   "metadata": {},
   "source": [
    "2. How many authors are from the USA?"
   ]
  },
  {
   "cell_type": "code",
   "execution_count": 81,
   "metadata": {},
   "outputs": [
    {
     "data": {
      "text/plain": [
       "[(6,)]"
      ]
     },
     "execution_count": 81,
     "metadata": {},
     "output_type": "execute_result"
    }
   ],
   "source": [
    "# Assign `answer_2` to your final answer\n",
    "answer_2 = cur.execute(\"\"\"\n",
    "SELECT COUNT(author_id) FROM author\n",
    "WHERE country LIKE \"USA\" \"\"\").fetchall()\n",
    "\n",
    "answer_2"
   ]
  },
  {
   "cell_type": "markdown",
   "metadata": {},
   "source": [
    "3. How many authors does the book \"Professional ASP.NET 4.5 in C# and VB\" have?"
   ]
  },
  {
   "cell_type": "code",
   "execution_count": 82,
   "metadata": {},
   "outputs": [
    {
     "data": {
      "text/plain": [
       "[(5,)]"
      ]
     },
     "execution_count": 82,
     "metadata": {},
     "output_type": "execute_result"
    }
   ],
   "source": [
    "# Assign `answer_3` to your final answer\n",
    "answer_3 = cur.execute(\"\"\"\n",
    "SELECT COUNT(author_id) FROM book \n",
    "JOIN book_author ON book.book_id = book_author.book_id\n",
    "WHERE title LIKE \"Professional ASP.NET 4.5 in C# and VB\" \"\"\").fetchall()\n",
    "\n",
    "answer_3"
   ]
  },
  {
   "cell_type": "markdown",
   "metadata": {},
   "source": [
    "4. How many pages total have been written by non-American authors?"
   ]
  },
  {
   "cell_type": "code",
   "execution_count": 83,
   "metadata": {},
   "outputs": [
    {
     "data": {
      "text/plain": [
       "[(65606,)]"
      ]
     },
     "execution_count": 83,
     "metadata": {},
     "output_type": "execute_result"
    }
   ],
   "source": [
    "# Assign `answer_4` to your final answer\n",
    "answer_4 = cur.execute(\"\"\"\n",
    "SELECT SUM(pages) FROM book\n",
    "JOIN author\n",
    "WHERE country NOT LIKE \"USA\" \"\"\").fetchall()\n",
    "\n",
    "answer_4"
   ]
  },
  {
   "cell_type": "markdown",
   "metadata": {},
   "source": [
    "## Section 2: Object Oriented Programming (10 Minutes)"
   ]
  },
  {
   "cell_type": "markdown",
   "metadata": {},
   "source": [
    "### Creating a Class\n",
    "1. Force every new instance of `WeWorkMember` to expect a value which is assigned to the `name` **attribute**.\n",
    "1. Give every new instance of `WeWorkMember` a `caffeinated` **attribute** that is set to `False`. \n",
    "1. Give `WeWorkMember` an **instance method** called `caffeinate()` that prints out \"Getting coffee!\" and sets the `caffeinated` attribute to `True`."
   ]
  },
  {
   "cell_type": "code",
   "execution_count": 84,
   "metadata": {},
   "outputs": [],
   "source": [
    "class WeWorkMember:\n",
    "    # Constructor that initializes the name and caffeine instance variables/attributes\n",
    "    def __init__(self, name):\n",
    "        self.name = name\n",
    "        self.caffeinated = False\n",
    "        \n",
    "    # Instance method\n",
    "    def caffeinate(self):\n",
    "        print(\"Getting coffee!\")\n",
    "        self.caffeinated = True"
   ]
  },
  {
   "cell_type": "code",
   "execution_count": 85,
   "metadata": {},
   "outputs": [
    {
     "name": "stdout",
     "output_type": "stream",
     "text": [
      "Getting coffee!\n"
     ]
    },
    {
     "data": {
      "text/plain": [
       "True"
      ]
     },
     "execution_count": 85,
     "metadata": {},
     "output_type": "execute_result"
    }
   ],
   "source": [
    "member1 = WeWorkMember(\"Jack\")\n",
    "\n",
    "member1.caffeinate()\n",
    "member1.caffeinated"
   ]
  },
  {
   "cell_type": "markdown",
   "metadata": {},
   "source": [
    "### Inheriting from a Class\n",
    "\n",
    "1. Have `Staff` and `Student` inherit all methods from `WeWorkMember`\n",
    "1. Give `Staff` a **static method** called `cheer()` that prints out \"Goooooooo Flatiron Students!\"\n",
    "1. Give `Students` a **class method** called `learn()` that takes in an integer and returns that number +1"
   ]
  },
  {
   "cell_type": "code",
   "execution_count": 86,
   "metadata": {},
   "outputs": [],
   "source": [
    "class Staff(WeWorkMember):\n",
    "    \n",
    "    @staticmethod\n",
    "    def cheer():\n",
    "        print(\"Goooooooo Flatiron Students!\")\n",
    "\n",
    "class Student(WeWorkMember):\n",
    "    \n",
    "    @classmethod\n",
    "    def learn(cls, num):\n",
    "        cls.num = int(num)\n",
    "        return cls.num + 1"
   ]
  },
  {
   "cell_type": "code",
   "execution_count": 87,
   "metadata": {},
   "outputs": [
    {
     "name": "stdout",
     "output_type": "stream",
     "text": [
      "Getting coffee!\n",
      "True\n",
      "51\n"
     ]
    }
   ],
   "source": [
    "st1 = Student(\"Jack\")\n",
    "st1.caffeinate()\n",
    "print(st1.caffeinated)\n",
    "print(st1.learn(50))"
   ]
  },
  {
   "cell_type": "markdown",
   "metadata": {},
   "source": [
    "## Section 3: APIs & Web Scraping\n",
    "### APIs (10 Minutes)\n",
    "Using the API about Pokemon, grab the names of the **first 100 pokemon** the API returns.\n",
    "\n",
    "API: https://pokeapi.co/api/v2/pokemon </br>\n",
    "Docs: https://pokeapi.co/docs/v2.html#pokemon-section\n",
    "\n",
    " - Assign `pokemon_resp` to the response of the API request.\n",
    " - Ensure the request only returns the first 100 records\n",
    "     - note the documentation can be messy, but a simple **command + F** can help us find how to specify the **limit**\n",
    "     - the api by default will display the first 20 entries. We want the first 100 entries\n",
    " - Do the aggregation in pure Python, Pandas, or SQL -- whatever's easiest for you"
   ]
  },
  {
   "cell_type": "code",
   "execution_count": 151,
   "metadata": {},
   "outputs": [
    {
     "name": "stdout",
     "output_type": "stream",
     "text": [
      "{\"count\":964,\"next\":\"https://pokeapi.co/api/v2/pokemon?offset=100&limit=100\",\"previous\":null,\"results\":[{\"name\":\"bulbasaur\",\"url\":\"https://pokeapi.co/api/v2/pokemon/1/\"},{\"name\":\"ivysaur\",\"url\":\"https://pokeapi.co/api/v2/pokemon/2/\"},{\"name\":\"venusaur\",\"url\":\"https://pokeapi.co/api/v2/pokemon/3/\"},{\"name\":\"charmander\",\"url\":\"https://pokeapi.co/api/v2/pokemon/4/\"},{\"name\":\"charmeleon\",\"url\":\"https://pokeapi.co/api/v2/pokemon/5/\"},{\"name\":\"charizard\",\"url\":\"https://pokeapi.co/api/v2/pokemon/6/\"},{\"name\":\"squirtle\",\"url\":\"https://pokeapi.co/api/v2/pokemon/7/\"},{\"name\":\"wartortle\",\"url\":\"https://pokeapi.co/api/v2/pokemon/8/\"},{\"name\":\"blastoise\",\"url\":\"https://pokeapi.co/api/v2/pokemon/9/\"},{\"name\":\"caterpie\",\"url\":\"https://pokeapi.co/api/v2/pokemon/10/\"},{\"name\":\"metapod\",\"url\":\"https://pokeapi.co/api/v2/pokemon/11/\"},{\"name\":\"butterfree\",\"url\":\"https://pokeapi.co/api/v2/pokemon/12/\"},{\"name\":\"weedle\",\"url\":\"https://pokeapi.co/api/v2/pokemon/13/\"},{\"name\":\"kakuna\",\"url\":\"https://pokeapi.co/api/v2/pokemon/14/\"},{\"name\":\"beedrill\",\"url\":\"https://pokeapi.co/api/v2/pokemon/15/\"},{\"name\":\"pidgey\",\"url\":\"https://pokeapi.co/api/v2/pokemon/16/\"},{\"name\":\"pidgeotto\",\"url\":\"https://pokeapi.co/api/v2/pokemon/17/\"},{\"name\":\"pidgeot\",\"url\":\"https://pokeapi.co/api/v2/pokemon/18/\"},{\"name\":\"rattata\",\"url\":\"https://pokeapi.co/api/v2/pokemon/19/\"},{\"name\":\"raticate\",\"url\":\"https://pokeapi.co/api/v2/pokemon/20/\"},{\"name\":\"spearow\",\"url\":\"https://pokeapi.co/api/v2/pokemon/21/\"},{\"name\":\"fearow\",\"url\":\"https://pokeapi.co/api/v2/pokemon/22/\"},{\"name\":\"ekans\",\"url\":\"https://pokeapi.co/api/v2/pokemon/23/\"},{\"name\":\"arbok\",\"url\":\"https://pokeapi.co/api/v2/pokemon/24/\"},{\"name\":\"pikachu\",\"url\":\"https://pokeapi.co/api/v2/pokemon/25/\"},{\"name\":\"raichu\",\"url\":\"https://pokeapi.co/api/v2/pokemon/26/\"},{\"name\":\"sandshrew\",\"url\":\"https://pokeapi.co/api/v2/pokemon/27/\"},{\"name\":\"sandslash\",\"url\":\"https://pokeapi.co/api/v2/pokemon/28/\"},{\"name\":\"nidoran-f\",\"url\":\"https://pokeapi.co/api/v2/pokemon/29/\"},{\"name\":\"nidorina\",\"url\":\"https://pokeapi.co/api/v2/pokemon/30/\"},{\"name\":\"nidoqueen\",\"url\":\"https://pokeapi.co/api/v2/pokemon/31/\"},{\"name\":\"nidoran-m\",\"url\":\"https://pokeapi.co/api/v2/pokemon/32/\"},{\"name\":\"nidorino\",\"url\":\"https://pokeapi.co/api/v2/pokemon/33/\"},{\"name\":\"nidoking\",\"url\":\"https://pokeapi.co/api/v2/pokemon/34/\"},{\"name\":\"clefairy\",\"url\":\"https://pokeapi.co/api/v2/pokemon/35/\"},{\"name\":\"clefable\",\"url\":\"https://pokeapi.co/api/v2/pokemon/36/\"},{\"name\":\"vulpix\",\"url\":\"https://pokeapi.co/api/v2/pokemon/37/\"},{\"name\":\"ninetales\",\"url\":\"https://pokeapi.co/api/v2/pokemon/38/\"},{\"name\":\"jigglypuff\",\"url\":\"https://pokeapi.co/api/v2/pokemon/39/\"},{\"name\":\"wigglytuff\",\"url\":\"https://pokeapi.co/api/v2/pokemon/40/\"},{\"name\":\"zubat\",\"url\":\"https://pokeapi.co/api/v2/pokemon/41/\"},{\"name\":\"golbat\",\"url\":\"https://pokeapi.co/api/v2/pokemon/42/\"},{\"name\":\"oddish\",\"url\":\"https://pokeapi.co/api/v2/pokemon/43/\"},{\"name\":\"gloom\",\"url\":\"https://pokeapi.co/api/v2/pokemon/44/\"},{\"name\":\"vileplume\",\"url\":\"https://pokeapi.co/api/v2/pokemon/45/\"},{\"name\":\"paras\",\"url\":\"https://pokeapi.co/api/v2/pokemon/46/\"},{\"name\":\"parasect\",\"url\":\"https://pokeapi.co/api/v2/pokemon/47/\"},{\"name\":\"venonat\",\"url\":\"https://pokeapi.co/api/v2/pokemon/48/\"},{\"name\":\"venomoth\",\"url\":\"https://pokeapi.co/api/v2/pokemon/49/\"},{\"name\":\"diglett\",\"url\":\"https://pokeapi.co/api/v2/pokemon/50/\"},{\"name\":\"dugtrio\",\"url\":\"https://pokeapi.co/api/v2/pokemon/51/\"},{\"name\":\"meowth\",\"url\":\"https://pokeapi.co/api/v2/pokemon/52/\"},{\"name\":\"persian\",\"url\":\"https://pokeapi.co/api/v2/pokemon/53/\"},{\"name\":\"psyduck\",\"url\":\"https://pokeapi.co/api/v2/pokemon/54/\"},{\"name\":\"golduck\",\"url\":\"https://pokeapi.co/api/v2/pokemon/55/\"},{\"name\":\"mankey\",\"url\":\"https://pokeapi.co/api/v2/pokemon/56/\"},{\"name\":\"primeape\",\"url\":\"https://pokeapi.co/api/v2/pokemon/57/\"},{\"name\":\"growlithe\",\"url\":\"https://pokeapi.co/api/v2/pokemon/58/\"},{\"name\":\"arcanine\",\"url\":\"https://pokeapi.co/api/v2/pokemon/59/\"},{\"name\":\"poliwag\",\"url\":\"https://pokeapi.co/api/v2/pokemon/60/\"},{\"name\":\"poliwhirl\",\"url\":\"https://pokeapi.co/api/v2/pokemon/61/\"},{\"name\":\"poliwrath\",\"url\":\"https://pokeapi.co/api/v2/pokemon/62/\"},{\"name\":\"abra\",\"url\":\"https://pokeapi.co/api/v2/pokemon/63/\"},{\"name\":\"kadabra\",\"url\":\"https://pokeapi.co/api/v2/pokemon/64/\"},{\"name\":\"alakazam\",\"url\":\"https://pokeapi.co/api/v2/pokemon/65/\"},{\"name\":\"machop\",\"url\":\"https://pokeapi.co/api/v2/pokemon/66/\"},{\"name\":\"machoke\",\"url\":\"https://pokeapi.co/api/v2/pokemon/67/\"},{\"name\":\"machamp\",\"url\":\"https://pokeapi.co/api/v2/pokemon/68/\"},{\"name\":\"bellsprout\",\"url\":\"https://pokeapi.co/api/v2/pokemon/69/\"},{\"name\":\"weepinbell\",\"url\":\"https://pokeapi.co/api/v2/pokemon/70/\"},{\"name\":\"victreebel\",\"url\":\"https://pokeapi.co/api/v2/pokemon/71/\"},{\"name\":\"tentacool\",\"url\":\"https://pokeapi.co/api/v2/pokemon/72/\"},{\"name\":\"tentacruel\",\"url\":\"https://pokeapi.co/api/v2/pokemon/73/\"},{\"name\":\"geodude\",\"url\":\"https://pokeapi.co/api/v2/pokemon/74/\"},{\"name\":\"graveler\",\"url\":\"https://pokeapi.co/api/v2/pokemon/75/\"},{\"name\":\"golem\",\"url\":\"https://pokeapi.co/api/v2/pokemon/76/\"},{\"name\":\"ponyta\",\"url\":\"https://pokeapi.co/api/v2/pokemon/77/\"},{\"name\":\"rapidash\",\"url\":\"https://pokeapi.co/api/v2/pokemon/78/\"},{\"name\":\"slowpoke\",\"url\":\"https://pokeapi.co/api/v2/pokemon/79/\"},{\"name\":\"slowbro\",\"url\":\"https://pokeapi.co/api/v2/pokemon/80/\"},{\"name\":\"magnemite\",\"url\":\"https://pokeapi.co/api/v2/pokemon/81/\"},{\"name\":\"magneton\",\"url\":\"https://pokeapi.co/api/v2/pokemon/82/\"},{\"name\":\"farfetchd\",\"url\":\"https://pokeapi.co/api/v2/pokemon/83/\"},{\"name\":\"doduo\",\"url\":\"https://pokeapi.co/api/v2/pokemon/84/\"},{\"name\":\"dodrio\",\"url\":\"https://pokeapi.co/api/v2/pokemon/85/\"},{\"name\":\"seel\",\"url\":\"https://pokeapi.co/api/v2/pokemon/86/\"},{\"name\":\"dewgong\",\"url\":\"https://pokeapi.co/api/v2/pokemon/87/\"},{\"name\":\"grimer\",\"url\":\"https://pokeapi.co/api/v2/pokemon/88/\"},{\"name\":\"muk\",\"url\":\"https://pokeapi.co/api/v2/pokemon/89/\"},{\"name\":\"shellder\",\"url\":\"https://pokeapi.co/api/v2/pokemon/90/\"},{\"name\":\"cloyster\",\"url\":\"https://pokeapi.co/api/v2/pokemon/91/\"},{\"name\":\"gastly\",\"url\":\"https://pokeapi.co/api/v2/pokemon/92/\"},{\"name\":\"haunter\",\"url\":\"https://pokeapi.co/api/v2/pokemon/93/\"},{\"name\":\"gengar\",\"url\":\"https://pokeapi.co/api/v2/pokemon/94/\"},{\"name\":\"onix\",\"url\":\"https://pokeapi.co/api/v2/pokemon/95/\"},{\"name\":\"drowzee\",\"url\":\"https://pokeapi.co/api/v2/pokemon/96/\"},{\"name\":\"hypno\",\"url\":\"https://pokeapi.co/api/v2/pokemon/97/\"},{\"name\":\"krabby\",\"url\":\"https://pokeapi.co/api/v2/pokemon/98/\"},{\"name\":\"kingler\",\"url\":\"https://pokeapi.co/api/v2/pokemon/99/\"},{\"name\":\"voltorb\",\"url\":\"https://pokeapi.co/api/v2/pokemon/100/\"}]}\n"
     ]
    }
   ],
   "source": [
    "record = {\"limit\":100}\n",
    "pokemon_resp = requests.get(\"https://pokeapi.co/api/v2/pokemon\", record)\n",
    "print(pokemon_resp.text)"
   ]
  },
  {
   "cell_type": "markdown",
   "metadata": {},
   "source": [
    "### Web Scraping (15 Minutes)\n",
    "We want all of the **Music** books from [http://books.toscrape.com/](http://books.toscrape.com/).  Download the page of books in the *music* category and save it to the `book_resp` variable. Then use BeautifulSoup to convert each book on the page into a row in a Pandas dataframe.  The dataframe should consist of five columns:\n",
    "- FULL book title\n",
    "- book cover image link (relative is fine)\n",
    "- book cost (as a float or decimal, not a string)\n",
    "- inventory status (in stock?)\n",
    "- **BONUS** Star rating (if you choose not to include this, just fill the column with `NaN`s.\n",
    "\n",
    "The final result should be a dataframe of 13 rows (not counting header) and 5 columns (not counting index), named `book_df`.\n",
    "\n",
    "- Set the response to a variable named `book_resp`\n",
    "- Set the BeautifulSoup() object to a variable named `book_soup`\n",
    "- Set the final dataframe object to a variable named `book_df`"
   ]
  },
  {
   "cell_type": "code",
   "execution_count": 110,
   "metadata": {},
   "outputs": [],
   "source": [
    "page = requests.get(\" http://books.toscrape.com/\")\n",
    "book_soup = BeautifulSoup(page.text, \"html.parser\")"
   ]
  },
  {
   "cell_type": "code",
   "execution_count": 117,
   "metadata": {},
   "outputs": [],
   "source": [
    "# Getting book title\n",
    "book_title = book_soup.find_all(\"h3\", title=\"\")\n",
    "title = [title.find(\"a\").get(\"title\") for title in book_title]"
   ]
  },
  {
   "cell_type": "code",
   "execution_count": 119,
   "metadata": {},
   "outputs": [],
   "source": [
    "# Getting book cover image link\n",
    "book_image_link = book_soup.find_all(\"div\", class_=\"image_container\")\n",
    "image_link = [link.find(\"img\").get(\"src\") for link in book_image_link]"
   ]
  },
  {
   "cell_type": "code",
   "execution_count": 130,
   "metadata": {},
   "outputs": [],
   "source": [
    "# Getting the cost of books\n",
    "book_cost = book_soup.find_all(\"p\", class_=\"price_color\")\n",
    "price = [price.text.split(\"Â\")[1] for price in book_cost]"
   ]
  },
  {
   "cell_type": "code",
   "execution_count": 136,
   "metadata": {},
   "outputs": [],
   "source": [
    "# Getting the inventory status on the books\n",
    "book_inventory = book_soup.find_all(\"p\", class_=\"instock availability\")\n",
    "availability = [inventory.text.strip() for inventory in book_inventory]"
   ]
  },
  {
   "cell_type": "code",
   "execution_count": 137,
   "metadata": {},
   "outputs": [
    {
     "data": {
      "text/html": [
       "<div>\n",
       "<style scoped>\n",
       "    .dataframe tbody tr th:only-of-type {\n",
       "        vertical-align: middle;\n",
       "    }\n",
       "\n",
       "    .dataframe tbody tr th {\n",
       "        vertical-align: top;\n",
       "    }\n",
       "\n",
       "    .dataframe thead th {\n",
       "        text-align: right;\n",
       "    }\n",
       "</style>\n",
       "<table border=\"1\" class=\"dataframe\">\n",
       "  <thead>\n",
       "    <tr style=\"text-align: right;\">\n",
       "      <th></th>\n",
       "      <th>title</th>\n",
       "      <th>image_link</th>\n",
       "      <th>cost</th>\n",
       "      <th>availability</th>\n",
       "    </tr>\n",
       "  </thead>\n",
       "  <tbody>\n",
       "    <tr>\n",
       "      <th>0</th>\n",
       "      <td>A Light in the Attic</td>\n",
       "      <td>media/cache/2c/da/2cdad67c44b002e7ead0cc35693c...</td>\n",
       "      <td>£51.77</td>\n",
       "      <td>In stock</td>\n",
       "    </tr>\n",
       "    <tr>\n",
       "      <th>1</th>\n",
       "      <td>Tipping the Velvet</td>\n",
       "      <td>media/cache/26/0c/260c6ae16bce31c8f8c95daddd9f...</td>\n",
       "      <td>£53.74</td>\n",
       "      <td>In stock</td>\n",
       "    </tr>\n",
       "    <tr>\n",
       "      <th>2</th>\n",
       "      <td>Soumission</td>\n",
       "      <td>media/cache/3e/ef/3eef99c9d9adef34639f51066202...</td>\n",
       "      <td>£50.10</td>\n",
       "      <td>In stock</td>\n",
       "    </tr>\n",
       "    <tr>\n",
       "      <th>3</th>\n",
       "      <td>Sharp Objects</td>\n",
       "      <td>media/cache/32/51/3251cf3a3412f53f339e42cac213...</td>\n",
       "      <td>£47.82</td>\n",
       "      <td>In stock</td>\n",
       "    </tr>\n",
       "    <tr>\n",
       "      <th>4</th>\n",
       "      <td>Sapiens: A Brief History of Humankind</td>\n",
       "      <td>media/cache/be/a5/bea5697f2534a2f86a3ef27b5a8c...</td>\n",
       "      <td>£54.23</td>\n",
       "      <td>In stock</td>\n",
       "    </tr>\n",
       "    <tr>\n",
       "      <th>5</th>\n",
       "      <td>The Requiem Red</td>\n",
       "      <td>media/cache/68/33/68339b4c9bc034267e1da611ab3b...</td>\n",
       "      <td>£22.65</td>\n",
       "      <td>In stock</td>\n",
       "    </tr>\n",
       "    <tr>\n",
       "      <th>6</th>\n",
       "      <td>The Dirty Little Secrets of Getting Your Dream...</td>\n",
       "      <td>media/cache/92/27/92274a95b7c251fea59a2b8a7827...</td>\n",
       "      <td>£33.34</td>\n",
       "      <td>In stock</td>\n",
       "    </tr>\n",
       "    <tr>\n",
       "      <th>7</th>\n",
       "      <td>The Coming Woman: A Novel Based on the Life of...</td>\n",
       "      <td>media/cache/3d/54/3d54940e57e662c4dd1f3ff00c78...</td>\n",
       "      <td>£17.93</td>\n",
       "      <td>In stock</td>\n",
       "    </tr>\n",
       "    <tr>\n",
       "      <th>8</th>\n",
       "      <td>The Boys in the Boat: Nine Americans and Their...</td>\n",
       "      <td>media/cache/66/88/66883b91f6804b2323c8369331cb...</td>\n",
       "      <td>£22.60</td>\n",
       "      <td>In stock</td>\n",
       "    </tr>\n",
       "    <tr>\n",
       "      <th>9</th>\n",
       "      <td>The Black Maria</td>\n",
       "      <td>media/cache/58/46/5846057e28022268153beff6d352...</td>\n",
       "      <td>£52.15</td>\n",
       "      <td>In stock</td>\n",
       "    </tr>\n",
       "    <tr>\n",
       "      <th>10</th>\n",
       "      <td>Starving Hearts (Triangular Trade Trilogy, #1)</td>\n",
       "      <td>media/cache/be/f4/bef44da28c98f905a3ebec0b87be...</td>\n",
       "      <td>£13.99</td>\n",
       "      <td>In stock</td>\n",
       "    </tr>\n",
       "    <tr>\n",
       "      <th>11</th>\n",
       "      <td>Shakespeare's Sonnets</td>\n",
       "      <td>media/cache/10/48/1048f63d3b5061cd2f424d20b3f9...</td>\n",
       "      <td>£20.66</td>\n",
       "      <td>In stock</td>\n",
       "    </tr>\n",
       "    <tr>\n",
       "      <th>12</th>\n",
       "      <td>Set Me Free</td>\n",
       "      <td>media/cache/5b/88/5b88c52633f53cacf162c15f4f82...</td>\n",
       "      <td>£17.46</td>\n",
       "      <td>In stock</td>\n",
       "    </tr>\n",
       "    <tr>\n",
       "      <th>13</th>\n",
       "      <td>Scott Pilgrim's Precious Little Life (Scott Pi...</td>\n",
       "      <td>media/cache/94/b1/94b1b8b244bce9677c2f29ccc890...</td>\n",
       "      <td>£52.29</td>\n",
       "      <td>In stock</td>\n",
       "    </tr>\n",
       "    <tr>\n",
       "      <th>14</th>\n",
       "      <td>Rip it Up and Start Again</td>\n",
       "      <td>media/cache/81/c4/81c4a973364e17d01f217e118825...</td>\n",
       "      <td>£35.02</td>\n",
       "      <td>In stock</td>\n",
       "    </tr>\n",
       "    <tr>\n",
       "      <th>15</th>\n",
       "      <td>Our Band Could Be Your Life: Scenes from the A...</td>\n",
       "      <td>media/cache/54/60/54607fe8945897cdcced0044103b...</td>\n",
       "      <td>£57.25</td>\n",
       "      <td>In stock</td>\n",
       "    </tr>\n",
       "    <tr>\n",
       "      <th>16</th>\n",
       "      <td>Olio</td>\n",
       "      <td>media/cache/55/33/553310a7162dfbc2c6d19a84da0d...</td>\n",
       "      <td>£23.88</td>\n",
       "      <td>In stock</td>\n",
       "    </tr>\n",
       "    <tr>\n",
       "      <th>17</th>\n",
       "      <td>Mesaerion: The Best Science Fiction Stories 18...</td>\n",
       "      <td>media/cache/09/a3/09a3aef48557576e1a85ba7efea8...</td>\n",
       "      <td>£37.59</td>\n",
       "      <td>In stock</td>\n",
       "    </tr>\n",
       "    <tr>\n",
       "      <th>18</th>\n",
       "      <td>Libertarianism for Beginners</td>\n",
       "      <td>media/cache/0b/bc/0bbcd0a6f4bcd81ccb1049a52736...</td>\n",
       "      <td>£51.33</td>\n",
       "      <td>In stock</td>\n",
       "    </tr>\n",
       "    <tr>\n",
       "      <th>19</th>\n",
       "      <td>It's Only the Himalayas</td>\n",
       "      <td>media/cache/27/a5/27a53d0bb95bdd88288eaf66c923...</td>\n",
       "      <td>£45.17</td>\n",
       "      <td>In stock</td>\n",
       "    </tr>\n",
       "  </tbody>\n",
       "</table>\n",
       "</div>"
      ],
      "text/plain": [
       "                                                title  \\\n",
       "0                                A Light in the Attic   \n",
       "1                                  Tipping the Velvet   \n",
       "2                                          Soumission   \n",
       "3                                       Sharp Objects   \n",
       "4               Sapiens: A Brief History of Humankind   \n",
       "5                                     The Requiem Red   \n",
       "6   The Dirty Little Secrets of Getting Your Dream...   \n",
       "7   The Coming Woman: A Novel Based on the Life of...   \n",
       "8   The Boys in the Boat: Nine Americans and Their...   \n",
       "9                                     The Black Maria   \n",
       "10     Starving Hearts (Triangular Trade Trilogy, #1)   \n",
       "11                              Shakespeare's Sonnets   \n",
       "12                                        Set Me Free   \n",
       "13  Scott Pilgrim's Precious Little Life (Scott Pi...   \n",
       "14                          Rip it Up and Start Again   \n",
       "15  Our Band Could Be Your Life: Scenes from the A...   \n",
       "16                                               Olio   \n",
       "17  Mesaerion: The Best Science Fiction Stories 18...   \n",
       "18                       Libertarianism for Beginners   \n",
       "19                            It's Only the Himalayas   \n",
       "\n",
       "                                           image_link    cost availability  \n",
       "0   media/cache/2c/da/2cdad67c44b002e7ead0cc35693c...  £51.77     In stock  \n",
       "1   media/cache/26/0c/260c6ae16bce31c8f8c95daddd9f...  £53.74     In stock  \n",
       "2   media/cache/3e/ef/3eef99c9d9adef34639f51066202...  £50.10     In stock  \n",
       "3   media/cache/32/51/3251cf3a3412f53f339e42cac213...  £47.82     In stock  \n",
       "4   media/cache/be/a5/bea5697f2534a2f86a3ef27b5a8c...  £54.23     In stock  \n",
       "5   media/cache/68/33/68339b4c9bc034267e1da611ab3b...  £22.65     In stock  \n",
       "6   media/cache/92/27/92274a95b7c251fea59a2b8a7827...  £33.34     In stock  \n",
       "7   media/cache/3d/54/3d54940e57e662c4dd1f3ff00c78...  £17.93     In stock  \n",
       "8   media/cache/66/88/66883b91f6804b2323c8369331cb...  £22.60     In stock  \n",
       "9   media/cache/58/46/5846057e28022268153beff6d352...  £52.15     In stock  \n",
       "10  media/cache/be/f4/bef44da28c98f905a3ebec0b87be...  £13.99     In stock  \n",
       "11  media/cache/10/48/1048f63d3b5061cd2f424d20b3f9...  £20.66     In stock  \n",
       "12  media/cache/5b/88/5b88c52633f53cacf162c15f4f82...  £17.46     In stock  \n",
       "13  media/cache/94/b1/94b1b8b244bce9677c2f29ccc890...  £52.29     In stock  \n",
       "14  media/cache/81/c4/81c4a973364e17d01f217e118825...  £35.02     In stock  \n",
       "15  media/cache/54/60/54607fe8945897cdcced0044103b...  £57.25     In stock  \n",
       "16  media/cache/55/33/553310a7162dfbc2c6d19a84da0d...  £23.88     In stock  \n",
       "17  media/cache/09/a3/09a3aef48557576e1a85ba7efea8...  £37.59     In stock  \n",
       "18  media/cache/0b/bc/0bbcd0a6f4bcd81ccb1049a52736...  £51.33     In stock  \n",
       "19  media/cache/27/a5/27a53d0bb95bdd88288eaf66c923...  £45.17     In stock  "
      ]
     },
     "execution_count": 137,
     "metadata": {},
     "output_type": "execute_result"
    }
   ],
   "source": [
    "# Creating a DataFrame\n",
    "book_info_df = pd.DataFrame([title, image_links, cost, availability]).T\n",
    "\n",
    "# Creating column names\n",
    "book_info_df.columns = [\"title\", \"image_link\", \"cost\", \"availability\"]\n",
    "\n",
    "book_info_df"
   ]
  },
  {
   "cell_type": "markdown",
   "metadata": {},
   "source": [
    "## Section 4: NoSQL (10 Minutes)\n",
    "\n",
    "#### Load data from `assets/grades.json` into Mongo \n",
    "\n",
    "(this code is written for you)"
   ]
  },
  {
   "cell_type": "code",
   "execution_count": 95,
   "metadata": {},
   "outputs": [
    {
     "data": {
      "text/plain": [
       "<pymongo.results.InsertManyResult at 0x127439e40>"
      ]
     },
     "execution_count": 95,
     "metadata": {},
     "output_type": "execute_result"
    }
   ],
   "source": [
    "# you shouldn't need to edit this cell!\n",
    "db_name = \"mod2db\"\n",
    "\n",
    "with open('grades-Copy1.jsonl') as f:\n",
    "    # loads() comes from the bson library\n",
    "    file_data = [loads(line) for line in f.readlines()]\n",
    "\n",
    "client = pymongo.MongoClient(\"mongodb://localhost:27017/\")\n",
    "client.drop_database(db_name)\n",
    "db = client[db_name]\n",
    "coll = db[\"testcoll\"]\n",
    "\n",
    "coll.insert_many(file_data)"
   ]
  },
  {
   "cell_type": "markdown",
   "metadata": {},
   "source": [
    "#### Answer all of the following questions by querying Mongo and manipulating the results in Python"
   ]
  },
  {
   "cell_type": "markdown",
   "metadata": {},
   "source": [
    "1. How many records are there total?"
   ]
  },
  {
   "cell_type": "code",
   "execution_count": 96,
   "metadata": {},
   "outputs": [
    {
     "data": {
      "text/plain": [
       "280"
      ]
     },
     "execution_count": 96,
     "metadata": {},
     "output_type": "execute_result"
    }
   ],
   "source": [
    "# Set `nosql_answer1` to your final answer\n",
    "nosql_answer1 = coll.count_documents(filter = {})\n",
    "nosql_answer1"
   ]
  },
  {
   "cell_type": "markdown",
   "metadata": {},
   "source": [
    "2. How many students have taken the class with `class_id` = **29**?"
   ]
  },
  {
   "cell_type": "code",
   "execution_count": 97,
   "metadata": {},
   "outputs": [
    {
     "name": "stderr",
     "output_type": "stream",
     "text": [
      "<ipython-input-97-697ea6239bad>:2: DeprecationWarning: count is deprecated. Use estimated_document_count or count_documents instead. Please note that $where must be replaced by $expr, $near must be replaced by $geoWithin with $center, and $nearSphere must be replaced by $geoWithin with $centerSphere\n",
      "  nosql_answer2 = coll.count(filter = {\"class_id\": 29})\n"
     ]
    },
    {
     "data": {
      "text/plain": [
       "9"
      ]
     },
     "execution_count": 97,
     "metadata": {},
     "output_type": "execute_result"
    }
   ],
   "source": [
    "# Set `nosql_answer2` to your final answer\n",
    "nosql_answer2 = coll.count(filter = {\"class_id\": 29})\n",
    "nosql_answer2"
   ]
  },
  {
   "cell_type": "markdown",
   "metadata": {},
   "source": [
    " "
   ]
  },
  {
   "cell_type": "markdown",
   "metadata": {},
   "source": [
    "**Super bonus question**: </br>For student **12** in class **23**, what grade did they get on their exam?"
   ]
  },
  {
   "cell_type": "code",
   "execution_count": 99,
   "metadata": {},
   "outputs": [
    {
     "data": {
      "text/plain": [
       "26.9857216299485"
      ]
     },
     "execution_count": 99,
     "metadata": {},
     "output_type": "execute_result"
    }
   ],
   "source": [
    "# Set `nosql_answer3` to your final answer\n",
    "nosql_answer3 = coll.find_one(filter = {'class_id': 23, 'student_id': 12})['scores']\n",
    "nosql_answer3[0]['score']"
   ]
  },
  {
   "cell_type": "markdown",
   "metadata": {},
   "source": [
    " "
   ]
  },
  {
   "cell_type": "code",
   "execution_count": null,
   "metadata": {},
   "outputs": [],
   "source": [
    "# for when you're done with this portion, this deletes the data we added.\n",
    "client.drop_database(\"mod2db\")"
   ]
  },
  {
   "cell_type": "markdown",
   "metadata": {},
   "source": [
    "## Assessment submission (2 Minutes)\n",
    "Please save your completed file as `mod2_assessment_<your_name>.ipynb` and upload it using [this form](https://forms.gle/pE94vYskYrrAzEY88)"
   ]
  },
  {
   "cell_type": "code",
   "execution_count": null,
   "metadata": {},
   "outputs": [],
   "source": []
  }
 ],
 "metadata": {
  "kernelspec": {
   "display_name": "Python 3",
   "language": "python",
   "name": "python3"
  },
  "language_info": {
   "codemirror_mode": {
    "name": "ipython",
    "version": 3
   },
   "file_extension": ".py",
   "mimetype": "text/x-python",
   "name": "python",
   "nbconvert_exporter": "python",
   "pygments_lexer": "ipython3",
   "version": "3.8.1"
  }
 },
 "nbformat": 4,
 "nbformat_minor": 4
}
