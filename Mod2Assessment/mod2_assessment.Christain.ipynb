{
 "cells": [
  {
   "cell_type": "markdown",
   "metadata": {},
   "source": [
    "# Mod 2 Assessment"
   ]
  },
  {
   "cell_type": "markdown",
   "metadata": {},
   "source": [
    "### Congratulations on making it to your second assessment! Just a few reminders before you continue:\n",
    "- This should only take an hour, so be sure to manage your time effectively.\n",
    "- Read the instructions carefully for _specified variable names_.\n",
    "- Check your progress by running **`make tests`** in the terminal, </br>\n",
    "  OR **if you have a PC**, manually run these lines in the terminal:\n",
    "  - `jupyter nbconvert --to script mod2_assessment.ipynb`\n",
    "  - `python -m pytest --disable-pytest-warnings -v`"
   ]
  },
  {
   "cell_type": "markdown",
   "metadata": {},
   "source": [
    "If there is any confusion on a question, please ask for clarification from a coach. </br>Though we can't give you the answer, we can help clear up any misunderstandings and get you back on track."
   ]
  },
  {
   "cell_type": "code",
   "execution_count": 1,
   "metadata": {},
   "outputs": [],
   "source": [
    "# You'll need these imports to start.\n",
    "import pymongo\n",
    "from bson.json_util import loads\n",
    "from collections import Counter\n",
    "\n",
    "# put all of your additional imports here:\n",
    "import sqlite3\n",
    "import os\n",
    "import json\n",
    "import requests\n",
    "from bs4 import BeautifulSoup\n",
    "import pandas as pd"
   ]
  },
  {
   "cell_type": "markdown",
   "metadata": {},
   "source": [
    "## Section 1: SQL (20 Minutes)\n",
    "There is a sqlite3 database in `assets/books.db`. The SQL to create this is also in `assets/books.sql`; if you want to run it manually you can also import this using https://sqliteonline.com/, or run the SQL file directly.  Both have the same schema and data.\n",
    "\n",
    "The schema has three tables. You can explore the schema in the file posted above.  Please answer the following questions.\n",
    "\n",
    "Connect to the database using sqlite3. <br/>\n",
    "Assign `conn` to the sqlite3 connection <br/>\n",
    "Assign `cur`  to the connection's cursor object"
   ]
  },
  {
   "cell_type": "code",
   "execution_count": 3,
   "metadata": {},
   "outputs": [],
   "source": [
    "file_path = os.path.join('assets', 'books.db')\n",
    "conn = sqlite3.connect(file_path)\n",
    "cur = conn.cursor()"
   ]
  },
  {
   "cell_type": "markdown",
   "metadata": {},
   "source": [
    "#### Querying the DB: "
   ]
  },
  {
   "cell_type": "markdown",
   "metadata": {},
   "source": [
    "1. How many pages are in the book \"Nine Stories\"?"
   ]
  },
  {
   "cell_type": "code",
   "execution_count": 5,
   "metadata": {},
   "outputs": [
    {
     "data": {
      "text/plain": [
       "600"
      ]
     },
     "execution_count": 5,
     "metadata": {},
     "output_type": "execute_result"
    }
   ],
   "source": [
    "# Assign `answer_1` to your final answer\n",
    "cur.execute(\"\"\" \n",
    "SELECT pages\n",
    "FROM book\n",
    "WHERE title = \"Nine Stories\"\n",
    ";\"\"\")\n",
    "\n",
    "answer_1 = cur.fetchone()[0]\n",
    "answer_1"
   ]
  },
  {
   "cell_type": "markdown",
   "metadata": {},
   "source": [
    "2. How many authors are from the USA?"
   ]
  },
  {
   "cell_type": "code",
   "execution_count": 9,
   "metadata": {},
   "outputs": [
    {
     "data": {
      "text/plain": [
       "6"
      ]
     },
     "execution_count": 9,
     "metadata": {},
     "output_type": "execute_result"
    }
   ],
   "source": [
    "# Assign `answer_2` to your final answer\n",
    "cur.execute(\"\"\" \n",
    "SELECT COUNT(DISTINCT(author_id)) AS total_authors\n",
    "FROM author\n",
    "WHERE country = \"USA\"\n",
    "; \"\"\")\n",
    "\n",
    "answer_2 = cur.fetchone()[0]\n",
    "answer_2"
   ]
  },
  {
   "cell_type": "markdown",
   "metadata": {},
   "source": [
    "3. How many authors does the book \"Professional ASP.NET 4.5 in C# and VB\" have?"
   ]
  },
  {
   "cell_type": "code",
   "execution_count": 11,
   "metadata": {},
   "outputs": [
    {
     "data": {
      "text/plain": [
       "5"
      ]
     },
     "execution_count": 11,
     "metadata": {},
     "output_type": "execute_result"
    }
   ],
   "source": [
    "# Assign `answer_3` to your final answer\n",
    "cur.execute(\"\"\" \n",
    "SELECT COUNT(author_id)\n",
    "FROM author\n",
    "LEFT JOIN book_author\n",
    "    USING(author_id)\n",
    "LEFT JOIN book\n",
    "    USING(book_id)\n",
    "WHERE book.title=\"Professional ASP.NET 4.5 in C# and VB\"\n",
    ";\"\"\")\n",
    "answer_3 = cur.fetchone()[0]\n",
    "answer_3"
   ]
  },
  {
   "cell_type": "markdown",
   "metadata": {},
   "source": [
    "4. How many pages total have been written by non-American authors?"
   ]
  },
  {
   "cell_type": "code",
   "execution_count": 17,
   "metadata": {},
   "outputs": [
    {
     "data": {
      "text/plain": [
       "30003"
      ]
     },
     "execution_count": 17,
     "metadata": {},
     "output_type": "execute_result"
    }
   ],
   "source": [
    "# Assign `answer_4` to your final answer\n",
    "cur.execute(\"\"\" \n",
    "SELECT SUM(book.pages)e\n",
    "FROM book\n",
    "INNER JOIN book_author \n",
    "    USING(book_id)\n",
    "INNER JOIN author \n",
    "    USING(author_id)\n",
    "WHERE author.country != \"USA\"\n",
    ";               \"\"\")\n",
    "answer_4 = cur.fetchone()[0]\n",
    "answer_4"
   ]
  },
  {
   "cell_type": "markdown",
   "metadata": {},
   "source": [
    "## Section 2: Object Oriented Programming (10 Minutes)"
   ]
  },
  {
   "cell_type": "markdown",
   "metadata": {},
   "source": [
    "### Creating a Class\n",
    "1. Force every new instance of `WeWorkMember` to expect a value which is assigned to the `name` **attribute**.\n",
    "1. Give every new instance of `WeWorkMember` a `caffeinated` **attribute** that is set to `False`. \n",
    "1. Give `WeWorkMember` an **instance method** called `caffeinate()` that prints out \"Getting coffee!\" and sets the `caffeinated` attribute to `True`."
   ]
  },
  {
   "cell_type": "code",
   "execution_count": 21,
   "metadata": {},
   "outputs": [
    {
     "name": "stdout",
     "output_type": "stream",
     "text": [
      "L is False\n",
      "Getting coffee!\n",
      "L is True\n"
     ]
    }
   ],
   "source": [
    "class WeWorkMember:\n",
    "    def __init__(self, name):\n",
    "        self.name = name\n",
    "        self.caffeinated = False\n",
    "    \n",
    "    def caffeinate(self):\n",
    "        print('Getting coffee!')\n",
    "        self.caffeinated = True\n",
    "\n",
    "laurent = WeWorkMember('L')\n",
    "print(f'{laurent.name} is {laurent.caffeinated}')\n",
    "laurent.caffeinate() \n",
    "print(f'{laurent.name} is {laurent.caffeinated}')"
   ]
  },
  {
   "cell_type": "markdown",
   "metadata": {},
   "source": [
    "### Inheriting from a Class\n",
    "\n",
    "1. Have `Staff` and `Student` inherit all methods from `WeWorkMember`\n",
    "1. Give `Staff` a **static method** called `cheer()` that prints out \"Goooooooo Flatiron Students!\"\n",
    "1. Give `Students` a **class method** called `learn()` that takes in an integer and returns that number +1"
   ]
  },
  {
   "cell_type": "code",
   "execution_count": 23,
   "metadata": {},
   "outputs": [
    {
     "name": "stdout",
     "output_type": "stream",
     "text": [
      "Goooooooo Flatiron Students!\n",
      "None\n",
      "3\n"
     ]
    }
   ],
   "source": [
    "class Staff(WeWorkMember):    \n",
    "    @staticmethod\n",
    "    def cheer():\n",
    "        print(\"Goooooooo Flatiron Students!\")\n",
    "\n",
    "class Student(WeWorkMember):\n",
    "    @classmethod\n",
    "    def learn(cls, integer):\n",
    "        return integer + 1\n",
    "print(Staff.cheer())\n",
    "print(Student.learn(2))"
   ]
  },
  {
   "cell_type": "markdown",
   "metadata": {},
   "source": [
    "## Section 3: APIs & Web Scraping\n",
    "### APIs (10 Minutes)\n",
    "Using the API about RuPaul's Drag Race, tell me how many judges of each **`type`** there were in the **first 50 records** the API returns.\n",
    "\n",
    "API: http://www.nokeynoshade.party/api/judges </br>\n",
    "Docs: https://drag-race-api.readme.io/docs/get-all-judges\n",
    "\n",
    " - Assign `rupaul_resp` to the response of the API request.\n",
    " - Ensure the request only returns the first 50 records\n",
    "     - note the documentation shows parameters as uppercase, but they should be **lowercase**\n",
    "     - the judges will have **`id`** ranging from 1 to 53\n",
    " - Do the aggregation in pure Python, Pandas, or SQL -- whatever's easiest for you\n",
    " - Assign `judge_count` to a dictionary with the number of judges for each type"
   ]
  },
  {
   "cell_type": "code",
   "execution_count": 7,
   "metadata": {},
   "outputs": [],
   "source": [
    "url = 'http://www.nokeynoshade.party/api/judges'\n",
    "PARMS = {'limit' : 50,\n",
    "         'offset': 0}\n",
    "rupaul_resp = requests.get(url, params=PARMS).json()"
   ]
  },
  {
   "cell_type": "code",
   "execution_count": 30,
   "metadata": {},
   "outputs": [
    {
     "data": {
      "text/plain": [
       "{'id': 1,\n",
       " 'name': 'Rupaul',\n",
       " 'image_url': 'https://vignette.wikia.nocookie.net/logosrupaulsdragrace/images/b/ba/Rupaul_blackpink_final.jpg/revision/latest/scale-to-width-down/350?cb=20110731183922',\n",
       " 'bio': 'Drag performer, actor, television host, and recording artist',\n",
       " 'type': 'regular',\n",
       " 'createdAt': '2018-01-11T00:43:31.258Z',\n",
       " 'updatedAt': '2018-01-11T00:43:31.258Z'}"
      ]
     },
     "execution_count": 30,
     "metadata": {},
     "output_type": "execute_result"
    }
   ],
   "source": [
    "rupaul_resp[0]"
   ]
  },
  {
   "cell_type": "code",
   "execution_count": 33,
   "metadata": {},
   "outputs": [
    {
     "data": {
      "text/plain": [
       "{'regular': 2, 'guest': 47, 'interim': 1}"
      ]
     },
     "execution_count": 33,
     "metadata": {},
     "output_type": "execute_result"
    }
   ],
   "source": [
    "judge_count = dict(Counter([judge['type'] for judge in rupaul_resp]))\n",
    "judge_count"
   ]
  },
  {
   "cell_type": "code",
   "execution_count": 9,
   "metadata": {},
   "outputs": [
    {
     "data": {
      "text/plain": [
       "{'regular': 2, 'guest': 47, 'interim': 1}"
      ]
     },
     "execution_count": 9,
     "metadata": {},
     "output_type": "execute_result"
    }
   ],
   "source": [
    "j_count = {}\n",
    "for judge in rupaul_resp:\n",
    "    try:\n",
    "        j_count[judge['type']] = j_count[judge['type']]+1\n",
    "    except:\n",
    "        j_count[judge['type']] = 0\n",
    "        j_count[judge['type']] = j_count[judge['type']]+1\n",
    "j_count"
   ]
  },
  {
   "cell_type": "markdown",
   "metadata": {},
   "source": [
    "### Web Scraping (15 Minutes)\n",
    "We want all of the **Music** books from [http://books.toscrape.com/](http://books.toscrape.com/).  Download the page of books in the *music* category and save it to the `book_resp` variable. Then use BeautifulSoup to convert each book on the page into a row in a Pandas dataframe.  The dataframe should consist of five columns:\n",
    "- FULL book title\n",
    "- book cover image link (relative is fine)\n",
    "- book cost (as a float or decimal, not a string)\n",
    "- inventory status (in stock?)\n",
    "- **BONUS** Star rating (if you choose not to include this, just fill the column with `NaN`s.\n",
    "\n",
    "The final result should be a dataframe of 13 rows (not counting header) and 5 columns (not counting index), named `book_df`.\n",
    "\n",
    "- Set the response to a variable named `book_resp`\n",
    "- Set the BeautifulSoup() object to a variable named `book_soup`\n",
    "- Set the final dataframe object to a variable named `book_df`"
   ]
  },
  {
   "cell_type": "markdown",
   "metadata": {},
   "source": [
    "# Methods"
   ]
  },
  {
   "cell_type": "code",
   "execution_count": 125,
   "metadata": {},
   "outputs": [],
   "source": [
    "#product_pod = cell.find_all('article', attrs={'class' : \"col-xs-6 col-sm-4 col-md-3 col-lg-3\"})\n",
    "def scrap_data(soup):\n",
    "    data = {\n",
    "        'title': [],\n",
    "        'book_cover' : [],\n",
    "        'book_cost' : [],\n",
    "        'inventory_status' : [],\n",
    "        'star_rating': []\n",
    "    }\n",
    "    for _ in soup:\n",
    "        data['title'].append(_.find('h3').find('a').attrs['title'])\n",
    "        data['book_cover'].append(_.find('div', {'class':'image_container'}).find('a').find('img').attrs['src'])\n",
    "        data['book_cost'].append(_.find('div', {'class':'product_price'}).find('p', {'class': 'price_color'}).text)\n",
    "\n",
    "        instock = _.find('div', {'class':'product_price'}).find('p', {'class': 'instock availability'}).text\n",
    "        instock = ''.join(instock.split())\n",
    "        data['inventory_status'].append(instock)\n",
    "\n",
    "        star_rating = _.find_all('p', {'class':'star-rating'})\n",
    "        data['star_rating'].append(star_rating[0]['class'][1])\n",
    "    return data"
   ]
  },
  {
   "cell_type": "code",
   "execution_count": 135,
   "metadata": {},
   "outputs": [],
   "source": [
    "# I do not like this one bit....\n",
    "book_resp = requests.get('http://books.toscrape.com/catalogue/category/books/music_14/index.html')\n",
    "book_soup = BeautifulSoup(book_resp.content, 'html.parser')\n",
    "product_pods = book_soup.find_all('article', attrs={'class' : \"product_pod\"})\n",
    "book_df = pd.DataFrame(scrap_data(product_pods))"
   ]
  },
  {
   "cell_type": "code",
   "execution_count": 136,
   "metadata": {},
   "outputs": [
    {
     "data": {
      "text/html": [
       "<div>\n",
       "<style scoped>\n",
       "    .dataframe tbody tr th:only-of-type {\n",
       "        vertical-align: middle;\n",
       "    }\n",
       "\n",
       "    .dataframe tbody tr th {\n",
       "        vertical-align: top;\n",
       "    }\n",
       "\n",
       "    .dataframe thead th {\n",
       "        text-align: right;\n",
       "    }\n",
       "</style>\n",
       "<table border=\"1\" class=\"dataframe\">\n",
       "  <thead>\n",
       "    <tr style=\"text-align: right;\">\n",
       "      <th></th>\n",
       "      <th>title</th>\n",
       "      <th>book_cover</th>\n",
       "      <th>book_cost</th>\n",
       "      <th>inventory_status</th>\n",
       "      <th>star_rating</th>\n",
       "    </tr>\n",
       "  </thead>\n",
       "  <tbody>\n",
       "    <tr>\n",
       "      <th>0</th>\n",
       "      <td>Rip it Up and Start Again</td>\n",
       "      <td>../../../../media/cache/81/c4/81c4a973364e17d0...</td>\n",
       "      <td>£35.02</td>\n",
       "      <td>Instock</td>\n",
       "      <td>Five</td>\n",
       "    </tr>\n",
       "    <tr>\n",
       "      <th>1</th>\n",
       "      <td>Our Band Could Be Your Life: Scenes from the A...</td>\n",
       "      <td>../../../../media/cache/54/60/54607fe8945897cd...</td>\n",
       "      <td>£57.25</td>\n",
       "      <td>Instock</td>\n",
       "      <td>Three</td>\n",
       "    </tr>\n",
       "    <tr>\n",
       "      <th>2</th>\n",
       "      <td>How Music Works</td>\n",
       "      <td>../../../../media/cache/5c/c8/5cc8e107246cb478...</td>\n",
       "      <td>£37.32</td>\n",
       "      <td>Instock</td>\n",
       "      <td>Two</td>\n",
       "    </tr>\n",
       "    <tr>\n",
       "      <th>3</th>\n",
       "      <td>Love Is a Mix Tape (Music #1)</td>\n",
       "      <td>../../../../media/cache/a2/6d/a26d8449abb3381e...</td>\n",
       "      <td>£18.03</td>\n",
       "      <td>Instock</td>\n",
       "      <td>One</td>\n",
       "    </tr>\n",
       "    <tr>\n",
       "      <th>4</th>\n",
       "      <td>Please Kill Me: The Uncensored Oral History of...</td>\n",
       "      <td>../../../../media/cache/06/f1/06f185c0be2ad6e2...</td>\n",
       "      <td>£31.19</td>\n",
       "      <td>Instock</td>\n",
       "      <td>Four</td>\n",
       "    </tr>\n",
       "  </tbody>\n",
       "</table>\n",
       "</div>"
      ],
      "text/plain": [
       "                                               title  \\\n",
       "0                          Rip it Up and Start Again   \n",
       "1  Our Band Could Be Your Life: Scenes from the A...   \n",
       "2                                    How Music Works   \n",
       "3                      Love Is a Mix Tape (Music #1)   \n",
       "4  Please Kill Me: The Uncensored Oral History of...   \n",
       "\n",
       "                                          book_cover book_cost  \\\n",
       "0  ../../../../media/cache/81/c4/81c4a973364e17d0...    £35.02   \n",
       "1  ../../../../media/cache/54/60/54607fe8945897cd...    £57.25   \n",
       "2  ../../../../media/cache/5c/c8/5cc8e107246cb478...    £37.32   \n",
       "3  ../../../../media/cache/a2/6d/a26d8449abb3381e...    £18.03   \n",
       "4  ../../../../media/cache/06/f1/06f185c0be2ad6e2...    £31.19   \n",
       "\n",
       "  inventory_status star_rating  \n",
       "0          Instock        Five  \n",
       "1          Instock       Three  \n",
       "2          Instock         Two  \n",
       "3          Instock         One  \n",
       "4          Instock        Four  "
      ]
     },
     "execution_count": 136,
     "metadata": {},
     "output_type": "execute_result"
    }
   ],
   "source": [
    "book_df.head()"
   ]
  },
  {
   "cell_type": "markdown",
   "metadata": {},
   "source": [
    "## Section 4: NoSQL (10 Minutes)\n",
    "\n",
    "#### Load data from `assets/grades.json` into Mongo \n",
    "\n",
    "(this code is written for you)"
   ]
  },
  {
   "cell_type": "code",
   "execution_count": 128,
   "metadata": {},
   "outputs": [
    {
     "data": {
      "text/plain": [
       "<pymongo.results.InsertManyResult at 0x2801ca98b88>"
      ]
     },
     "execution_count": 128,
     "metadata": {},
     "output_type": "execute_result"
    }
   ],
   "source": [
    "# you shouldn't need to edit this cell!\n",
    "db_name = \"mod2db\"\n",
    "\n",
    "with open('assets/grades.jsonl') as f:\n",
    "    # loads() comes from the bson library\n",
    "    file_data = [loads(line) for line in f.readlines()]\n",
    "\n",
    "client = pymongo.MongoClient(\"mongodb://localhost:27017/\")\n",
    "client.drop_database(db_name)\n",
    "db = client[db_name]\n",
    "coll = db[\"testcoll\"]\n",
    "\n",
    "coll.insert_many(file_data)"
   ]
  },
  {
   "cell_type": "markdown",
   "metadata": {},
   "source": [
    "#### Answer all of the following questions by querying Mongo and manipulating the results in Python"
   ]
  },
  {
   "cell_type": "markdown",
   "metadata": {},
   "source": [
    "1. How many records are there total?"
   ]
  },
  {
   "cell_type": "code",
   "execution_count": 130,
   "metadata": {},
   "outputs": [
    {
     "data": {
      "text/plain": [
       "280"
      ]
     },
     "execution_count": 130,
     "metadata": {},
     "output_type": "execute_result"
    }
   ],
   "source": [
    "# Set `nosql_answer1` to your final answer\n",
    "nosql_answer1 = coll.count_documents(filter = {})\n",
    "nosql_answer1"
   ]
  },
  {
   "cell_type": "markdown",
   "metadata": {},
   "source": [
    "2. How many students have taken the class with `class_id` = **29**?"
   ]
  },
  {
   "cell_type": "code",
   "execution_count": 131,
   "metadata": {},
   "outputs": [
    {
     "data": {
      "text/plain": [
       "9"
      ]
     },
     "execution_count": 131,
     "metadata": {},
     "output_type": "execute_result"
    }
   ],
   "source": [
    "# Set `nosql_answer2` to your final answer\n",
    "nosql_answer2 = coll.count_documents(filter = {'class_id': 29})\n",
    "nosql_answer2 "
   ]
  },
  {
   "cell_type": "markdown",
   "metadata": {},
   "source": [
    " "
   ]
  },
  {
   "cell_type": "markdown",
   "metadata": {},
   "source": [
    "**Super bonus question**: </br>For student **12** in class **23**, what grade did they get on their exam?"
   ]
  },
  {
   "cell_type": "code",
   "execution_count": 133,
   "metadata": {},
   "outputs": [
    {
     "data": {
      "text/plain": [
       "26.9857216299485"
      ]
     },
     "execution_count": 133,
     "metadata": {},
     "output_type": "execute_result"
    }
   ],
   "source": [
    "# Set `nosql_answer3` to your final answer\n",
    "nosql_answer3 = coll.find_one(filter = {'class_id': 23, 'student_id': 12})['scores']\n",
    "nosql_answer3[0]['score']"
   ]
  },
  {
   "cell_type": "markdown",
   "metadata": {},
   "source": [
    " "
   ]
  },
  {
   "cell_type": "code",
   "execution_count": 134,
   "metadata": {},
   "outputs": [],
   "source": [
    "# for when you're done with this portion, this deletes the data we added.\n",
    "client.drop_database(\"mod2db\")"
   ]
  },
  {
   "cell_type": "markdown",
   "metadata": {},
   "source": [
    "## Assessment submission (2 Minutes)\n",
    "Please **save** your completed file (`mod2_assessment.ipynb`) and upload it using [this form](https://docs.google.com/forms/d/e/1FAIpQLSf1uGNuz4fyzVz5i3aFTxmMKvH50DEJiN5uRmNFghpmFzoi3g/viewform)"
   ]
  }
 ],
 "metadata": {
  "kernelspec": {
   "display_name": "Python 3",
   "language": "python",
   "name": "python3"
  },
  "language_info": {
   "codemirror_mode": {
    "name": "ipython",
    "version": 3
   },
   "file_extension": ".py",
   "mimetype": "text/x-python",
   "name": "python",
   "nbconvert_exporter": "python",
   "pygments_lexer": "ipython3",
   "version": "3.8.1"
  }
 },
 "nbformat": 4,
 "nbformat_minor": 4
}
