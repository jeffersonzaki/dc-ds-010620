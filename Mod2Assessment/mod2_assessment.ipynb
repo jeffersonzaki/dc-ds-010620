{
 "cells": [
  {
   "cell_type": "markdown",
   "metadata": {},
   "source": [
    "# Mod 2 Assessment"
   ]
  },
  {
   "cell_type": "markdown",
   "metadata": {},
   "source": [
    "### Congratulations on making it to your second assessment! Just a few reminders before you continue:\n",
    "- This should only take an hour, so be sure to manage your time effectively.\n",
    "- Read the instructions carefully for _specified variable names_.\n",
    "- Check your progress by running **`make tests`** in the terminal, </br>\n",
    "  OR **if you have a PC**, manually run these lines in the terminal:\n",
    "  - `jupyter nbconvert --to script mod2_assessment.ipynb`\n",
    "  - `python -m pytest --disable-pytest-warnings -v`"
   ]
  },
  {
   "cell_type": "markdown",
   "metadata": {},
   "source": [
    "If there is any confusion on a question, please ask for clarification from a coach. </br>Though we can't give you the answer, we can help clear up any misunderstandings and get you back on track."
   ]
  },
  {
   "cell_type": "code",
   "execution_count": 3,
   "metadata": {},
   "outputs": [],
   "source": [
    "# You'll need these imports to start.\n",
    "import pymongo\n",
    "from bson.json_util import loads\n",
    "from collections import Counter\n",
    "\n",
    "# put all of your additional imports here:\n",
    "import requests\n",
    "import sqlite3\n",
    "import json\n",
    "import pandas as pd\n",
    "from bs4 import BeautifulSoup"
   ]
  },
  {
   "cell_type": "markdown",
   "metadata": {},
   "source": [
    "## Section 1: SQL (20 Minutes)\n",
    "There is a sqlite3 database in `assets/books.db`. The SQL to create this is also in `assets/books.sql`; if you want to run it manually you can also import this using https://sqliteonline.com/, or run the SQL file directly.  Both have the same schema and data.\n",
    "\n",
    "The schema has three tables. You can explore the schema in the file posted above.  Please answer the following questions.\n",
    "\n",
    "Connect to the database using sqlite3. <br/>\n",
    "Assign `conn` to the sqlite3 connection <br/>\n",
    "Assign `cur`  to the connection's cursor object"
   ]
  },
  {
   "cell_type": "code",
   "execution_count": 4,
   "metadata": {},
   "outputs": [
    {
     "ename": "OperationalError",
     "evalue": "unable to open database file",
     "output_type": "error",
     "traceback": [
      "\u001b[0;31m---------------------------------------------------------------------------\u001b[0m",
      "\u001b[0;31mOperationalError\u001b[0m                          Traceback (most recent call last)",
      "\u001b[0;32m<ipython-input-4-9cfb0df6d463>\u001b[0m in \u001b[0;36m<module>\u001b[0;34m\u001b[0m\n\u001b[0;32m----> 1\u001b[0;31m \u001b[0mconn\u001b[0m \u001b[0;34m=\u001b[0m \u001b[0msqlite3\u001b[0m\u001b[0;34m.\u001b[0m\u001b[0mconnect\u001b[0m\u001b[0;34m(\u001b[0m\u001b[0;34m\"Mod2Assessment/Data/books.db\"\u001b[0m\u001b[0;34m)\u001b[0m\u001b[0;34m\u001b[0m\u001b[0;34m\u001b[0m\u001b[0m\n\u001b[0m\u001b[1;32m      2\u001b[0m \u001b[0mcur\u001b[0m \u001b[0;34m=\u001b[0m \u001b[0mconn\u001b[0m\u001b[0;34m.\u001b[0m\u001b[0mcursor\u001b[0m\u001b[0;34m(\u001b[0m\u001b[0;34m)\u001b[0m\u001b[0;34m\u001b[0m\u001b[0;34m\u001b[0m\u001b[0m\n",
      "\u001b[0;31mOperationalError\u001b[0m: unable to open database file"
     ]
    }
   ],
   "source": [
    "conn = sqlite3.connect(\"Mod2Assessment/Data/books.db\")\n",
    "cur = conn.cursor()"
   ]
  },
  {
   "cell_type": "markdown",
   "metadata": {},
   "source": [
    "#### Querying the DB: "
   ]
  },
  {
   "cell_type": "markdown",
   "metadata": {},
   "source": [
    "1. How many pages are in the book \"Nine Stories\"?"
   ]
  },
  {
   "cell_type": "code",
   "execution_count": null,
   "metadata": {},
   "outputs": [],
   "source": [
    "# Assign `answer_1` to your final answer\n",
    "answer_1 = pd.read_sql_query(\"\"\"SELECT pages FROM book \n",
    "WHERE title LIKE \"Nine Stories\" \"\"\", conn)"
   ]
  },
  {
   "cell_type": "markdown",
   "metadata": {},
   "source": [
    "2. How many authors are from the USA?"
   ]
  },
  {
   "cell_type": "code",
   "execution_count": null,
   "metadata": {},
   "outputs": [],
   "source": [
    "# Assign `answer_2` to your final answer\n",
    "answer_2 = pd.read_sql_query(\"\"\"\n",
    "SELECT COUNT(author_id) FROM author a2 \n",
    "WHERE country LIKE \"USA\" \"\"\", conn)"
   ]
  },
  {
   "cell_type": "markdown",
   "metadata": {},
   "source": [
    "3. How many authors does the book \"Professional ASP.NET 4.5 in C# and VB\" have?"
   ]
  },
  {
   "cell_type": "code",
   "execution_count": null,
   "metadata": {},
   "outputs": [],
   "source": [
    "# Assign `answer_3` to your final answer\n",
    "answer_3 = pd.read_sql_query(\"\"\"\n",
    "SELECT COUNT(author_id) FROM book \n",
    "JOIN book_author ON book.book_id = book_author.book_id\n",
    "WHERE title LIKE \"Professional ASP.NET 4.5 in C# and VB\" \n",
    "\"\"\", conn)"
   ]
  },
  {
   "cell_type": "markdown",
   "metadata": {},
   "source": [
    "4. How many pages total have been written by non-American authors?"
   ]
  },
  {
   "cell_type": "code",
   "execution_count": null,
   "metadata": {},
   "outputs": [],
   "source": [
    "# Assign `answer_4` to your final answer\n",
    "answer_4 = pd.read_sql_query(\"\"\"\n",
    "SELECT SUM(pages) FROM book \n",
    "JOIN author \n",
    "WHERE country NOT LIKE \"USA\"\n",
    "\"\"\", conn)"
   ]
  },
  {
   "cell_type": "markdown",
   "metadata": {},
   "source": [
    "## Section 2: Object Oriented Programming (10 Minutes)"
   ]
  },
  {
   "cell_type": "markdown",
   "metadata": {},
   "source": [
    "### Creating a Class\n",
    "1. Force every new instance of `WeWorkMember` to expect a value which is assigned to the `name` **attribute**.\n",
    "1. Give every new instance of `WeWorkMember` a `caffeinated` **attribute** that is set to `False`. \n",
    "1. Give `WeWorkMember` an **instance method** called `caffeinate()` that prints out \"Getting coffee!\" and sets the `caffeinated` attribute to `True`."
   ]
  },
  {
   "cell_type": "code",
   "execution_count": null,
   "metadata": {},
   "outputs": [],
   "source": [
    "class WeWorkMember: \n",
    "    # Constructor with name instance variable and caffeinated variable\n",
    "    def __init__(self, name, caffeinated):\n",
    "        self.name = name\n",
    "        caffeinated = False\n",
    "        \n",
    "    def caffeinate(self):\n",
    "        print(\"Getting coffee!\")\n",
    "        self.caffeinated = True\n",
    "        \n",
    "        \n",
    "class WeWorkMember2:\n",
    "    # Class instance variables\n",
    "    name = \"\"    # name = input(\"Name: \")\n",
    "    caffeinated = False\n",
    "    \n",
    "    def caffeinate(self):\n",
    "        print(\"Getting coffee!\")\n",
    "        self.caffeinated = True"
   ]
  },
  {
   "cell_type": "code",
   "execution_count": null,
   "metadata": {},
   "outputs": [],
   "source": [
    "john = WeWorkMember(\"John\", False)"
   ]
  },
  {
   "cell_type": "code",
   "execution_count": null,
   "metadata": {},
   "outputs": [],
   "source": [
    "john.caffeinate()"
   ]
  },
  {
   "cell_type": "markdown",
   "metadata": {},
   "source": [
    "### Inheriting from a Class\n",
    "\n",
    "1. Have `Staff` and `Student` inherit all methods from `WeWorkMember`\n",
    "1. Give `Staff` a **static method** called `cheer()` that prints out \"Goooooooo Flatiron Students!\"\n",
    "1. Give `Students` a **class method** called `learn()` that takes in an integer and returns that number +1"
   ]
  },
  {
   "cell_type": "code",
   "execution_count": null,
   "metadata": {},
   "outputs": [],
   "source": [
    "class Staff(WeWorkMember):    \n",
    "    def cheer():\n",
    "        print(\"Goooooooo Flatiron Students!\")\n",
    "\n",
    "class Student(WeWorkMember):\n",
    "    # Class method, bound to the class and not the object of the class, able to modify a class state\n",
    "    @classmethod\n",
    "    def learn(cls, num):\n",
    "        return num + 1"
   ]
  },
  {
   "cell_type": "markdown",
   "metadata": {},
   "source": [
    "## Section 3: APIs & Web Scraping\n",
    "### APIs (10 Minutes)\n",
    "Using the API about RuPaul's Drag Race, tell me how many judges of each **`type`** there were in the **first 50 records** the API returns.\n",
    "\n",
    "API: http://www.nokeynoshade.party/api/judges </br>\n",
    "Docs: https://drag-race-api.readme.io/docs/get-all-judges\n",
    "\n",
    " - Assign `rupaul_resp` to the response of the API request.\n",
    " - Ensure the request only returns the first 50 records\n",
    "     - note the documentation shows parameters as uppercase, but they should be **lowercase**\n",
    "     - the judges will have **`id`** ranging from 1 to 53\n",
    " - Do the aggregation in pure Python, Pandas, or SQL -- whatever's easiest for you\n",
    " - Assign `judge_count` to a dictionary with the number of judges for each type"
   ]
  },
  {
   "cell_type": "code",
   "execution_count": 7,
   "metadata": {},
   "outputs": [
    {
     "name": "stdout",
     "output_type": "stream",
     "text": [
      "status code: 200\n"
     ]
    },
    {
     "data": {
      "text/plain": [
       "[{'id': 1,\n",
       "  'name': 'Rupaul',\n",
       "  'image_url': 'https://vignette.wikia.nocookie.net/logosrupaulsdragrace/images/b/ba/Rupaul_blackpink_final.jpg/revision/latest/scale-to-width-down/350?cb=20110731183922',\n",
       "  'bio': 'Drag performer, actor, television host, and recording artist',\n",
       "  'type': 'regular',\n",
       "  'createdAt': '2018-01-11T00:43:31.258Z',\n",
       "  'updatedAt': '2018-01-11T00:43:31.258Z'},\n",
       " {'id': 2,\n",
       "  'name': 'Bob Mackie',\n",
       "  'image_url': None,\n",
       "  'bio': 'Fashion Designer',\n",
       "  'type': 'guest',\n",
       "  'createdAt': '2017-08-22T00:27:40.731Z',\n",
       "  'updatedAt': '2017-08-22T00:27:40.731Z'},\n",
       " {'id': 3,\n",
       "  'name': 'Mike Ruiz',\n",
       "  'image_url': 'https://vignette3.wikia.nocookie.net/logosrupaulsdragrace/images/7/7c/Mike_Ruiz.jpg/revision/latest/scale-to-width-down/350?cb=20110731184513',\n",
       "  'bio': 'Photographer',\n",
       "  'type': 'regular',\n",
       "  'createdAt': '2017-08-22T00:46:35.279Z',\n",
       "  'updatedAt': '2017-08-22T00:46:35.279Z'},\n",
       " {'id': 4,\n",
       "  'name': 'Michelle Williams',\n",
       "  'image_url': 'https://upload.wikimedia.org/wikipedia/commons/thumb/a/a0/Michelle_Williams_2015.jpg/220px-Michelle_Williams_2015.jpg',\n",
       "  'bio': 'Singer',\n",
       "  'type': 'guest',\n",
       "  'createdAt': '2017-08-22T00:49:01.253Z',\n",
       "  'updatedAt': '2017-08-22T00:49:01.253Z'},\n",
       " {'id': 5,\n",
       "  'name': 'Frank Gatson, Jr.',\n",
       "  'image_url': None,\n",
       "  'bio': 'Choreographer and Director',\n",
       "  'type': 'guest',\n",
       "  'createdAt': '2017-08-22T00:51:15.898Z',\n",
       "  'updatedAt': '2017-08-22T00:51:15.898Z'},\n",
       " {'id': 6,\n",
       "  'name': 'Debra Wilson',\n",
       "  'image_url': 'https://upload.wikimedia.org/wikipedia/commons/thumb/6/66/Debra_Wilson_Skelton_2010.jpg/220px-Debra_Wilson_Skelton_2010.jpg',\n",
       "  'bio': 'Actress and Comedian',\n",
       "  'type': 'guest',\n",
       "  'createdAt': '2017-08-22T00:52:23.876Z',\n",
       "  'updatedAt': '2017-08-22T00:52:23.876Z'},\n",
       " {'id': 7,\n",
       "  'name': 'Howard Bragman',\n",
       "  'image_url': None,\n",
       "  'bio': 'Public Relations',\n",
       "  'type': 'guest',\n",
       "  'createdAt': '2017-08-22T00:53:06.547Z',\n",
       "  'updatedAt': '2017-08-22T00:53:06.547Z'},\n",
       " {'id': 8,\n",
       "  'name': 'Jenny Shimizu',\n",
       "  'image_url': 'https://upload.wikimedia.org/wikipedia/commons/thumb/9/9d/Jenny_Shimizu.jpg/175px-Jenny_Shimizu.jpg',\n",
       "  'bio': 'Model and Actress',\n",
       "  'type': 'guest',\n",
       "  'createdAt': '2017-08-22T00:55:31.608Z',\n",
       "  'updatedAt': '2017-08-22T00:55:31.608Z'},\n",
       " {'id': 9,\n",
       "  'name': 'Gordon Espinet',\n",
       "  'image_url': None,\n",
       "  'bio': 'Makeup Artistry, MAC Cosmetics',\n",
       "  'type': 'guest',\n",
       "  'createdAt': '2017-08-22T00:56:25.421Z',\n",
       "  'updatedAt': '2017-08-22T00:56:25.421Z'},\n",
       " {'id': 10,\n",
       "  'name': 'Lucy Lawless',\n",
       "  'image_url': 'https://upload.wikimedia.org/wikipedia/commons/thumb/1/14/Lucy_Lawless_by_Gage_Skidmore_2.jpg/220px-Lucy_Lawless_by_Gage_Skidmore_2.jpg',\n",
       "  'bio': 'Actress',\n",
       "  'type': 'guest',\n",
       "  'createdAt': '2017-08-22T00:57:39.975Z',\n",
       "  'updatedAt': '2017-08-22T00:57:39.975Z'},\n",
       " {'id': 11,\n",
       "  'name': 'Robin Antin',\n",
       "  'image_url': 'https://upload.wikimedia.org/wikipedia/commons/thumb/2/24/Robin_Antin.jpg/200px-Robin_Antin.jpg',\n",
       "  'bio': 'Singer',\n",
       "  'type': 'guest',\n",
       "  'createdAt': '2017-08-22T00:58:33.516Z',\n",
       "  'updatedAt': '2017-08-22T00:58:33.516Z'},\n",
       " {'id': 12,\n",
       "  'name': 'Jeffrey Moran',\n",
       "  'image_url': None,\n",
       "  'bio': 'Image Consultant',\n",
       "  'type': 'guest',\n",
       "  'createdAt': '2017-08-22T01:00:44.596Z',\n",
       "  'updatedAt': '2017-08-22T01:00:44.596Z'},\n",
       " {'id': 13,\n",
       "  'name': 'María Conchita Alonso',\n",
       "  'image_url': 'https://upload.wikimedia.org/wikipedia/commons/thumb/2/23/Maria_Conchita_Alonso_LA_Pride_2011.jpg/220px-Maria_Conchita_Alonso_LA_Pride_2011.jpg',\n",
       "  'bio': 'Singer/Songwriter and Actress',\n",
       "  'type': 'guest',\n",
       "  'createdAt': '2017-08-22T01:08:13.175Z',\n",
       "  'updatedAt': '2017-08-22T01:08:13.175Z'},\n",
       " {'id': 14,\n",
       "  'name': 'Kathy Griffin',\n",
       "  'image_url': 'https://upload.wikimedia.org/wikipedia/commons/thumb/8/8a/Kathy_Griffin_2015_TCA_Press_Tour_%28cropped%29.jpg/220px-Kathy_Griffin_2015_TCA_Press_Tour_%28cropped%29.jpg',\n",
       "  'bio': 'Actress, Comedian, Writer, Producer, and Television Host',\n",
       "  'type': 'guest',\n",
       "  'createdAt': '2017-08-22T01:11:10.176Z',\n",
       "  'updatedAt': '2017-08-22T01:11:10.176Z'},\n",
       " {'id': 15,\n",
       "  'name': 'Kim Coles',\n",
       "  'image_url': 'https://upload.wikimedia.org/wikipedia/commons/thumb/3/35/Kim_Coles.jpg/220px-Kim_Coles.jpg',\n",
       "  'bio': 'Actress, Comedian and Gameshow Host',\n",
       "  'type': 'guest',\n",
       "  'createdAt': '2017-08-22T01:13:00.823Z',\n",
       "  'updatedAt': '2017-08-22T01:13:00.823Z'},\n",
       " {'id': 16,\n",
       "  'name': 'Dita Von Teese',\n",
       "  'image_url': 'https://upload.wikimedia.org/wikipedia/commons/thumb/6/6f/Dita_Von_Teese_at_Cannes_2007.jpg/220px-Dita_Von_Teese_at_Cannes_2007.jpg',\n",
       "  'bio': 'Burlesque Dancer, Model, Costume Designer',\n",
       "  'type': 'guest',\n",
       "  'createdAt': '2017-08-22T01:14:23.109Z',\n",
       "  'updatedAt': '2017-08-22T01:14:23.109Z'},\n",
       " {'id': 17,\n",
       "  'name': 'Kathy Najimy',\n",
       "  'image_url': 'https://upload.wikimedia.org/wikipedia/commons/thumb/3/3c/Kathy_Najimy.jpg/220px-Kathy_Najimy.jpg',\n",
       "  'bio': 'Actress and Comedian',\n",
       "  'type': 'guest',\n",
       "  'createdAt': '2017-08-22T01:16:00.413Z',\n",
       "  'updatedAt': '2017-08-22T01:16:00.413Z'},\n",
       " {'id': 18,\n",
       "  'name': 'Tanya Tucker',\n",
       "  'image_url': 'https://upload.wikimedia.org/wikipedia/commons/thumb/7/77/Tanya_Tucker.png/250px-Tanya_Tucker.png',\n",
       "  'bio': 'Country Music Artist',\n",
       "  'type': 'guest',\n",
       "  'createdAt': '2017-08-22T01:18:00.077Z',\n",
       "  'updatedAt': '2017-08-22T01:18:00.077Z'},\n",
       " {'id': 19,\n",
       "  'name': 'Lisa Rinna',\n",
       "  'image_url': 'https://upload.wikimedia.org/wikipedia/commons/d/d2/Lisa_Rinna6crop.jpg',\n",
       "  'bio': 'Actress and Television Host',\n",
       "  'type': 'guest',\n",
       "  'createdAt': '2017-08-22T01:19:31.389Z',\n",
       "  'updatedAt': '2017-08-22T01:19:31.389Z'},\n",
       " {'id': 20,\n",
       "  'name': 'Niecy Nash',\n",
       "  'image_url': 'https://upload.wikimedia.org/wikipedia/commons/thumb/b/b7/Niecy_Nash_2010.jpg/220px-Niecy_Nash_2010.jpg',\n",
       "  'bio': 'Comedian, Model, Actress, and Producer',\n",
       "  'type': 'guest',\n",
       "  'createdAt': '2017-08-22T01:20:31.627Z',\n",
       "  'updatedAt': '2017-08-22T01:20:31.627Z'},\n",
       " {'id': 21,\n",
       "  'name': 'Mathu Andersen',\n",
       "  'image_url': 'https://vignette1.wikia.nocookie.net/logosrupaulsdragrace/images/9/95/Mathu_Andersen.jpeg/revision/latest/scale-to-width-down/350?cb=20160415221021',\n",
       "  'bio': 'Makeup Artist',\n",
       "  'type': 'guest',\n",
       "  'createdAt': '2017-10-18T00:51:16.710Z',\n",
       "  'updatedAt': '2017-10-18T00:51:16.710Z'},\n",
       " {'id': 22,\n",
       "  'name': 'Martha Wash',\n",
       "  'image_url': 'https://upload.wikimedia.org/wikipedia/commons/thumb/3/3e/Martha_Wash.jpg/220px-Martha_Wash.jpg',\n",
       "  'bio': 'Singer and Songwriter',\n",
       "  'type': 'guest',\n",
       "  'createdAt': '2017-10-18T00:55:22.512Z',\n",
       "  'updatedAt': '2017-10-18T00:55:22.512Z'},\n",
       " {'id': 23,\n",
       "  'name': 'Henry Rollins',\n",
       "  'image_url': 'https://upload.wikimedia.org/wikipedia/commons/thumb/e/e5/HenryRollins2010.jpg/250px-HenryRollins2010.jpg',\n",
       "  'bio': 'Musician',\n",
       "  'type': 'guest',\n",
       "  'createdAt': '2017-10-18T00:57:00.718Z',\n",
       "  'updatedAt': '2017-10-18T00:57:00.718Z'},\n",
       " {'id': 24,\n",
       "  'name': 'Terri Nunn',\n",
       "  'image_url': 'https://upload.wikimedia.org/wikipedia/commons/thumb/e/e9/Terri_Nunn_at_OpenWorld_crop.jpg/220px-Terri_Nunn_at_OpenWorld_crop.jpg',\n",
       "  'bio': 'Singer and Actress',\n",
       "  'type': 'guest',\n",
       "  'createdAt': '2017-10-18T00:58:58.414Z',\n",
       "  'updatedAt': '2017-10-18T00:58:58.414Z'},\n",
       " {'id': 25,\n",
       "  'name': 'Gigi Levangie Grazer',\n",
       "  'image_url': None,\n",
       "  'bio': 'Novelist, Screenwriter, and Producer',\n",
       "  'type': 'guest',\n",
       "  'createdAt': '2017-10-18T01:02:21.102Z',\n",
       "  'updatedAt': '2017-10-18T01:02:21.102Z'},\n",
       " {'id': 26,\n",
       "  'name': 'Jackie Collins',\n",
       "  'image_url': 'https://upload.wikimedia.org/wikipedia/commons/thumb/2/21/Jackie_Collins.jpg/220px-Jackie_Collins.jpg',\n",
       "  'bio': 'Romance Novelist',\n",
       "  'type': 'guest',\n",
       "  'createdAt': '2017-10-18T01:06:41.873Z',\n",
       "  'updatedAt': '2017-10-18T01:06:41.873Z'},\n",
       " {'id': 27,\n",
       "  'name': 'Debbie Reynolds',\n",
       "  'image_url': 'https://upload.wikimedia.org/wikipedia/commons/thumb/d/d5/Debbie_Reynolds_33.jpg/220px-Debbie_Reynolds_33.jpg',\n",
       "  'bio': 'Actress',\n",
       "  'type': 'guest',\n",
       "  'createdAt': '2017-10-18T01:08:14.200Z',\n",
       "  'updatedAt': '2017-10-18T01:08:14.200Z'},\n",
       " {'id': 28,\n",
       "  'name': 'Cloris Leachman',\n",
       "  'image_url': 'https://upload.wikimedia.org/wikipedia/commons/thumb/2/22/Cloris_Leachman_1970.JPG/220px-Cloris_Leachman_1970.JPG',\n",
       "  'bio': 'Actress',\n",
       "  'type': 'guest',\n",
       "  'createdAt': '2017-10-18T01:08:59.558Z',\n",
       "  'updatedAt': '2017-10-18T01:08:59.558Z'},\n",
       " {'id': 29,\n",
       "  'name': 'Toni Ko',\n",
       "  'image_url': None,\n",
       "  'bio': 'NYX Cosmetics Founder',\n",
       "  'type': 'guest',\n",
       "  'createdAt': '2017-10-18T01:10:07.021Z',\n",
       "  'updatedAt': '2017-10-18T01:10:07.021Z'},\n",
       " {'id': 30,\n",
       "  'name': \"Tatum O'Neal\",\n",
       "  'image_url': 'https://upload.wikimedia.org/wikipedia/commons/thumb/8/88/Tatum_O%27Neal_-_November_2014_%28cropped%29.jpg/220px-Tatum_O%27Neal_-_November_2014_%28cropped%29.jpg',\n",
       "  'bio': 'Actress and Author',\n",
       "  'type': 'guest',\n",
       "  'createdAt': '2017-10-18T01:10:58.088Z',\n",
       "  'updatedAt': '2017-10-18T01:10:58.088Z'},\n",
       " {'id': 31,\n",
       "  'name': 'Marissa Jaret Winokur',\n",
       "  'image_url': 'https://upload.wikimedia.org/wikipedia/commons/thumb/5/51/Marissa_Jaret_Winokur.jpg/220px-Marissa_Jaret_Winokur.jpg',\n",
       "  'bio': 'Actress',\n",
       "  'type': 'guest',\n",
       "  'createdAt': '2017-10-18T01:13:28.239Z',\n",
       "  'updatedAt': '2017-10-18T01:13:28.239Z'},\n",
       " {'id': 32,\n",
       "  'name': 'Bruce Vilanch',\n",
       "  'image_url': 'https://upload.wikimedia.org/wikipedia/commons/thumb/a/af/Brucevilanch.jpg/165px-Brucevilanch.jpg',\n",
       "  'bio': 'Comedy Writer, Songwriter, and Actor',\n",
       "  'type': 'guest',\n",
       "  'createdAt': '2017-10-18T01:18:15.861Z',\n",
       "  'updatedAt': '2017-10-18T01:18:15.861Z'},\n",
       " {'id': 33,\n",
       "  'name': 'Vanessa Williams',\n",
       "  'image_url': 'https://upload.wikimedia.org/wikipedia/commons/thumb/a/ae/VanessaWilliamsHWoFMar2012.jpg/220px-VanessaWilliamsHWoFMar2012.jpg',\n",
       "  'bio': 'Actress, Singer, and former Miss America',\n",
       "  'type': 'guest',\n",
       "  'createdAt': '2017-10-18T01:19:37.317Z',\n",
       "  'updatedAt': '2017-10-18T01:19:37.317Z'},\n",
       " {'id': 34,\n",
       "  'name': 'Lily Tomlin',\n",
       "  'image_url': 'https://upload.wikimedia.org/wikipedia/commons/thumb/6/63/Lily_Tomlin_2014.jpg/220px-Lily_Tomlin_2014.jpg',\n",
       "  'bio': 'Actress and Comedian',\n",
       "  'type': 'guest',\n",
       "  'createdAt': '2017-10-18T01:21:08.770Z',\n",
       "  'updatedAt': '2017-10-18T01:21:08.770Z'},\n",
       " {'id': 35,\n",
       "  'name': 'Alessandra Torresani',\n",
       "  'image_url': 'https://upload.wikimedia.org/wikipedia/commons/thumb/2/24/AlessandraTorresaniApr09.jpg/250px-AlessandraTorresaniApr09.jpg',\n",
       "  'bio': 'Actress',\n",
       "  'type': 'guest',\n",
       "  'createdAt': '2017-10-18T01:21:56.375Z',\n",
       "  'updatedAt': '2017-10-18T01:21:56.375Z'},\n",
       " {'id': 36,\n",
       "  'name': 'LaToya Jackson',\n",
       "  'image_url': 'https://upload.wikimedia.org/wikipedia/commons/thumb/a/ab/La_Toya_Jackson_cropped.jpg/220px-La_Toya_Jackson_cropped.jpg',\n",
       "  'bio': 'Singer',\n",
       "  'type': 'guest',\n",
       "  'createdAt': '2017-10-18T01:25:31.321Z',\n",
       "  'updatedAt': '2017-10-18T01:25:31.321Z'},\n",
       " {'id': 37,\n",
       "  'name': 'Susan Powter',\n",
       "  'image_url': None,\n",
       "  'bio': 'Motivational Speaker and Fitness Guru',\n",
       "  'type': 'guest',\n",
       "  'createdAt': '2017-10-18T01:26:35.090Z',\n",
       "  'updatedAt': '2017-10-18T01:26:35.090Z'},\n",
       " {'id': 38,\n",
       "  'name': 'Billy B',\n",
       "  'image_url': 'https://images-na.ssl-images-amazon.com/images/M/MV5BMTM1MjA0Njg1N15BMl5BanBnXkFtZTcwMDEwMzIzMQ@@._V1_.jpg',\n",
       "  'bio': 'Makeup Artist',\n",
       "  'type': 'interim',\n",
       "  'createdAt': '2017-11-08T00:33:47.079Z',\n",
       "  'updatedAt': '2017-11-08T00:33:47.079Z'},\n",
       " {'id': 39,\n",
       "  'name': 'Margaret Cho',\n",
       "  'image_url': 'https://en.wikipedia.org/wiki/File:Margaret_Cho,_2011_Cannes_(crop).png',\n",
       "  'bio': 'Actress and Comedian',\n",
       "  'type': 'guest',\n",
       "  'createdAt': '2017-11-08T00:36:51.418Z',\n",
       "  'updatedAt': '2017-11-08T00:36:51.418Z'},\n",
       " {'id': 40,\n",
       "  'name': 'Eliza Dushku',\n",
       "  'image_url': 'https://en.wikipedia.org/wiki/File:Eliza_Dushku_2,_2012.jpg',\n",
       "  'bio': 'Actress',\n",
       "  'type': 'guest',\n",
       "  'createdAt': '2017-11-08T00:38:47.096Z',\n",
       "  'updatedAt': '2017-11-08T00:38:47.096Z'},\n",
       " {'id': 41,\n",
       "  'name': 'Carmen Electra',\n",
       "  'image_url': 'https://upload.wikimedia.org/wikipedia/commons/thumb/b/bb/Carmen_Electra_2013.jpg/220px-Carmen_Electra_2013.jpg',\n",
       "  'bio': 'Actress',\n",
       "  'type': 'guest',\n",
       "  'createdAt': '2017-11-08T00:48:29.247Z',\n",
       "  'updatedAt': '2017-11-08T00:48:29.247Z'},\n",
       " {'id': 42,\n",
       "  'name': 'Fantasia Barrino',\n",
       "  'image_url': 'https://en.wikipedia.org/wiki/File:Fantasia_Barrino.jpg',\n",
       "  'bio': 'Singer, Actress, and Author',\n",
       "  'type': 'guest',\n",
       "  'createdAt': '2017-11-08T00:51:01.149Z',\n",
       "  'updatedAt': '2017-11-08T00:51:01.149Z'},\n",
       " {'id': 46,\n",
       "  'name': 'Debbie Matenopoulos',\n",
       "  'image_url': 'NULL',\n",
       "  'bio': 'Television Host',\n",
       "  'type': 'guest',\n",
       "  'createdAt': '2017-11-08T00:57:56.016Z',\n",
       "  'updatedAt': '2017-11-08T00:57:56.016Z'},\n",
       " {'id': 47,\n",
       "  'name': 'Wayne Brady',\n",
       "  'image_url': 'https://upload.wikimedia.org/wikipedia/commons/thumb/b/bb/Wayne_Brady_2015.jpg/220px-Wayne_Brady_2015.jpg',\n",
       "  'bio': 'Actor, Comedian, and Singer',\n",
       "  'type': 'guest',\n",
       "  'createdAt': '2017-11-08T00:59:02.441Z',\n",
       "  'updatedAt': '2017-11-08T00:59:02.441Z'},\n",
       " {'id': 48,\n",
       "  'name': 'Arden Myrin',\n",
       "  'image_url': 'https://en.wikipedia.org/wiki/File:Arden_V._Myrin.jpg',\n",
       "  'bio': 'Comedian, Former Cast Member of MADtv',\n",
       "  'type': 'guest',\n",
       "  'createdAt': '2017-11-08T01:00:27.594Z',\n",
       "  'updatedAt': '2017-11-08T01:00:27.594Z'},\n",
       " {'id': 49,\n",
       "  'name': 'Sharon Osbourne',\n",
       "  'image_url': 'https://en.wikipedia.org/wiki/File:Sharon_Osbourne_2,_2012.jpg',\n",
       "  'bio': 'Television Host and Reality Television Personality',\n",
       "  'type': 'guest',\n",
       "  'createdAt': '2017-11-08T01:02:03.123Z',\n",
       "  'updatedAt': '2017-11-08T01:02:03.123Z'},\n",
       " {'id': 50,\n",
       "  'name': 'Amber Rose',\n",
       "  'image_url': 'https://upload.wikimedia.org/wikipedia/commons/thumb/2/2c/Amber_Rose_-_2014_People_Magazine_Awards_%28cropped%29.jpg/220px-Amber_Rose_-_2014_People_Magazine_Awards_%28cropped%29.jpg',\n",
       "  'bio': 'Model',\n",
       "  'type': 'guest',\n",
       "  'createdAt': '2017-11-08T01:04:04.016Z',\n",
       "  'updatedAt': '2017-11-08T01:04:04.016Z'}]"
      ]
     },
     "execution_count": 7,
     "metadata": {},
     "output_type": "execute_result"
    }
   ],
   "source": [
    "# Return the first 50 records using the id param\n",
    "record_limit = {\"limit\": 47}\n",
    "\n",
    "rupaul_resp = requests.get(\"http://www.nokeynoshade.party/api/judges\", params=record_limit)\n",
    "print(\"status code:\", rupaul_resp.status_code)\n",
    "rupaul_resp.json()"
   ]
  },
  {
   "cell_type": "code",
   "execution_count": 8,
   "metadata": {},
   "outputs": [
    {
     "data": {
      "text/plain": [
       "['regular',\n",
       " 'guest',\n",
       " 'regular',\n",
       " 'guest',\n",
       " 'guest',\n",
       " 'guest',\n",
       " 'guest',\n",
       " 'guest',\n",
       " 'guest',\n",
       " 'guest',\n",
       " 'guest',\n",
       " 'guest',\n",
       " 'guest',\n",
       " 'guest',\n",
       " 'guest',\n",
       " 'guest',\n",
       " 'guest',\n",
       " 'guest',\n",
       " 'guest',\n",
       " 'guest',\n",
       " 'guest',\n",
       " 'guest',\n",
       " 'guest',\n",
       " 'guest',\n",
       " 'guest',\n",
       " 'guest',\n",
       " 'guest',\n",
       " 'guest',\n",
       " 'guest',\n",
       " 'guest',\n",
       " 'guest',\n",
       " 'guest',\n",
       " 'guest',\n",
       " 'guest',\n",
       " 'guest',\n",
       " 'guest',\n",
       " 'guest',\n",
       " 'interim',\n",
       " 'guest',\n",
       " 'guest',\n",
       " 'guest',\n",
       " 'guest',\n",
       " 'guest',\n",
       " 'guest',\n",
       " 'guest',\n",
       " 'guest',\n",
       " 'guest']"
      ]
     },
     "execution_count": 8,
     "metadata": {},
     "output_type": "execute_result"
    }
   ],
   "source": [
    "# List comprehension that gives the type and puts it into a list\n",
    "[judge[\"type\"] for judge in rupaul_resp.json()]"
   ]
  },
  {
   "cell_type": "code",
   "execution_count": 10,
   "metadata": {},
   "outputs": [
    {
     "data": {
      "text/plain": [
       "{'regular': 2, 'guest': 44, 'interim': 1}"
      ]
     },
     "execution_count": 10,
     "metadata": {},
     "output_type": "execute_result"
    }
   ],
   "source": [
    "# for item in rupaul_resp.json(): # Use json, b/c it is originally in byte code\n",
    "#     print(item[\"type\"])\n",
    "\n",
    "judge_count = dict(Counter([judge[\"type\"] for judge in rupaul_resp.json()]))  # [ expression for item in list if conditional ] - list comprehension\n",
    "judge_count"
   ]
  },
  {
   "cell_type": "markdown",
   "metadata": {},
   "source": [
    "### Web Scraping (15 Minutes)\n",
    "We want all of the **Music** books from [http://books.toscrape.com/](http://books.toscrape.com/).  Download the page of books in the *music* category and save it to the `book_resp` variable. Then use BeautifulSoup to convert each book on the page into a row in a Pandas dataframe.  The dataframe should consist of five columns:\n",
    "- FULL book title\n",
    "- book cover image link (relative is fine)\n",
    "- book cost (as a float or decimal, not a string)\n",
    "- inventory status (in stock?)\n",
    "- **BONUS** Star rating (if you choose not to include this, just fill the column with `NaN`s.\n",
    "\n",
    "The final result should be a dataframe of 13 rows (not counting header) and 5 columns (not counting index), named `book_df`.\n",
    "\n",
    "- Set the response to a variable named `book_resp`\n",
    "- Set the BeautifulSoup() object to a variable named `book_soup`\n",
    "- Set the final dataframe object to a variable named `book_df`"
   ]
  },
  {
   "cell_type": "code",
   "execution_count": null,
   "metadata": {},
   "outputs": [],
   "source": [
    "book_resp = requests.get(\"http://books.toscrape.com/catalogue/category/books/music_14/index.html\")\n",
    "book_soup = BeautifulSoup(book_resp.text, \"html.parser\")\n",
    "\n",
    "book_title = book_soup.find_all(\"h3\", title=\"\")  # Book title\n",
    "book_price = book_soup.find_all(\"div\", class_=\"product_price\") # Book price\n",
    "book_stock = book_soup.find_all(\"p\", class_=\"instock availability\")  # Book stock\n",
    "book_rating = book_soup.find_all(\"p\", class_=\"star-rating Five\")  # Book rating"
   ]
  },
  {
   "cell_type": "code",
   "execution_count": null,
   "metadata": {},
   "outputs": [],
   "source": [
    "# Creating a list to put into pandas DF\n",
    "book_info = [book_title, book_price, book_stock, book_rating]"
   ]
  },
  {
   "cell_type": "code",
   "execution_count": null,
   "metadata": {},
   "outputs": [],
   "source": [
    "book_df = pd.DataFrame(book_info).T\n",
    "book_df = book_df.rename(columns={0: \"title\", 1: \"price\", \n",
    "                                  2: \"availability\", 3: \"rating\"})\n",
    "book_df"
   ]
  },
  {
   "cell_type": "code",
   "execution_count": null,
   "metadata": {},
   "outputs": [],
   "source": [
    "all_title = []\n",
    "for x in range(1, 11):\n",
    "    new_url = f\"{book_soup}\"\n",
    "    quotes = book_soup.findAll(\"h3\", {\"title\": \"\"})\n",
    "    print(\"title\", quotes)\n",
    "    all_title.append(quotes)"
   ]
  },
  {
   "cell_type": "markdown",
   "metadata": {},
   "source": [
    "## Section 4: NoSQL (10 Minutes)\n",
    "\n",
    "#### Load data from `assets/grades.json` into Mongo \n",
    "\n",
    "(this code is written for you)"
   ]
  },
  {
   "cell_type": "code",
   "execution_count": null,
   "metadata": {},
   "outputs": [],
   "source": [
    "# you shouldn't need to edit this cell!\n",
    "db_name = \"mod2db\"\n",
    "\n",
    "with open('Mod2Assessment/Data/grades.jsonl') as f:\n",
    "    # loads() comes from the bson library\n",
    "    file_data = [loads(line) for line in f.readlines()]\n",
    "\n",
    "client = pymongo.MongoClient(\"mongodb://localhost:27017/\")\n",
    "client.drop_database(db_name)\n",
    "db = client[db_name]\n",
    "coll = db[\"testcoll\"]\n",
    "\n",
    "coll.insert_many(file_data)"
   ]
  },
  {
   "cell_type": "markdown",
   "metadata": {},
   "source": [
    "#### Answer all of the following questions by querying Mongo and manipulating the results in Python"
   ]
  },
  {
   "cell_type": "markdown",
   "metadata": {},
   "source": [
    "1. How many records are there total?"
   ]
  },
  {
   "cell_type": "code",
   "execution_count": null,
   "metadata": {},
   "outputs": [],
   "source": [
    "# Set `nosql_answer1` to your final answer\n",
    "nosql_answer1 = coll.count({\"student_id\"})"
   ]
  },
  {
   "cell_type": "markdown",
   "metadata": {},
   "source": [
    "2. How many students have taken the class with `class_id` = **29**?"
   ]
  },
  {
   "cell_type": "code",
   "execution_count": null,
   "metadata": {},
   "outputs": [],
   "source": [
    "# Set `nosql_answer2` to your final answer\n",
    "nosql_answer2 = coll.count({\"class_id\": \"29\"})"
   ]
  },
  {
   "cell_type": "markdown",
   "metadata": {},
   "source": [
    " "
   ]
  },
  {
   "cell_type": "markdown",
   "metadata": {},
   "source": [
    "**Super bonus question**: </br>For student **12** in class **23**, what grade did they get on their exam?"
   ]
  },
  {
   "cell_type": "code",
   "execution_count": null,
   "metadata": {},
   "outputs": [],
   "source": [
    "# Set `nosql_answer3` to your final answer\n",
    "nosql_answer3 = None"
   ]
  },
  {
   "cell_type": "markdown",
   "metadata": {},
   "source": [
    " "
   ]
  },
  {
   "cell_type": "code",
   "execution_count": null,
   "metadata": {},
   "outputs": [],
   "source": [
    "# for when you're done with this portion, this deletes the data we added.\n",
    "client.drop_database(\"mod2db\")"
   ]
  },
  {
   "cell_type": "markdown",
   "metadata": {},
   "source": [
    "## Assessment submission (2 Minutes)\n",
    "Please **save** your completed file (`mod2_assessment.ipynb`) and upload it using [this form](https://docs.google.com/forms/d/e/1FAIpQLSf1uGNuz4fyzVz5i3aFTxmMKvH50DEJiN5uRmNFghpmFzoi3g/viewform)"
   ]
  }
 ],
 "metadata": {
  "kernelspec": {
   "display_name": "Python 3",
   "language": "python",
   "name": "python3"
  },
  "language_info": {
   "codemirror_mode": {
    "name": "ipython",
    "version": 3
   },
   "file_extension": ".py",
   "mimetype": "text/x-python",
   "name": "python",
   "nbconvert_exporter": "python",
   "pygments_lexer": "ipython3",
   "version": "3.8.1"
  }
 },
 "nbformat": 4,
 "nbformat_minor": 4
}
