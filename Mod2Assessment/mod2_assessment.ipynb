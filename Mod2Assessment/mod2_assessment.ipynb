{
 "cells": [
  {
   "cell_type": "markdown",
   "metadata": {},
   "source": [
    "# Mod 2 Assessment"
   ]
  },
  {
   "cell_type": "markdown",
   "metadata": {},
   "source": [
    "### Congratulations on making it to your second assessment! Just a few reminders before you continue:\n",
    "- This should only take an hour, so be sure to manage your time effectively.\n",
    "- Read the instructions carefully for _specified variable names_.\n",
    "- Check your progress by running **`make tests`** in the terminal, </br>\n",
    "  OR **if you have a PC**, manually run these lines in the terminal:\n",
    "  - `jupyter nbconvert --to script mod2_assessment.ipynb`\n",
    "  - `python -m pytest --disable-pytest-warnings -v`"
   ]
  },
  {
   "cell_type": "markdown",
   "metadata": {},
   "source": [
    "If there is any confusion on a question, please ask for clarification from a coach. </br>Though we can't give you the answer, we can help clear up any misunderstandings and get you back on track."
   ]
  },
  {
   "cell_type": "code",
   "execution_count": 227,
   "metadata": {},
   "outputs": [],
   "source": [
    "# You'll need these imports to start.\n",
    "import pymongo\n",
    "from bson.json_util import loads\n",
    "from collections import Counter\n",
    "\n",
    "# put all of your additional imports here:\n",
    "import requests\n",
    "import sqlite3\n",
    "import json\n",
    "import pandas as pd\n",
    "from bs4 import BeautifulSoup"
   ]
  },
  {
   "cell_type": "markdown",
   "metadata": {},
   "source": [
    "## Section 1: SQL (20 Minutes)\n",
    "There is a sqlite3 database in `assets/books.db`. The SQL to create this is also in `assets/books.sql`; if you want to run it manually you can also import this using https://sqliteonline.com/, or run the SQL file directly.  Both have the same schema and data.\n",
    "\n",
    "The schema has three tables. You can explore the schema in the file posted above.  Please answer the following questions.\n",
    "\n",
    "Connect to the database using sqlite3. <br/>\n",
    "Assign `conn` to the sqlite3 connection <br/>\n",
    "Assign `cur`  to the connection's cursor object"
   ]
  },
  {
   "cell_type": "code",
   "execution_count": 228,
   "metadata": {},
   "outputs": [],
   "source": [
    "conn = sqlite3.connect(\"Mod2Assessment/Data/books.db\")\n",
    "cur = conn.cursor()"
   ]
  },
  {
   "cell_type": "markdown",
   "metadata": {},
   "source": [
    "#### Querying the DB: "
   ]
  },
  {
   "cell_type": "markdown",
   "metadata": {},
   "source": [
    "1. How many pages are in the book \"Nine Stories\"?"
   ]
  },
  {
   "cell_type": "code",
   "execution_count": 229,
   "metadata": {},
   "outputs": [],
   "source": [
    "# Assign `answer_1` to your final answer\n",
    "answer_1 = pd.read_sql_query(\"\"\"SELECT pages FROM book \n",
    "WHERE title LIKE \"Nine Stories\" \"\"\", conn)"
   ]
  },
  {
   "cell_type": "markdown",
   "metadata": {},
   "source": [
    "2. How many authors are from the USA?"
   ]
  },
  {
   "cell_type": "code",
   "execution_count": 230,
   "metadata": {},
   "outputs": [],
   "source": [
    "# Assign `answer_2` to your final answer\n",
    "answer_2 = pd.read_sql_query(\"\"\"\n",
    "SELECT COUNT(author_id) FROM author a2 \n",
    "WHERE country LIKE \"USA\" \"\"\", conn)"
   ]
  },
  {
   "cell_type": "markdown",
   "metadata": {},
   "source": [
    "3. How many authors does the book \"Professional ASP.NET 4.5 in C# and VB\" have?"
   ]
  },
  {
   "cell_type": "code",
   "execution_count": 231,
   "metadata": {},
   "outputs": [],
   "source": [
    "# Assign `answer_3` to your final answer\n",
    "answer_3 = pd.read_sql_query(\"\"\"\n",
    "SELECT COUNT(author_id) FROM book \n",
    "JOIN book_author ON book.book_id = book_author.book_id\n",
    "WHERE title LIKE \"Professional ASP.NET 4.5 in C# and VB\" \n",
    "\"\"\", conn)"
   ]
  },
  {
   "cell_type": "markdown",
   "metadata": {},
   "source": [
    "4. How many pages total have been written by non-American authors?"
   ]
  },
  {
   "cell_type": "code",
   "execution_count": 232,
   "metadata": {},
   "outputs": [],
   "source": [
    "# Assign `answer_4` to your final answer\n",
    "answer_4 = pd.read_sql_query(\"\"\"\n",
    "SELECT SUM(pages) FROM book \n",
    "JOIN author \n",
    "WHERE country NOT LIKE \"USA\"\n",
    "\"\"\", conn)"
   ]
  },
  {
   "cell_type": "markdown",
   "metadata": {},
   "source": [
    "## Section 2: Object Oriented Programming (10 Minutes)"
   ]
  },
  {
   "cell_type": "markdown",
   "metadata": {},
   "source": [
    "### Creating a Class\n",
    "1. Force every new instance of `WeWorkMember` to expect a value which is assigned to the `name` **attribute**.\n",
    "1. Give every new instance of `WeWorkMember` a `caffeinated` **attribute** that is set to `False`. \n",
    "1. Give `WeWorkMember` an **instance method** called `caffeinate()` that prints out \"Getting coffee!\" and sets the `caffeinated` attribute to `True`."
   ]
  },
  {
   "cell_type": "code",
   "execution_count": 233,
   "metadata": {},
   "outputs": [],
   "source": [
    "class WeWorkMember: \n",
    "    # Constructor with name instance variable and caffeinated variable\n",
    "    def __init__(self, name, caffeinated):\n",
    "        self.name = name\n",
    "        caffeinated = False\n",
    "        \n",
    "    def caffeinate(self):\n",
    "        print(\"Getting coffee!\")\n",
    "        self.caffeinated = True\n",
    "        \n",
    "        \n",
    "class WeWorkMember2:\n",
    "    # Class instance variables\n",
    "    name = \"\"    # name = input(\"Name: \")\n",
    "    caffeinated = False\n",
    "    \n",
    "    def caffeinate(self):\n",
    "        print(\"Getting coffee!\")\n",
    "        self.caffeinated = True"
   ]
  },
  {
   "cell_type": "code",
   "execution_count": 234,
   "metadata": {},
   "outputs": [],
   "source": [
    "john = WeWorkMember(\"John\", False)"
   ]
  },
  {
   "cell_type": "code",
   "execution_count": 235,
   "metadata": {},
   "outputs": [
    {
     "name": "stdout",
     "output_type": "stream",
     "text": [
      "Getting coffee!\n"
     ]
    }
   ],
   "source": [
    "john.caffeinate()"
   ]
  },
  {
   "cell_type": "markdown",
   "metadata": {},
   "source": [
    "### Inheriting from a Class\n",
    "\n",
    "1. Have `Staff` and `Student` inherit all methods from `WeWorkMember`\n",
    "1. Give `Staff` a **static method** called `cheer()` that prints out \"Goooooooo Flatiron Students!\"\n",
    "1. Give `Students` a **class method** called `learn()` that takes in an integer and returns that number +1"
   ]
  },
  {
   "cell_type": "code",
   "execution_count": 236,
   "metadata": {},
   "outputs": [],
   "source": [
    "class Staff(WeWorkMember):    \n",
    "    def cheer():\n",
    "        print(\"Goooooooo Flatiron Students!\")\n",
    "\n",
    "class Student(WeWorkMember):\n",
    "    # Class method, bound to the class and not the object of the class, able to modify a class state\n",
    "    @classmethod\n",
    "    def learn(cls, num):\n",
    "        return num + 1"
   ]
  },
  {
   "cell_type": "markdown",
   "metadata": {},
   "source": [
    "## Section 3: APIs & Web Scraping\n",
    "### APIs (10 Minutes)\n",
    "Using the API about RuPaul's Drag Race, tell me how many judges of each **`type`** there were in the **first 50 records** the API returns.\n",
    "\n",
    "API: http://www.nokeynoshade.party/api/judges </br>\n",
    "Docs: https://drag-race-api.readme.io/docs/get-all-judges\n",
    "\n",
    " - Assign `rupaul_resp` to the response of the API request.\n",
    " - Ensure the request only returns the first 50 records\n",
    "     - note the documentation shows parameters as uppercase, but they should be **lowercase**\n",
    "     - the judges will have **`id`** ranging from 1 to 53\n",
    " - Do the aggregation in pure Python, Pandas, or SQL -- whatever's easiest for you\n",
    " - Assign `judge_count` to a dictionary with the number of judges for each type"
   ]
  },
  {
   "cell_type": "code",
   "execution_count": 290,
   "metadata": {},
   "outputs": [
    {
     "name": "stdout",
     "output_type": "stream",
     "text": [
      "status code: 200\n"
     ]
    },
    {
     "data": {
      "text/plain": [
       "[{'id': 1,\n",
       "  'name': 'Rupaul',\n",
       "  'image_url': 'https://vignette.wikia.nocookie.net/logosrupaulsdragrace/images/b/ba/Rupaul_blackpink_final.jpg/revision/latest/scale-to-width-down/350?cb=20110731183922',\n",
       "  'bio': 'Drag performer, actor, television host, and recording artist',\n",
       "  'type': 'regular',\n",
       "  'createdAt': '2018-01-11T00:43:31.258Z',\n",
       "  'updatedAt': '2018-01-11T00:43:31.258Z'},\n",
       " {'id': 2,\n",
       "  'name': 'Bob Mackie',\n",
       "  'image_url': None,\n",
       "  'bio': 'Fashion Designer',\n",
       "  'type': 'guest',\n",
       "  'createdAt': '2017-08-22T00:27:40.731Z',\n",
       "  'updatedAt': '2017-08-22T00:27:40.731Z'},\n",
       " {'id': 3,\n",
       "  'name': 'Mike Ruiz',\n",
       "  'image_url': 'https://vignette3.wikia.nocookie.net/logosrupaulsdragrace/images/7/7c/Mike_Ruiz.jpg/revision/latest/scale-to-width-down/350?cb=20110731184513',\n",
       "  'bio': 'Photographer',\n",
       "  'type': 'regular',\n",
       "  'createdAt': '2017-08-22T00:46:35.279Z',\n",
       "  'updatedAt': '2017-08-22T00:46:35.279Z'},\n",
       " {'id': 4,\n",
       "  'name': 'Michelle Williams',\n",
       "  'image_url': 'https://upload.wikimedia.org/wikipedia/commons/thumb/a/a0/Michelle_Williams_2015.jpg/220px-Michelle_Williams_2015.jpg',\n",
       "  'bio': 'Singer',\n",
       "  'type': 'guest',\n",
       "  'createdAt': '2017-08-22T00:49:01.253Z',\n",
       "  'updatedAt': '2017-08-22T00:49:01.253Z'},\n",
       " {'id': 5,\n",
       "  'name': 'Frank Gatson, Jr.',\n",
       "  'image_url': None,\n",
       "  'bio': 'Choreographer and Director',\n",
       "  'type': 'guest',\n",
       "  'createdAt': '2017-08-22T00:51:15.898Z',\n",
       "  'updatedAt': '2017-08-22T00:51:15.898Z'},\n",
       " {'id': 6,\n",
       "  'name': 'Debra Wilson',\n",
       "  'image_url': 'https://upload.wikimedia.org/wikipedia/commons/thumb/6/66/Debra_Wilson_Skelton_2010.jpg/220px-Debra_Wilson_Skelton_2010.jpg',\n",
       "  'bio': 'Actress and Comedian',\n",
       "  'type': 'guest',\n",
       "  'createdAt': '2017-08-22T00:52:23.876Z',\n",
       "  'updatedAt': '2017-08-22T00:52:23.876Z'},\n",
       " {'id': 7,\n",
       "  'name': 'Howard Bragman',\n",
       "  'image_url': None,\n",
       "  'bio': 'Public Relations',\n",
       "  'type': 'guest',\n",
       "  'createdAt': '2017-08-22T00:53:06.547Z',\n",
       "  'updatedAt': '2017-08-22T00:53:06.547Z'},\n",
       " {'id': 8,\n",
       "  'name': 'Jenny Shimizu',\n",
       "  'image_url': 'https://upload.wikimedia.org/wikipedia/commons/thumb/9/9d/Jenny_Shimizu.jpg/175px-Jenny_Shimizu.jpg',\n",
       "  'bio': 'Model and Actress',\n",
       "  'type': 'guest',\n",
       "  'createdAt': '2017-08-22T00:55:31.608Z',\n",
       "  'updatedAt': '2017-08-22T00:55:31.608Z'},\n",
       " {'id': 9,\n",
       "  'name': 'Gordon Espinet',\n",
       "  'image_url': None,\n",
       "  'bio': 'Makeup Artistry, MAC Cosmetics',\n",
       "  'type': 'guest',\n",
       "  'createdAt': '2017-08-22T00:56:25.421Z',\n",
       "  'updatedAt': '2017-08-22T00:56:25.421Z'},\n",
       " {'id': 10,\n",
       "  'name': 'Lucy Lawless',\n",
       "  'image_url': 'https://upload.wikimedia.org/wikipedia/commons/thumb/1/14/Lucy_Lawless_by_Gage_Skidmore_2.jpg/220px-Lucy_Lawless_by_Gage_Skidmore_2.jpg',\n",
       "  'bio': 'Actress',\n",
       "  'type': 'guest',\n",
       "  'createdAt': '2017-08-22T00:57:39.975Z',\n",
       "  'updatedAt': '2017-08-22T00:57:39.975Z'},\n",
       " {'id': 11,\n",
       "  'name': 'Robin Antin',\n",
       "  'image_url': 'https://upload.wikimedia.org/wikipedia/commons/thumb/2/24/Robin_Antin.jpg/200px-Robin_Antin.jpg',\n",
       "  'bio': 'Singer',\n",
       "  'type': 'guest',\n",
       "  'createdAt': '2017-08-22T00:58:33.516Z',\n",
       "  'updatedAt': '2017-08-22T00:58:33.516Z'},\n",
       " {'id': 12,\n",
       "  'name': 'Jeffrey Moran',\n",
       "  'image_url': None,\n",
       "  'bio': 'Image Consultant',\n",
       "  'type': 'guest',\n",
       "  'createdAt': '2017-08-22T01:00:44.596Z',\n",
       "  'updatedAt': '2017-08-22T01:00:44.596Z'},\n",
       " {'id': 13,\n",
       "  'name': 'María Conchita Alonso',\n",
       "  'image_url': 'https://upload.wikimedia.org/wikipedia/commons/thumb/2/23/Maria_Conchita_Alonso_LA_Pride_2011.jpg/220px-Maria_Conchita_Alonso_LA_Pride_2011.jpg',\n",
       "  'bio': 'Singer/Songwriter and Actress',\n",
       "  'type': 'guest',\n",
       "  'createdAt': '2017-08-22T01:08:13.175Z',\n",
       "  'updatedAt': '2017-08-22T01:08:13.175Z'},\n",
       " {'id': 14,\n",
       "  'name': 'Kathy Griffin',\n",
       "  'image_url': 'https://upload.wikimedia.org/wikipedia/commons/thumb/8/8a/Kathy_Griffin_2015_TCA_Press_Tour_%28cropped%29.jpg/220px-Kathy_Griffin_2015_TCA_Press_Tour_%28cropped%29.jpg',\n",
       "  'bio': 'Actress, Comedian, Writer, Producer, and Television Host',\n",
       "  'type': 'guest',\n",
       "  'createdAt': '2017-08-22T01:11:10.176Z',\n",
       "  'updatedAt': '2017-08-22T01:11:10.176Z'},\n",
       " {'id': 15,\n",
       "  'name': 'Kim Coles',\n",
       "  'image_url': 'https://upload.wikimedia.org/wikipedia/commons/thumb/3/35/Kim_Coles.jpg/220px-Kim_Coles.jpg',\n",
       "  'bio': 'Actress, Comedian and Gameshow Host',\n",
       "  'type': 'guest',\n",
       "  'createdAt': '2017-08-22T01:13:00.823Z',\n",
       "  'updatedAt': '2017-08-22T01:13:00.823Z'},\n",
       " {'id': 16,\n",
       "  'name': 'Dita Von Teese',\n",
       "  'image_url': 'https://upload.wikimedia.org/wikipedia/commons/thumb/6/6f/Dita_Von_Teese_at_Cannes_2007.jpg/220px-Dita_Von_Teese_at_Cannes_2007.jpg',\n",
       "  'bio': 'Burlesque Dancer, Model, Costume Designer',\n",
       "  'type': 'guest',\n",
       "  'createdAt': '2017-08-22T01:14:23.109Z',\n",
       "  'updatedAt': '2017-08-22T01:14:23.109Z'},\n",
       " {'id': 17,\n",
       "  'name': 'Kathy Najimy',\n",
       "  'image_url': 'https://upload.wikimedia.org/wikipedia/commons/thumb/3/3c/Kathy_Najimy.jpg/220px-Kathy_Najimy.jpg',\n",
       "  'bio': 'Actress and Comedian',\n",
       "  'type': 'guest',\n",
       "  'createdAt': '2017-08-22T01:16:00.413Z',\n",
       "  'updatedAt': '2017-08-22T01:16:00.413Z'},\n",
       " {'id': 18,\n",
       "  'name': 'Tanya Tucker',\n",
       "  'image_url': 'https://upload.wikimedia.org/wikipedia/commons/thumb/7/77/Tanya_Tucker.png/250px-Tanya_Tucker.png',\n",
       "  'bio': 'Country Music Artist',\n",
       "  'type': 'guest',\n",
       "  'createdAt': '2017-08-22T01:18:00.077Z',\n",
       "  'updatedAt': '2017-08-22T01:18:00.077Z'},\n",
       " {'id': 19,\n",
       "  'name': 'Lisa Rinna',\n",
       "  'image_url': 'https://upload.wikimedia.org/wikipedia/commons/d/d2/Lisa_Rinna6crop.jpg',\n",
       "  'bio': 'Actress and Television Host',\n",
       "  'type': 'guest',\n",
       "  'createdAt': '2017-08-22T01:19:31.389Z',\n",
       "  'updatedAt': '2017-08-22T01:19:31.389Z'},\n",
       " {'id': 20,\n",
       "  'name': 'Niecy Nash',\n",
       "  'image_url': 'https://upload.wikimedia.org/wikipedia/commons/thumb/b/b7/Niecy_Nash_2010.jpg/220px-Niecy_Nash_2010.jpg',\n",
       "  'bio': 'Comedian, Model, Actress, and Producer',\n",
       "  'type': 'guest',\n",
       "  'createdAt': '2017-08-22T01:20:31.627Z',\n",
       "  'updatedAt': '2017-08-22T01:20:31.627Z'},\n",
       " {'id': 21,\n",
       "  'name': 'Mathu Andersen',\n",
       "  'image_url': 'https://vignette1.wikia.nocookie.net/logosrupaulsdragrace/images/9/95/Mathu_Andersen.jpeg/revision/latest/scale-to-width-down/350?cb=20160415221021',\n",
       "  'bio': 'Makeup Artist',\n",
       "  'type': 'guest',\n",
       "  'createdAt': '2017-10-18T00:51:16.710Z',\n",
       "  'updatedAt': '2017-10-18T00:51:16.710Z'},\n",
       " {'id': 22,\n",
       "  'name': 'Martha Wash',\n",
       "  'image_url': 'https://upload.wikimedia.org/wikipedia/commons/thumb/3/3e/Martha_Wash.jpg/220px-Martha_Wash.jpg',\n",
       "  'bio': 'Singer and Songwriter',\n",
       "  'type': 'guest',\n",
       "  'createdAt': '2017-10-18T00:55:22.512Z',\n",
       "  'updatedAt': '2017-10-18T00:55:22.512Z'},\n",
       " {'id': 23,\n",
       "  'name': 'Henry Rollins',\n",
       "  'image_url': 'https://upload.wikimedia.org/wikipedia/commons/thumb/e/e5/HenryRollins2010.jpg/250px-HenryRollins2010.jpg',\n",
       "  'bio': 'Musician',\n",
       "  'type': 'guest',\n",
       "  'createdAt': '2017-10-18T00:57:00.718Z',\n",
       "  'updatedAt': '2017-10-18T00:57:00.718Z'},\n",
       " {'id': 24,\n",
       "  'name': 'Terri Nunn',\n",
       "  'image_url': 'https://upload.wikimedia.org/wikipedia/commons/thumb/e/e9/Terri_Nunn_at_OpenWorld_crop.jpg/220px-Terri_Nunn_at_OpenWorld_crop.jpg',\n",
       "  'bio': 'Singer and Actress',\n",
       "  'type': 'guest',\n",
       "  'createdAt': '2017-10-18T00:58:58.414Z',\n",
       "  'updatedAt': '2017-10-18T00:58:58.414Z'},\n",
       " {'id': 25,\n",
       "  'name': 'Gigi Levangie Grazer',\n",
       "  'image_url': None,\n",
       "  'bio': 'Novelist, Screenwriter, and Producer',\n",
       "  'type': 'guest',\n",
       "  'createdAt': '2017-10-18T01:02:21.102Z',\n",
       "  'updatedAt': '2017-10-18T01:02:21.102Z'},\n",
       " {'id': 26,\n",
       "  'name': 'Jackie Collins',\n",
       "  'image_url': 'https://upload.wikimedia.org/wikipedia/commons/thumb/2/21/Jackie_Collins.jpg/220px-Jackie_Collins.jpg',\n",
       "  'bio': 'Romance Novelist',\n",
       "  'type': 'guest',\n",
       "  'createdAt': '2017-10-18T01:06:41.873Z',\n",
       "  'updatedAt': '2017-10-18T01:06:41.873Z'},\n",
       " {'id': 27,\n",
       "  'name': 'Debbie Reynolds',\n",
       "  'image_url': 'https://upload.wikimedia.org/wikipedia/commons/thumb/d/d5/Debbie_Reynolds_33.jpg/220px-Debbie_Reynolds_33.jpg',\n",
       "  'bio': 'Actress',\n",
       "  'type': 'guest',\n",
       "  'createdAt': '2017-10-18T01:08:14.200Z',\n",
       "  'updatedAt': '2017-10-18T01:08:14.200Z'},\n",
       " {'id': 28,\n",
       "  'name': 'Cloris Leachman',\n",
       "  'image_url': 'https://upload.wikimedia.org/wikipedia/commons/thumb/2/22/Cloris_Leachman_1970.JPG/220px-Cloris_Leachman_1970.JPG',\n",
       "  'bio': 'Actress',\n",
       "  'type': 'guest',\n",
       "  'createdAt': '2017-10-18T01:08:59.558Z',\n",
       "  'updatedAt': '2017-10-18T01:08:59.558Z'},\n",
       " {'id': 29,\n",
       "  'name': 'Toni Ko',\n",
       "  'image_url': None,\n",
       "  'bio': 'NYX Cosmetics Founder',\n",
       "  'type': 'guest',\n",
       "  'createdAt': '2017-10-18T01:10:07.021Z',\n",
       "  'updatedAt': '2017-10-18T01:10:07.021Z'},\n",
       " {'id': 30,\n",
       "  'name': \"Tatum O'Neal\",\n",
       "  'image_url': 'https://upload.wikimedia.org/wikipedia/commons/thumb/8/88/Tatum_O%27Neal_-_November_2014_%28cropped%29.jpg/220px-Tatum_O%27Neal_-_November_2014_%28cropped%29.jpg',\n",
       "  'bio': 'Actress and Author',\n",
       "  'type': 'guest',\n",
       "  'createdAt': '2017-10-18T01:10:58.088Z',\n",
       "  'updatedAt': '2017-10-18T01:10:58.088Z'},\n",
       " {'id': 31,\n",
       "  'name': 'Marissa Jaret Winokur',\n",
       "  'image_url': 'https://upload.wikimedia.org/wikipedia/commons/thumb/5/51/Marissa_Jaret_Winokur.jpg/220px-Marissa_Jaret_Winokur.jpg',\n",
       "  'bio': 'Actress',\n",
       "  'type': 'guest',\n",
       "  'createdAt': '2017-10-18T01:13:28.239Z',\n",
       "  'updatedAt': '2017-10-18T01:13:28.239Z'},\n",
       " {'id': 32,\n",
       "  'name': 'Bruce Vilanch',\n",
       "  'image_url': 'https://upload.wikimedia.org/wikipedia/commons/thumb/a/af/Brucevilanch.jpg/165px-Brucevilanch.jpg',\n",
       "  'bio': 'Comedy Writer, Songwriter, and Actor',\n",
       "  'type': 'guest',\n",
       "  'createdAt': '2017-10-18T01:18:15.861Z',\n",
       "  'updatedAt': '2017-10-18T01:18:15.861Z'},\n",
       " {'id': 33,\n",
       "  'name': 'Vanessa Williams',\n",
       "  'image_url': 'https://upload.wikimedia.org/wikipedia/commons/thumb/a/ae/VanessaWilliamsHWoFMar2012.jpg/220px-VanessaWilliamsHWoFMar2012.jpg',\n",
       "  'bio': 'Actress, Singer, and former Miss America',\n",
       "  'type': 'guest',\n",
       "  'createdAt': '2017-10-18T01:19:37.317Z',\n",
       "  'updatedAt': '2017-10-18T01:19:37.317Z'},\n",
       " {'id': 34,\n",
       "  'name': 'Lily Tomlin',\n",
       "  'image_url': 'https://upload.wikimedia.org/wikipedia/commons/thumb/6/63/Lily_Tomlin_2014.jpg/220px-Lily_Tomlin_2014.jpg',\n",
       "  'bio': 'Actress and Comedian',\n",
       "  'type': 'guest',\n",
       "  'createdAt': '2017-10-18T01:21:08.770Z',\n",
       "  'updatedAt': '2017-10-18T01:21:08.770Z'},\n",
       " {'id': 35,\n",
       "  'name': 'Alessandra Torresani',\n",
       "  'image_url': 'https://upload.wikimedia.org/wikipedia/commons/thumb/2/24/AlessandraTorresaniApr09.jpg/250px-AlessandraTorresaniApr09.jpg',\n",
       "  'bio': 'Actress',\n",
       "  'type': 'guest',\n",
       "  'createdAt': '2017-10-18T01:21:56.375Z',\n",
       "  'updatedAt': '2017-10-18T01:21:56.375Z'},\n",
       " {'id': 36,\n",
       "  'name': 'LaToya Jackson',\n",
       "  'image_url': 'https://upload.wikimedia.org/wikipedia/commons/thumb/a/ab/La_Toya_Jackson_cropped.jpg/220px-La_Toya_Jackson_cropped.jpg',\n",
       "  'bio': 'Singer',\n",
       "  'type': 'guest',\n",
       "  'createdAt': '2017-10-18T01:25:31.321Z',\n",
       "  'updatedAt': '2017-10-18T01:25:31.321Z'},\n",
       " {'id': 37,\n",
       "  'name': 'Susan Powter',\n",
       "  'image_url': None,\n",
       "  'bio': 'Motivational Speaker and Fitness Guru',\n",
       "  'type': 'guest',\n",
       "  'createdAt': '2017-10-18T01:26:35.090Z',\n",
       "  'updatedAt': '2017-10-18T01:26:35.090Z'},\n",
       " {'id': 38,\n",
       "  'name': 'Billy B',\n",
       "  'image_url': 'https://images-na.ssl-images-amazon.com/images/M/MV5BMTM1MjA0Njg1N15BMl5BanBnXkFtZTcwMDEwMzIzMQ@@._V1_.jpg',\n",
       "  'bio': 'Makeup Artist',\n",
       "  'type': 'interim',\n",
       "  'createdAt': '2017-11-08T00:33:47.079Z',\n",
       "  'updatedAt': '2017-11-08T00:33:47.079Z'},\n",
       " {'id': 39,\n",
       "  'name': 'Margaret Cho',\n",
       "  'image_url': 'https://en.wikipedia.org/wiki/File:Margaret_Cho,_2011_Cannes_(crop).png',\n",
       "  'bio': 'Actress and Comedian',\n",
       "  'type': 'guest',\n",
       "  'createdAt': '2017-11-08T00:36:51.418Z',\n",
       "  'updatedAt': '2017-11-08T00:36:51.418Z'},\n",
       " {'id': 40,\n",
       "  'name': 'Eliza Dushku',\n",
       "  'image_url': 'https://en.wikipedia.org/wiki/File:Eliza_Dushku_2,_2012.jpg',\n",
       "  'bio': 'Actress',\n",
       "  'type': 'guest',\n",
       "  'createdAt': '2017-11-08T00:38:47.096Z',\n",
       "  'updatedAt': '2017-11-08T00:38:47.096Z'},\n",
       " {'id': 41,\n",
       "  'name': 'Carmen Electra',\n",
       "  'image_url': 'https://upload.wikimedia.org/wikipedia/commons/thumb/b/bb/Carmen_Electra_2013.jpg/220px-Carmen_Electra_2013.jpg',\n",
       "  'bio': 'Actress',\n",
       "  'type': 'guest',\n",
       "  'createdAt': '2017-11-08T00:48:29.247Z',\n",
       "  'updatedAt': '2017-11-08T00:48:29.247Z'},\n",
       " {'id': 42,\n",
       "  'name': 'Fantasia Barrino',\n",
       "  'image_url': 'https://en.wikipedia.org/wiki/File:Fantasia_Barrino.jpg',\n",
       "  'bio': 'Singer, Actress, and Author',\n",
       "  'type': 'guest',\n",
       "  'createdAt': '2017-11-08T00:51:01.149Z',\n",
       "  'updatedAt': '2017-11-08T00:51:01.149Z'},\n",
       " {'id': 46,\n",
       "  'name': 'Debbie Matenopoulos',\n",
       "  'image_url': 'NULL',\n",
       "  'bio': 'Television Host',\n",
       "  'type': 'guest',\n",
       "  'createdAt': '2017-11-08T00:57:56.016Z',\n",
       "  'updatedAt': '2017-11-08T00:57:56.016Z'},\n",
       " {'id': 47,\n",
       "  'name': 'Wayne Brady',\n",
       "  'image_url': 'https://upload.wikimedia.org/wikipedia/commons/thumb/b/bb/Wayne_Brady_2015.jpg/220px-Wayne_Brady_2015.jpg',\n",
       "  'bio': 'Actor, Comedian, and Singer',\n",
       "  'type': 'guest',\n",
       "  'createdAt': '2017-11-08T00:59:02.441Z',\n",
       "  'updatedAt': '2017-11-08T00:59:02.441Z'},\n",
       " {'id': 48,\n",
       "  'name': 'Arden Myrin',\n",
       "  'image_url': 'https://en.wikipedia.org/wiki/File:Arden_V._Myrin.jpg',\n",
       "  'bio': 'Comedian, Former Cast Member of MADtv',\n",
       "  'type': 'guest',\n",
       "  'createdAt': '2017-11-08T01:00:27.594Z',\n",
       "  'updatedAt': '2017-11-08T01:00:27.594Z'},\n",
       " {'id': 49,\n",
       "  'name': 'Sharon Osbourne',\n",
       "  'image_url': 'https://en.wikipedia.org/wiki/File:Sharon_Osbourne_2,_2012.jpg',\n",
       "  'bio': 'Television Host and Reality Television Personality',\n",
       "  'type': 'guest',\n",
       "  'createdAt': '2017-11-08T01:02:03.123Z',\n",
       "  'updatedAt': '2017-11-08T01:02:03.123Z'},\n",
       " {'id': 50,\n",
       "  'name': 'Amber Rose',\n",
       "  'image_url': 'https://upload.wikimedia.org/wikipedia/commons/thumb/2/2c/Amber_Rose_-_2014_People_Magazine_Awards_%28cropped%29.jpg/220px-Amber_Rose_-_2014_People_Magazine_Awards_%28cropped%29.jpg',\n",
       "  'bio': 'Model',\n",
       "  'type': 'guest',\n",
       "  'createdAt': '2017-11-08T01:04:04.016Z',\n",
       "  'updatedAt': '2017-11-08T01:04:04.016Z'}]"
      ]
     },
     "execution_count": 290,
     "metadata": {},
     "output_type": "execute_result"
    }
   ],
   "source": [
    "# Return the first 50 records using the id param\n",
    "record_limit = {\"limit\": 47}\n",
    "\n",
    "rupaul_resp = requests.get(\"http://www.nokeynoshade.party/api/judges\", params=record_limit)\n",
    "print(\"status code:\", rupaul_resp.status_code)\n",
    "rupaul_resp.json()"
   ]
  },
  {
   "cell_type": "code",
   "execution_count": 315,
   "metadata": {},
   "outputs": [
    {
     "data": {
      "text/plain": [
       "['regular',\n",
       " 'guest',\n",
       " 'regular',\n",
       " 'guest',\n",
       " 'guest',\n",
       " 'guest',\n",
       " 'guest',\n",
       " 'guest',\n",
       " 'guest',\n",
       " 'guest',\n",
       " 'guest',\n",
       " 'guest',\n",
       " 'guest',\n",
       " 'guest',\n",
       " 'guest',\n",
       " 'guest',\n",
       " 'guest',\n",
       " 'guest',\n",
       " 'guest',\n",
       " 'guest',\n",
       " 'guest',\n",
       " 'guest',\n",
       " 'guest',\n",
       " 'guest',\n",
       " 'guest',\n",
       " 'guest',\n",
       " 'guest',\n",
       " 'guest',\n",
       " 'guest',\n",
       " 'guest',\n",
       " 'guest',\n",
       " 'guest',\n",
       " 'guest',\n",
       " 'guest',\n",
       " 'guest',\n",
       " 'guest',\n",
       " 'guest',\n",
       " 'interim',\n",
       " 'guest',\n",
       " 'guest',\n",
       " 'guest',\n",
       " 'guest',\n",
       " 'guest',\n",
       " 'guest',\n",
       " 'guest',\n",
       " 'guest',\n",
       " 'guest']"
      ]
     },
     "execution_count": 315,
     "metadata": {},
     "output_type": "execute_result"
    }
   ],
   "source": [
    "# List comprehension that gives the type and puts it into a list\n",
    "[judge[\"type\"] for judge in rupaul_resp.json()]"
   ]
  },
  {
   "cell_type": "code",
   "execution_count": 313,
   "metadata": {},
   "outputs": [
    {
     "data": {
      "text/plain": [
       "{'regular': 2, 'guest': 44, 'interim': 1}"
      ]
     },
     "execution_count": 313,
     "metadata": {},
     "output_type": "execute_result"
    }
   ],
   "source": [
    "# for item in rupaul_resp.json(): # Use json, b/c it is originally in byte code\n",
    "#     print(item[\"type\"])\n",
    "\n",
    "judge_count = dict(Counter([judge[\"type\"] for judge in rupaul_resp.json()]))  # [ expression for item in list if conditional ] - list comprehension\n",
    "judge_count"
   ]
  },
  {
   "cell_type": "markdown",
   "metadata": {},
   "source": [
    "### Web Scraping (15 Minutes)\n",
    "We want all of the **Music** books from [http://books.toscrape.com/](http://books.toscrape.com/).  Download the page of books in the *music* category and save it to the `book_resp` variable. Then use BeautifulSoup to convert each book on the page into a row in a Pandas dataframe.  The dataframe should consist of five columns:\n",
    "- FULL book title\n",
    "- book cover image link (relative is fine)\n",
    "- book cost (as a float or decimal, not a string)\n",
    "- inventory status (in stock?)\n",
    "- **BONUS** Star rating (if you choose not to include this, just fill the column with `NaN`s.\n",
    "\n",
    "The final result should be a dataframe of 13 rows (not counting header) and 5 columns (not counting index), named `book_df`.\n",
    "\n",
    "- Set the response to a variable named `book_resp`\n",
    "- Set the BeautifulSoup() object to a variable named `book_soup`\n",
    "- Set the final dataframe object to a variable named `book_df`"
   ]
  },
  {
   "cell_type": "code",
   "execution_count": 178,
   "metadata": {},
   "outputs": [],
   "source": [
    "book_resp = requests.get(\"http://books.toscrape.com/catalogue/category/books/music_14/index.html\")\n",
    "book_soup = BeautifulSoup(book_resp.text, \"html.parser\")\n",
    "\n",
    "book_title = book_soup.find_all(\"h3\", title=\"\")  # Book title\n",
    "book_price = book_soup.find_all(\"div\", class_=\"product_price\") # Book price\n",
    "book_stock = book_soup.find_all(\"p\", class_=\"instock availability\")  # Book stock\n",
    "book_rating = book_soup.find_all(\"p\", class_=\"star-rating Five\")  # Book rating"
   ]
  },
  {
   "cell_type": "code",
   "execution_count": 253,
   "metadata": {},
   "outputs": [],
   "source": [
    "# Creating a list to put into pandas DF\n",
    "book_info = [book_title, book_price, book_stock, book_rating]"
   ]
  },
  {
   "cell_type": "code",
   "execution_count": 254,
   "metadata": {},
   "outputs": [
    {
     "data": {
      "text/html": [
       "<div>\n",
       "<style scoped>\n",
       "    .dataframe tbody tr th:only-of-type {\n",
       "        vertical-align: middle;\n",
       "    }\n",
       "\n",
       "    .dataframe tbody tr th {\n",
       "        vertical-align: top;\n",
       "    }\n",
       "\n",
       "    .dataframe thead th {\n",
       "        text-align: right;\n",
       "    }\n",
       "</style>\n",
       "<table border=\"1\" class=\"dataframe\">\n",
       "  <thead>\n",
       "    <tr style=\"text-align: right;\">\n",
       "      <th></th>\n",
       "      <th>title</th>\n",
       "      <th>price</th>\n",
       "      <th>availability</th>\n",
       "      <th>rating</th>\n",
       "    </tr>\n",
       "  </thead>\n",
       "  <tbody>\n",
       "    <tr>\n",
       "      <th>0</th>\n",
       "      <td>[[Rip it Up and ...]]</td>\n",
       "      <td>[\\n, [Â£35.02], \\n, [\\n, [], \\n    \\n        I...</td>\n",
       "      <td>[\\n, [], \\n    \\n        In stock\\n    \\n]</td>\n",
       "      <td>[\\n, [], \\n, [], \\n, [], \\n, [], \\n, [], \\n]</td>\n",
       "    </tr>\n",
       "    <tr>\n",
       "      <th>1</th>\n",
       "      <td>[[Our Band Could Be ...]]</td>\n",
       "      <td>[\\n, [Â£57.25], \\n, [\\n, [], \\n    \\n        I...</td>\n",
       "      <td>[\\n, [], \\n    \\n        In stock\\n    \\n]</td>\n",
       "      <td>[\\n, [], \\n, [], \\n, [], \\n, [], \\n, [], \\n]</td>\n",
       "    </tr>\n",
       "    <tr>\n",
       "      <th>2</th>\n",
       "      <td>[[How Music Works]]</td>\n",
       "      <td>[\\n, [Â£37.32], \\n, [\\n, [], \\n    \\n        I...</td>\n",
       "      <td>[\\n, [], \\n    \\n        In stock\\n    \\n]</td>\n",
       "      <td>[\\n, [], \\n, [], \\n, [], \\n, [], \\n, [], \\n]</td>\n",
       "    </tr>\n",
       "    <tr>\n",
       "      <th>3</th>\n",
       "      <td>[[Love Is a Mix ...]]</td>\n",
       "      <td>[\\n, [Â£18.03], \\n, [\\n, [], \\n    \\n        I...</td>\n",
       "      <td>[\\n, [], \\n    \\n        In stock\\n    \\n]</td>\n",
       "      <td>[\\n, [], \\n, [], \\n, [], \\n, [], \\n, [], \\n]</td>\n",
       "    </tr>\n",
       "    <tr>\n",
       "      <th>4</th>\n",
       "      <td>[[Please Kill Me: The ...]]</td>\n",
       "      <td>[\\n, [Â£31.19], \\n, [\\n, [], \\n    \\n        I...</td>\n",
       "      <td>[\\n, [], \\n    \\n        In stock\\n    \\n]</td>\n",
       "      <td>None</td>\n",
       "    </tr>\n",
       "    <tr>\n",
       "      <th>5</th>\n",
       "      <td>[[Kill 'Em and Leave: ...]]</td>\n",
       "      <td>[\\n, [Â£45.05], \\n, [\\n, [], \\n    \\n        I...</td>\n",
       "      <td>[\\n, [], \\n    \\n        In stock\\n    \\n]</td>\n",
       "      <td>None</td>\n",
       "    </tr>\n",
       "    <tr>\n",
       "      <th>6</th>\n",
       "      <td>[[Chronicles, Vol. 1]]</td>\n",
       "      <td>[\\n, [Â£52.60], \\n, [\\n, [], \\n    \\n        I...</td>\n",
       "      <td>[\\n, [], \\n    \\n        In stock\\n    \\n]</td>\n",
       "      <td>None</td>\n",
       "    </tr>\n",
       "    <tr>\n",
       "      <th>7</th>\n",
       "      <td>[[This Is Your Brain ...]]</td>\n",
       "      <td>[\\n, [Â£38.40], \\n, [\\n, [], \\n    \\n        I...</td>\n",
       "      <td>[\\n, [], \\n    \\n        In stock\\n    \\n]</td>\n",
       "      <td>None</td>\n",
       "    </tr>\n",
       "    <tr>\n",
       "      <th>8</th>\n",
       "      <td>[[Orchestra of Exiles: The ...]]</td>\n",
       "      <td>[\\n, [Â£12.36], \\n, [\\n, [], \\n    \\n        I...</td>\n",
       "      <td>[\\n, [], \\n    \\n        In stock\\n    \\n]</td>\n",
       "      <td>None</td>\n",
       "    </tr>\n",
       "    <tr>\n",
       "      <th>9</th>\n",
       "      <td>[[No One Here Gets ...]]</td>\n",
       "      <td>[\\n, [Â£20.02], \\n, [\\n, [], \\n    \\n        I...</td>\n",
       "      <td>[\\n, [], \\n    \\n        In stock\\n    \\n]</td>\n",
       "      <td>None</td>\n",
       "    </tr>\n",
       "    <tr>\n",
       "      <th>10</th>\n",
       "      <td>[[Life]]</td>\n",
       "      <td>[\\n, [Â£31.58], \\n, [\\n, [], \\n    \\n        I...</td>\n",
       "      <td>[\\n, [], \\n    \\n        In stock\\n    \\n]</td>\n",
       "      <td>None</td>\n",
       "    </tr>\n",
       "    <tr>\n",
       "      <th>11</th>\n",
       "      <td>[[Old Records Never Die: ...]]</td>\n",
       "      <td>[\\n, [Â£55.66], \\n, [\\n, [], \\n    \\n        I...</td>\n",
       "      <td>[\\n, [], \\n    \\n        In stock\\n    \\n]</td>\n",
       "      <td>None</td>\n",
       "    </tr>\n",
       "    <tr>\n",
       "      <th>12</th>\n",
       "      <td>[[Forever Rockers (The Rocker ...]]</td>\n",
       "      <td>[\\n, [Â£28.80], \\n, [\\n, [], \\n    \\n        I...</td>\n",
       "      <td>[\\n, [], \\n    \\n        In stock\\n    \\n]</td>\n",
       "      <td>None</td>\n",
       "    </tr>\n",
       "  </tbody>\n",
       "</table>\n",
       "</div>"
      ],
      "text/plain": [
       "                                  title  \\\n",
       "0                 [[Rip it Up and ...]]   \n",
       "1             [[Our Band Could Be ...]]   \n",
       "2                   [[How Music Works]]   \n",
       "3                 [[Love Is a Mix ...]]   \n",
       "4           [[Please Kill Me: The ...]]   \n",
       "5           [[Kill 'Em and Leave: ...]]   \n",
       "6                [[Chronicles, Vol. 1]]   \n",
       "7            [[This Is Your Brain ...]]   \n",
       "8      [[Orchestra of Exiles: The ...]]   \n",
       "9              [[No One Here Gets ...]]   \n",
       "10                             [[Life]]   \n",
       "11       [[Old Records Never Die: ...]]   \n",
       "12  [[Forever Rockers (The Rocker ...]]   \n",
       "\n",
       "                                                price  \\\n",
       "0   [\\n, [Â£35.02], \\n, [\\n, [], \\n    \\n        I...   \n",
       "1   [\\n, [Â£57.25], \\n, [\\n, [], \\n    \\n        I...   \n",
       "2   [\\n, [Â£37.32], \\n, [\\n, [], \\n    \\n        I...   \n",
       "3   [\\n, [Â£18.03], \\n, [\\n, [], \\n    \\n        I...   \n",
       "4   [\\n, [Â£31.19], \\n, [\\n, [], \\n    \\n        I...   \n",
       "5   [\\n, [Â£45.05], \\n, [\\n, [], \\n    \\n        I...   \n",
       "6   [\\n, [Â£52.60], \\n, [\\n, [], \\n    \\n        I...   \n",
       "7   [\\n, [Â£38.40], \\n, [\\n, [], \\n    \\n        I...   \n",
       "8   [\\n, [Â£12.36], \\n, [\\n, [], \\n    \\n        I...   \n",
       "9   [\\n, [Â£20.02], \\n, [\\n, [], \\n    \\n        I...   \n",
       "10  [\\n, [Â£31.58], \\n, [\\n, [], \\n    \\n        I...   \n",
       "11  [\\n, [Â£55.66], \\n, [\\n, [], \\n    \\n        I...   \n",
       "12  [\\n, [Â£28.80], \\n, [\\n, [], \\n    \\n        I...   \n",
       "\n",
       "                                  availability  \\\n",
       "0   [\\n, [], \\n    \\n        In stock\\n    \\n]   \n",
       "1   [\\n, [], \\n    \\n        In stock\\n    \\n]   \n",
       "2   [\\n, [], \\n    \\n        In stock\\n    \\n]   \n",
       "3   [\\n, [], \\n    \\n        In stock\\n    \\n]   \n",
       "4   [\\n, [], \\n    \\n        In stock\\n    \\n]   \n",
       "5   [\\n, [], \\n    \\n        In stock\\n    \\n]   \n",
       "6   [\\n, [], \\n    \\n        In stock\\n    \\n]   \n",
       "7   [\\n, [], \\n    \\n        In stock\\n    \\n]   \n",
       "8   [\\n, [], \\n    \\n        In stock\\n    \\n]   \n",
       "9   [\\n, [], \\n    \\n        In stock\\n    \\n]   \n",
       "10  [\\n, [], \\n    \\n        In stock\\n    \\n]   \n",
       "11  [\\n, [], \\n    \\n        In stock\\n    \\n]   \n",
       "12  [\\n, [], \\n    \\n        In stock\\n    \\n]   \n",
       "\n",
       "                                          rating  \n",
       "0   [\\n, [], \\n, [], \\n, [], \\n, [], \\n, [], \\n]  \n",
       "1   [\\n, [], \\n, [], \\n, [], \\n, [], \\n, [], \\n]  \n",
       "2   [\\n, [], \\n, [], \\n, [], \\n, [], \\n, [], \\n]  \n",
       "3   [\\n, [], \\n, [], \\n, [], \\n, [], \\n, [], \\n]  \n",
       "4                                           None  \n",
       "5                                           None  \n",
       "6                                           None  \n",
       "7                                           None  \n",
       "8                                           None  \n",
       "9                                           None  \n",
       "10                                          None  \n",
       "11                                          None  \n",
       "12                                          None  "
      ]
     },
     "execution_count": 254,
     "metadata": {},
     "output_type": "execute_result"
    }
   ],
   "source": [
    "book_df = pd.DataFrame(book_info).T\n",
    "book_df = book_df.rename(columns={0: \"title\", 1: \"price\", \n",
    "                                  2: \"availability\", 3: \"rating\"})\n",
    "book_df"
   ]
  },
  {
   "cell_type": "code",
   "execution_count": 146,
   "metadata": {},
   "outputs": [
    {
     "name": "stdout",
     "output_type": "stream",
     "text": [
      "title [<h3><a href=\"../../../rip-it-up-and-start-again_986/index.html\" title=\"Rip it Up and Start Again\">Rip it Up and ...</a></h3>, <h3><a href=\"../../../our-band-could-be-your-life-scenes-from-the-american-indie-underground-1981-1991_985/index.html\" title=\"Our Band Could Be Your Life: Scenes from the American Indie Underground, 1981-1991\">Our Band Could Be ...</a></h3>, <h3><a href=\"../../../how-music-works_979/index.html\" title=\"How Music Works\">How Music Works</a></h3>, <h3><a href=\"../../../love-is-a-mix-tape-music-1_711/index.html\" title=\"Love Is a Mix Tape (Music #1)\">Love Is a Mix ...</a></h3>, <h3><a href=\"../../../please-kill-me-the-uncensored-oral-history-of-punk_537/index.html\" title=\"Please Kill Me: The Uncensored Oral History of Punk\">Please Kill Me: The ...</a></h3>, <h3><a href=\"../../../kill-em-and-leave-searching-for-james-brown-and-the-american-soul_528/index.html\" title=\"Kill 'Em and Leave: Searching for James Brown and the American Soul\">Kill 'Em and Leave: ...</a></h3>, <h3><a href=\"../../../chronicles-vol-1_462/index.html\" title=\"Chronicles, Vol. 1\">Chronicles, Vol. 1</a></h3>, <h3><a href=\"../../../this-is-your-brain-on-music-the-science-of-a-human-obsession_414/index.html\" title=\"This Is Your Brain on Music: The Science of a Human Obsession\">This Is Your Brain ...</a></h3>, <h3><a href=\"../../../orchestra-of-exiles-the-story-of-bronislaw-huberman-the-israel-philharmonic-and-the-one-thousand-jews-he-saved-from-nazi-horrors_337/index.html\" title=\"Orchestra of Exiles: The Story of Bronislaw Huberman, the Israel Philharmonic, and the One Thousand Jews He Saved from Nazi Horrors\">Orchestra of Exiles: The ...</a></h3>, <h3><a href=\"../../../no-one-here-gets-out-alive_336/index.html\" title=\"No One Here Gets Out Alive\">No One Here Gets ...</a></h3>, <h3><a href=\"../../../life_104/index.html\" title=\"Life\">Life</a></h3>, <h3><a href=\"../../../old-records-never-die-one-mans-quest-for-his-vinyl-and-his-past_39/index.html\" title=\"Old Records Never Die: One Man's Quest for His Vinyl and His Past\">Old Records Never Die: ...</a></h3>, <h3><a href=\"../../../forever-rockers-the-rocker-12_19/index.html\" title=\"Forever Rockers (The Rocker #12)\">Forever Rockers (The Rocker ...</a></h3>]\n",
      "title [<h3><a href=\"../../../rip-it-up-and-start-again_986/index.html\" title=\"Rip it Up and Start Again\">Rip it Up and ...</a></h3>, <h3><a href=\"../../../our-band-could-be-your-life-scenes-from-the-american-indie-underground-1981-1991_985/index.html\" title=\"Our Band Could Be Your Life: Scenes from the American Indie Underground, 1981-1991\">Our Band Could Be ...</a></h3>, <h3><a href=\"../../../how-music-works_979/index.html\" title=\"How Music Works\">How Music Works</a></h3>, <h3><a href=\"../../../love-is-a-mix-tape-music-1_711/index.html\" title=\"Love Is a Mix Tape (Music #1)\">Love Is a Mix ...</a></h3>, <h3><a href=\"../../../please-kill-me-the-uncensored-oral-history-of-punk_537/index.html\" title=\"Please Kill Me: The Uncensored Oral History of Punk\">Please Kill Me: The ...</a></h3>, <h3><a href=\"../../../kill-em-and-leave-searching-for-james-brown-and-the-american-soul_528/index.html\" title=\"Kill 'Em and Leave: Searching for James Brown and the American Soul\">Kill 'Em and Leave: ...</a></h3>, <h3><a href=\"../../../chronicles-vol-1_462/index.html\" title=\"Chronicles, Vol. 1\">Chronicles, Vol. 1</a></h3>, <h3><a href=\"../../../this-is-your-brain-on-music-the-science-of-a-human-obsession_414/index.html\" title=\"This Is Your Brain on Music: The Science of a Human Obsession\">This Is Your Brain ...</a></h3>, <h3><a href=\"../../../orchestra-of-exiles-the-story-of-bronislaw-huberman-the-israel-philharmonic-and-the-one-thousand-jews-he-saved-from-nazi-horrors_337/index.html\" title=\"Orchestra of Exiles: The Story of Bronislaw Huberman, the Israel Philharmonic, and the One Thousand Jews He Saved from Nazi Horrors\">Orchestra of Exiles: The ...</a></h3>, <h3><a href=\"../../../no-one-here-gets-out-alive_336/index.html\" title=\"No One Here Gets Out Alive\">No One Here Gets ...</a></h3>, <h3><a href=\"../../../life_104/index.html\" title=\"Life\">Life</a></h3>, <h3><a href=\"../../../old-records-never-die-one-mans-quest-for-his-vinyl-and-his-past_39/index.html\" title=\"Old Records Never Die: One Man's Quest for His Vinyl and His Past\">Old Records Never Die: ...</a></h3>, <h3><a href=\"../../../forever-rockers-the-rocker-12_19/index.html\" title=\"Forever Rockers (The Rocker #12)\">Forever Rockers (The Rocker ...</a></h3>]\n",
      "title [<h3><a href=\"../../../rip-it-up-and-start-again_986/index.html\" title=\"Rip it Up and Start Again\">Rip it Up and ...</a></h3>, <h3><a href=\"../../../our-band-could-be-your-life-scenes-from-the-american-indie-underground-1981-1991_985/index.html\" title=\"Our Band Could Be Your Life: Scenes from the American Indie Underground, 1981-1991\">Our Band Could Be ...</a></h3>, <h3><a href=\"../../../how-music-works_979/index.html\" title=\"How Music Works\">How Music Works</a></h3>, <h3><a href=\"../../../love-is-a-mix-tape-music-1_711/index.html\" title=\"Love Is a Mix Tape (Music #1)\">Love Is a Mix ...</a></h3>, <h3><a href=\"../../../please-kill-me-the-uncensored-oral-history-of-punk_537/index.html\" title=\"Please Kill Me: The Uncensored Oral History of Punk\">Please Kill Me: The ...</a></h3>, <h3><a href=\"../../../kill-em-and-leave-searching-for-james-brown-and-the-american-soul_528/index.html\" title=\"Kill 'Em and Leave: Searching for James Brown and the American Soul\">Kill 'Em and Leave: ...</a></h3>, <h3><a href=\"../../../chronicles-vol-1_462/index.html\" title=\"Chronicles, Vol. 1\">Chronicles, Vol. 1</a></h3>, <h3><a href=\"../../../this-is-your-brain-on-music-the-science-of-a-human-obsession_414/index.html\" title=\"This Is Your Brain on Music: The Science of a Human Obsession\">This Is Your Brain ...</a></h3>, <h3><a href=\"../../../orchestra-of-exiles-the-story-of-bronislaw-huberman-the-israel-philharmonic-and-the-one-thousand-jews-he-saved-from-nazi-horrors_337/index.html\" title=\"Orchestra of Exiles: The Story of Bronislaw Huberman, the Israel Philharmonic, and the One Thousand Jews He Saved from Nazi Horrors\">Orchestra of Exiles: The ...</a></h3>, <h3><a href=\"../../../no-one-here-gets-out-alive_336/index.html\" title=\"No One Here Gets Out Alive\">No One Here Gets ...</a></h3>, <h3><a href=\"../../../life_104/index.html\" title=\"Life\">Life</a></h3>, <h3><a href=\"../../../old-records-never-die-one-mans-quest-for-his-vinyl-and-his-past_39/index.html\" title=\"Old Records Never Die: One Man's Quest for His Vinyl and His Past\">Old Records Never Die: ...</a></h3>, <h3><a href=\"../../../forever-rockers-the-rocker-12_19/index.html\" title=\"Forever Rockers (The Rocker #12)\">Forever Rockers (The Rocker ...</a></h3>]\n",
      "title [<h3><a href=\"../../../rip-it-up-and-start-again_986/index.html\" title=\"Rip it Up and Start Again\">Rip it Up and ...</a></h3>, <h3><a href=\"../../../our-band-could-be-your-life-scenes-from-the-american-indie-underground-1981-1991_985/index.html\" title=\"Our Band Could Be Your Life: Scenes from the American Indie Underground, 1981-1991\">Our Band Could Be ...</a></h3>, <h3><a href=\"../../../how-music-works_979/index.html\" title=\"How Music Works\">How Music Works</a></h3>, <h3><a href=\"../../../love-is-a-mix-tape-music-1_711/index.html\" title=\"Love Is a Mix Tape (Music #1)\">Love Is a Mix ...</a></h3>, <h3><a href=\"../../../please-kill-me-the-uncensored-oral-history-of-punk_537/index.html\" title=\"Please Kill Me: The Uncensored Oral History of Punk\">Please Kill Me: The ...</a></h3>, <h3><a href=\"../../../kill-em-and-leave-searching-for-james-brown-and-the-american-soul_528/index.html\" title=\"Kill 'Em and Leave: Searching for James Brown and the American Soul\">Kill 'Em and Leave: ...</a></h3>, <h3><a href=\"../../../chronicles-vol-1_462/index.html\" title=\"Chronicles, Vol. 1\">Chronicles, Vol. 1</a></h3>, <h3><a href=\"../../../this-is-your-brain-on-music-the-science-of-a-human-obsession_414/index.html\" title=\"This Is Your Brain on Music: The Science of a Human Obsession\">This Is Your Brain ...</a></h3>, <h3><a href=\"../../../orchestra-of-exiles-the-story-of-bronislaw-huberman-the-israel-philharmonic-and-the-one-thousand-jews-he-saved-from-nazi-horrors_337/index.html\" title=\"Orchestra of Exiles: The Story of Bronislaw Huberman, the Israel Philharmonic, and the One Thousand Jews He Saved from Nazi Horrors\">Orchestra of Exiles: The ...</a></h3>, <h3><a href=\"../../../no-one-here-gets-out-alive_336/index.html\" title=\"No One Here Gets Out Alive\">No One Here Gets ...</a></h3>, <h3><a href=\"../../../life_104/index.html\" title=\"Life\">Life</a></h3>, <h3><a href=\"../../../old-records-never-die-one-mans-quest-for-his-vinyl-and-his-past_39/index.html\" title=\"Old Records Never Die: One Man's Quest for His Vinyl and His Past\">Old Records Never Die: ...</a></h3>, <h3><a href=\"../../../forever-rockers-the-rocker-12_19/index.html\" title=\"Forever Rockers (The Rocker #12)\">Forever Rockers (The Rocker ...</a></h3>]\n",
      "title [<h3><a href=\"../../../rip-it-up-and-start-again_986/index.html\" title=\"Rip it Up and Start Again\">Rip it Up and ...</a></h3>, <h3><a href=\"../../../our-band-could-be-your-life-scenes-from-the-american-indie-underground-1981-1991_985/index.html\" title=\"Our Band Could Be Your Life: Scenes from the American Indie Underground, 1981-1991\">Our Band Could Be ...</a></h3>, <h3><a href=\"../../../how-music-works_979/index.html\" title=\"How Music Works\">How Music Works</a></h3>, <h3><a href=\"../../../love-is-a-mix-tape-music-1_711/index.html\" title=\"Love Is a Mix Tape (Music #1)\">Love Is a Mix ...</a></h3>, <h3><a href=\"../../../please-kill-me-the-uncensored-oral-history-of-punk_537/index.html\" title=\"Please Kill Me: The Uncensored Oral History of Punk\">Please Kill Me: The ...</a></h3>, <h3><a href=\"../../../kill-em-and-leave-searching-for-james-brown-and-the-american-soul_528/index.html\" title=\"Kill 'Em and Leave: Searching for James Brown and the American Soul\">Kill 'Em and Leave: ...</a></h3>, <h3><a href=\"../../../chronicles-vol-1_462/index.html\" title=\"Chronicles, Vol. 1\">Chronicles, Vol. 1</a></h3>, <h3><a href=\"../../../this-is-your-brain-on-music-the-science-of-a-human-obsession_414/index.html\" title=\"This Is Your Brain on Music: The Science of a Human Obsession\">This Is Your Brain ...</a></h3>, <h3><a href=\"../../../orchestra-of-exiles-the-story-of-bronislaw-huberman-the-israel-philharmonic-and-the-one-thousand-jews-he-saved-from-nazi-horrors_337/index.html\" title=\"Orchestra of Exiles: The Story of Bronislaw Huberman, the Israel Philharmonic, and the One Thousand Jews He Saved from Nazi Horrors\">Orchestra of Exiles: The ...</a></h3>, <h3><a href=\"../../../no-one-here-gets-out-alive_336/index.html\" title=\"No One Here Gets Out Alive\">No One Here Gets ...</a></h3>, <h3><a href=\"../../../life_104/index.html\" title=\"Life\">Life</a></h3>, <h3><a href=\"../../../old-records-never-die-one-mans-quest-for-his-vinyl-and-his-past_39/index.html\" title=\"Old Records Never Die: One Man's Quest for His Vinyl and His Past\">Old Records Never Die: ...</a></h3>, <h3><a href=\"../../../forever-rockers-the-rocker-12_19/index.html\" title=\"Forever Rockers (The Rocker #12)\">Forever Rockers (The Rocker ...</a></h3>]\n",
      "title [<h3><a href=\"../../../rip-it-up-and-start-again_986/index.html\" title=\"Rip it Up and Start Again\">Rip it Up and ...</a></h3>, <h3><a href=\"../../../our-band-could-be-your-life-scenes-from-the-american-indie-underground-1981-1991_985/index.html\" title=\"Our Band Could Be Your Life: Scenes from the American Indie Underground, 1981-1991\">Our Band Could Be ...</a></h3>, <h3><a href=\"../../../how-music-works_979/index.html\" title=\"How Music Works\">How Music Works</a></h3>, <h3><a href=\"../../../love-is-a-mix-tape-music-1_711/index.html\" title=\"Love Is a Mix Tape (Music #1)\">Love Is a Mix ...</a></h3>, <h3><a href=\"../../../please-kill-me-the-uncensored-oral-history-of-punk_537/index.html\" title=\"Please Kill Me: The Uncensored Oral History of Punk\">Please Kill Me: The ...</a></h3>, <h3><a href=\"../../../kill-em-and-leave-searching-for-james-brown-and-the-american-soul_528/index.html\" title=\"Kill 'Em and Leave: Searching for James Brown and the American Soul\">Kill 'Em and Leave: ...</a></h3>, <h3><a href=\"../../../chronicles-vol-1_462/index.html\" title=\"Chronicles, Vol. 1\">Chronicles, Vol. 1</a></h3>, <h3><a href=\"../../../this-is-your-brain-on-music-the-science-of-a-human-obsession_414/index.html\" title=\"This Is Your Brain on Music: The Science of a Human Obsession\">This Is Your Brain ...</a></h3>, <h3><a href=\"../../../orchestra-of-exiles-the-story-of-bronislaw-huberman-the-israel-philharmonic-and-the-one-thousand-jews-he-saved-from-nazi-horrors_337/index.html\" title=\"Orchestra of Exiles: The Story of Bronislaw Huberman, the Israel Philharmonic, and the One Thousand Jews He Saved from Nazi Horrors\">Orchestra of Exiles: The ...</a></h3>, <h3><a href=\"../../../no-one-here-gets-out-alive_336/index.html\" title=\"No One Here Gets Out Alive\">No One Here Gets ...</a></h3>, <h3><a href=\"../../../life_104/index.html\" title=\"Life\">Life</a></h3>, <h3><a href=\"../../../old-records-never-die-one-mans-quest-for-his-vinyl-and-his-past_39/index.html\" title=\"Old Records Never Die: One Man's Quest for His Vinyl and His Past\">Old Records Never Die: ...</a></h3>, <h3><a href=\"../../../forever-rockers-the-rocker-12_19/index.html\" title=\"Forever Rockers (The Rocker #12)\">Forever Rockers (The Rocker ...</a></h3>]\n",
      "title [<h3><a href=\"../../../rip-it-up-and-start-again_986/index.html\" title=\"Rip it Up and Start Again\">Rip it Up and ...</a></h3>, <h3><a href=\"../../../our-band-could-be-your-life-scenes-from-the-american-indie-underground-1981-1991_985/index.html\" title=\"Our Band Could Be Your Life: Scenes from the American Indie Underground, 1981-1991\">Our Band Could Be ...</a></h3>, <h3><a href=\"../../../how-music-works_979/index.html\" title=\"How Music Works\">How Music Works</a></h3>, <h3><a href=\"../../../love-is-a-mix-tape-music-1_711/index.html\" title=\"Love Is a Mix Tape (Music #1)\">Love Is a Mix ...</a></h3>, <h3><a href=\"../../../please-kill-me-the-uncensored-oral-history-of-punk_537/index.html\" title=\"Please Kill Me: The Uncensored Oral History of Punk\">Please Kill Me: The ...</a></h3>, <h3><a href=\"../../../kill-em-and-leave-searching-for-james-brown-and-the-american-soul_528/index.html\" title=\"Kill 'Em and Leave: Searching for James Brown and the American Soul\">Kill 'Em and Leave: ...</a></h3>, <h3><a href=\"../../../chronicles-vol-1_462/index.html\" title=\"Chronicles, Vol. 1\">Chronicles, Vol. 1</a></h3>, <h3><a href=\"../../../this-is-your-brain-on-music-the-science-of-a-human-obsession_414/index.html\" title=\"This Is Your Brain on Music: The Science of a Human Obsession\">This Is Your Brain ...</a></h3>, <h3><a href=\"../../../orchestra-of-exiles-the-story-of-bronislaw-huberman-the-israel-philharmonic-and-the-one-thousand-jews-he-saved-from-nazi-horrors_337/index.html\" title=\"Orchestra of Exiles: The Story of Bronislaw Huberman, the Israel Philharmonic, and the One Thousand Jews He Saved from Nazi Horrors\">Orchestra of Exiles: The ...</a></h3>, <h3><a href=\"../../../no-one-here-gets-out-alive_336/index.html\" title=\"No One Here Gets Out Alive\">No One Here Gets ...</a></h3>, <h3><a href=\"../../../life_104/index.html\" title=\"Life\">Life</a></h3>, <h3><a href=\"../../../old-records-never-die-one-mans-quest-for-his-vinyl-and-his-past_39/index.html\" title=\"Old Records Never Die: One Man's Quest for His Vinyl and His Past\">Old Records Never Die: ...</a></h3>, <h3><a href=\"../../../forever-rockers-the-rocker-12_19/index.html\" title=\"Forever Rockers (The Rocker #12)\">Forever Rockers (The Rocker ...</a></h3>]\n",
      "title [<h3><a href=\"../../../rip-it-up-and-start-again_986/index.html\" title=\"Rip it Up and Start Again\">Rip it Up and ...</a></h3>, <h3><a href=\"../../../our-band-could-be-your-life-scenes-from-the-american-indie-underground-1981-1991_985/index.html\" title=\"Our Band Could Be Your Life: Scenes from the American Indie Underground, 1981-1991\">Our Band Could Be ...</a></h3>, <h3><a href=\"../../../how-music-works_979/index.html\" title=\"How Music Works\">How Music Works</a></h3>, <h3><a href=\"../../../love-is-a-mix-tape-music-1_711/index.html\" title=\"Love Is a Mix Tape (Music #1)\">Love Is a Mix ...</a></h3>, <h3><a href=\"../../../please-kill-me-the-uncensored-oral-history-of-punk_537/index.html\" title=\"Please Kill Me: The Uncensored Oral History of Punk\">Please Kill Me: The ...</a></h3>, <h3><a href=\"../../../kill-em-and-leave-searching-for-james-brown-and-the-american-soul_528/index.html\" title=\"Kill 'Em and Leave: Searching for James Brown and the American Soul\">Kill 'Em and Leave: ...</a></h3>, <h3><a href=\"../../../chronicles-vol-1_462/index.html\" title=\"Chronicles, Vol. 1\">Chronicles, Vol. 1</a></h3>, <h3><a href=\"../../../this-is-your-brain-on-music-the-science-of-a-human-obsession_414/index.html\" title=\"This Is Your Brain on Music: The Science of a Human Obsession\">This Is Your Brain ...</a></h3>, <h3><a href=\"../../../orchestra-of-exiles-the-story-of-bronislaw-huberman-the-israel-philharmonic-and-the-one-thousand-jews-he-saved-from-nazi-horrors_337/index.html\" title=\"Orchestra of Exiles: The Story of Bronislaw Huberman, the Israel Philharmonic, and the One Thousand Jews He Saved from Nazi Horrors\">Orchestra of Exiles: The ...</a></h3>, <h3><a href=\"../../../no-one-here-gets-out-alive_336/index.html\" title=\"No One Here Gets Out Alive\">No One Here Gets ...</a></h3>, <h3><a href=\"../../../life_104/index.html\" title=\"Life\">Life</a></h3>, <h3><a href=\"../../../old-records-never-die-one-mans-quest-for-his-vinyl-and-his-past_39/index.html\" title=\"Old Records Never Die: One Man's Quest for His Vinyl and His Past\">Old Records Never Die: ...</a></h3>, <h3><a href=\"../../../forever-rockers-the-rocker-12_19/index.html\" title=\"Forever Rockers (The Rocker #12)\">Forever Rockers (The Rocker ...</a></h3>]\n",
      "title [<h3><a href=\"../../../rip-it-up-and-start-again_986/index.html\" title=\"Rip it Up and Start Again\">Rip it Up and ...</a></h3>, <h3><a href=\"../../../our-band-could-be-your-life-scenes-from-the-american-indie-underground-1981-1991_985/index.html\" title=\"Our Band Could Be Your Life: Scenes from the American Indie Underground, 1981-1991\">Our Band Could Be ...</a></h3>, <h3><a href=\"../../../how-music-works_979/index.html\" title=\"How Music Works\">How Music Works</a></h3>, <h3><a href=\"../../../love-is-a-mix-tape-music-1_711/index.html\" title=\"Love Is a Mix Tape (Music #1)\">Love Is a Mix ...</a></h3>, <h3><a href=\"../../../please-kill-me-the-uncensored-oral-history-of-punk_537/index.html\" title=\"Please Kill Me: The Uncensored Oral History of Punk\">Please Kill Me: The ...</a></h3>, <h3><a href=\"../../../kill-em-and-leave-searching-for-james-brown-and-the-american-soul_528/index.html\" title=\"Kill 'Em and Leave: Searching for James Brown and the American Soul\">Kill 'Em and Leave: ...</a></h3>, <h3><a href=\"../../../chronicles-vol-1_462/index.html\" title=\"Chronicles, Vol. 1\">Chronicles, Vol. 1</a></h3>, <h3><a href=\"../../../this-is-your-brain-on-music-the-science-of-a-human-obsession_414/index.html\" title=\"This Is Your Brain on Music: The Science of a Human Obsession\">This Is Your Brain ...</a></h3>, <h3><a href=\"../../../orchestra-of-exiles-the-story-of-bronislaw-huberman-the-israel-philharmonic-and-the-one-thousand-jews-he-saved-from-nazi-horrors_337/index.html\" title=\"Orchestra of Exiles: The Story of Bronislaw Huberman, the Israel Philharmonic, and the One Thousand Jews He Saved from Nazi Horrors\">Orchestra of Exiles: The ...</a></h3>, <h3><a href=\"../../../no-one-here-gets-out-alive_336/index.html\" title=\"No One Here Gets Out Alive\">No One Here Gets ...</a></h3>, <h3><a href=\"../../../life_104/index.html\" title=\"Life\">Life</a></h3>, <h3><a href=\"../../../old-records-never-die-one-mans-quest-for-his-vinyl-and-his-past_39/index.html\" title=\"Old Records Never Die: One Man's Quest for His Vinyl and His Past\">Old Records Never Die: ...</a></h3>, <h3><a href=\"../../../forever-rockers-the-rocker-12_19/index.html\" title=\"Forever Rockers (The Rocker #12)\">Forever Rockers (The Rocker ...</a></h3>]\n",
      "title [<h3><a href=\"../../../rip-it-up-and-start-again_986/index.html\" title=\"Rip it Up and Start Again\">Rip it Up and ...</a></h3>, <h3><a href=\"../../../our-band-could-be-your-life-scenes-from-the-american-indie-underground-1981-1991_985/index.html\" title=\"Our Band Could Be Your Life: Scenes from the American Indie Underground, 1981-1991\">Our Band Could Be ...</a></h3>, <h3><a href=\"../../../how-music-works_979/index.html\" title=\"How Music Works\">How Music Works</a></h3>, <h3><a href=\"../../../love-is-a-mix-tape-music-1_711/index.html\" title=\"Love Is a Mix Tape (Music #1)\">Love Is a Mix ...</a></h3>, <h3><a href=\"../../../please-kill-me-the-uncensored-oral-history-of-punk_537/index.html\" title=\"Please Kill Me: The Uncensored Oral History of Punk\">Please Kill Me: The ...</a></h3>, <h3><a href=\"../../../kill-em-and-leave-searching-for-james-brown-and-the-american-soul_528/index.html\" title=\"Kill 'Em and Leave: Searching for James Brown and the American Soul\">Kill 'Em and Leave: ...</a></h3>, <h3><a href=\"../../../chronicles-vol-1_462/index.html\" title=\"Chronicles, Vol. 1\">Chronicles, Vol. 1</a></h3>, <h3><a href=\"../../../this-is-your-brain-on-music-the-science-of-a-human-obsession_414/index.html\" title=\"This Is Your Brain on Music: The Science of a Human Obsession\">This Is Your Brain ...</a></h3>, <h3><a href=\"../../../orchestra-of-exiles-the-story-of-bronislaw-huberman-the-israel-philharmonic-and-the-one-thousand-jews-he-saved-from-nazi-horrors_337/index.html\" title=\"Orchestra of Exiles: The Story of Bronislaw Huberman, the Israel Philharmonic, and the One Thousand Jews He Saved from Nazi Horrors\">Orchestra of Exiles: The ...</a></h3>, <h3><a href=\"../../../no-one-here-gets-out-alive_336/index.html\" title=\"No One Here Gets Out Alive\">No One Here Gets ...</a></h3>, <h3><a href=\"../../../life_104/index.html\" title=\"Life\">Life</a></h3>, <h3><a href=\"../../../old-records-never-die-one-mans-quest-for-his-vinyl-and-his-past_39/index.html\" title=\"Old Records Never Die: One Man's Quest for His Vinyl and His Past\">Old Records Never Die: ...</a></h3>, <h3><a href=\"../../../forever-rockers-the-rocker-12_19/index.html\" title=\"Forever Rockers (The Rocker #12)\">Forever Rockers (The Rocker ...</a></h3>]\n"
     ]
    }
   ],
   "source": [
    "all_title = []\n",
    "for x in range(1, 11):\n",
    "    new_url = f\"{book_soup}\"\n",
    "    quotes = book_soup.findAll(\"h3\", {\"title\": \"\"})\n",
    "    print(\"title\", quotes)\n",
    "    all_title.append(quotes)"
   ]
  },
  {
   "cell_type": "markdown",
   "metadata": {},
   "source": [
    "## Section 4: NoSQL (10 Minutes)\n",
    "\n",
    "#### Load data from `assets/grades.json` into Mongo \n",
    "\n",
    "(this code is written for you)"
   ]
  },
  {
   "cell_type": "code",
   "execution_count": 183,
   "metadata": {},
   "outputs": [
    {
     "data": {
      "text/plain": [
       "<pymongo.results.InsertManyResult at 0x12a3fab00>"
      ]
     },
     "execution_count": 183,
     "metadata": {},
     "output_type": "execute_result"
    }
   ],
   "source": [
    "# you shouldn't need to edit this cell!\n",
    "db_name = \"mod2db\"\n",
    "\n",
    "with open('Mod2Assessment/Data/grades.jsonl') as f:\n",
    "    # loads() comes from the bson library\n",
    "    file_data = [loads(line) for line in f.readlines()]\n",
    "\n",
    "client = pymongo.MongoClient(\"mongodb://localhost:27017/\")\n",
    "client.drop_database(db_name)\n",
    "db = client[db_name]\n",
    "coll = db[\"testcoll\"]\n",
    "\n",
    "coll.insert_many(file_data)"
   ]
  },
  {
   "cell_type": "markdown",
   "metadata": {},
   "source": [
    "#### Answer all of the following questions by querying Mongo and manipulating the results in Python"
   ]
  },
  {
   "cell_type": "markdown",
   "metadata": {},
   "source": [
    "1. How many records are there total?"
   ]
  },
  {
   "cell_type": "code",
   "execution_count": 219,
   "metadata": {},
   "outputs": [
    {
     "name": "stderr",
     "output_type": "stream",
     "text": [
      "<ipython-input-219-e5e74daed3ff>:2: DeprecationWarning: count is deprecated. Use estimated_document_count or count_documents instead. Please note that $where must be replaced by $expr, $near must be replaced by $geoWithin with $center, and $nearSphere must be replaced by $geoWithin with $centerSphere\n",
      "  nosql_answer1 = coll.count({\"student_id\"})\n"
     ]
    },
    {
     "ename": "InvalidDocument",
     "evalue": "cannot encode object: {'student_id'}, of type: <class 'set'>",
     "output_type": "error",
     "traceback": [
      "\u001b[0;31m---------------------------------------------------------------------------\u001b[0m",
      "\u001b[0;31mInvalidDocument\u001b[0m                           Traceback (most recent call last)",
      "\u001b[0;32m<ipython-input-219-e5e74daed3ff>\u001b[0m in \u001b[0;36m<module>\u001b[0;34m\u001b[0m\n\u001b[1;32m      1\u001b[0m \u001b[0;31m# Set `nosql_answer1` to your final answer\u001b[0m\u001b[0;34m\u001b[0m\u001b[0;34m\u001b[0m\u001b[0;34m\u001b[0m\u001b[0m\n\u001b[0;32m----> 2\u001b[0;31m \u001b[0mnosql_answer1\u001b[0m \u001b[0;34m=\u001b[0m \u001b[0mcoll\u001b[0m\u001b[0;34m.\u001b[0m\u001b[0mcount\u001b[0m\u001b[0;34m(\u001b[0m\u001b[0;34m{\u001b[0m\u001b[0;34m\"student_id\"\u001b[0m\u001b[0;34m}\u001b[0m\u001b[0;34m)\u001b[0m\u001b[0;34m\u001b[0m\u001b[0;34m\u001b[0m\u001b[0m\n\u001b[0m",
      "\u001b[0;32m/Library/Frameworks/Python.framework/Versions/3.8/lib/python3.8/site-packages/pymongo/collection.py\u001b[0m in \u001b[0;36mcount\u001b[0;34m(self, filter, session, **kwargs)\u001b[0m\n\u001b[1;32m   1777\u001b[0m         \u001b[0mcollation\u001b[0m \u001b[0;34m=\u001b[0m \u001b[0mvalidate_collation_or_none\u001b[0m\u001b[0;34m(\u001b[0m\u001b[0mkwargs\u001b[0m\u001b[0;34m.\u001b[0m\u001b[0mpop\u001b[0m\u001b[0;34m(\u001b[0m\u001b[0;34m'collation'\u001b[0m\u001b[0;34m,\u001b[0m \u001b[0;32mNone\u001b[0m\u001b[0;34m)\u001b[0m\u001b[0;34m)\u001b[0m\u001b[0;34m\u001b[0m\u001b[0;34m\u001b[0m\u001b[0m\n\u001b[1;32m   1778\u001b[0m         \u001b[0mcmd\u001b[0m\u001b[0;34m.\u001b[0m\u001b[0mupdate\u001b[0m\u001b[0;34m(\u001b[0m\u001b[0mkwargs\u001b[0m\u001b[0;34m)\u001b[0m\u001b[0;34m\u001b[0m\u001b[0;34m\u001b[0m\u001b[0m\n\u001b[0;32m-> 1779\u001b[0;31m         \u001b[0;32mreturn\u001b[0m \u001b[0mself\u001b[0m\u001b[0;34m.\u001b[0m\u001b[0m_count\u001b[0m\u001b[0;34m(\u001b[0m\u001b[0mcmd\u001b[0m\u001b[0;34m,\u001b[0m \u001b[0mcollation\u001b[0m\u001b[0;34m,\u001b[0m \u001b[0msession\u001b[0m\u001b[0;34m)\u001b[0m\u001b[0;34m\u001b[0m\u001b[0;34m\u001b[0m\u001b[0m\n\u001b[0m\u001b[1;32m   1780\u001b[0m \u001b[0;34m\u001b[0m\u001b[0m\n\u001b[1;32m   1781\u001b[0m     \u001b[0;32mdef\u001b[0m \u001b[0mcreate_indexes\u001b[0m\u001b[0;34m(\u001b[0m\u001b[0mself\u001b[0m\u001b[0;34m,\u001b[0m \u001b[0mindexes\u001b[0m\u001b[0;34m,\u001b[0m \u001b[0msession\u001b[0m\u001b[0;34m=\u001b[0m\u001b[0;32mNone\u001b[0m\u001b[0;34m,\u001b[0m \u001b[0;34m**\u001b[0m\u001b[0mkwargs\u001b[0m\u001b[0;34m)\u001b[0m\u001b[0;34m:\u001b[0m\u001b[0;34m\u001b[0m\u001b[0;34m\u001b[0m\u001b[0m\n",
      "\u001b[0;32m/Library/Frameworks/Python.framework/Versions/3.8/lib/python3.8/site-packages/pymongo/collection.py\u001b[0m in \u001b[0;36m_count\u001b[0;34m(self, cmd, collation, session)\u001b[0m\n\u001b[1;32m   1573\u001b[0m         \u001b[0;34m\"\"\"Internal count helper.\"\"\"\u001b[0m\u001b[0;34m\u001b[0m\u001b[0;34m\u001b[0m\u001b[0m\n\u001b[1;32m   1574\u001b[0m         \u001b[0;32mwith\u001b[0m \u001b[0mself\u001b[0m\u001b[0;34m.\u001b[0m\u001b[0m_socket_for_reads\u001b[0m\u001b[0;34m(\u001b[0m\u001b[0msession\u001b[0m\u001b[0;34m)\u001b[0m \u001b[0;32mas\u001b[0m \u001b[0;34m(\u001b[0m\u001b[0msock_info\u001b[0m\u001b[0;34m,\u001b[0m \u001b[0mslave_ok\u001b[0m\u001b[0;34m)\u001b[0m\u001b[0;34m:\u001b[0m\u001b[0;34m\u001b[0m\u001b[0;34m\u001b[0m\u001b[0m\n\u001b[0;32m-> 1575\u001b[0;31m             res = self._command(\n\u001b[0m\u001b[1;32m   1576\u001b[0m                 \u001b[0msock_info\u001b[0m\u001b[0;34m,\u001b[0m\u001b[0;34m\u001b[0m\u001b[0;34m\u001b[0m\u001b[0m\n\u001b[1;32m   1577\u001b[0m                 \u001b[0mcmd\u001b[0m\u001b[0;34m,\u001b[0m\u001b[0;34m\u001b[0m\u001b[0;34m\u001b[0m\u001b[0m\n",
      "\u001b[0;32m/Library/Frameworks/Python.framework/Versions/3.8/lib/python3.8/site-packages/pymongo/collection.py\u001b[0m in \u001b[0;36m_command\u001b[0;34m(self, sock_info, command, slave_ok, read_preference, codec_options, check, allowable_errors, read_concern, write_concern, collation, session, retryable_write, user_fields)\u001b[0m\n\u001b[1;32m    235\u001b[0m         \"\"\"\n\u001b[1;32m    236\u001b[0m         \u001b[0;32mwith\u001b[0m \u001b[0mself\u001b[0m\u001b[0;34m.\u001b[0m\u001b[0m__database\u001b[0m\u001b[0;34m.\u001b[0m\u001b[0mclient\u001b[0m\u001b[0;34m.\u001b[0m\u001b[0m_tmp_session\u001b[0m\u001b[0;34m(\u001b[0m\u001b[0msession\u001b[0m\u001b[0;34m)\u001b[0m \u001b[0;32mas\u001b[0m \u001b[0ms\u001b[0m\u001b[0;34m:\u001b[0m\u001b[0;34m\u001b[0m\u001b[0;34m\u001b[0m\u001b[0m\n\u001b[0;32m--> 237\u001b[0;31m             return sock_info.command(\n\u001b[0m\u001b[1;32m    238\u001b[0m                 \u001b[0mself\u001b[0m\u001b[0;34m.\u001b[0m\u001b[0m__database\u001b[0m\u001b[0;34m.\u001b[0m\u001b[0mname\u001b[0m\u001b[0;34m,\u001b[0m\u001b[0;34m\u001b[0m\u001b[0;34m\u001b[0m\u001b[0m\n\u001b[1;32m    239\u001b[0m                 \u001b[0mcommand\u001b[0m\u001b[0;34m,\u001b[0m\u001b[0;34m\u001b[0m\u001b[0;34m\u001b[0m\u001b[0m\n",
      "\u001b[0;32m/Library/Frameworks/Python.framework/Versions/3.8/lib/python3.8/site-packages/pymongo/pool.py\u001b[0m in \u001b[0;36mcommand\u001b[0;34m(self, dbname, spec, slave_ok, read_preference, codec_options, check, allowable_errors, check_keys, read_concern, write_concern, parse_write_concern_error, collation, session, client, retryable_write, publish_events, user_fields)\u001b[0m\n\u001b[1;32m    587\u001b[0m         \u001b[0;31m# Catch socket.error, KeyboardInterrupt, etc. and close ourselves.\u001b[0m\u001b[0;34m\u001b[0m\u001b[0;34m\u001b[0m\u001b[0;34m\u001b[0m\u001b[0m\n\u001b[1;32m    588\u001b[0m         \u001b[0;32mexcept\u001b[0m \u001b[0mBaseException\u001b[0m \u001b[0;32mas\u001b[0m \u001b[0merror\u001b[0m\u001b[0;34m:\u001b[0m\u001b[0;34m\u001b[0m\u001b[0;34m\u001b[0m\u001b[0m\n\u001b[0;32m--> 589\u001b[0;31m             \u001b[0mself\u001b[0m\u001b[0;34m.\u001b[0m\u001b[0m_raise_connection_failure\u001b[0m\u001b[0;34m(\u001b[0m\u001b[0merror\u001b[0m\u001b[0;34m)\u001b[0m\u001b[0;34m\u001b[0m\u001b[0;34m\u001b[0m\u001b[0m\n\u001b[0m\u001b[1;32m    590\u001b[0m \u001b[0;34m\u001b[0m\u001b[0m\n\u001b[1;32m    591\u001b[0m     \u001b[0;32mdef\u001b[0m \u001b[0msend_message\u001b[0m\u001b[0;34m(\u001b[0m\u001b[0mself\u001b[0m\u001b[0;34m,\u001b[0m \u001b[0mmessage\u001b[0m\u001b[0;34m,\u001b[0m \u001b[0mmax_doc_size\u001b[0m\u001b[0;34m)\u001b[0m\u001b[0;34m:\u001b[0m\u001b[0;34m\u001b[0m\u001b[0;34m\u001b[0m\u001b[0m\n",
      "\u001b[0;32m/Library/Frameworks/Python.framework/Versions/3.8/lib/python3.8/site-packages/pymongo/pool.py\u001b[0m in \u001b[0;36m_raise_connection_failure\u001b[0;34m(self, error)\u001b[0m\n\u001b[1;32m    748\u001b[0m             \u001b[0m_raise_connection_failure\u001b[0m\u001b[0;34m(\u001b[0m\u001b[0mself\u001b[0m\u001b[0;34m.\u001b[0m\u001b[0maddress\u001b[0m\u001b[0;34m,\u001b[0m \u001b[0merror\u001b[0m\u001b[0;34m)\u001b[0m\u001b[0;34m\u001b[0m\u001b[0;34m\u001b[0m\u001b[0m\n\u001b[1;32m    749\u001b[0m         \u001b[0;32melse\u001b[0m\u001b[0;34m:\u001b[0m\u001b[0;34m\u001b[0m\u001b[0;34m\u001b[0m\u001b[0m\n\u001b[0;32m--> 750\u001b[0;31m             \u001b[0;32mraise\u001b[0m \u001b[0merror\u001b[0m\u001b[0;34m\u001b[0m\u001b[0;34m\u001b[0m\u001b[0m\n\u001b[0m\u001b[1;32m    751\u001b[0m \u001b[0;34m\u001b[0m\u001b[0m\n\u001b[1;32m    752\u001b[0m     \u001b[0;32mdef\u001b[0m \u001b[0m__eq__\u001b[0m\u001b[0;34m(\u001b[0m\u001b[0mself\u001b[0m\u001b[0;34m,\u001b[0m \u001b[0mother\u001b[0m\u001b[0;34m)\u001b[0m\u001b[0;34m:\u001b[0m\u001b[0;34m\u001b[0m\u001b[0;34m\u001b[0m\u001b[0m\n",
      "\u001b[0;32m/Library/Frameworks/Python.framework/Versions/3.8/lib/python3.8/site-packages/pymongo/pool.py\u001b[0m in \u001b[0;36mcommand\u001b[0;34m(self, dbname, spec, slave_ok, read_preference, codec_options, check, allowable_errors, check_keys, read_concern, write_concern, parse_write_concern_error, collation, session, client, retryable_write, publish_events, user_fields)\u001b[0m\n\u001b[1;32m    572\u001b[0m             \u001b[0mself\u001b[0m\u001b[0;34m.\u001b[0m\u001b[0m_raise_if_not_writable\u001b[0m\u001b[0;34m(\u001b[0m\u001b[0munacknowledged\u001b[0m\u001b[0;34m)\u001b[0m\u001b[0;34m\u001b[0m\u001b[0;34m\u001b[0m\u001b[0m\n\u001b[1;32m    573\u001b[0m         \u001b[0;32mtry\u001b[0m\u001b[0;34m:\u001b[0m\u001b[0;34m\u001b[0m\u001b[0;34m\u001b[0m\u001b[0m\n\u001b[0;32m--> 574\u001b[0;31m             return command(self.sock, dbname, spec, slave_ok,\n\u001b[0m\u001b[1;32m    575\u001b[0m                            \u001b[0mself\u001b[0m\u001b[0;34m.\u001b[0m\u001b[0mis_mongos\u001b[0m\u001b[0;34m,\u001b[0m \u001b[0mread_preference\u001b[0m\u001b[0;34m,\u001b[0m \u001b[0mcodec_options\u001b[0m\u001b[0;34m,\u001b[0m\u001b[0;34m\u001b[0m\u001b[0;34m\u001b[0m\u001b[0m\n\u001b[1;32m    576\u001b[0m                            \u001b[0msession\u001b[0m\u001b[0;34m,\u001b[0m \u001b[0mclient\u001b[0m\u001b[0;34m,\u001b[0m \u001b[0mcheck\u001b[0m\u001b[0;34m,\u001b[0m \u001b[0mallowable_errors\u001b[0m\u001b[0;34m,\u001b[0m\u001b[0;34m\u001b[0m\u001b[0;34m\u001b[0m\u001b[0m\n",
      "\u001b[0;32m/Library/Frameworks/Python.framework/Versions/3.8/lib/python3.8/site-packages/pymongo/network.py\u001b[0m in \u001b[0;36mcommand\u001b[0;34m(sock, dbname, spec, slave_ok, is_mongos, read_preference, codec_options, session, client, check, allowable_errors, address, check_keys, listeners, max_bson_size, read_concern, parse_write_concern_error, collation, compression_ctx, use_op_msg, unacknowledged, user_fields)\u001b[0m\n\u001b[1;32m    117\u001b[0m     \u001b[0;32mif\u001b[0m \u001b[0muse_op_msg\u001b[0m\u001b[0;34m:\u001b[0m\u001b[0;34m\u001b[0m\u001b[0;34m\u001b[0m\u001b[0m\n\u001b[1;32m    118\u001b[0m         \u001b[0mflags\u001b[0m \u001b[0;34m=\u001b[0m \u001b[0;36m2\u001b[0m \u001b[0;32mif\u001b[0m \u001b[0munacknowledged\u001b[0m \u001b[0;32melse\u001b[0m \u001b[0;36m0\u001b[0m\u001b[0;34m\u001b[0m\u001b[0;34m\u001b[0m\u001b[0m\n\u001b[0;32m--> 119\u001b[0;31m         request_id, msg, size, max_doc_size = message._op_msg(\n\u001b[0m\u001b[1;32m    120\u001b[0m             \u001b[0mflags\u001b[0m\u001b[0;34m,\u001b[0m \u001b[0mspec\u001b[0m\u001b[0;34m,\u001b[0m \u001b[0mdbname\u001b[0m\u001b[0;34m,\u001b[0m \u001b[0mread_preference\u001b[0m\u001b[0;34m,\u001b[0m \u001b[0mslave_ok\u001b[0m\u001b[0;34m,\u001b[0m \u001b[0mcheck_keys\u001b[0m\u001b[0;34m,\u001b[0m\u001b[0;34m\u001b[0m\u001b[0;34m\u001b[0m\u001b[0m\n\u001b[1;32m    121\u001b[0m             codec_options, ctx=compression_ctx)\n",
      "\u001b[0;32m/Library/Frameworks/Python.framework/Versions/3.8/lib/python3.8/site-packages/pymongo/message.py\u001b[0m in \u001b[0;36m_op_msg\u001b[0;34m(flags, command, dbname, read_preference, slave_ok, check_keys, opts, ctx)\u001b[0m\n\u001b[1;32m    675\u001b[0m             return _op_msg_compressed(\n\u001b[1;32m    676\u001b[0m                 flags, command, identifier, docs, check_keys, opts, ctx)\n\u001b[0;32m--> 677\u001b[0;31m         return _op_msg_uncompressed(\n\u001b[0m\u001b[1;32m    678\u001b[0m             flags, command, identifier, docs, check_keys, opts)\n\u001b[1;32m    679\u001b[0m     \u001b[0;32mfinally\u001b[0m\u001b[0;34m:\u001b[0m\u001b[0;34m\u001b[0m\u001b[0;34m\u001b[0m\u001b[0m\n",
      "\u001b[0;31mInvalidDocument\u001b[0m: cannot encode object: {'student_id'}, of type: <class 'set'>"
     ]
    }
   ],
   "source": [
    "# Set `nosql_answer1` to your final answer\n",
    "nosql_answer1 = coll.count({\"student_id\"})"
   ]
  },
  {
   "cell_type": "markdown",
   "metadata": {},
   "source": [
    "2. How many students have taken the class with `class_id` = **29**?"
   ]
  },
  {
   "cell_type": "code",
   "execution_count": 220,
   "metadata": {},
   "outputs": [
    {
     "name": "stderr",
     "output_type": "stream",
     "text": [
      "<ipython-input-220-7d4262b1a3e6>:2: DeprecationWarning: count is deprecated. Use estimated_document_count or count_documents instead. Please note that $where must be replaced by $expr, $near must be replaced by $geoWithin with $center, and $nearSphere must be replaced by $geoWithin with $centerSphere\n",
      "  nosql_answer2 = coll.count({\"class_id\": \"29\"})\n"
     ]
    }
   ],
   "source": [
    "# Set `nosql_answer2` to your final answer\n",
    "nosql_answer2 = coll.count({\"class_id\": \"29\"})"
   ]
  },
  {
   "cell_type": "markdown",
   "metadata": {},
   "source": [
    " "
   ]
  },
  {
   "cell_type": "markdown",
   "metadata": {},
   "source": [
    "**Super bonus question**: </br>For student **12** in class **23**, what grade did they get on their exam?"
   ]
  },
  {
   "cell_type": "code",
   "execution_count": null,
   "metadata": {},
   "outputs": [],
   "source": [
    "# Set `nosql_answer3` to your final answer\n",
    "nosql_answer3 = None"
   ]
  },
  {
   "cell_type": "markdown",
   "metadata": {},
   "source": [
    " "
   ]
  },
  {
   "cell_type": "code",
   "execution_count": 221,
   "metadata": {},
   "outputs": [],
   "source": [
    "# for when you're done with this portion, this deletes the data we added.\n",
    "client.drop_database(\"mod2db\")"
   ]
  },
  {
   "cell_type": "markdown",
   "metadata": {},
   "source": [
    "## Assessment submission (2 Minutes)\n",
    "Please **save** your completed file (`mod2_assessment.ipynb`) and upload it using [this form](https://docs.google.com/forms/d/e/1FAIpQLSf1uGNuz4fyzVz5i3aFTxmMKvH50DEJiN5uRmNFghpmFzoi3g/viewform)"
   ]
  }
 ],
 "metadata": {
  "kernelspec": {
   "display_name": "Python 3",
   "language": "python",
   "name": "python3"
  },
  "language_info": {
   "codemirror_mode": {
    "name": "ipython",
    "version": 3
   },
   "file_extension": ".py",
   "mimetype": "text/x-python",
   "name": "python",
   "nbconvert_exporter": "python",
   "pygments_lexer": "ipython3",
   "version": "3.8.1"
  }
 },
 "nbformat": 4,
 "nbformat_minor": 4
}
