{
 "cells": [
  {
   "cell_type": "markdown",
   "metadata": {},
   "source": [
    "# Quick Review"
   ]
  },
  {
   "cell_type": "code",
   "execution_count": 141,
   "metadata": {},
   "outputs": [],
   "source": [
    "class Boat():\n",
    "    _floats = True # Private variable"
   ]
  },
  {
   "cell_type": "code",
   "execution_count": 142,
   "metadata": {},
   "outputs": [],
   "source": [
    "# you can just as easily set it to false, even though you're not supposed to\n",
    "titanic = Boat()\n",
    "titanic._floats = False"
   ]
  },
  {
   "cell_type": "markdown",
   "metadata": {},
   "source": [
    "property"
   ]
  },
  {
   "cell_type": "code",
   "execution_count": 143,
   "metadata": {},
   "outputs": [
    {
     "data": {
      "text/plain": [
       "<property at 0x10bb92900>"
      ]
     },
     "execution_count": 143,
     "metadata": {},
     "output_type": "execute_result"
    }
   ],
   "source": [
    "property(fget=None, fset=None, fdel=None)\n",
    "# fget is our getter method\n",
    "# fset is our setter method\n",
    "# fdel is our delete method\n",
    "\n",
    "# these can be positional arguments OR keyword arguments"
   ]
  },
  {
   "cell_type": "code",
   "execution_count": 144,
   "metadata": {},
   "outputs": [],
   "source": [
    "class Boat():\n",
    "    _floats = True\n",
    "\n",
    "    def floats_setter(self, new_value):  # Instance method named floats_setter\n",
    "        self._floats = new_value\n",
    "        print('nope')\n",
    "\n",
    "    def floats_getter(self):\n",
    "        return self._floats\n",
    "    \n",
    "    def floats_deleter(self):\n",
    "        print(\"naahhhhh, you trippin\")\n",
    "\n",
    "    floats = property(floats_getter, floats_setter)"
   ]
  },
  {
   "cell_type": "code",
   "execution_count": 145,
   "metadata": {},
   "outputs": [],
   "source": [
    "titanic = Boat()"
   ]
  },
  {
   "cell_type": "code",
   "execution_count": 146,
   "metadata": {},
   "outputs": [
    {
     "name": "stdout",
     "output_type": "stream",
     "text": [
      "nope\n"
     ]
    }
   ],
   "source": [
    "titanic.floats = False"
   ]
  },
  {
   "cell_type": "code",
   "execution_count": 147,
   "metadata": {},
   "outputs": [
    {
     "data": {
      "text/plain": [
       "False"
      ]
     },
     "execution_count": 147,
     "metadata": {},
     "output_type": "execute_result"
    }
   ],
   "source": [
    "titanic.floats"
   ]
  },
  {
   "cell_type": "markdown",
   "metadata": {},
   "source": [
    "# Property, Get, and Set with Decorators"
   ]
  },
  {
   "cell_type": "code",
   "execution_count": 148,
   "metadata": {},
   "outputs": [],
   "source": [
    "class ExampleClass(object):\n",
    "    def __init__(self):\n",
    "        self._x = None\n",
    "\n",
    "    def getx(self):\n",
    "        return self._x\n",
    "\n",
    "    def setx(self, value):\n",
    "        self._x = value\n",
    "\n",
    "    def delx(self):\n",
    "        del self._x\n",
    "    x = property(getx, setx, delx, \"I'm the 'x' property.\")"
   ]
  },
  {
   "cell_type": "code",
   "execution_count": 149,
   "metadata": {},
   "outputs": [],
   "source": [
    "class Celsius:\n",
    "    def __init__(self, temperature=0):\n",
    "        self._temperature = temperature\n",
    "\n",
    "    def to_fahrenheit(self):\n",
    "        return (self.temperature * 1.8) + 32\n",
    "\n",
    "    def to_kelvin(self):\n",
    "        return self.temperature - 273\n",
    "\n",
    "    @property # Decorators. This is a getter decorator\n",
    "    def temperature(self):\n",
    "        print(\"Getting value\")\n",
    "        return self._temperature\n",
    "\n",
    "    @temperature.setter # Creating a setter for the temp func.\n",
    "    def temperature(self, value):\n",
    "        if value < -273:\n",
    "            raise ValueError(\"Temperature below -273 is not possible\")\n",
    "        print(\"Setting value\")\n",
    "        self._temperature = value"
   ]
  },
  {
   "cell_type": "code",
   "execution_count": 150,
   "metadata": {},
   "outputs": [
    {
     "data": {
      "text/plain": [
       "<__main__.Celsius at 0x10b0cc3d0>"
      ]
     },
     "execution_count": 150,
     "metadata": {},
     "output_type": "execute_result"
    }
   ],
   "source": [
    "Celsius(temperature=100) # Instantiate"
   ]
  },
  {
   "cell_type": "code",
   "execution_count": 151,
   "metadata": {},
   "outputs": [],
   "source": [
    "c = Celsius(temperature=100) # Instantiate"
   ]
  },
  {
   "cell_type": "code",
   "execution_count": 152,
   "metadata": {},
   "outputs": [
    {
     "name": "stdout",
     "output_type": "stream",
     "text": [
      "Getting value\n"
     ]
    },
    {
     "data": {
      "text/plain": [
       "100"
      ]
     },
     "execution_count": 152,
     "metadata": {},
     "output_type": "execute_result"
    }
   ],
   "source": [
    "# Getting the value\n",
    "c.temperature"
   ]
  },
  {
   "cell_type": "code",
   "execution_count": 153,
   "metadata": {},
   "outputs": [],
   "source": [
    "c = Celsius()"
   ]
  },
  {
   "cell_type": "code",
   "execution_count": 154,
   "metadata": {},
   "outputs": [
    {
     "name": "stdout",
     "output_type": "stream",
     "text": [
      "Setting value\n"
     ]
    }
   ],
   "source": [
    "# Setting a value\n",
    "c.temperature = 80"
   ]
  },
  {
   "cell_type": "markdown",
   "metadata": {},
   "source": [
    "# Static Methods and Class Methods"
   ]
  },
  {
   "cell_type": "markdown",
   "metadata": {},
   "source": [
    "A static method is a method that you define in a class but doesn't take a default argument.\n",
    "\n",
    "Remember how functions normally take one argument \"self\" <- this is an instance method.\n",
    "\n",
    "The way you differentiate is by using the @staticmethod decorator.\n",
    "\n",
    "This is useful for having a collection of very general functions."
   ]
  },
  {
   "cell_type": "code",
   "execution_count": 155,
   "metadata": {},
   "outputs": [],
   "source": [
    "class ExampleClass:\n",
    "\n",
    "    @staticmethod\n",
    "    def some_function(x):\n",
    "        return x + 1\n",
    "    \n",
    "    def inst_function(self, x):\n",
    "        return x + 1"
   ]
  },
  {
   "cell_type": "code",
   "execution_count": 156,
   "metadata": {},
   "outputs": [],
   "source": [
    "example_instance = ExampleClass()"
   ]
  },
  {
   "cell_type": "code",
   "execution_count": 157,
   "metadata": {},
   "outputs": [
    {
     "data": {
      "text/plain": [
       "2"
      ]
     },
     "execution_count": 157,
     "metadata": {},
     "output_type": "execute_result"
    }
   ],
   "source": [
    "example_instance.some_function(1)"
   ]
  },
  {
   "cell_type": "code",
   "execution_count": 158,
   "metadata": {},
   "outputs": [
    {
     "data": {
      "text/plain": [
       "2"
      ]
     },
     "execution_count": 158,
     "metadata": {},
     "output_type": "execute_result"
    }
   ],
   "source": [
    "ExampleClass.some_function(1)"
   ]
  },
  {
   "cell_type": "code",
   "execution_count": 159,
   "metadata": {},
   "outputs": [
    {
     "data": {
      "text/plain": [
       "2"
      ]
     },
     "execution_count": 159,
     "metadata": {},
     "output_type": "execute_result"
    }
   ],
   "source": [
    "example_instance.inst_function(1)"
   ]
  },
  {
   "cell_type": "code",
   "execution_count": 171,
   "metadata": {},
   "outputs": [],
   "source": [
    "#let's try this without the @staticmethod decorator\n",
    "#think for a minute about what you think is going to happen if I follow the exact same steps\n",
    "class ExampleClass:\n",
    "    def some_function(x):\n",
    "        return x + 1"
   ]
  },
  {
   "cell_type": "code",
   "execution_count": 172,
   "metadata": {},
   "outputs": [],
   "source": [
    "example_instance = ExampleClass()"
   ]
  },
  {
   "cell_type": "markdown",
   "metadata": {},
   "source": [
    "^^^we expect this error"
   ]
  },
  {
   "cell_type": "code",
   "execution_count": 174,
   "metadata": {},
   "outputs": [],
   "source": [
    "#class methods are useful for calling back to an attribute you define to the class itself rather than the instance"
   ]
  },
  {
   "cell_type": "code",
   "execution_count": 175,
   "metadata": {},
   "outputs": [],
   "source": [
    "from __future__ import print_function\n",
    "\n",
    "class Date(object):\n",
    "    def __init__(self, Year, Month, Day):\n",
    "        self.year  = Year\n",
    "        self.month = Month\n",
    "        self.day   = Day\n",
    "\n",
    "    def __str__(self):\n",
    "        return 'Date({}, {}, {})'.format(self.year, self.month, self.day)\n",
    "\n",
    "    def set_date(self, y, m, d):\n",
    "        self.year = y\n",
    "        self.month = m\n",
    "        self.day = d\n",
    "\n",
    "    @classmethod\n",
    "    def from_str(cls, date_str):\n",
    "        '''Call as\n",
    "           d = Date.from_str('2013-12-30')\n",
    "        '''\n",
    "        print(cls)\n",
    "        year, month, day = map(int, date_str.split('-'))\n",
    "        return cls(year, month, day)\n",
    "    \n",
    "# Inheritance. Getting the Date and Boat class mehtods\n",
    "class nonoDate(Date, Boat): # Inheriting the Date and Boat class\n",
    "    def set_date(self, y, m, d):\n",
    "        super().set_date(y, m, d) # Overrloading, getting the super's set_date"
   ]
  },
  {
   "cell_type": "code",
   "execution_count": 176,
   "metadata": {},
   "outputs": [],
   "source": [
    "new_date = Date('2000','1','1')"
   ]
  },
  {
   "cell_type": "code",
   "execution_count": 177,
   "metadata": {},
   "outputs": [
    {
     "name": "stdout",
     "output_type": "stream",
     "text": [
      "<class '__main__.Date'>\n"
     ]
    }
   ],
   "source": [
    "d = Date.from_str('2013-12-30')"
   ]
  },
  {
   "cell_type": "code",
   "execution_count": 178,
   "metadata": {},
   "outputs": [
    {
     "name": "stdout",
     "output_type": "stream",
     "text": [
      "Date(2013, 12, 30)\n"
     ]
    }
   ],
   "source": [
    "print(d)"
   ]
  },
  {
   "cell_type": "code",
   "execution_count": 179,
   "metadata": {},
   "outputs": [],
   "source": [
    "hah = nonoDate(\"2000\", \"50\", \"01\")"
   ]
  },
  {
   "cell_type": "code",
   "execution_count": null,
   "metadata": {},
   "outputs": [],
   "source": []
  },
  {
   "cell_type": "code",
   "execution_count": 180,
   "metadata": {},
   "outputs": [],
   "source": [
    "# Example of overriding\n",
    "\n",
    "class MySuperInterface(object):\n",
    "    def my_method(self):\n",
    "        print('hello world!')\n",
    "\n",
    "\n",
    "class ConcreteImplementer(MySuperInterface):\n",
    "    @overrides(MySuperInterface)\n",
    "    def my_method(self):\n",
    "        print('hello EARTH!')"
   ]
  },
  {
   "cell_type": "markdown",
   "metadata": {},
   "source": [
    "If they work the same, why would we have any difference here??\n",
    "\n",
    "Think about this for a minute.\n",
    "\n",
    "There IS a reason."
   ]
  },
  {
   "cell_type": "markdown",
   "metadata": {},
   "source": [
    "@staticmethod function is nothing more than a function defined inside a class. It is callable without instantiating the class first. It’s definition is immutable via inheritance.\n",
    "\n",
    "@classmethod function also callable without instantiating the class, but its definition follows Sub class, not Parent class, via inheritance. That’s because the first argument for @classmethod function must always be cls (class)."
   ]
  },
  {
   "cell_type": "markdown",
   "metadata": {},
   "source": [
    "In other words, inheritance works differently for each.  Not going to go into examples for that now but I can share some useful documentation I found.\n",
    "\n",
    "https://rapd.wordpress.com/2008/07/02/python-staticmethod-vs-classmethod/"
   ]
  },
  {
   "cell_type": "code",
   "execution_count": 181,
   "metadata": {},
   "outputs": [],
   "source": [
    "from random import randint\n",
    "\n",
    "\n",
    "class Shape:\n",
    "    def __init__(self, num_sides):\n",
    "        self.num_sides = num_sides\n",
    "\n",
    "    @property\n",
    "    def sides(self):\n",
    "        return [randint(1, 10) for i in range(self.num_sides)]\n",
    "\n",
    "\n",
    "class Triangle(Shape):\n",
    "    def __init__(self):\n",
    "        Shape.__init__(self, 3)\n",
    "\n",
    "    def find_area(self):\n",
    "        a, b, c = self.sides\n",
    "        # calculate the semi-perimeter\n",
    "        s = (a + b + c) / 2\n",
    "        area = (s*(s-a)*(s-b)*(s-c)) ** 0.5\n",
    "        print(f'The area of the triangle is {area:0.2f}')"
   ]
  },
  {
   "cell_type": "code",
   "execution_count": 182,
   "metadata": {},
   "outputs": [
    {
     "name": "stdout",
     "output_type": "stream",
     "text": [
      "The area of the triangle is 11.40\n"
     ]
    }
   ],
   "source": [
    "t = Triangle()\n",
    "t.find_area()"
   ]
  },
  {
   "cell_type": "markdown",
   "metadata": {},
   "source": [
    "# Domain Model - Building Object Relations"
   ]
  },
  {
   "cell_type": "code",
   "execution_count": 183,
   "metadata": {},
   "outputs": [],
   "source": [
    "class Card():\n",
    "\n",
    "    _all_cards = ['Ace', 'King', 'Queen', 'Jack']\n",
    "\n",
    "    def __init__(self, name):\n",
    "        Card._all_cards.append(name)\n",
    "        # note that we're using the class name\n",
    "\n",
    "    @classmethod\n",
    "    def all_cards(cls):\n",
    "        return(cls._all_cards)"
   ]
  },
  {
   "cell_type": "code",
   "execution_count": 184,
   "metadata": {},
   "outputs": [],
   "source": [
    "two_of_clubs = Card('two_of_clubs')"
   ]
  },
  {
   "cell_type": "code",
   "execution_count": null,
   "metadata": {},
   "outputs": [],
   "source": [
    "# can we do this with static methods????\n",
    "\n",
    "class Card():\n",
    "    \n",
    "    _all_cards = ['Ace','King','Queen','Jack']\n",
    "    \n",
    "    def __init__(self,name):\n",
    "        Card._all_cards.append(name)\n",
    "        #note that we're using the class name\n",
    "    \n",
    "    @classmethod\n",
    "    def all_cards(cls):\n",
    "        return(cls._all_cards)"
   ]
  },
  {
   "cell_type": "code",
   "execution_count": null,
   "metadata": {},
   "outputs": [],
   "source": []
  },
  {
   "cell_type": "code",
   "execution_count": null,
   "metadata": {},
   "outputs": [],
   "source": [
    "two_of_clubs = Card('two of clubs')"
   ]
  },
  {
   "cell_type": "code",
   "execution_count": null,
   "metadata": {},
   "outputs": [],
   "source": [
    "Card.all_cards()"
   ]
  },
  {
   "cell_type": "markdown",
   "metadata": {},
   "source": [
    "have them do this but instead _all_cards contains \n",
    "the objects themselves.\n",
    "Instantiate ace, king, queen, jack"
   ]
  },
  {
   "cell_type": "markdown",
   "metadata": {},
   "source": [
    "so for this example, we say many cards belong to one overall Card class"
   ]
  },
  {
   "cell_type": "code",
   "execution_count": null,
   "metadata": {},
   "outputs": [],
   "source": []
  }
 ],
 "metadata": {
  "kernelspec": {
   "display_name": "Python 3",
   "language": "python",
   "name": "python3"
  },
  "language_info": {
   "codemirror_mode": {
    "name": "ipython",
    "version": 3
   },
   "file_extension": ".py",
   "mimetype": "text/x-python",
   "name": "python",
   "nbconvert_exporter": "python",
   "pygments_lexer": "ipython3",
   "version": "3.8.1"
  }
 },
 "nbformat": 4,
 "nbformat_minor": 4
}
