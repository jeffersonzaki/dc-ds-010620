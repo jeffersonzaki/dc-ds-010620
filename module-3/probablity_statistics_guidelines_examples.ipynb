{
 "cells": [
  {
   "cell_type": "markdown",
   "metadata": {},
   "source": [
    "https://github.com/adam-p/markdown-here/wiki/Markdown-Cheatsheet\n",
    "# LEGEND: \n",
    "    gudieline = Black\n",
    "    easy      = Blue\n",
    "    Medium    = Green\n",
    "    Hard      = Red\n",
    "    VeryHard  = Pink\n",
    "    Math      = Gray\n",
    "    \n",
    "<a id=\"table_content\"> </a>\n",
    "# Table of Content \n",
    "| Topic  | Concept            |\n",
    "|--------|--------------------|\n",
    "|Formulas|<a href=\"#formula_z_t_samp\"> Z-score, T-score, standard-error[one sample, two sample]   </a> |\n",
    "|Statistic|<a href=\"#sampling_estimate_population\"> Sampling to estimate population  </a> |\n",
    "|Statistic|<a href=\"#detecting_normal_distribution\"> Detecting Normal Distribution </a>     |\n",
    "|Statistic|<a href=\"#skewness_kurtosis\">  Calculate Skewness and kurtosis </a>|\n",
    "|Statistic|<a href=\"#confidence_interval\">  Calculate Confidence interval</a>|\n",
    "|Statistic|<a href=\"#effect_sizes\"> Effect Sizes </a>|\n",
    "|Statistic|<a href=\"#cohen_d\"> Cohen's D Effect Size Calculation </a>|\n",
    "|Statistic|<a href=\"#bayes\"> Bayes </a>|\n",
    "|Distribution|<a href=\"#poisson\">  Poisson </a>|\n",
    "|Distribution|<a href=\"#exponential\">  Exponential</a>|\n",
    "|Generate Distrubtion |<a href=\"#binomial_bernoulli_trial\"> Randomly generate Binomial and Bernoulli trials. </a>         |\n",
    "|Test  |<a href=\"#test_fast\"> *Calculatinng Test (fast) </a>   |\n",
    "|Test |<a href=\"#one_sample_z_test\"> One sample Z - test  </a>         |\n",
    "|Test |<a href=\"#one_sample_t_test\"> One sample T - test  </a>         |\n",
    "|Test |<a href=\"#two_sample_t_test\"> Two sample T - test  </a>         |\n",
    "|Test |<a href=\"#welch_t_test\"> *Welch's t-test  </a>         |\n",
    "|Test |<a href=\"#anova_table\"> ANOVA table </a>         |\n",
    "|Test |<a href=\"#power_beta\"> Power Analysis and recommendation </a>|\n",
    "|--------|--------------------|"
   ]
  },
  {
   "cell_type": "markdown",
   "metadata": {},
   "source": [
    "##### Choosing a statitical test\n",
    "    https://stats.idre.ucla.edu/other/mult-pkg/whatstat/\n",
    "    https://online.stat.psu.edu/stat414/node/290/\n",
    "    https://www.ncbi.nlm.nih.gov/pmc/articles/PMC3116565/"
   ]
  },
  {
   "cell_type": "markdown",
   "metadata": {},
   "source": [
    "<a id=\"formula_z_t_samp\"> </a>\n",
    "# Formulas - <span style=\"color:blue\"> Z-score, T-score, standard-error[one sample, two sample],   </span>\n",
    "</span> <a href=\"#table_content\"> [Return to table]</a>\n",
    "\n",
    "\n",
    "$$ \\large \\text{standard error} = \\dfrac{\\sigma}{\\sqrt{n}} $$\n",
    "\n",
    "$$ \\large \\text{z-statistic} = \\dfrac{\\bar x - \\mu}{{\\sigma}/{\\sqrt{n}}} $$\n",
    "\n",
    "$$ \\large \\text{t-statistic} = \\dfrac{\\bar x - \\mu}{{S}/{\\sqrt{n}}} $$\n",
    "\n",
    "\n",
    "$$ \\large \\text{Standard error two sample t}  = \\sqrt{\\frac{\\sigma_{1}^{2}}{n_{1}} + \\frac{\\sigma_{2}^{2}}{n_{2}}} $$\n",
    "\n",
    "\n",
    "$$\\large \\text{Bayes}  P(A|B) = \\frac{P(A)P(B|A)}{P(B)} $$"
   ]
  },
  {
   "cell_type": "markdown",
   "metadata": {},
   "source": [
    "<a id=\"General_guides\"> </a>\n",
    "# Statistic - <span style=\"color:black\"> Guidelines</span>\n",
    "</span> <a href=\"#table_content\"> [Return to table]</a>\n",
    "\n",
    "### The Multiple Comparisons Problem\n",
    "#### ----Spurious correlation \n",
    "    A Type 1 Error, meaning that it's a type of False Positive. With each comparison we make in an experiment, we try to set a really low p-value to limit our exposure to type 1 errors. owever, when we make multiple comparisons by checking for many things at once, each of the small risks of a Type 1 error becomes cumulative!\n",
    "#### <span style=\"color:red\"> ----The Bonferroni correction(FIGHT BACK/ FIX)</span>\n",
    "    Due to the cumulative risk of drawing false conclusions when statistically testing multiple quantities simultaneously With the Bonferroni correction, you divide  $\\alpha$  by the number of comparisons you are making to set a new, adjusted threshold rejecting the null hypothesis.\n",
    "\n",
    "### Goodhart’s Law\n",
    "    \"Any measure which becomes a target ceases to be an effective measure!\"\n",
    "    Best example: https://en.wikipedia.org/wiki/Cobra_effect\n",
    "    \n",
    "    As a data scientist, it is important to communicate your results clearly to stakeholders -- but it is also important to be the voice of reason at times. he sooner you know how they plan on using your results, the more you can help them avoid ugly unforeseen problems that come from Goodhart's law"
   ]
  },
  {
   "cell_type": "markdown",
   "metadata": {},
   "source": [
    "<a id=\"sampling_estimate_population\"> </a>\n",
    "# Statistic - <span style=\"color:green\"> Sampling to estimate population </span>\n",
    "</span> <a href=\"#table_content\"> [Return to table]</a>"
   ]
  },
  {
   "cell_type": "code",
   "execution_count": 42,
   "metadata": {},
   "outputs": [
    {
     "data": {
      "text/html": [
       "<div>\n",
       "<style scoped>\n",
       "    .dataframe tbody tr th:only-of-type {\n",
       "        vertical-align: middle;\n",
       "    }\n",
       "\n",
       "    .dataframe tbody tr th {\n",
       "        vertical-align: top;\n",
       "    }\n",
       "\n",
       "    .dataframe thead th {\n",
       "        text-align: right;\n",
       "    }\n",
       "</style>\n",
       "<table border=\"1\" class=\"dataframe\">\n",
       "  <thead>\n",
       "    <tr style=\"text-align: right;\">\n",
       "      <th></th>\n",
       "      <th>Unnamed: 0</th>\n",
       "      <th>PassengerId</th>\n",
       "      <th>Survived</th>\n",
       "      <th>Pclass</th>\n",
       "      <th>Name</th>\n",
       "      <th>Sex</th>\n",
       "      <th>Age</th>\n",
       "      <th>SibSp</th>\n",
       "      <th>Parch</th>\n",
       "      <th>Ticket</th>\n",
       "      <th>Fare</th>\n",
       "      <th>Cabin</th>\n",
       "      <th>Embarked</th>\n",
       "    </tr>\n",
       "  </thead>\n",
       "  <tbody>\n",
       "    <tr>\n",
       "      <th>0</th>\n",
       "      <td>0</td>\n",
       "      <td>1</td>\n",
       "      <td>0</td>\n",
       "      <td>3</td>\n",
       "      <td>Braund, Mr. Owen Harris</td>\n",
       "      <td>male</td>\n",
       "      <td>22.0</td>\n",
       "      <td>1</td>\n",
       "      <td>0</td>\n",
       "      <td>A/5 21171</td>\n",
       "      <td>7.2500</td>\n",
       "      <td>NaN</td>\n",
       "      <td>S</td>\n",
       "    </tr>\n",
       "    <tr>\n",
       "      <th>1</th>\n",
       "      <td>1</td>\n",
       "      <td>2</td>\n",
       "      <td>1</td>\n",
       "      <td>1</td>\n",
       "      <td>Cumings, Mrs. John Bradley (Florence Briggs Th...</td>\n",
       "      <td>female</td>\n",
       "      <td>38.0</td>\n",
       "      <td>1</td>\n",
       "      <td>0</td>\n",
       "      <td>PC 17599</td>\n",
       "      <td>71.2833</td>\n",
       "      <td>C85</td>\n",
       "      <td>C</td>\n",
       "    </tr>\n",
       "    <tr>\n",
       "      <th>2</th>\n",
       "      <td>2</td>\n",
       "      <td>3</td>\n",
       "      <td>1</td>\n",
       "      <td>3</td>\n",
       "      <td>Heikkinen, Miss. Laina</td>\n",
       "      <td>female</td>\n",
       "      <td>26.0</td>\n",
       "      <td>0</td>\n",
       "      <td>0</td>\n",
       "      <td>STON/O2. 3101282</td>\n",
       "      <td>7.9250</td>\n",
       "      <td>NaN</td>\n",
       "      <td>S</td>\n",
       "    </tr>\n",
       "  </tbody>\n",
       "</table>\n",
       "</div>"
      ],
      "text/plain": [
       "   Unnamed: 0  PassengerId  Survived Pclass  \\\n",
       "0           0            1         0      3   \n",
       "1           1            2         1      1   \n",
       "2           2            3         1      3   \n",
       "\n",
       "                                                Name     Sex   Age  SibSp  \\\n",
       "0                            Braund, Mr. Owen Harris    male  22.0      1   \n",
       "1  Cumings, Mrs. John Bradley (Florence Briggs Th...  female  38.0      1   \n",
       "2                             Heikkinen, Miss. Laina  female  26.0      0   \n",
       "\n",
       "   Parch            Ticket     Fare Cabin Embarked  \n",
       "0      0         A/5 21171   7.2500   NaN        S  \n",
       "1      0          PC 17599  71.2833   C85        C  \n",
       "2      0  STON/O2. 3101282   7.9250   NaN        S  "
      ]
     },
     "metadata": {},
     "output_type": "display_data"
    },
    {
     "name": "stdout",
     "output_type": "stream",
     "text": [
      "Population_age_mean: 29.69911764705882 \n",
      "Sample_age_mean: 27.79268292682927\n",
      "Error_from_first_sample: 0.02097845708657431 \n",
      "Percentage_of_this_error: 0.0007063663417842941\n",
      "\n",
      "Mean of means: 29.678139189972246\n",
      "Error_mean_of_means: 0.02097845708657431 \n",
      "Percentage_of_this_error: 0.0007063663417842941\n",
      "Accuracy: 0.9992936336582157\n"
     ]
    }
   ],
   "source": [
    "import numpy as np\n",
    "import pandas as pd\n",
    "\n",
    "df = pd.read_csv('titanic.csv')\n",
    "\n",
    "population_mean = df.Age.mean()\n",
    "sample_df = df.sample(n=50, random_state=22)         #Take a sample of 50 people\n",
    "err = np.abs(sample_df.Age.mean() - population_mean) #Calculate error\n",
    "per_err = err / population_mean                      #Define the percentage of the error\n",
    "\n",
    "sample_means = []\n",
    "for i in range(10**4):\n",
    "    sample = df.sample(n=50, random_state=i)           #Take a sample of 50 people\n",
    "    sample_means.append(sample.Age.mean())             #Calculate the sample mean and record it multiple times\n",
    "\n",
    "mean_sample_means = np.mean(sample_means) \n",
    "err = np.abs(mean_sample_means - population_mean)      #Calculate error of mean of means\n",
    "per_err = err / population_mean                        #Define the percentage of the error             #\n",
    "acc = 1 - (np.abs(mean_sample_means - population_mean) / population_mean) #Accuracy\n",
    "\n",
    "\n",
    "display(df.head(3))\n",
    "#Calculate the Population and Sample mean\n",
    "print(f'Population_age_mean: {population_mean} \\nSample_age_mean: {sample_df.Age.mean()}') \n",
    "print(f'Error_from_first_sample: {err} \\nPercentage_of_this_error: {per_err}')\n",
    "print()\n",
    "print(f'Mean of means: {np.mean(sample_means)}')\n",
    "print(f'Error_mean_of_means: {err} \\nPercentage_of_this_error: {per_err}')\n",
    "print(f'Accuracy: {acc}')"
   ]
  },
  {
   "cell_type": "markdown",
   "metadata": {},
   "source": [
    "<a id=\"detecting_normal_distribution\"> </a>\n",
    "# Statistic - <span style=\"color:blue\"> Detecting Normal Distribution </span>\n",
    "</span> <a href=\"#table_content\"> [Return to table]</a>"
   ]
  },
  {
   "cell_type": "code",
   "execution_count": 21,
   "metadata": {},
   "outputs": [
    {
     "name": "stdout",
     "output_type": "stream",
     "text": [
      "NormaltestResult(statistic=904.5872705326926, pvalue=3.727091062842147e-197)\n"
     ]
    },
    {
     "data": {
      "image/png": "[encoded data removed]",
      "text/plain": [
       "<Figure size 432x288 with 1 Axes>"
      ]
     },
     "metadata": {
      "needs_background": "light"
     },
     "output_type": "display_data"
    }
   ],
   "source": [
    "# Simply plot the data in a histogram and use intutiton to detemine if the distrubtion is normal.\n",
    "import pandas as pd\n",
    "import numpy as np\n",
    "import matplotlib.pyplot as plt\n",
    "%matplotlib inline\n",
    "import seaborn as sns\n",
    "import scipy.stats as st\n",
    "\n",
    "df = pd.read_csv('titanic.csv')\n",
    "plt.hist(df['Fare']);\n",
    "print(st.normaltest(df['Fare']))"
   ]
  },
  {
   "cell_type": "markdown",
   "metadata": {},
   "source": [
    "<a id=\"binomial_bernoulli_trial\"> </a>\n",
    "# Statistic - <span style=\"color:blue\"> Randomly generate Binomial and Bernoulli trials </span>\n",
    "</span> <a href=\"#table_content\"> [Return to table]</a>"
   ]
  },
  {
   "cell_type": "code",
   "execution_count": 21,
   "metadata": {},
   "outputs": [
    {
     "name": "stdout",
     "output_type": "stream",
     "text": [
      "78\n"
     ]
    },
    {
     "data": {
      "image/png": "[encoded data removed]",
      "text/plain": [
       "<Figure size 432x288 with 1 Axes>"
      ]
     },
     "metadata": {
      "needs_background": "light"
     },
     "output_type": "display_data"
    }
   ],
   "source": [
    "import numpy as np\n",
    "import matplotlib.pyplot as plt\n",
    "%matplotlib inline\n",
    "np.random.seed(123) # set a seed to get the same results\n",
    "\n",
    "#100 Bernoulli trial. Out of 100 results 78 where successes. The probability of success each time was 80%\n",
    "print(np.random.binomial(n=100, p=0.8))\n",
    "\n",
    "#Binomial trial == multiple benoulli trials\n",
    "n = 1000\n",
    "iteration = [ np.random.binomial(n=100, p=0.8) for _ in range(n)]\n",
    "iteration = np.array(iteration)\n",
    "probablity = iteration/n\n",
    "plt.bar(iteration, probablity)\n",
    "plt.ylabel('Fraction')\n",
    "plt.title('Number of penalty goals');"
   ]
  },
  {
   "cell_type": "markdown",
   "metadata": {},
   "source": [
    "<a id=\"skewness_kurtosis\"> </a>\n",
    "# Statistic - <span style=\"color:blue\"> Calculate Skewness and kurtosis </span>\n",
    "</span> <a href=\"#table_content\"> [Return to table]</a>\n",
    "\n",
    "#### [Use Case]\n",
    "    - Skewness can esitmate a distrubtion better\n",
    "    - Kurtosis is used to detect outliers. Useful in fruad detection\n",
    "\n",
    "\n",
    "## Skewness\n",
    "    ##### symmetrical\n",
    "    A skewness between -0.5 and 0.5\n",
    "\n",
    "    ##### moderately skewed\n",
    "    A skewness between -1 and -0.5 (negatively skewed) or between 0.5 and 1 (positively skewed)\n",
    "\n",
    "    ##### highly skewed\n",
    "    A skewness smaller than -1 (negatively skewed) or bigger than 1 (positively skewed\n",
    "\n",
    "\n",
    "## kurtosis\n",
    "    ##### Mesokurtic ( kurtosis≈3 )\n",
    "    A mesokurtic distribution has kurtosis statistics that lie close to the ones of a normal distribution. Mesokurtic distributions have a kurtosis of around 3. According to this definition, the standard normal distribution has a kurtosis of 3.\n",
    "\n",
    "    ##### Platykurtic ( kurtosis<3 ):\n",
    "    When a distribution is platykurtic, the distribution is shorter and tails are thinner than the normal distribution. The peak is lower and broader than Mesokurtic, which means that the tails are light and that there are fewer outliers than in a normal distribution.\n",
    "\n",
    "    ##### Leptokurtic ( kurtosis>3 )\n",
    "    When you have a leptokurtic distribution, you have a distribution with longer and fatter tails. The peak is higher and sharper than the peak of a normal distribution, which means that data have heavy tails and that there are more outliers.\n",
    "    Outliers stretch your horizontal axis of the distribution, which means that the majority of the data appear in a narrower vertical range. This is why the leptokurtic distribution looks \"skinny\".\n",
    "\n",
    "\n",
    "    - Data is normally distributed (obviously) and thus symmetrical \n",
    "    - very slight negative skewness is observed as there are slightly more values on the right \n",
    "    - side of distribution mean than those on left side\n",
    "    - The kurtosis value shows that this distribution is Platykurtic: The Kurtosis < 0 . In this implementation\n",
    "      of kurtosis (Fisher's), 3 is subtracted from the Pearson kurtosis. Fisher's kurtosis is also known as excess \n",
    "      kurtosis.\n",
    "    - Data is light tailed, and has no outliers. "
   ]
  },
  {
   "cell_type": "code",
   "execution_count": 40,
   "metadata": {},
   "outputs": [
    {
     "name": "stdout",
     "output_type": "stream",
     "text": [
      "Skewness = 0.03683735523425824\n",
      "kurtosis = -0.006848669935832774\n"
     ]
    },
    {
     "data": {
      "image/png": "[encoded data removed]",
      "text/plain": [
       "<Figure size 432x288 with 1 Axes>"
      ]
     },
     "metadata": {
      "needs_background": "light"
     },
     "output_type": "display_data"
    }
   ],
   "source": [
    "import numpy as np\n",
    "import matplotlib.pyplot as plt\n",
    "from scipy.stats import kurtosis, skew\n",
    "\n",
    "\n",
    "x_random = np.random.normal(0, 2, 10000)\n",
    "plt.hist(x_random, bins='auto')\n",
    "print ('Skewness =', skew(x_random))\n",
    "print ('kurtosis =', kurtosis(x_random))"
   ]
  },
  {
   "cell_type": "markdown",
   "metadata": {},
   "source": [
    "<a id=\"confidence_interval\"> </a>\n",
    "# Statistic - <span style=\"color:blue\">  Confindence Interval </span>\n",
    "</span> <a href=\"#table_content\"> [Return to table]</a>"
   ]
  },
  {
   "cell_type": "code",
   "execution_count": 21,
   "metadata": {},
   "outputs": [
    {
     "data": {
      "text/html": [
       "<div>\n",
       "<style scoped>\n",
       "    .dataframe tbody tr th:only-of-type {\n",
       "        vertical-align: middle;\n",
       "    }\n",
       "\n",
       "    .dataframe tbody tr th {\n",
       "        vertical-align: top;\n",
       "    }\n",
       "\n",
       "    .dataframe thead th {\n",
       "        text-align: right;\n",
       "    }\n",
       "</style>\n",
       "<table border=\"1\" class=\"dataframe\">\n",
       "  <thead>\n",
       "    <tr style=\"text-align: right;\">\n",
       "      <th></th>\n",
       "      <th>Duration</th>\n",
       "      <th>Start date</th>\n",
       "      <th>End date</th>\n",
       "      <th>Start station number</th>\n",
       "      <th>Start station</th>\n",
       "      <th>End station number</th>\n",
       "      <th>End station</th>\n",
       "      <th>Bike number</th>\n",
       "      <th>Member type</th>\n",
       "    </tr>\n",
       "  </thead>\n",
       "  <tbody>\n",
       "    <tr>\n",
       "      <th>0</th>\n",
       "      <td>313</td>\n",
       "      <td>2019-04-01 00:03:03</td>\n",
       "      <td>2019-04-01 00:08:16</td>\n",
       "      <td>31618</td>\n",
       "      <td>4th &amp; East Capitol St NE</td>\n",
       "      <td>31630</td>\n",
       "      <td>15th &amp; East Capitol St NE</td>\n",
       "      <td>W24063</td>\n",
       "      <td>Member</td>\n",
       "    </tr>\n",
       "    <tr>\n",
       "      <th>1</th>\n",
       "      <td>453</td>\n",
       "      <td>2019-04-01 00:07:37</td>\n",
       "      <td>2019-04-01 00:15:10</td>\n",
       "      <td>31119</td>\n",
       "      <td>14th &amp; Belmont St NW</td>\n",
       "      <td>31298</td>\n",
       "      <td>15th &amp; M St NW</td>\n",
       "      <td>W22080</td>\n",
       "      <td>Member</td>\n",
       "    </tr>\n",
       "    <tr>\n",
       "      <th>2</th>\n",
       "      <td>333</td>\n",
       "      <td>2019-04-01 00:09:31</td>\n",
       "      <td>2019-04-01 00:15:05</td>\n",
       "      <td>31203</td>\n",
       "      <td>14th &amp; Rhode Island Ave NW</td>\n",
       "      <td>31519</td>\n",
       "      <td>1st &amp; O St NW</td>\n",
       "      <td>W00276</td>\n",
       "      <td>Member</td>\n",
       "    </tr>\n",
       "  </tbody>\n",
       "</table>\n",
       "</div>"
      ],
      "text/plain": [
       "   Duration           Start date             End date  Start station number  \\\n",
       "0       313  2019-04-01 00:03:03  2019-04-01 00:08:16                 31618   \n",
       "1       453  2019-04-01 00:07:37  2019-04-01 00:15:10                 31119   \n",
       "2       333  2019-04-01 00:09:31  2019-04-01 00:15:05                 31203   \n",
       "\n",
       "                Start station  End station number                End station  \\\n",
       "0    4th & East Capitol St NE               31630  15th & East Capitol St NE   \n",
       "1        14th & Belmont St NW               31298             15th & M St NW   \n",
       "2  14th & Rhode Island Ave NW               31519              1st & O St NW   \n",
       "\n",
       "  Bike number Member type  \n",
       "0      W24063      Member  \n",
       "1      W22080      Member  \n",
       "2      W00276      Member  "
      ]
     },
     "metadata": {},
     "output_type": "display_data"
    },
    {
     "name": "stdout",
     "output_type": "stream",
     "text": [
      "Confidence Interval in seconds (1134.0575188084035, 1182.8824811915965)\n"
     ]
    }
   ],
   "source": [
    "import pandas as pd\n",
    "import numpy as np\n",
    "import matplotlib.pyplot as plt\n",
    "%matplotlib inline\n",
    "#95% confidence interval in seconds\n",
    "\n",
    "df = pd.read_csv('201904-capitalbikeshare-tripdata.csv')\n",
    "sample_size = 200 \n",
    "sample = np.random.choice(df.Duration, size=sample_size)\n",
    "sample_mean = sample.mean()\n",
    "z_critical = stats.norm.ppf(0.975)\n",
    "\n",
    "sigma = df.Duration.std()\n",
    "standard_error = sigma/np.sqrt(sample_size)\n",
    "margin_of_error = z_critical * standard_error/np.sqrt(sample_size)\n",
    "\n",
    "display(df.head(3))\n",
    "confidence_interval = (sample_mean-margin_of_error, sample_mean+margin_of_error)\n",
    "print(f'Confidence Interval in seconds {confidence_interval}')"
   ]
  },
  {
   "cell_type": "markdown",
   "metadata": {},
   "source": [
    "<a id=\"effect_sizes\"> </a>\n",
    "# Statistic - <span style=\"color:blue\">  Effect Sizes  </span>\n",
    "</span> <a href=\"#table_content\"> [Return to table]</a>"
   ]
  },
  {
   "cell_type": "code",
   "execution_count": 26,
   "metadata": {},
   "outputs": [
    {
     "data": {
      "image/png": "[encoded data removed]",
      "text/plain": [
       "<Figure size 432x288 with 1 Axes>"
      ]
     },
     "metadata": {
      "needs_background": "light"
     },
     "output_type": "display_data"
    }
   ],
   "source": [
    "# Import SciPy stats and matplotlib for calculating and visualising effect size\n",
    "import scipy.stats\n",
    "import matplotlib.pyplot as plt\n",
    "%matplotlib inline\n",
    "\n",
    "def evaluate_PDF(rv, x=4):\n",
    "    '''Input: a random variable object, standard deviation\n",
    "    output : x and y values for the normal distribution\n",
    "    '''\n",
    "    \n",
    "    # Identify the mean and standard deviation of random variable \n",
    "    mean = rv.mean()\n",
    "    std = rv.std()\n",
    "\n",
    "    # Use numpy to calculate evenly spaced numbers over the specified interval (4 sd) and generate 100 samples.\n",
    "    xs = np.linspace(mean - x*std, mean + x*std, 100)\n",
    "    \n",
    "    # Calculate the peak of normal distribution i.e. probability density. \n",
    "    ys = rv.pdf(xs)\n",
    "\n",
    "    return xs, ys # Return calculated values\n",
    "\n",
    "\n",
    "# seed the random number generator so you get the same results\n",
    "np.random.seed(10)\n",
    "\n",
    "#Mean height and sd for males #### Generate a normal distribution for male heights \n",
    "male_mean = 178\n",
    "male_sd = 7.7\n",
    "male_height = scipy.stats.norm(male_mean, male_sd)\n",
    "\n",
    "female_mean = 163\n",
    "female_sd = 7.3\n",
    "female_height = scipy.stats.norm(female_mean, female_sd)\n",
    "\n",
    "#Get samples\n",
    "male_sample = male_height.rvs(1000)\n",
    "mean1, std1 = male_sample.mean(), male_sample.std()\n",
    "female_sample = female_height.rvs(1000)\n",
    "mean2, std2 = female_sample.mean(), female_sample.std()\n",
    "\n",
    "\n",
    "#Calucalate the threshold----------------------------------------------------------------------\n",
    "# Simple way of getting a threshold\n",
    "simple_thresh = (mean1 + mean2) / 2\n",
    "\n",
    "#Better way of getting a threshold\n",
    "thresh = (std1 * mean2 + std2 * mean1) / (std1 + std2)\n",
    "\n",
    "\n",
    "female_above_thresh = sum(female_sample > thresh)\n",
    "male_below_thresh = sum(male_sample < thresh)\n",
    "\n",
    "#Calculate ovelap & potential misclassification----------------------------------------------------\n",
    "overlap = male_below_thresh / len(male_sample) + female_above_thresh / len(female_sample)\n",
    "misclassification_rate = overlap / 2\n",
    "\n",
    "\n",
    "\n",
    "# Threshold highlighted\n",
    "# Male height\n",
    "m_xs, male_ys = evaluate_PDF(male_height)\n",
    "plt.plot(m_xs, male_ys, label='male', linewidth=4, color='#beaed4') \n",
    "\n",
    "#Female height \n",
    "f_xs, female_ys = evaluate_PDF(female_height)\n",
    "plt.plot(f_xs, female_ys, label='female', linewidth=4, color='#fdc086')\n",
    "\n",
    "plt.vlines(thresh,ymin=0,ymax=0.06)\n",
    "plt.fill_betweenx(male_ys,x1 = m_xs,x2=thresh, where = m_xs < thresh,color='b')\n",
    "plt.fill_betweenx(female_ys,x1=f_xs,x2=thresh, where = f_xs > thresh,color='b')\n",
    "plt.xlabel('height (cm)')\n",
    "plt.title('Male & Female with overlap AUCs');\n",
    "\n"
   ]
  },
  {
   "cell_type": "markdown",
   "metadata": {},
   "source": [
    "<a id=\"cohen_d\"> </a>\n",
    "# Statistic - <span style=\"color:blue\">  Cohen's D Effect Size Calculation   </span>\n",
    "</span> <a href=\"#table_content\"> [Return to table]</a>\n",
    "\n",
    "\n",
    "### [Use Case]:\n",
    "    In some instances the p-val may be unreliable due to an incredibly large sample size. It will be significant but it may not be something you care about. Cohen d effect size is more reliable due to not factoring in sample size n. \n",
    "    \n",
    "    Cohen d measures the difference in means. Works with continuous data\n",
    "\n",
    ">**Small effect = 0.2**\n",
    "\n",
    ">**Medium Effect = 0.5**\n",
    "\n",
    ">**Large Effect = 0.8**"
   ]
  },
  {
   "cell_type": "code",
   "execution_count": 30,
   "metadata": {},
   "outputs": [
    {
     "name": "stdout",
     "output_type": "stream",
     "text": [
      "2.0669285200851877\n"
     ]
    },
    {
     "ename": "NameError",
     "evalue": "name 'overlap_superiority' is not defined",
     "output_type": "error",
     "traceback": [
      "\u001b[1;31m---------------------------------------------------------------------------\u001b[0m",
      "\u001b[1;31mNameError\u001b[0m                                 Traceback (most recent call last)",
      "\u001b[1;32m<ipython-input-30-9cfe951f70b9>\u001b[0m in \u001b[0;36m<module>\u001b[1;34m\u001b[0m\n\u001b[0;32m     63\u001b[0m \u001b[1;33m\u001b[0m\u001b[0m\n\u001b[0;32m     64\u001b[0m \u001b[0mprint\u001b[0m\u001b[1;33m(\u001b[0m\u001b[0mCohen_d\u001b[0m\u001b[1;33m(\u001b[0m\u001b[0mmale_sample\u001b[0m\u001b[1;33m,\u001b[0m \u001b[0mfemale_sample\u001b[0m\u001b[1;33m)\u001b[0m\u001b[1;33m)\u001b[0m\u001b[1;33m\u001b[0m\u001b[1;33m\u001b[0m\u001b[0m\n\u001b[1;32m---> 65\u001b[1;33m \u001b[0mplot_pdfs\u001b[0m\u001b[1;33m(\u001b[0m\u001b[1;36m5\u001b[0m\u001b[1;33m)\u001b[0m\u001b[1;33m\u001b[0m\u001b[1;33m\u001b[0m\u001b[0m\n\u001b[0m",
      "\u001b[1;32m<ipython-input-30-9cfe951f70b9>\u001b[0m in \u001b[0;36mplot_pdfs\u001b[1;34m(cohen_d)\u001b[0m\n\u001b[0;32m     16\u001b[0m     \u001b[0mplt\u001b[0m\u001b[1;33m.\u001b[0m\u001b[0mfill_between\u001b[0m\u001b[1;33m(\u001b[0m\u001b[0mxs\u001b[0m\u001b[1;33m,\u001b[0m \u001b[0mys\u001b[0m\u001b[1;33m,\u001b[0m \u001b[0mlabel\u001b[0m\u001b[1;33m=\u001b[0m\u001b[1;34m'Group2'\u001b[0m\u001b[1;33m,\u001b[0m \u001b[0mcolor\u001b[0m\u001b[1;33m=\u001b[0m\u001b[1;34m'#376cb0'\u001b[0m\u001b[1;33m,\u001b[0m \u001b[0malpha\u001b[0m\u001b[1;33m=\u001b[0m\u001b[1;36m0.7\u001b[0m\u001b[1;33m)\u001b[0m\u001b[1;33m\u001b[0m\u001b[1;33m\u001b[0m\u001b[0m\n\u001b[0;32m     17\u001b[0m \u001b[1;33m\u001b[0m\u001b[0m\n\u001b[1;32m---> 18\u001b[1;33m     \u001b[0mo\u001b[0m\u001b[1;33m,\u001b[0m \u001b[0ms\u001b[0m \u001b[1;33m=\u001b[0m \u001b[0moverlap_superiority\u001b[0m\u001b[1;33m(\u001b[0m\u001b[0mgroup1\u001b[0m\u001b[1;33m,\u001b[0m \u001b[0mgroup2\u001b[0m\u001b[1;33m)\u001b[0m\u001b[1;33m\u001b[0m\u001b[1;33m\u001b[0m\u001b[0m\n\u001b[0m\u001b[0;32m     19\u001b[0m     \u001b[0mprint\u001b[0m\u001b[1;33m(\u001b[0m\u001b[1;34m'overlap'\u001b[0m\u001b[1;33m,\u001b[0m \u001b[0mo\u001b[0m\u001b[1;33m)\u001b[0m\u001b[1;33m\u001b[0m\u001b[1;33m\u001b[0m\u001b[0m\n\u001b[0;32m     20\u001b[0m     \u001b[0mprint\u001b[0m\u001b[1;33m(\u001b[0m\u001b[1;34m'superiority'\u001b[0m\u001b[1;33m,\u001b[0m \u001b[0ms\u001b[0m\u001b[1;33m)\u001b[0m\u001b[1;33m\u001b[0m\u001b[1;33m\u001b[0m\u001b[0m\n",
      "\u001b[1;31mNameError\u001b[0m: name 'overlap_superiority' is not defined"
     ]
    },
    {
     "data": {
      "image/png": "[encoded data removed]",
      "text/plain": [
       "<Figure size 432x288 with 1 Axes>"
      ]
     },
     "metadata": {
      "image/png": {
       "height": 248,
       "width": 375
      },
      "needs_background": "light"
     },
     "output_type": "display_data"
    }
   ],
   "source": [
    "import scipy.stats\n",
    "import matplotlib.pyplot as plt\n",
    "%matplotlib inline\n",
    "\n",
    "def plot_pdfs(cohen_d=2):\n",
    "    \"\"\"Plot PDFs for distributions that differ by some number of stds.\n",
    "    \n",
    "    cohen_d: number of standard deviations between the means\n",
    "    \"\"\"\n",
    "    group1 = scipy.stats.norm(0, 1)\n",
    "    group2 = scipy.stats.norm(cohen_d, 1)\n",
    "    xs, ys = evaluate_PDF(group1)\n",
    "    plt.fill_between(xs, ys, label='Group1', color='#ff2289', alpha=0.7)\n",
    "\n",
    "    xs, ys = evaluate_PDF(group2)\n",
    "    plt.fill_between(xs, ys, label='Group2', color='#376cb0', alpha=0.7)\n",
    "    \n",
    "    o, s = overlap_superiority(group1, group2)\n",
    "    print('overlap', o)\n",
    "    print('superiority', s)\n",
    "    \n",
    "def Cohen_d(group1, group2):\n",
    "\n",
    "    # Compute Cohen's d.\n",
    "\n",
    "    # group1: Series or NumPy array\n",
    "    # group2: Series or NumPy array\n",
    "\n",
    "    # returns a floating point number \n",
    "\n",
    "    diff = group1.mean() - group2.mean()\n",
    "\n",
    "    n1, n2 = len(group1), len(group2)\n",
    "    var1 = group1.var()\n",
    "    var2 = group2.var()\n",
    "\n",
    "    # Calculate the pooled threshold as shown earlier\n",
    "    pooled_var = (n1 * var1 + n2 * var2) / (n1 + n2)\n",
    "    \n",
    "    # Calculate Cohen's d statistic\n",
    "    d = diff / np.sqrt(pooled_var)\n",
    "    \n",
    "    return d\n",
    "\n",
    "\n",
    "# seed the random number generator so you get the same results\n",
    "np.random.seed(10)\n",
    "\n",
    "#Mean height and sd for males #### Generate a normal distribution for male heights \n",
    "male_mean = 178\n",
    "male_sd = 7.7\n",
    "male_height = scipy.stats.norm(male_mean, male_sd)\n",
    "\n",
    "female_mean = 163\n",
    "female_sd = 7.3\n",
    "female_height = scipy.stats.norm(female_mean, female_sd)\n",
    "\n",
    "#Get samples\n",
    "male_sample = male_height.rvs(1000)\n",
    "mean1, std1 = male_sample.mean(), male_sample.std()\n",
    "female_sample = female_height.rvs(1000)\n",
    "mean2, std2 = female_sample.mean(), female_sample.std()\n",
    "\n",
    "print(Cohen_d(male_sample, female_sample))\n",
    "plot_pdfs(5)"
   ]
  },
  {
   "cell_type": "markdown",
   "metadata": {},
   "source": [
    "<a id=\"bayes\"> </a>\n",
    "# Statistic - <span style=\"color:blue\">  Bayes   </span>\n",
    "</span> <a href=\"#table_content\"> [Return to table]</a>"
   ]
  },
  {
   "cell_type": "code",
   "execution_count": null,
   "metadata": {},
   "outputs": [],
   "source": []
  },
  {
   "cell_type": "markdown",
   "metadata": {},
   "source": [
    "<a id=\"poisson\"> </a>\n",
    "# Distribution - <span style=\"color:blue\">  Poisson </span>\n",
    "</span> <a href=\"#table_content\"> [Return to table]</a>\n",
    "\n",
    "\n",
    "#### [Use Case]\n",
    "    allows you to calculate the probability of a given event happening by examining the mean number of events that happen in a given time period. Given a set time period, we can use the Poisson Distribution to predict how many times a given event will happen over that time period\n",
    "\n",
    "#### [Formula]\n",
    "$$p(x) = \\frac{\\lambda^xe^{-\\lambda}}{x!}$$\n",
    "\n",
    "$$\\lambda = n*p$$\n",
    "\n",
    "$$p = \\frac{mew}{n} = 0.1$$\n",
    "\n",
    "    n = time units (60min, 1hr, 500sec)\n",
    "    x = number of desired successes within given n\n",
    "    p = probability\n",
    "    mew = average number of successes in given n\n",
    "    lambda = expected values"
   ]
  },
  {
   "cell_type": "code",
   "execution_count": 63,
   "metadata": {},
   "outputs": [
    {
     "name": "stdout",
     "output_type": "stream",
     "text": [
      "0.14652511110987343\n",
      "0.14652511110987343\n"
     ]
    }
   ],
   "source": [
    "\"\"\"\n",
    "A fireman fights, on average, 4 fires per month. What is the \n",
    "probability that a fireman is called to two different fires this week?\n",
    "\"\"\"\n",
    "import numpy as np\n",
    "from math import factorial\n",
    "import scipy.stats as stats\n",
    "\n",
    "#Way 1--------------------------------------------------------------\n",
    "def poisson_probability(lambd, x):\n",
    "    return ((lambd)**x * (np.exp(-lambd))) / factorial(x)\n",
    "\n",
    "n = 4 #weeks\n",
    "x = 2 #successes\n",
    "mew = 4 #average successes per month\n",
    "p = mew / n\n",
    "lambd = n * p\n",
    "\n",
    "\n",
    "#Way 2--------------------------------------------------------------\n",
    "prob = poisson_probability(lambd, x)\n",
    "\n",
    "print(prob)\n",
    "print(stats.poisson.pmf(k=x, mu=lambd))"
   ]
  },
  {
   "cell_type": "markdown",
   "metadata": {},
   "source": [
    "<a id=\"exponential\"> </a>\n",
    "# Distribution - <span style=\"color:blue\"> Exponential </span>\n",
    "</span> <a href=\"#table_content\"> [Return to table]</a>\n",
    "\n",
    "\n",
    "#### [Use Case]\n",
    "    allows you to calculate the probability  distribution of the amount of time it takes before an event occurs. In a way, it solves the inverse of the problem solved by the Poisson Distribution\n",
    "\n",
    "#### [Formula]\n",
    "$$PDF(x) = \\lambda e^{-\\lambda x}$$\n",
    "\n",
    "$$\\lambda = \\frac{1}{\\mu}$$\n",
    "\n",
    "$$CDF(x) = 1 - e^{-\\lambda x}$$\n",
    "\n",
    "    x = time in lenght + unit\n",
    "    lambda = rate of decay\n",
    "    mew = The average interval length is usually labeled as\n",
    "    \n",
    "    \n",
    "    Steven is picking up a friend at the airport and their plane is late. The late flight is 22 minutes behind schedule. What is the probability that Steven will wait 30 minutes or less for his friend's flight to land?"
   ]
  },
  {
   "cell_type": "code",
   "execution_count": 8,
   "metadata": {},
   "outputs": [
    {
     "name": "stdout",
     "output_type": "stream",
     "text": [
      "0.7442708400868994\n"
     ]
    }
   ],
   "source": [
    "import numpy as np\n",
    "import scipy.stats as stats\n",
    "\n",
    "# Way 1------------------------------------------------------------------------------\n",
    "def exp_pdf(mu, x):\n",
    "    decay_rate = 1 / mu\n",
    "    return decay_rate * np.exp(-decay_rate * x)\n",
    "    \n",
    "def exp_cdf(mu, x):\n",
    "    decay_rate = 1 / mu\n",
    "    return 1 - np.exp(-decay_rate * x)\n",
    "\n",
    "# Way 2------------------------------------------------------------------------------\n",
    "\n",
    "print(exp_cdf(22, 30)) # Expected Output: 0.7442708400868994\n",
    "#stats.expon.ppf(    )\n",
    "#stats.expon.ppf(x=30, loc = 1/22, scale = 1)"
   ]
  },
  {
   "cell_type": "markdown",
   "metadata": {},
   "source": [
    "<a id=\"test_fast\"> </a>\n",
    "# Testing - <span style=\"color:blue\"> Calculatinng Test (fast)</span>\n",
    "</span> <a href=\"#table_content\"> [Return to table]</a>"
   ]
  },
  {
   "cell_type": "code",
   "execution_count": 30,
   "metadata": {},
   "outputs": [
    {
     "name": "stdout",
     "output_type": "stream",
     "text": [
      "\n",
      "[One sample 1 tail Z test] \n",
      "There is a 53% chance sample1A is from the populationA.\n",
      "Fail to reject Ho\n",
      "p-value = 0.5366398250082426\n"
     ]
    }
   ],
   "source": [
    "import scipy.stats as stats\n",
    "import numpy as np\n",
    "import matplotlib.pyplot as plt\n",
    "%matplotlib inline\n",
    "\n",
    "np.random.seed(123) # set a seed to get the same results\n",
    "\n",
    "populationA = np.random.normal(loc=530, scale=5.0, size=1000)\n",
    "populationB = np.random.normal(loc=545, scale=6.0, size=1300)\n",
    "populationC = np.random.normal(loc=535, scale=5.5, size=900)\n",
    "\n",
    "sample1A = np.random.choice(populationA, size=100, replace=False, p=None)\n",
    "sample2A = np.random.choice(populationA, size=70, replace=True, p=None)\n",
    "\n",
    "\n",
    "#[One sample 1 tail z-test]\n",
    "mu = populationA.mean() # Population mean(MEW)\n",
    "sigma = populationA.std() #Standard error (sigma/sqrt(n))\n",
    "x_bar = sample1A.mean() # sample mean\n",
    "numerator = x_bar - mu\n",
    "denominator = sigma\n",
    "z_score = numerator/denominator\n",
    "p_value = 1 - stats.norm.cdf(z_score)\n",
    "print(f\"\"\"\n",
    "[One sample 1 tail Z test] \n",
    "There is a 53% chance sample1A is from the populationA.\n",
    "Fail to reject Ho\n",
    "p-value = {p_value}\"\"\")\n",
    "                             \n",
    "\n",
    " 'INCOMPLETE'   \n",
    "#[Two sample 1 tail z-test]\n",
    "muA = populationA.mean() # Population mean(MEW)\n",
    "sigmaA = populationA.std() #Standard error (sigma/sqrt(n))\n",
    "nA = populationA.shape[0]\n",
    "muB = populationB.mean() \n",
    "sigmaB = populationB.std() \n",
    "nB = populationB.shape[0]\n",
    "standard_error = np.sqrt((sigmaA**2/nA) + (sigmaB**2/nB)) #Also known as standard deviation between populations\n",
    "difference = np.abs(muA - muB)\n",
    "numerator = difference\n",
    "denominator = standard_error\n",
    "z_score = numerator/denominator\n",
    "p_value = 1 - stats.norm.cdf(z_score)\n",
    "\n",
    "print(f\"\"\"\\n\\n\n",
    "[Two sample 1 tail z-test] \n",
    "There is a 53% chance sample1A is from the populationA.\n",
    "Fail to reject Ho\n",
    "p-value = {p_value}\"\"\")   \n",
    "\n",
    "\n",
    "\n",
    "#p_value = 1 - stats.t.cdf(z_score, df)\n",
    "\n",
    "# #If given a z/t-score, calculate p-value this way. This assums standard normal distrubtion\n",
    "# z_score = 2.3\n",
    "# p_value = 1 - stats.norm.cdf(z_score)\n",
    "\n",
    "\n",
    "# #[1 sample t test]. You'll need a sample and population mean\n",
    "# results = stats.ttest_1samp(a= sample, popmean= mu) \n",
    "\n",
    "# #[2 sample t test]. you'll need two samples\n",
    "# stats.ttest_ind(experimental, control)\n",
    "\n",
    "\n",
    "# #[Welch test]\n",
    "# stats.ttest_ind(sample1 sample2, equal_var=False)\n",
    "\n",
    "# #[1 tails test] calculate the t score and degree of freedom\n",
    "# p_value = stats.t.sf(t, df = len(sample))\n",
    "\n",
    "# #[2 tail test](returns (tscore, pscore)) \n",
    "# stats.ttest_1samp(sample, popmean= 500)\n",
    "\n",
    "# #stats.norm.ppf(.50, loc=45, scale=1)\n",
    "# p_value"
   ]
  },
  {
   "cell_type": "markdown",
   "metadata": {},
   "source": [
    "<a id=\"one_sample_z_test\"> </a>\n",
    "# Testing - <span style=\"color:blue\"> One sample Z - test </span>\n",
    "</span> <a href=\"#table_content\"> [Return to table]</a>\n",
    "\n",
    "#### [Usecase]\n",
    "       \n",
    "    -When you want to check if a sample belong/came from a certain population\n",
    "\n",
    "#### [Conditions] \n",
    "\n",
    "    -You have population mean\n",
    "    -You have Population STD\n",
    "    \n",
    "    \n",
    "25 students complete a preparation program for taking the SAT test. Here are the SAT scores from the 25 students who completed the program:\n",
    "\n",
    "434 694 457 534 720 400 484 478 610 641 425 636 454 514 563 370 499 640 501 625 612 471 598 509 531\n",
    "\n",
    "We know that the population average for SAT scores is 500 with a standard deviation of 100. Are our 25 students’ SAT scores significantly higher than the population's mean score? Note that the SAT preparation program claims that it will increase (and not decrease) the SAT score. So, you can conduct a one-directional test. (alpha = .05)."
   ]
  },
  {
   "cell_type": "code",
   "execution_count": 39,
   "metadata": {},
   "outputs": [
    {
     "name": "stdout",
     "output_type": "stream",
     "text": [
      "\n",
      "p-value: 0.03593031911292577 \n",
      "z-score/statistic/value: 1.8\n",
      "\n"
     ]
    }
   ],
   "source": [
    "import math\n",
    "import scipy.stats as stats\n",
    "import numpy as np \n",
    "\n",
    "# Sample Data \n",
    "x = np.array([434, 694, 457, 534, 720, 400, 484, 478, 610, 641, 425, 636, 454, 514, 563, 370, 499, 640, 501, 625, 612, 471, 598, 509, 531])\n",
    "\n",
    "#Parameter values = population values\n",
    "mu = 500\n",
    "sigma = 100\n",
    "alpha = 0.05\n",
    "\n",
    "#Statistic values= Sample values\n",
    "x_bar = x.mean() # X_bar = mean of sample\n",
    "n = len(x)       # sample size\n",
    "standard_error = sigma/np.sqrt(n) # SD of sample calculated from population\n",
    " \n",
    "z_score = (x_bar - mu)/(standard_error) # A measurement of deviations from the mean\n",
    "p_value = 1 - stats.norm.cdf(z_score)   # The probablity density of the observation from the sample\n",
    "\n",
    "print(f\"\"\"\n",
    "p-value: {p_value} \n",
    "z-score/statistic/value: {z_score}\n",
    "\"\"\")\n",
    "\n",
    "# The p value is less than tha alpha so we can conclude that:\n",
    "# the training has a SIGNIFICANT effect on the SAT outcome at a significance level of 0.05"
   ]
  },
  {
   "cell_type": "markdown",
   "metadata": {},
   "source": [
    "<a id=\"one_sample_t_test\"> </a>\n",
    "# Testing - <span style=\"color:blue\"> One sample T - test </span>\n",
    "</span> <a href=\"#table_content\"> [Return to table]</a>\n",
    "\n",
    "#### [Usecase]\n",
    "       \n",
    "    -When you want to check if a sample belong/came from a certain population But don't have population parameters\n",
    "\n",
    "#### [Conditions] \n",
    "\n",
    "    \n",
    "    The population mean ( 𝜇 ): Given as 100 (from past data).\n",
    "    The sample mean ( 𝑥¯ ): Calculate from the sample data\n",
    "    The sample standard deviation ( 𝑠 ): Calculate from sample data\n",
    "    Number of observations( 𝑛 ): 25 as given in the question. This can also be calculated from the sample data.\n",
    "    Degrees of Freedom( 𝑑𝑓 ): Calculate from the sample as df = total no. of observations - 1"
   ]
  },
  {
   "cell_type": "code",
   "execution_count": 27,
   "metadata": {},
   "outputs": [
    {
     "name": "stdout",
     "output_type": "stream",
     "text": [
      "The t-value for sample is 3.58 and the p-value is 0.0015\n",
      "Null hypothesis rejected. Results are statistically significant with t-value = 3.58 and p-value = 0.0015\n"
     ]
    },
    {
     "data": {
      "image/png": "[encoded data removed]",
      "text/plain": [
       "<Figure size 576x360 with 1 Axes>"
      ]
     },
     "metadata": {
      "needs_background": "light"
     },
     "output_type": "display_data"
    }
   ],
   "source": [
    "import numpy as np\n",
    "from scipy import stats \n",
    "import math\n",
    "\n",
    "# For visualizing distributions - optional \n",
    "import seaborn as sns\n",
    "import matplotlib.pyplot as plt\n",
    "sample = np.array([122.09, 100.64, 125.77, 120.32, 118.25,  96.47, 111.4 , 80.66,\n",
    "       110.77, 111.14, 102.9 , 114.54,  88.09,  98.59,  87.07, 110.43,\n",
    "       101.9 , 123.89,  97.03, 116.23, 108.3 , 112.82, 119.57, 131.38,\n",
    "       128.39])\n",
    "# Population mean (μ)\n",
    "mu = 100 \n",
    "\n",
    "# Sample mean (x̄) using NumPy mean()\n",
    "x_bar = sample.mean()\n",
    "\n",
    "# Sample Stadrad Deviation (sigma) using Numpy\n",
    "sigma = np.std(sample,ddof=1)\n",
    "\n",
    "# Sample size (n)\n",
    "n = len(sample)\n",
    "\n",
    "# Degrees of Freedom\n",
    "df = n-1\n",
    "\n",
    "# Difference in sample mean \n",
    "diff = x_bar - mu\n",
    "\n",
    "#𝐻0:𝜇  = $100.\n",
    "#𝐻1:𝜇  > $100\n",
    "#α = 0.05\n",
    "\n",
    "t = (x_bar -  mu)/(sigma/np.sqrt(n))\n",
    "\n",
    "# Calculate critical t-value\n",
    "t_crit = np.round(stats.t.ppf(1 - 0.05, df=24),3)\n",
    "\n",
    " # Calculate the t-value and p-value \n",
    "results = stats.ttest_1samp(a= sample, popmean= mu)  \n",
    "\n",
    "\n",
    "print (\"The t-value for sample is\", round(results[0], 2), \"and the p-value is\", np.round((results[1]), 4))\n",
    "\n",
    "if (results[0]>t_crit) and (results[1]<0.05):\n",
    "    print (\"Null hypothesis rejected. Results are statistically significant with t-value =\", \n",
    "           round(results[0], 2), \"and p-value =\", np.round((results[1]), 4))\n",
    "else:\n",
    "    print (\"Null hypothesis is Accepted\")\n",
    "    \n",
    "    \n",
    "# generate points on the x axis between -5 and 5:\n",
    "xs = np.linspace(-5, 5, 200)\n",
    "\n",
    "# use stats.t.pdf to get values on the probability density function for the t-distribution\n",
    "# the second argument is the degrees of freedom\n",
    "ys = stats.t.pdf(xs, df, 0, 1)\n",
    "\n",
    "# initialize a matplotlib \"figure\"\n",
    "fig = plt.figure(figsize=(8,5))\n",
    "\n",
    "# get the current \"axis\" out of the figure\n",
    "ax = fig.gca()\n",
    "\n",
    "# plot the lines using matplotlib's plot function:\n",
    "ax.plot(xs, ys, linewidth=3, color='darkblue')\n",
    "\n",
    "# plot a vertical line for our measured difference in rates t-statistic\n",
    "ax.axvline(t, color='red', linestyle='--', lw=5,label='t-statistic')\n",
    "\n",
    "ax.axvline(t_crit,color='green',linestyle='--',lw=4,label='critical t-value')\n",
    "ax.fill_betweenx(ys,xs,t_crit,where= xs > t_crit)\n",
    "\n",
    "ax.legend()\n",
    "plt.show()"
   ]
  },
  {
   "cell_type": "markdown",
   "metadata": {},
   "source": [
    "<a id=\"two_sample_t_test\"> </a>\n",
    "# Testing - <span style=\"color:blue\"> Two sample T - test </span>\n",
    "</span> <a href=\"#table_content\"> [Return to table]</a>\n",
    "\n",
    "#### [Usecase]\n",
    "       \n",
    "    -When you want to check if a two populations means are related\n",
    "\n",
    "#### [Formula]\n",
    "\n",
    "$$\\large t = \\frac{\\bar{x}_{1} - \\bar{x}_{2}}{\\sqrt{s^{2}_{p} (\\frac{1}{n_{1}} + \\frac{1}{n_{2}}) }    }  $$\n",
    "\n",
    "Where $s^{2}_{p}$ is the pooled sample variance, calculated as:\n",
    "\n",
    "$$\\large s^{2}_{p}  = \\frac{(n_{1} -1)s^{2}_{1} +  (n_{2} -1)s^{2}_{2}}{n_{1} + n_{2} - 2}  $$\n",
    "\n",
    "\n",
    "Where $s^{2}_{1}$ and $s^{2}_{2}$ are the variances for each sample given by the formula \n",
    "$$ \\large s^{2} = \\frac{\\sum_{i=1}^{n}(x_{i} - \\bar{x})^{2}}{n-1} $$"
   ]
  },
  {
   "cell_type": "code",
   "execution_count": 28,
   "metadata": {},
   "outputs": [
    {
     "data": {
      "text/plain": [
       "Ttest_indResult(statistic=-1.8915462966190273, pvalue=0.061504240672530394)"
      ]
     },
     "execution_count": 28,
     "metadata": {},
     "output_type": "execute_result"
    }
   ],
   "source": [
    "import numpy as np\n",
    "from scipy import stats\n",
    "import seaborn as sns\n",
    "import matplotlib.pyplot as plt\n",
    "\n",
    "sns.set_style('whitegrid')\n",
    "\n",
    "%config InlineBackend.figure_format = 'retina'\n",
    "%matplotlib inline\n",
    "\n",
    "\n",
    "# Use this sample data to conduct experimentation\n",
    "\n",
    "control = np.array([166, 165, 120,  94, 104, 166,  98,  85,  97,  87, 114, 100, 152,\n",
    "                    87, 152, 102,  82,  80,  84, 109,  98, 154, 135, 164, 137, 128,\n",
    "                    122, 146,  86, 146,  85, 101, 109, 105, 163, 136, 142, 144, 140,\n",
    "                    128, 126, 119, 121, 126, 169,  87,  97, 167,  89, 155])\n",
    "\n",
    "experimental = np.array([ 83, 100, 123,  75, 130,  77,  78,  87, 116, 116, 141,  93, 107,\n",
    "                         101, 142, 152, 130, 123, 122, 154, 119, 149, 106, 107, 108, 151,\n",
    "                         97,  95, 104, 141,  80, 110, 136, 134, 142, 135, 111,  83,  86,\n",
    "                         116,  86, 117,  87, 143, 104, 107,  86,  88, 124,  76])\n",
    "difference = control.mean() - experimental.mean()\n",
    "\n",
    "\n",
    "def sample_variance(sample):\n",
    "    n = len(sample)\n",
    "    x_bar = sample.mean()\n",
    "    \n",
    "    summation = np.sum((sample - x_bar)**2)    \n",
    "    samp_var = summation/(n-1)\n",
    "    \n",
    "    return samp_var\n",
    "\n",
    "def pooled_variance(sample1, sample2):\n",
    "    n1 = len(sample1)\n",
    "    n2 = len(sample2)\n",
    "    samp_var1 = sample_variance(sample1)\n",
    "    samp_var2 = sample_variance(sample2)\n",
    "    \n",
    "    pool_samp_var = (((n1 - 1)*samp_var1) + ((n2 - 1)*samp_var2)) / (n1 + n2 - 2)\n",
    "    \n",
    "    return pool_samp_var\n",
    "\n",
    "def twosample_tstatistic(expr, ctrl):\n",
    "    x_bar1 = expr.mean()\n",
    "    x_bar2 = ctrl.mean()\n",
    "    pool_samp_var = pooled_variance(expr, ctrl)\n",
    "    n1 = len(expr)\n",
    "    n2 = len(ctrl)\n",
    "    \n",
    "    t_statistic = (x_bar1 - x_bar2)/np.sqrt(pool_samp_var*((1/n1) + (1/n2)))\n",
    "    \n",
    "    return t_statistic\n",
    "\n",
    "# Visualize t and p_value\n",
    "\n",
    "def visualize_t(t_stat, n_control, n_experimental):\n",
    "\n",
    "    # initialize a matplotlib \"figure\"\n",
    "    fig = plt.figure(figsize = (12, 7))\n",
    "    \n",
    "    # generate points on the x axis between -4 and 4:\n",
    "    ax = fig.gca()\n",
    "    xs = np.linspace(-4, 4, 500)\n",
    "       \n",
    "    # use stats.t.pdf to get values on the probability density function for the t-distribution\n",
    "    crit = stats.t.ppf(1-0.025, (n_control+n_experimental-2))\n",
    "    \n",
    "    # Draw two sided boundary for critical-t\n",
    "    ys= stats.t.pdf(xs, (n_control+n_experimental-2), 0, 1)\n",
    "    ax.plot(xs, ys, linewidth=3, color='darkred')\n",
    "\n",
    "    ax.axvline(crit, color='black', linestyle='--', lw=5)\n",
    "    ax.axvline(-crit, color='black', linestyle='--', lw=5)\n",
    "    \n",
    "    plt.show()\n",
    "    return None\n",
    "\n",
    "#Calculate t sscore\n",
    "t_stat = twosample_tstatistic(experimental, control)\n",
    "\n",
    "n_control = len(control)\n",
    "n_experimental = len(experimental)\n",
    "\n",
    "## Calculate p_value\n",
    "# Lower tail comulative density function returns area under the lower tail curve\n",
    "lower_tail = stats.t.cdf(-1.89, (50+50-2), 0, 1)\n",
    "# Upper tail comulative density function returns area under upper tail curve\n",
    "upper_tail = 1. - stats.t.cdf(1.89, (50+50-2), 0, 1)\n",
    "\n",
    "p_value = lower_tail+upper_tail\n",
    "\n",
    "\n",
    "# This is every thing above in one line of code. We fail to reject the H0\n",
    "stats.ttest_ind(experimental, control)"
   ]
  },
  {
   "cell_type": "markdown",
   "metadata": {},
   "source": [
    "<a id=\"Welch_t_test\"> </a>\n",
    "# Testing - <span style=\"color:blue\"> Welch's T - test </span>\n",
    "</span> <a href=\"#table_content\"> [Return to table]</a>\n",
    "\n",
    "\n",
    "\n",
    " $ \\Large t = \\frac{\\bar{X_1}-\\bar{X_2}}{\\sqrt{\\frac{s_1^2}{N_1} + \\frac{s_2^2}{N_2}}} = \\frac{\\bar{X_1}-\\bar{X_2}}{\\sqrt{se_1^2+se_2^2}}$\n",
    "where  \n",
    "\n",
    "* $\\bar{X_i}$ - mean of sample i\n",
    "* $s_i^2$ - variance of sample i\n",
    "* $N_i$ - sample size of sample i  \n",
    "\n",
    "\n",
    "Degrees of freedom\n",
    "$ \\Large v \\approx \\frac{\\left( \\frac{s_1^2}{N_1} + \\frac{s_2^2}{N_2}\\right)^2}{\\frac{s_1^4}{N_1^2v_1} + \\frac{s_2^4}{N_2^2v_2}} $"
   ]
  },
  {
   "cell_type": "code",
   "execution_count": 32,
   "metadata": {},
   "outputs": [],
   "source": [
    "import scipy.stats as stats\n",
    "\n",
    "\n",
    "p = 1 - stats.t.cdf(t, df)"
   ]
  },
  {
   "cell_type": "markdown",
   "metadata": {},
   "source": [
    "<a id=\"anova_table\"> </a>\n",
    "# Testing - <span style=\"color:blue\">ANOVA Table </span>\n",
    "</span> <a href=\"#table_content\"> [Return to table]</a>\n",
    "\n",
    "#### [Usecase]\n",
    "ANOVA (Analysis of Variance) is a method for generalizing statistical tests to multiple groups ANOVA analyses the overall variance of a dataset by partitioning the total sum of squared deviations (from the mean) into the sum of squares for each of these groups and sum of squares for error.ANOVA is looking to explain the total variance as combinations of variance from the various groups, you typically design a multiple groups experiment to test various independent factors that we hypothesize may influence the overall result\n",
    "\n",
    "\n",
    "#### [Formula]\n",
    "    Control_Column ~ C(factor_col1) + factor_col2 + C(factor_col3) + ... + X\n",
    "    where is C() represents a catagorical value. "
   ]
  },
  {
   "cell_type": "code",
   "execution_count": 3,
   "metadata": {},
   "outputs": [
    {
     "data": {
      "text/html": [
       "<div>\n",
       "<style scoped>\n",
       "    .dataframe tbody tr th:only-of-type {\n",
       "        vertical-align: middle;\n",
       "    }\n",
       "\n",
       "    .dataframe tbody tr th {\n",
       "        vertical-align: top;\n",
       "    }\n",
       "\n",
       "    .dataframe thead th {\n",
       "        text-align: right;\n",
       "    }\n",
       "</style>\n",
       "<table border=\"1\" class=\"dataframe\">\n",
       "  <thead>\n",
       "    <tr style=\"text-align: right;\">\n",
       "      <th></th>\n",
       "      <th>len</th>\n",
       "      <th>supp</th>\n",
       "      <th>dose</th>\n",
       "    </tr>\n",
       "  </thead>\n",
       "  <tbody>\n",
       "    <tr>\n",
       "      <th>0</th>\n",
       "      <td>4.2</td>\n",
       "      <td>VC</td>\n",
       "      <td>0.5</td>\n",
       "    </tr>\n",
       "    <tr>\n",
       "      <th>1</th>\n",
       "      <td>11.5</td>\n",
       "      <td>VC</td>\n",
       "      <td>0.5</td>\n",
       "    </tr>\n",
       "    <tr>\n",
       "      <th>2</th>\n",
       "      <td>7.3</td>\n",
       "      <td>VC</td>\n",
       "      <td>0.5</td>\n",
       "    </tr>\n",
       "  </tbody>\n",
       "</table>\n",
       "</div>"
      ],
      "text/plain": [
       "    len supp  dose\n",
       "0   4.2   VC   0.5\n",
       "1  11.5   VC   0.5\n",
       "2   7.3   VC   0.5"
      ]
     },
     "metadata": {},
     "output_type": "display_data"
    },
    {
     "name": "stdout",
     "output_type": "stream",
     "text": [
      "               sum_sq    df          F        PR(>F)\n",
      "C(supp)    205.350000   1.0  14.016638  4.292793e-04\n",
      "C(dose)   2426.434333   2.0  82.810935  1.871163e-17\n",
      "Residual   820.425000  56.0        NaN           NaN\n"
     ]
    }
   ],
   "source": [
    "import statsmodels.api as sm\n",
    "from statsmodels.formula.api import ols\n",
    "import pandas as pd\n",
    "import numpy as np\n",
    "import matplotlib.pyplot as plt\n",
    "%matplotlib inline\n",
    "\n",
    "# Your code here\n",
    "\n",
    "df = pd.read_csv('ToothGrowth.csv')\n",
    "display(df.head(3))\n",
    "\n",
    "formula = 'len ~ C(supp) + C(dose)'\n",
    "lm = ols(formula, df).fit()\n",
    "table = sm.stats.anova_lm(lm, typ=2)\n",
    "print(table)\n",
    "print('Both have significant effect on len. supp have more effect')"
   ]
  },
  {
   "cell_type": "markdown",
   "metadata": {},
   "source": [
    "<a id=\"power_beta\"> </a>\n",
    "# Testing - <span style=\"color:blue\">Power Analysis Recommendation & Power Curve </span>\n",
    "</span> <a href=\"#table_content\"> [Return to table]</a>\n",
    "\n",
    "#### [Usecase]\n",
    "Power calculation is used to reduce type 2 error. If you know 3 parameters you can recommend the last. It truely depends on what you're trying to do. \n",
    "    \n",
    "    -Alpha\n",
    "    -Power\n",
    "    -sample size\n",
    "    -effect size\n"
   ]
  },
  {
   "cell_type": "code",
   "execution_count": 13,
   "metadata": {},
   "outputs": [
    {
     "data": {
      "image/png": "[encoded data removed]",
      "text/plain": [
       "<Figure size 432x288 with 1 Axes>"
      ]
     },
     "metadata": {
      "needs_background": "light"
     },
     "output_type": "display_data"
    },
    {
     "name": "stdout",
     "output_type": "stream",
     "text": [
      "Sample Size: 25.525 25.524572500479355\n"
     ]
    }
   ],
   "source": [
    "import numpy as np\n",
    "from matplotlib import pyplot\n",
    "%matplotlib inline\n",
    "from statsmodels.stats.power import TTestIndPower\n",
    "analysis = TTestIndPower()\n",
    "\n",
    "# parameters for power analysis\n",
    "effect = 0.8\n",
    "alpha = 0.05\n",
    "power = 0.8\n",
    "n = 25\n",
    "\n",
    "\n",
    "#It will return the parameter that was set to none. \n",
    "result = TTestIndPower().solve_power(effect_size=effect, power=power, nobs1=None, ratio=1, alpha=alpha)\n",
    "result2 = analysis.solve_power(effect_size=effect, power=power, nobs1=None, ratio=1, alpha=alpha)\n",
    "\n",
    "\n",
    "\n",
    "# parameters for power analysis\n",
    "alpha_values = np.array([0.0005, 0.01, 0.02, 0.03, 0.05])\n",
    "sample_sizes = np.array(range(10, 100, 10))\n",
    "effect_sizes = np.array([0.02, 0.2, 0.3, 0.5, 0.9])\n",
    "\n",
    "# calculate power curves from multiple power analyses\n",
    "analysis = TTestIndPower()\n",
    "analysis.plot_power(dep_var='alpha', effect_size=effect_sizes, nobs=sample_sizes, alpha=alpha_values)\n",
    "pyplot.show()\n",
    "\n",
    "\n",
    "#Given effect, alpha, and power you can reccomend a good sample size of 25\n",
    "print('Sample Size: %.3f' % result,result2)"
   ]
  },
  {
   "cell_type": "code",
   "execution_count": null,
   "metadata": {},
   "outputs": [],
   "source": []
  }
 ],
 "metadata": {
  "kernelspec": {
   "display_name": "Python 3",
   "language": "python",
   "name": "python3"
  },
  "language_info": {
   "codemirror_mode": {
    "name": "ipython",
    "version": 3
   },
   "file_extension": ".py",
   "mimetype": "text/x-python",
   "name": "python",
   "nbconvert_exporter": "python",
   "pygments_lexer": "ipython3",
   "version": "3.8.1"
  }
 },
 "nbformat": 4,
 "nbformat_minor": 4
}
