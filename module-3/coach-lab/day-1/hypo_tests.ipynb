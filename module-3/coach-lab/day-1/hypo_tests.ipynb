{
 "cells": [
  {
   "cell_type": "markdown",
   "metadata": {},
   "source": [
    "# Northwind database\n",
    "##### Jonathan Tyler\n",
    "\n",
    "Northwind is a company that sells specialty foods. \n",
    "\n",
    "I was given a mandate to  \"__do something with this database__\" as my first project as a new hire. \n",
    "\n",
    "I was able to find a entity-relation diagram for the database but not much else. So to break down this task:\n",
    "1. First I am going to have to explore the database myself to see the basic metrics of the company.\n",
    "2. Then I will use this basic data to formulate some hypotheses concerning some underlying trends.\n",
    "3. Finally I will attempt to test out these ideas to prove myself right or wrong."
   ]
  },
  {
   "cell_type": "markdown",
   "metadata": {},
   "source": [
    "## EDA"
   ]
  },
  {
   "cell_type": "code",
   "execution_count": null,
   "metadata": {},
   "outputs": [],
   "source": [
    "import matplotlib.pyplot as plt\n",
    "import numpy as np\n",
    "import pandas as pd\n",
    "import seaborn as sns\n",
    "\n",
    "import sqlalchemy\n",
    "from sqlalchemy import create_engine, inspect\n",
    "from sqlalchemy.orm import Session, sessionmaker\n",
    "\n",
    "import statsmodels.api as sm\n",
    "from statsmodels.formula.api import ols\n",
    "from statsmodels.stats.multicomp import pairwise_tukeyhsd\n",
    "from statsmodels.stats.multicomp import MultiComparison\n",
    "\n",
    "from scipy.stats import ttest_1samp, ttest_ind\n",
    "from scipy.stats import levene, shapiro, mannwhitneyu, kruskal\n",
    "\n",
    "plt.style.use('ggplot')"
   ]
  },
  {
   "cell_type": "markdown",
   "metadata": {},
   "source": [
    "Connecting the database enable to start looking at the data. I plan to compare the ERD to the database and get basic metric from the tables."
   ]
  },
  {
   "cell_type": "code",
   "execution_count": null,
   "metadata": {},
   "outputs": [],
   "source": [
    "#engine = create_engine('sqlite:///Northwind_large.sqlite', echo=True)\n",
    "engine = create_engine('sqlite:///Northwind_small.sqlite', echo=True)\n",
    "Session = sessionmaker(bind=engine)\n",
    "session = Session()\n",
    "\n",
    "inspector = inspect(engine) #checking the ERD against the actual database\n",
    "inspector.get_table_names()"
   ]
  },
  {
   "cell_type": "markdown",
   "metadata": {},
   "source": [
    "  \n",
    "So a quick check of the different tables align with the ERD. That is good. But I should be checking out the individual tables before calling them nevertheless, it is good pratice.\n",
    "  \n",
    "Now lets start checking out a few things:\n",
    "- How much of what are we selling?\n",
    "- Who are our main suppliers?\n",
    "- What does our customer base look like?\n",
    "- What is the geographical spread of our workforce?\n",
    "\n",
    "Once we know these things, we will have a broad overview of the business. From there we will investigate any abnormalities or go splunking for underlying trends.\n",
    "___\n",
    "---\n",
    "Now lets make a connection to the engine and make sure it works."
   ]
  },
  {
   "cell_type": "code",
   "execution_count": null,
   "metadata": {},
   "outputs": [],
   "source": [
    "con = engine.connect() #connecting the engine to be able to make queries"
   ]
  },
  {
   "cell_type": "code",
   "execution_count": null,
   "metadata": {},
   "outputs": [],
   "source": [
    "q = '''''' #simple query get everything from [Order]\n",
    "df_order = pd.read_sql_query(q, engine) #puts the information from the query into a dataframe\n",
    "df_order.head()"
   ]
  },
  {
   "cell_type": "markdown",
   "metadata": {},
   "source": [
    "Fantasic, now lets start flushing out answers to those inital questions\n",
    "\n",
    "## How much of what are we selling?"
   ]
  },
  {
   "cell_type": "markdown",
   "metadata": {},
   "source": [
    "Lets check the Product table and the Order Detail table"
   ]
  },
  {
   "cell_type": "markdown",
   "metadata": {},
   "source": [
    "Looks like the table is ERD is wrong again. Some of the tables are incorrectly stated i.e. ProductID is just Id"
   ]
  },
  {
   "cell_type": "code",
   "execution_count": null,
   "metadata": {},
   "outputs": [],
   "source": [
    "q='''SELECT p.ProductName, c.CategoryName, SUM(o.Quantity) num_ordered \\\n",
    "FROM Product p \\\n",
    "LEFT JOIN OrderDetail o ON o.ProductId = p.Id \\\n",
    "LEFT JOIN Category c ON c.Id = p.CategoryId \\\n",
    "GROUP BY p.ProductName ORDER BY num_ordered DESC'''\n",
    "df1 = pd.read_sql_query(q, engine)\n",
    "df1.head()"
   ]
  },
  {
   "cell_type": "code",
   "execution_count": null,
   "metadata": {},
   "outputs": [],
   "source": [
    "#value_counts of the categories"
   ]
  },
  {
   "cell_type": "markdown",
   "metadata": {},
   "source": [
    "\n",
    "## Who are our main suppliers?"
   ]
  },
  {
   "cell_type": "code",
   "execution_count": null,
   "metadata": {},
   "outputs": [],
   "source": [
    "q = '''SELECT s.CompanyName, s.Region, COUNT(*) num_of_orders FROM [Order] o \\\n",
    "LEFT JOIN OrderDetail od ON o.Id = od.OrderId \\\n",
    "LEFT JOIN Product p ON od.ProductId = p.Id \\\n",
    "LEFT JOIN Supplier s ON p.SupplierId = s.Id \\\n",
    "GROUP BY s.CompanyName \\\n",
    "ORDER BY num_of_orders DESC'''\n",
    "\n",
    "df2 = pd.read_sql_query(q, engine)\n",
    "df2.head()"
   ]
  },
  {
   "cell_type": "code",
   "execution_count": null,
   "metadata": {},
   "outputs": [],
   "source": [
    "#value_counts to see what region\n",
    "#average number of orders"
   ]
  },
  {
   "cell_type": "code",
   "execution_count": null,
   "metadata": {},
   "outputs": [],
   "source": [
    "q = #query of where our employees are using the Employee table\n",
    "\n",
    "df2 = pd.read_sql_query(q, engine)\n",
    "df2.head()"
   ]
  },
  {
   "cell_type": "code",
   "execution_count": null,
   "metadata": {},
   "outputs": [],
   "source": [
    "#now check out where all the regions these people are from"
   ]
  },
  {
   "cell_type": "markdown",
   "metadata": {},
   "source": [
    "# 2) Is there a difference in the money generated from sales between the North America office and the British Island office?"
   ]
  },
  {
   "cell_type": "markdown",
   "metadata": {},
   "source": [
    "The employees of this company are based in two central locations. I want to know if one office is better at business than the other. The metric will be money generated (products ordered * price) with the differential based on one office or another.\n",
    "\n",
    "$H_{o} =$ The employees based out of the British Island office generates the same amount revenue, per order, than the North American office.  \n",
    "$H_{a} =$ The employees based out of the British Island office generates less revenue, per order, than the North American office.  \n",
    "$\\alpha = 0.05$"
   ]
  },
  {
   "cell_type": "markdown",
   "metadata": {},
   "source": [
    "### 2-1 Inital Analysis\n"
   ]
  },
  {
   "cell_type": "code",
   "execution_count": null,
   "metadata": {},
   "outputs": [],
   "source": [
    "q = '''SELECT od.OrderId, SUM(od.UnitPrice*od.Quantity) AS generated, e.Region AS employ_from \\\n",
    "FROM OrderDetail od \\\n",
    "LEFT JOIN [Order] o ON od.OrderId = o.Id \\\n",
    "LEFT JOIN Employee e ON o.EmployeeId = e.Id\n",
    "GROUP BY od.OrderId'''\n",
    "\n",
    "df = pd.read_sql_query(q, engine)\n",
    "df.head(10)"
   ]
  },
  {
   "cell_type": "markdown",
   "metadata": {},
   "source": [
    "Looks like we have all 830 orders. Great."
   ]
  },
  {
   "cell_type": "code",
   "execution_count": null,
   "metadata": {},
   "outputs": [],
   "source": [
    "#Find group by the employ_from and then describe the generated amount"
   ]
  },
  {
   "cell_type": "markdown",
   "metadata": {},
   "source": [
    "The average made by both offices are close to each other but there is far fewer sales made by the British office. Lets take a quick look at the distribution for both, but look at the above data there is likely to be outliers."
   ]
  },
  {
   "cell_type": "code",
   "execution_count": null,
   "metadata": {},
   "outputs": [],
   "source": [
    "# plt.hist('generated', data=df[df.employ_from == 'North America'], label= 'NA')\n",
    "# plt.hist('generated', data=df[df.employ_from == 'British Isles'], label= 'BI')\n",
    "# plt.legend()\n",
    "# plt.ylabel('Quantities of order')\n",
    "# plt.xlabel('Price of order')\n",
    "# plt.savefig('hist money')"
   ]
  },
  {
   "cell_type": "markdown",
   "metadata": {},
   "source": [
    "There seems to be a few outliers. Lets take care of the egregious ones i.e. anything above 11K"
   ]
  },
  {
   "cell_type": "code",
   "execution_count": null,
   "metadata": {},
   "outputs": [],
   "source": [
    "df.generated.sort_values(ascending=False).head(10)"
   ]
  },
  {
   "cell_type": "code",
   "execution_count": null,
   "metadata": {},
   "outputs": [],
   "source": [
    "to_drop = [617,782,733,124,176,569,641,169]\n",
    "df.drop(index=to_drop,inplace=True)"
   ]
  },
  {
   "cell_type": "code",
   "execution_count": null,
   "metadata": {},
   "outputs": [],
   "source": [
    "#make two new dfs. One that contains all the employees that are employed out of British Isles and a group from North America\n",
    "#Then describe them both"
   ]
  },
  {
   "cell_type": "markdown",
   "metadata": {},
   "source": [
    "## 2-2 Testing"
   ]
  },
  {
   "cell_type": "markdown",
   "metadata": {},
   "source": [
    "### Mann–Whitney U test\n",
    "\n",
    "Mann–Whitney U test is a nonparametric test of the null hypothesis that it is equally likely that a randomly selected value from one sample will be less than or greater than a randomly selected value from a second sample.\n",
    "\n",
    "Unlike the t-test it does not require the assumption of normal distributions. It is nearly as efficient as the t-test on normal distributions.\n",
    "\n",
    "Mann-Whitney assumptions:  \n",
    "1) The dependent variable should be measured on an ordinal scale or a continuous scale.  \n",
    "2) The independent variable should be two independent, categorical groups.  \n",
    "3) Observations should be independent. In other words, there should be no relationship between the two groups or within each group.  \n",
    "4) Observations are not normally distributed. However, they should follow the same shape (i.e. both are bell-shaped and skewed left).  \n",
    "\n",
    "\n",
    "All assumptions are met within our data. So finally, refining our hypothesis: \n",
    "\n",
    "$H_{o} =$ There is no statistical difference between the meadian revenues generated by the North American office and the British Island office.  \n",
    "$H_{a} =$ There is a statistical difference between the meadian revenues generated by the North American office and the British Island office.  \n",
    "$\\alpha = 0.05$"
   ]
  },
  {
   "cell_type": "code",
   "execution_count": null,
   "metadata": {},
   "outputs": [],
   "source": [
    "merica['generated'].hist(label='American office')\n",
    "brit['generated'].hist(label='British Isle office')\n",
    "plt.title('Histogram of money generate by based on office location')\n",
    "plt.xlabel('Quantity of money')\n",
    "plt.ylabel('Orders count')\n",
    "plt.legend()\n",
    "plt.show()\n",
    "#plt.savefig('hist of money gen')"
   ]
  },
  {
   "cell_type": "code",
   "execution_count": null,
   "metadata": {},
   "outputs": [],
   "source": [
    "mannwhitneyu(brit.generated, merica.generated, alternative='two-sided')"
   ]
  },
  {
   "cell_type": "markdown",
   "metadata": {},
   "source": [
    "#### Independent T-test\n",
    "\n",
    "Like every test, this inferential statistic test has assumptions. The assumptions that the data must meet in order for the test results to be valid are:  \n",
    "\n",
    "Independent T-test Assumptions\n",
    "- The samples are independently and randomly drawn\n",
    "- The distribution of the residuals between the two groups should follow the normal distribution\n",
    "- The variances between the two groups are equal\n",
    "\n",
    "The first assumption is met. The second assumption can be suspended given a large enough sample size, therefore independent t-test remains quite robust for violations of normality. [More information](http://thestatsgeek.com/2013/09/28/the-t-test-and-robustness-to-non-normality/) on this topic has been provided.\n",
    "\n",
    "Keep in mind that as a parametric test, the independent t-test delivers best and most reliable results if both groups are normally distributed. Reliability decreases for skewed distributions."
   ]
  },
  {
   "cell_type": "code",
   "execution_count": null,
   "metadata": {},
   "outputs": [],
   "source": [
    "ttest_ind(brit.generated, merica.generated)"
   ]
  },
  {
   "cell_type": "markdown",
   "metadata": {},
   "source": [
    "### 2-3 Results"
   ]
  },
  {
   "cell_type": "markdown",
   "metadata": {},
   "source": [
    "- Failed to reject the null hypothesis. There is no statistical difference between the median revenues generated by the North American office and the British Island office \n",
    "- (p-value > $\\alpha$ :: 0.3749 > 0.05)  \n",
    "- Further testing: choosing a different metric and test out hypothesis again.\n",
    "___\n",
    "___"
   ]
  },
  {
   "cell_type": "markdown",
   "metadata": {},
   "source": [
    "# 3) Does having 'manager' in your title effect the amount a customer orders?\n"
   ]
  },
  {
   "cell_type": "markdown",
   "metadata": {},
   "source": [
    "### 3-1 Inital Analysis\n",
    "The customers that we do business with, there are different tiers of titles that they use. I want to know if a manager typically orders more than other customers.\n",
    "\n",
    "$H_{o} =$ Having manager in your title, the amount a customer orders doesn't change  \n",
    "$H_{a} =$ Having manager in your title, the amount a customer orders changes  \n",
    "$\\alpha = 0.05$"
   ]
  },
  {
   "cell_type": "code",
   "execution_count": null,
   "metadata": {},
   "outputs": [],
   "source": [
    "get_column_info('Customer')"
   ]
  },
  {
   "cell_type": "code",
   "execution_count": null,
   "metadata": {},
   "outputs": [],
   "source": [
    "q = '''SELECT c.CompanyName, c.ContactTitle, COUNT(*) AS orders_placed \\\n",
    "FROM OrderDetail od \\\n",
    "LEFT JOIN [Order] o ON od.OrderId = o.Id \\\n",
    "LEFT JOIN Customer c ON c.Id = o.CustomerId \\\n",
    "GROUP BY c.CompanyName'''\n",
    "\n",
    "df = pd.read_sql_query(q, engine)\n",
    "df.head(10)"
   ]
  },
  {
   "cell_type": "code",
   "execution_count": null,
   "metadata": {},
   "outputs": [],
   "source": [
    "df.orders_placed.sum()"
   ]
  },
  {
   "cell_type": "markdown",
   "metadata": {},
   "source": [
    "Good, we have all of the orders placed. There seems be a few ghost orders, someone placing some personal orders, or some testing data. Nevertheless, I will need to remove them."
   ]
  },
  {
   "cell_type": "code",
   "execution_count": null,
   "metadata": {},
   "outputs": [],
   "source": [
    "df.drop(index=0, inplace=True)\n",
    "df.describe()"
   ]
  },
  {
   "cell_type": "markdown",
   "metadata": {},
   "source": [
    "Now encoding manager title vs no mananger title."
   ]
  },
  {
   "cell_type": "code",
   "execution_count": null,
   "metadata": {},
   "outputs": [],
   "source": [
    "df['is_mgmt'] = np.where(df.ContactTitle.str.contains('anager'),1,0) #also could have used .lower() to include the full word"
   ]
  },
  {
   "cell_type": "code",
   "execution_count": null,
   "metadata": {},
   "outputs": [],
   "source": [
    "df.head(10)"
   ]
  },
  {
   "cell_type": "code",
   "execution_count": null,
   "metadata": {},
   "outputs": [],
   "source": [
    "plt.figure(figsize=(12,12))\n",
    "sns.violinplot(y='orders_placed',x='is_mgmt', data=df)\n",
    "plt.title('Violin plots: comparing the distribution of management vs non-management')\n",
    "plt.xlabel('Is management')\n",
    "plt.ylabel('Number of items in order');"
   ]
  },
  {
   "cell_type": "code",
   "execution_count": null,
   "metadata": {},
   "outputs": [],
   "source": [
    "df.groupby('is_mgmt').orders_placed.idxmax(),df.groupby('is_mgmt').orders_placed.max()"
   ]
  },
  {
   "cell_type": "code",
   "execution_count": null,
   "metadata": {},
   "outputs": [],
   "source": [
    "df.drop(index=[66,19], inplace=True)\n",
    "#df.drop(index=[57], inplace=True)"
   ]
  },
  {
   "cell_type": "code",
   "execution_count": null,
   "metadata": {},
   "outputs": [],
   "source": [
    "plt.figure(figsize=(12,12))\n",
    "sns.violinplot(y='orders_placed',x='is_mgmt', data=df)\n",
    "plt.title('Violin plots: comparing the distribution of management vs non-management')\n",
    "plt.xlabel('Is management')\n",
    "plt.ylabel('Number of items in order');"
   ]
  },
  {
   "cell_type": "markdown",
   "metadata": {},
   "source": [
    "## 3-2 Testing\n",
    "\n",
    "I will perform both the independent T-test as well as Mann-Whitney U test.  \n",
    "\n",
    "See section 2-2 for supporting documentation"
   ]
  },
  {
   "cell_type": "code",
   "execution_count": null,
   "metadata": {},
   "outputs": [],
   "source": [
    "mgmt_yes = df.orders_placed[df.is_mgmt == 1]\n",
    "mgmt_no = df.orders_placed[df.is_mgmt == 0]\n",
    "ttest_ind(mgmt_yes, mgmt_no)"
   ]
  },
  {
   "cell_type": "code",
   "execution_count": null,
   "metadata": {},
   "outputs": [],
   "source": [
    "mannwhitneyu(mgmt_no, mgmt_yes)"
   ]
  },
  {
   "cell_type": "markdown",
   "metadata": {},
   "source": [
    "## 3-3 Results"
   ]
  },
  {
   "cell_type": "markdown",
   "metadata": {},
   "source": [
    "- Failed to reject the null hypothesis. As a customer having manager in your title, the quantity ordered _doesn't signifgantly change_ compared to customers without that title  \n",
    "- p-value > $\\alpha$ :: 0.2241 > 0.05\n",
    "- Further testing: change the criteria in which the customers are grouped. Include 'owner' title with the 'manager' title and compare results.\n",
    "___\n",
    "___"
   ]
  },
  {
   "cell_type": "markdown",
   "metadata": {},
   "source": [
    "RESOUCES:\n",
    "\n",
    "https://www.ncbi.nlm.nih.gov/pmc/articles/PMC3116565/\n",
    "\n",
    "https://pythonfordatascience.org/"
   ]
  }
 ],
 "metadata": {
  "kernelspec": {
   "display_name": "Python 3",
   "language": "python",
   "name": "python3"
  },
  "language_info": {
   "codemirror_mode": {
    "name": "ipython",
    "version": 3
   },
   "file_extension": ".py",
   "mimetype": "text/x-python",
   "name": "python",
   "nbconvert_exporter": "python",
   "pygments_lexer": "ipython3",
   "version": "3.7.3"
  }
 },
 "nbformat": 4,
 "nbformat_minor": 4
}
