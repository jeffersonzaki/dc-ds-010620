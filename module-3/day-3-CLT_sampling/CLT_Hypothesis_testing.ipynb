{
 "cells": [
  {
   "cell_type": "markdown",
   "metadata": {},
   "source": [
    "__Agenda__\n",
    "\n",
    "- Difference between population and sample\n",
    "- How can we get a good sample?\n",
    "- Point estimators from sample\n",
    "- Sampling distribution, especially sampling distribution of the mean\n",
    "- Central Limit Theorem - statement and use of it.\n",
    "- Creating confidence intervals around sample mean using CLT\n",
    "- Recap\n",
    "\n",
    "\n",
    "# Sampling Distributions\n",
    "\n",
    "## Population vs Sample\n",
    "\n",
    "__population__ A population is the set of all elements of interest in a study. (Finite population and infinite population)\n",
    "\n",
    "__sample__ A sample is a subset of the population.\n",
    "\n",
    "### Scenario\n",
    "\n",
    "The mayor's office has hired Flatiron Data Science Immersive students to determine a way to fix traffic congestion. A good starting point is to determine out what proportion of the population of DC owns a car.\n",
    "\n",
    "In order for us to make any determinations about a population, we must first get information about it.\n",
    "\n",
    "Because it's impractical to ever usually get data about *everyone* in a population, we must take a sample.\n",
    "\n",
    "Our sample should be:\n",
    "\n",
    "* Randomly selected- every item should have an *equal* chance of being selected\n",
    "* Representative of our population\n",
    "\n",
    "![pop](./img/sample_pop.png)\n",
    "\n",
    "\n",
    "**Random sampling is not easy to do, let's look at an example:**\n",
    "\n",
    "Imagine you are trying to determine what proportion of DC metro area people own a car\n",
    "\n",
    "* Stand outside of Flatiron at 12 pm and ask random people until *n* responses\n",
    "\n",
    "\n",
    "* Go to a randomly assigned street corner and at a random time and ask *n* people if they own a car\n",
    "\n",
    "\n",
    "__Objective of Sampling__\n",
    "\n",
    "When we gather a sample, we are trying to minimize the bias of our sample while also minimizing our cost.\n",
    "\n",
    "\n",
    "## Point Estimates\n",
    "\n",
    "!! Very important observation!!: We can consider random sampling as an 'random experiment' and then when we calculate mean, variance, standard deviation, median etc. these are functions on the outcomes of this experiment. We have a name for such functions can you remember it?\n",
    "\n",
    "![imgsample](./img/sample_stats.png)\n",
    "\n",
    "### It's your turn :)\n",
    "\n",
    "[Download data](https://www.kaggle.com/ishaanv/ISLR-Auto)\n",
    "\n",
    "[UCI-repo](https://archive.ics.uci.edu/ml/datasets/auto+mpg)"
   ]
  },
  {
   "cell_type": "code",
<<<<<<< HEAD
   "execution_count": 22,
=======
   "execution_count": 1,
>>>>>>> b204d8340b7f65f14dde69036476744e881deb25
   "metadata": {},
   "outputs": [],
   "source": [
    "import pandas as pd \n",
    "\n",
    "import numpy as np"
   ]
  },
  {
   "cell_type": "markdown",
   "metadata": {},
   "source": [
    "Take two random samples of 30 cars from auto dataset and find both sampling mean and standard deviation for mpg\n",
    "\n"
   ]
  },
  {
   "cell_type": "code",
<<<<<<< HEAD
   "execution_count": 23,
=======
   "execution_count": 2,
>>>>>>> b204d8340b7f65f14dde69036476744e881deb25
   "metadata": {},
   "outputs": [],
   "source": [
    "import pickle"
   ]
  },
  {
   "cell_type": "markdown",
   "metadata": {},
   "source": [
    "We \"pickled\" two samples before and use these to work with"
   ]
  },
  {
   "cell_type": "code",
<<<<<<< HEAD
   "execution_count": 24,
=======
   "execution_count": 3,
>>>>>>> b204d8340b7f65f14dde69036476744e881deb25
   "metadata": {},
   "outputs": [],
   "source": [
    "pkl_obj = open('sample.pkl', 'rb')\n",
    "sample = pickle.load(pkl_obj)\n",
    "pkl_obj.close()"
   ]
  },
  {
   "cell_type": "code",
   "execution_count": 25,
   "metadata": {},
   "outputs": [
    {
     "data": {
      "text/html": [
       "<div>\n",
       "<style scoped>\n",
       "    .dataframe tbody tr th:only-of-type {\n",
       "        vertical-align: middle;\n",
       "    }\n",
       "\n",
       "    .dataframe tbody tr th {\n",
       "        vertical-align: top;\n",
       "    }\n",
       "\n",
       "    .dataframe thead th {\n",
       "        text-align: right;\n",
       "    }\n",
       "</style>\n",
       "<table border=\"1\" class=\"dataframe\">\n",
       "  <thead>\n",
       "    <tr style=\"text-align: right;\">\n",
       "      <th></th>\n",
       "      <th>mpg</th>\n",
       "      <th>cylinders</th>\n",
       "      <th>displacement</th>\n",
       "      <th>horsepower</th>\n",
       "      <th>weight</th>\n",
       "      <th>acceleration</th>\n",
       "      <th>model year</th>\n",
       "      <th>origin</th>\n",
       "      <th>car name</th>\n",
       "    </tr>\n",
       "  </thead>\n",
       "  <tbody>\n",
       "    <tr>\n",
       "      <th>332</th>\n",
       "      <td>35.0</td>\n",
       "      <td>4</td>\n",
       "      <td>122.0</td>\n",
       "      <td>88</td>\n",
       "      <td>2500</td>\n",
       "      <td>15.1</td>\n",
       "      <td>80</td>\n",
       "      <td>2</td>\n",
       "      <td>triumph tr7 coupe</td>\n",
       "    </tr>\n",
       "    <tr>\n",
       "      <th>123</th>\n",
       "      <td>11.0</td>\n",
       "      <td>8</td>\n",
       "      <td>350.0</td>\n",
       "      <td>180</td>\n",
       "      <td>3664</td>\n",
       "      <td>11.0</td>\n",
       "      <td>73</td>\n",
       "      <td>1</td>\n",
       "      <td>oldsmobile omega</td>\n",
       "    </tr>\n",
       "    <tr>\n",
       "      <th>376</th>\n",
       "      <td>34.0</td>\n",
       "      <td>4</td>\n",
       "      <td>108.0</td>\n",
       "      <td>70</td>\n",
       "      <td>2245</td>\n",
       "      <td>16.9</td>\n",
       "      <td>82</td>\n",
       "      <td>3</td>\n",
       "      <td>toyota corolla</td>\n",
       "    </tr>\n",
       "    <tr>\n",
       "      <th>170</th>\n",
       "      <td>25.0</td>\n",
       "      <td>4</td>\n",
       "      <td>90.0</td>\n",
       "      <td>71</td>\n",
       "      <td>2223</td>\n",
       "      <td>16.5</td>\n",
       "      <td>75</td>\n",
       "      <td>2</td>\n",
       "      <td>volkswagen dasher</td>\n",
       "    </tr>\n",
       "    <tr>\n",
       "      <th>96</th>\n",
       "      <td>18.0</td>\n",
       "      <td>6</td>\n",
       "      <td>225.0</td>\n",
       "      <td>105</td>\n",
       "      <td>3121</td>\n",
       "      <td>16.5</td>\n",
       "      <td>73</td>\n",
       "      <td>1</td>\n",
       "      <td>plymouth valiant</td>\n",
       "    </tr>\n",
       "  </tbody>\n",
       "</table>\n",
       "</div>"
      ],
      "text/plain": [
       "      mpg  cylinders  displacement  horsepower  weight  acceleration  \\\n",
       "332  35.0          4         122.0          88    2500          15.1   \n",
       "123  11.0          8         350.0         180    3664          11.0   \n",
       "376  34.0          4         108.0          70    2245          16.9   \n",
       "170  25.0          4          90.0          71    2223          16.5   \n",
       "96   18.0          6         225.0         105    3121          16.5   \n",
       "\n",
       "     model year  origin           car name  \n",
       "332          80       2  triumph tr7 coupe  \n",
       "123          73       1   oldsmobile omega  \n",
       "376          82       3     toyota corolla  \n",
       "170          75       2  volkswagen dasher  \n",
       "96           73       1   plymouth valiant  "
      ]
     },
     "execution_count": 25,
     "metadata": {},
     "output_type": "execute_result"
    }
   ],
   "source": [
    "sample.head()"
   ]
  },
  {
   "cell_type": "markdown",
   "metadata": {},
   "source": [
    "Load the the second sample"
   ]
  },
  {
   "cell_type": "code",
<<<<<<< HEAD
   "execution_count": 26,
=======
   "execution_count": 4,
>>>>>>> b204d8340b7f65f14dde69036476744e881deb25
   "metadata": {},
   "outputs": [],
   "source": [
    "pkl_obj = open('sample2.pkl', 'rb')\n",
    "\n",
    "sample2 = pickle.load(pkl_obj)\n",
    "pkl_obj.close()"
   ]
  },
  {
   "cell_type": "code",
<<<<<<< HEAD
   "execution_count": 27,
=======
   "execution_count": 8,
>>>>>>> b204d8340b7f65f14dde69036476744e881deb25
   "metadata": {},
   "outputs": [
    {
     "data": {
      "text/html": [
       "<div>\n",
       "<style scoped>\n",
       "    .dataframe tbody tr th:only-of-type {\n",
       "        vertical-align: middle;\n",
       "    }\n",
       "\n",
       "    .dataframe tbody tr th {\n",
       "        vertical-align: top;\n",
       "    }\n",
       "\n",
       "    .dataframe thead th {\n",
       "        text-align: right;\n",
       "    }\n",
       "</style>\n",
       "<table border=\"1\" class=\"dataframe\">\n",
       "  <thead>\n",
       "    <tr style=\"text-align: right;\">\n",
       "      <th></th>\n",
       "      <th>mpg</th>\n",
       "      <th>cylinders</th>\n",
       "      <th>displacement</th>\n",
       "      <th>horsepower</th>\n",
       "      <th>weight</th>\n",
       "      <th>acceleration</th>\n",
       "      <th>model year</th>\n",
       "      <th>origin</th>\n",
       "      <th>car name</th>\n",
       "    </tr>\n",
       "  </thead>\n",
       "  <tbody>\n",
       "    <tr>\n",
       "      <th>12</th>\n",
       "      <td>15.0</td>\n",
       "      <td>8</td>\n",
       "      <td>400.0</td>\n",
       "      <td>150</td>\n",
       "      <td>3761</td>\n",
       "      <td>9.5</td>\n",
       "      <td>70</td>\n",
       "      <td>1</td>\n",
       "      <td>chevrolet monte carlo</td>\n",
       "    </tr>\n",
       "    <tr>\n",
       "      <th>195</th>\n",
       "      <td>29.0</td>\n",
       "      <td>4</td>\n",
       "      <td>90.0</td>\n",
       "      <td>70</td>\n",
       "      <td>1937</td>\n",
       "      <td>14.2</td>\n",
       "      <td>76</td>\n",
       "      <td>2</td>\n",
       "      <td>vw rabbit</td>\n",
       "    </tr>\n",
       "    <tr>\n",
       "      <th>287</th>\n",
       "      <td>16.9</td>\n",
       "      <td>8</td>\n",
       "      <td>350.0</td>\n",
       "      <td>155</td>\n",
       "      <td>4360</td>\n",
       "      <td>14.9</td>\n",
       "      <td>79</td>\n",
       "      <td>1</td>\n",
       "      <td>buick estate wagon (sw)</td>\n",
       "    </tr>\n",
       "    <tr>\n",
       "      <th>143</th>\n",
       "      <td>32.0</td>\n",
       "      <td>4</td>\n",
       "      <td>83.0</td>\n",
       "      <td>61</td>\n",
       "      <td>2003</td>\n",
       "      <td>19.0</td>\n",
       "      <td>74</td>\n",
       "      <td>3</td>\n",
       "      <td>datsun 710</td>\n",
       "    </tr>\n",
       "    <tr>\n",
       "      <th>383</th>\n",
       "      <td>22.0</td>\n",
       "      <td>6</td>\n",
       "      <td>232.0</td>\n",
       "      <td>112</td>\n",
       "      <td>2835</td>\n",
       "      <td>14.7</td>\n",
       "      <td>82</td>\n",
       "      <td>1</td>\n",
       "      <td>ford granada l</td>\n",
       "    </tr>\n",
       "  </tbody>\n",
       "</table>\n",
       "</div>"
      ],
      "text/plain": [
       "      mpg  cylinders  displacement  horsepower  weight  acceleration  \\\n",
       "12   15.0          8         400.0         150    3761           9.5   \n",
       "195  29.0          4          90.0          70    1937          14.2   \n",
       "287  16.9          8         350.0         155    4360          14.9   \n",
       "143  32.0          4          83.0          61    2003          19.0   \n",
       "383  22.0          6         232.0         112    2835          14.7   \n",
       "\n",
       "     model year  origin                 car name  \n",
       "12           70       1    chevrolet monte carlo  \n",
       "195          76       2                vw rabbit  \n",
       "287          79       1  buick estate wagon (sw)  \n",
       "143          74       3               datsun 710  \n",
       "383          82       1           ford granada l  "
      ]
     },
<<<<<<< HEAD
     "execution_count": 27,
=======
     "execution_count": 8,
>>>>>>> b204d8340b7f65f14dde69036476744e881deb25
     "metadata": {},
     "output_type": "execute_result"
    }
   ],
   "source": [
    "sample2.head()"
   ]
  },
  {
   "cell_type": "code",
<<<<<<< HEAD
   "execution_count": 31,
=======
   "execution_count": 15,
>>>>>>> b204d8340b7f65f14dde69036476744e881deb25
   "metadata": {},
   "outputs": [],
   "source": [
    "# %load -r 24-30 supplement.py\n",
    "x1_bar = sample.mpg.mean()\n",
    "\n",
    "x2_bar = sample2.mpg.mean()\n",
    "\n",
    "s1_bar = sample.mpg.std()\n",
    "\n",
    "s2_bar = sample2.mpg.std()"
<<<<<<< HEAD
   ]
  },
  {
   "cell_type": "code",
   "execution_count": 32,
   "metadata": {},
   "outputs": [
    {
     "name": "stdout",
     "output_type": "stream",
     "text": [
      "Mean\n",
      "24.146666666666665\n",
      "21.200000000000003\n",
      "\n",
      "STD\n",
      "9.922274952342587\n",
      "6.5616965846468025\n"
     ]
    }
   ],
   "source": [
    "# %load -r 24-30 supplement.py\n",
    "\n",
    "# Getting the mean of the mpg column in sample1 and 2\n",
    "print(\"Mean\")\n",
    "print(sample.mpg.mean())\n",
    "print(sample2.mpg.mean())\n",
    "\n",
    "# Getting the standard deviation of the mpg column in sample 1 and 2\n",
    "print(\"\\nSTD\")\n",
    "print(sample.mpg.std())\n",
    "print(sample2.mpg.std())"
=======
>>>>>>> b204d8340b7f65f14dde69036476744e881deb25
   ]
  },
  {
   "cell_type": "markdown",
   "metadata": {},
   "source": [
    "Here let's print them"
   ]
  },
  {
   "cell_type": "code",
<<<<<<< HEAD
   "execution_count": 33,
=======
   "execution_count": 16,
>>>>>>> b204d8340b7f65f14dde69036476744e881deb25
   "metadata": {},
   "outputs": [
    {
     "name": "stdout",
     "output_type": "stream",
     "text": [
      "Sampling mean for the first sample: 24.146666666666665 \n",
      "        \n",
      "Sampling Standard Deviation for the first sample: 9.922274952342587\n",
      "\n",
      "Sampling mean for the second sample: 21.200000000000003 \n",
      "        \n",
<<<<<<< HEAD
      "Sampling Standard Deviation for the second sample: 6.5616965846468025\n",
=======
      "Sampling Standard Deviation for the second sample: 6.561696584646803\n",
>>>>>>> b204d8340b7f65f14dde69036476744e881deb25
      "\n"
     ]
    }
   ],
   "source": [
    "print(\"\"\"Sampling mean for the first sample: {} \n",
    "        \\nSampling Standard Deviation for the first sample: {}\\n\"\"\".format(x1_bar, s1_bar))\n",
    "\n",
    "print(\"\"\"Sampling mean for the second sample: {} \n",
    "        \\nSampling Standard Deviation for the second sample: {}\\n\"\"\".format(x2_bar, s2_bar))"
   ]
  },
  {
   "cell_type": "markdown",
   "metadata": {},
   "source": [
    "Let's load the original data. In this case, we will consider this data as \"population\""
   ]
  },
  {
   "cell_type": "code",
<<<<<<< HEAD
   "execution_count": 36,
=======
   "execution_count": 19,
>>>>>>> b204d8340b7f65f14dde69036476744e881deb25
   "metadata": {},
   "outputs": [],
   "source": [
    "# %load -r 32-35 supplement.py\n",
    "auto = pd.read_csv('data/auto-mpg.csv')\n",
    "mu = auto.mpg.mean()\n",
    "sigma = auto.mpg.std()"
<<<<<<< HEAD
=======
   ]
  },
  {
   "cell_type": "code",
   "execution_count": 22,
   "metadata": {},
   "outputs": [
    {
     "data": {
      "text/plain": [
       "(392, 9)"
      ]
     },
     "execution_count": 22,
     "metadata": {},
     "output_type": "execute_result"
    }
   ],
   "source": [
    "auto.shape"
>>>>>>> b204d8340b7f65f14dde69036476744e881deb25
   ]
  },
  {
   "cell_type": "markdown",
   "metadata": {},
   "source": [
    "Here print population parameters $\\mu$ and $\\sigma$"
   ]
  },
  {
   "cell_type": "code",
<<<<<<< HEAD
   "execution_count": 37,
=======
   "execution_count": 20,
>>>>>>> b204d8340b7f65f14dde69036476744e881deb25
   "metadata": {},
   "outputs": [
    {
     "name": "stdout",
     "output_type": "stream",
     "text": [
<<<<<<< HEAD
      "Population mean is 23.445918367346938 \n",
      "        \n",
      "Population standard deviation is 7.8050074865717995\n",
=======
      "Population mean is 23.44591836734694 \n",
      "        \n",
      "Population standard deviation is 7.805007486571799\n",
>>>>>>> b204d8340b7f65f14dde69036476744e881deb25
      "\n"
     ]
    }
   ],
   "source": [
    "print(\"\"\"Population mean is {} \n",
    "        \\nPopulation standard deviation is {}\\n\"\"\".format(mu, sigma))\n",
    "\n"
   ]
  },
  {
   "cell_type": "markdown",
   "metadata": {},
   "source": [
    "The difference between the sample mean and the population mean is known as the **Sampling Error**.  \n",
    "\n",
    ">When using the sample mean to estimate the population mean, some possible error will be involved since random sample means are also random.\n",
    "\n",
    "### It's your turn again :)\n",
    "\n",
    "Repeat the sampling process you did above 1000 times and plot the result."
   ]
  },
  {
   "cell_type": "code",
<<<<<<< HEAD
   "execution_count": 73,
   "metadata": {},
   "outputs": [],
   "source": [
    "# auto.sample(30).mpg.mean()\n",
    "\n",
    "auto_mean = []\n",
    "for item in range(1000):\n",
    "    times = auto.sample(30).mpg.mean()\n",
    "    auto_mean.append(times)\n",
    "\n",
    "# Same thing but using list comprehension\n",
    "sample_mean = [auto.sample(n=30).mpg.mean() for i in range(1_000)]"
   ]
  },
  {
   "cell_type": "code",
   "execution_count": 67,
=======
   "execution_count": 30,
>>>>>>> b204d8340b7f65f14dde69036476744e881deb25
   "metadata": {},
   "outputs": [],
   "source": [
    "import matplotlib.pyplot as plt\n",
    "plt.style.use('fivethirtyeight')\n",
    "\n",
    "%matplotlib inline"
   ]
  },
  {
   "cell_type": "code",
<<<<<<< HEAD
   "execution_count": 77,
=======
   "execution_count": 23,
   "metadata": {},
   "outputs": [],
   "source": [
    "sample_means = []\n",
    "\n",
    "\n",
    "for i in range(1000):\n",
    "    mean = auto.sample(n=30).mpg.mean()\n",
    "    sample_means.append(mean)"
   ]
  },
  {
   "cell_type": "code",
   "execution_count": 27,
>>>>>>> b204d8340b7f65f14dde69036476744e881deb25
   "metadata": {},
   "outputs": [
    {
     "data": {
      "image/png": "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\n",
      "text/plain": [
       "<Figure size 432x288 with 1 Axes>"
      ]
     },
     "metadata": {
      "needs_background": "light"
     },
     "output_type": "display_data"
    }
   ],
   "source": [
<<<<<<< HEAD
    "plt.hist(sample_mean) # Shows distribution of means\n",
    "plt.show()"
=======
    "sample_means2 = [auto.sample(n=30).mpg.mean() for i in range(1000)]"
   ]
  },
  {
   "cell_type": "code",
   "execution_count": 28,
   "metadata": {},
   "outputs": [
    {
     "data": {
      "text/plain": [
       "1000"
      ]
     },
     "execution_count": 28,
     "metadata": {},
     "output_type": "execute_result"
    }
   ],
   "source": [
    "len(sample_means2)"
>>>>>>> b204d8340b7f65f14dde69036476744e881deb25
   ]
  },
  {
   "cell_type": "code",
   "execution_count": 78,
   "metadata": {},
<<<<<<< HEAD
=======
   "outputs": [],
   "source": []
  },
  {
   "cell_type": "code",
   "execution_count": 32,
   "metadata": {},
   "outputs": [],
   "source": [
    "import matplotlib.pyplot as plt\n",
    "plt.style.use('fivethirtyeight')\n",
    "\n",
    "%matplotlib inline"
   ]
  },
  {
   "cell_type": "code",
   "execution_count": 34,
   "metadata": {},
>>>>>>> b204d8340b7f65f14dde69036476744e881deb25
   "outputs": [
    {
     "data": {
      "text/plain": [
<<<<<<< HEAD
       "<matplotlib.axes._subplots.AxesSubplot at 0x12e9e4e80>"
      ]
     },
     "execution_count": 78,
=======
       "(array([  4.,  18.,  64., 122., 189., 220., 190., 112.,  66.,  15.]),\n",
       " array([19.25666667, 20.01666667, 20.77666667, 21.53666667, 22.29666667,\n",
       "        23.05666667, 23.81666667, 24.57666667, 25.33666667, 26.09666667,\n",
       "        26.85666667]),\n",
       " <a list of 10 Patch objects>)"
      ]
     },
     "execution_count": 34,
>>>>>>> b204d8340b7f65f14dde69036476744e881deb25
     "metadata": {},
     "output_type": "execute_result"
    },
    {
     "data": {
<<<<<<< HEAD
      "image/png": "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\n",
      "text/plain": [
       "<Figure size 432x288 with 1 Axes>"
      ]
     },
     "metadata": {
      "needs_background": "light"
     },
     "output_type": "display_data"
    }
   ],
   "source": [
    "import seaborn as sns\n",
    "\n",
    "sns.distplot(sample_mean, bins=10) # Shows distribution of means"
   ]
  },
  {
   "cell_type": "code",
   "execution_count": 72,
   "metadata": {},
   "outputs": [
    {
     "data": {
      "image/png": "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\n",
=======
      "image/png": "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\n",
>>>>>>> b204d8340b7f65f14dde69036476744e881deb25
      "text/plain": [
       "<Figure size 432x288 with 1 Axes>"
      ]
     },
     "metadata": {
      "needs_background": "light"
     },
     "output_type": "display_data"
    }
   ],
   "source": [
<<<<<<< HEAD
    "# %load -r 9-22 supplement.py\n",
    "# taking repeating samples from auto dataset\n",
    "thousand_rand_samp = [auto.sample(n = 20).mpg.mean() for i in range(1000)]\n",
    "\n",
    "bars = plt.hist(thousand_rand_samp)\n",
    "\n",
    "plt.vlines(x = mu, ymin= 0,\n",
    "           ymax = bars[0].max() +1,\n",
    "           color = 'r', label = 'pop mean')\n",
    "plt.xticks(range(17,29))\n",
    "plt.xlabel('sample_means')\n",
    "plt.ylabel('frequencies of sample means')\n",
    "\n",
    "plt.legend()\n",
    "plt.show()"
=======
    "plt.hist(sample_means)"
>>>>>>> b204d8340b7f65f14dde69036476744e881deb25
   ]
  },
  {
   "cell_type": "code",
<<<<<<< HEAD
   "execution_count": 69,
=======
   "execution_count": 38,
>>>>>>> b204d8340b7f65f14dde69036476744e881deb25
   "metadata": {},
   "outputs": [
    {
     "data": {
<<<<<<< HEAD
      "image/png": "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\n",
=======
      "image/png": "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\n",
>>>>>>> b204d8340b7f65f14dde69036476744e881deb25
      "text/plain": [
       "<Figure size 432x288 with 1 Axes>"
      ]
     },
     "metadata": {
      "needs_background": "light"
     },
     "output_type": "display_data"
    }
   ],
   "source": [
    "# %load -r 9-22 supplement.py\n",
    "# taking repeating samples from auto dataset\n",
    "thousand_rand_samp = [auto.sample(n = 2).mpg.mean() for i in range(1000)]\n",
    "\n",
    "bars = plt.hist(thousand_rand_samp)\n",
    "\n",
    "plt.vlines(x = mu, ymin= 0,\n",
    "           ymax = bars[0].max() +1,\n",
    "           color = 'r', label = 'pop mean')\n",
    "plt.xticks(range(17,29))\n",
    "plt.xlabel('sample_means')\n",
    "plt.ylabel('frequencies of sample means')\n",
    "\n",
    "plt.legend()\n",
    "plt.show()"
   ]
  },
  {
   "cell_type": "code",
   "execution_count": 42,
   "metadata": {},
   "outputs": [
    {
     "data": {
      "image/png": "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\n",
      "text/plain": [
       "<Figure size 432x288 with 1 Axes>"
      ]
     },
     "metadata": {
      "needs_background": "light"
     },
     "output_type": "display_data"
    }
   ],
   "source": [
    "thousand_rand_samp = [auto.sample(n = 30).mpg.mean() for i in range(1000)]\n",
    "\n",
    "bars = plt.hist(thousand_rand_samp)\n",
    "\n",
    "plt.vlines(x = mu, ymin= 0,\n",
    "           ymax = bars[0].max() +1,\n",
    "           color = 'r', label = 'pop mean')\n",
    "plt.xticks(range(17,29))\n",
    "plt.xlabel('sample_means')\n",
    "plt.ylabel('frequencies of sample means')\n",
    "\n",
    "plt.legend()\n",
    "plt.show()"
   ]
  },
  {
   "cell_type": "code",
   "execution_count": 41,
   "metadata": {},
   "outputs": [
    {
     "data": {
      "text/plain": [
       "1.424992887297358"
      ]
     },
     "execution_count": 41,
     "metadata": {},
     "output_type": "execute_result"
    }
   ],
   "source": [
    "sigma = auto.mpg.std()\n",
    "\n",
    "\n",
    "standard_error = sigma/ (np.sqrt(30))\n",
    "\n",
    "standard_error"
   ]
  },
  {
   "cell_type": "code",
   "execution_count": 43,
   "metadata": {},
   "outputs": [],
   "source": [
    "confidence_interval_lower = sample.mpg.mean() - 2*standard_error\n",
    "\n",
    "confidence_interval_upper = sample.mpg.mean() + 2*standard_error"
   ]
  },
  {
   "cell_type": "code",
   "execution_count": 44,
   "metadata": {},
   "outputs": [
    {
     "data": {
      "text/plain": [
       "21.296680892071947"
      ]
     },
     "execution_count": 44,
     "metadata": {},
     "output_type": "execute_result"
    }
   ],
   "source": [
    "confidence_interval_lower"
   ]
  },
  {
   "cell_type": "code",
   "execution_count": 45,
   "metadata": {},
   "outputs": [
    {
     "data": {
      "text/plain": [
       "26.996652441261382"
      ]
     },
     "execution_count": 45,
     "metadata": {},
     "output_type": "execute_result"
    }
   ],
   "source": [
    "confidence_interval_upper"
   ]
  },
  {
   "cell_type": "code",
   "execution_count": 47,
   "metadata": {},
   "outputs": [],
   "source": [
    "confidence_interval_lower_2 = sample2.mpg.mean() - 2*standard_error\n",
    "\n",
    "confidence_interval_upper_2 = sample2.mpg.mean() + 2*standard_error"
   ]
  },
  {
   "cell_type": "code",
   "execution_count": 51,
   "metadata": {},
   "outputs": [],
   "source": [
    "sample3 = auto.sample(n=30)\n",
    "\n",
    "confidence_interval_lower_3 = sample3.mpg.mean() - 2*standard_error\n",
    "\n",
    "confidence_interval_upper_3 = sample3.mpg.mean() + 2*standard_error"
   ]
  },
  {
   "cell_type": "code",
   "execution_count": 52,
   "metadata": {},
   "outputs": [
    {
     "data": {
      "text/plain": [
       "19.32001422540528"
      ]
     },
     "execution_count": 52,
     "metadata": {},
     "output_type": "execute_result"
    }
   ],
   "source": [
    "confidence_interval_lower_3"
   ]
  },
  {
   "cell_type": "code",
   "execution_count": 53,
   "metadata": {},
   "outputs": [
    {
     "data": {
      "text/plain": [
       "25.019985774594716"
      ]
     },
     "execution_count": 53,
     "metadata": {},
     "output_type": "execute_result"
    }
   ],
   "source": [
    "confidence_interval_upper_3"
   ]
  },
  {
   "cell_type": "code",
   "execution_count": 46,
   "metadata": {},
   "outputs": [
    {
     "data": {
      "text/plain": [
       "23.44591836734694"
      ]
     },
     "execution_count": 46,
     "metadata": {},
     "output_type": "execute_result"
    }
   ],
   "source": [
    "auto.mpg.mean()"
   ]
  },
  {
   "cell_type": "markdown",
   "metadata": {},
   "source": [
    "# Central Limit Theorem\n",
    "\n",
    "The Central Limit Theorem states: \n",
    ">When you add **a large number** of independent random variables, irrespective of the original distribution of these variables, **their sampling mean distribution tends towards a normal distribution** with mean equals to the mean of the original population and the standard deviation equals to $\\frac{\\sigma}{\\sqrt{n}}$.\n",
    "\n",
    "\n",
    "\n",
    "\n",
    "\n",
    "The standard error of the mean is the standard deviation of the sampling distribution.\n",
    "The issue is that a sample is not an exact replica of the population. We need to account for the fact that in order to make our estimate of the $\\mu$ value possible. Let's break it down:\n",
    "\n",
    "## Standard Error\n",
    "\n",
    "$$\\sigma _{\\bar{X}} = \\frac{\\sigma }{\\sqrt{n}}$$\n",
    "\n",
    "* $ \\sigma _{x}$ = standard error of $\\bar{x} $\n",
    "* $ \\sigma $ = standard deviation of population\n",
    "\n",
    "\n",
    "**What if we do not know the population sigma?**<br>\n",
    "If we do not know the population standard deviation, we can approximate for it by used the sample standard deviation.\n",
    "\n",
    "$\\sigma _{x} ≈ \\frac{s}{\\sqrt{n}}$\n",
    "\n",
    "* s = sample standard deviation\n",
    "\n",
    "But in this case, distribution shape is not 'normal' anymore. In this case the shape will be call 'T-distribution'. We will study this later in more details.\n",
    "\n",
    "\n",
    "**Sample size impact on standard error of mean**<br>\n",
    "\n",
    "Q: How should sample size influence standard error of the mean?\n",
    "\n",
    "\n",
    "![error](./img/diminishing_error.png)\n",
    "Important implication: The Standard Error of the mean remains the same as long as the population standard deviation is known and sample size remains the same.\n",
    "\n",
    "\n",
    "__Note-1__ In the case of finite sampling, we need to adjust the formula for standard error:\n",
    "\n",
    "<img src=\"img/standard_deviation_of_x_bar.png\" width=\"650\">\n",
    "\n",
    "\n",
    "__Note-2__ Note that in CLT the shape of initial distribution is not important! With enough sample size we can always achieve a distribution very close to normal one.\n",
    "\n",
    "<img src=\"img/clt_with_different.png\" width=\"650\">\n",
    "\n",
    "\n",
    "## Interval Estimation - Confidence Intervals\n",
    "\n",
    "Q: Let's assume that we have a sample of size=49 and we know the standard deviation of the population is $\\sigma = 5$. If we know that sampling mean is $\\bar{x} = 20$. What might be a good estimate for the population mean if we also know that the population mean is bigger than 20?\n",
    "\n",
    "Hint: What do we mean by 'a good estimate'?"
   ]
  },
  {
   "cell_type": "markdown",
   "metadata": {},
   "source": [
    "[Z-scores](https://www.mathsisfun.com/data/standard-normal-distribution-table.html)\n",
    "\n",
    "<img src=\"img/interval_estimation.png\" width=\"650\">"
   ]
  },
  {
   "cell_type": "code",
<<<<<<< HEAD
   "execution_count": 86,
=======
   "execution_count": 54,
   "metadata": {},
   "outputs": [],
   "source": [
    "import scipy.stats as stats\n"
   ]
  },
  {
   "cell_type": "code",
   "execution_count": 61,
   "metadata": {},
   "outputs": [
    {
     "data": {
      "text/plain": [
       "1.0364333894937898"
      ]
     },
     "execution_count": 61,
     "metadata": {},
     "output_type": "execute_result"
    }
   ],
   "source": [
    "stats.norm.ppf(0.85)"
   ]
  },
  {
   "cell_type": "code",
   "execution_count": null,
>>>>>>> b204d8340b7f65f14dde69036476744e881deb25
   "metadata": {},
   "outputs": [
    {
     "name": "stdout",
     "output_type": "stream",
     "text": [
      "-1.2857142857142856\n",
      "2.7142857142857144\n"
     ]
    }
   ],
   "source": [
    "size_of_sample = 49\n",
    "standard_deviation = 5\n",
    "sampling_mean = 20\n",
    "plus_or_min = 2\n",
    "\n",
    "standard_error = (standard_deviation / (np.sqrt(size_of_sample))) - plus_or_min\n",
    "print(standard_error)\n",
    "\n",
    "standard_error2 = (standard_deviation / (np.sqrt(size_of_sample))) + plus_or_min\n",
    "print(standard_error2)"
   ]
  },
  {
   "cell_type": "code",
   "execution_count": 88,
   "metadata": {},
   "outputs": [
    {
     "data": {
      "text/plain": [
       "-1.6448536269514729"
      ]
     },
     "execution_count": 88,
     "metadata": {},
     "output_type": "execute_result"
    }
   ],
   "source": [
    "stats.norm.ppf(0.05)"
   ]
  },
  {
   "cell_type": "code",
   "execution_count": 87,
   "metadata": {},
   "outputs": [
    {
     "name": "stdout",
     "output_type": "stream",
     "text": [
      "1.959963984540054\n"
     ]
    },
    {
     "data": {
      "image/png": "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\n",
      "text/plain": [
       "<Figure size 432x288 with 1 Axes>"
      ]
     },
     "metadata": {
      "needs_background": "light"
     },
     "output_type": "display_data"
    }
   ],
   "source": [
    "import matplotlib.pyplot as plt\n",
    "import numpy as np\n",
    "import scipy.stats as stats\n",
    "import math\n",
    "%matplotlib inline\n",
    "\n",
    "\n",
    "#suppose population mu is 21\n",
    "mu = 21\n",
    "# sample mean gives us a point estimator\n",
    "point_estimator = 20\n",
    "\n",
    "# we know population variance is 49\n",
    "std_error = 5/(np.sqrt(49))\n",
    "\n",
    "\n",
    "# how much confidence do we require\n",
    "confidence = 0.95\n",
    "\n",
    "# alpha \n",
    "alpha = 1- confidence\n",
    "\n",
    "# due to symmetry we divided alpha by 2\n",
    "# note that to find z_alpha_over_2 we used \n",
    "# standard normal distribution\n",
    "\n",
    "z_alpha_over_2 = np.abs(stats.norm.ppf(alpha/2))\n",
    "\n",
    "print(z_alpha_over_2)\n",
    "\n",
    "\n",
    "# upper bound gives us a value so that\n",
    "# 2*(the area between point_estimator - upper_bound) = confidence\n",
    "\n",
    "upper_bound = point_estimator + z_alpha_over_2* std_error\n",
    "\n",
    "# now let's plot these\n",
    "\n",
    "# a normal distribution with mean=mu and std=sigma\n",
    "x = np.linspace(mu - 4*std_error, mu + 4*std_error, 100)\n",
    "plt.plot(x, stats.norm.pdf(x, mu, std_error))\n",
    "\n",
    "# a vertical line to mark point estimator\n",
    "plt.vlines(point_estimator, ymin=0,\n",
    "           ymax = stats.norm.pdf(point_estimator, mu, std_error))\n",
    "\n",
    "# a vertical line for population mu\n",
    "plt.vlines(mu, ymin=0,\n",
    "           ymax = stats.norm.pdf(mu, mu, std_error),\n",
    "          color = 'g')\n",
    "\n",
    "# a vertical line for upper bound\n",
    "plt.vlines(upper_bound, ymin=0,\n",
    "           ymax = stats.norm.pdf(upper_bound, \n",
    "                                 mu, std_error))\n",
    "\n",
    "\n",
    "# fill the area between upper_bound and point_estimator\n",
    "plt.fill_between(x= np.linspace(point_estimator, upper_bound, 100), \n",
    "                 y1= stats.norm.pdf(np.linspace(point_estimator,\n",
    "                                                upper_bound, 100), mu, std_error) ,\n",
    "                 facecolor='blue',\n",
    "                 alpha=0.35, \n",
    "                 label= 'btwn point estimator and\\n upper bound')\n",
    "\n",
    "# fill the area between point estimator and the left of it\n",
    "plt.fill_between(x= np.linspace(mu - 4*std_error, point_estimator, 100), \n",
    "                 y1= stats.norm.pdf(np.linspace(mu - 4*std_error, point_estimator,100), mu, std_error) ,\n",
    "                 facecolor='red',\n",
    "                 alpha=0.35, \n",
    "                 label= 'red area %.3f'%(stats.norm.cdf(point_estimator, mu, std_error)))\n",
    "\n",
    "plt.legend(loc = 'upper right')\n",
    "plt.show()"
   ]
  },
  {
   "cell_type": "markdown",
   "metadata": {},
   "source": [
    "\n"
   ]
  },
  {
   "cell_type": "markdown",
   "metadata": {},
   "source": [
    "# Hypothesis Testing \n",
    "\n",
    "## The Analytical Question \n",
    "\n",
    "A data scientist wants to examine if there is an effect on IQ scores when using tutors. To analyze this, she conducts IQ tests on a sample of 40 students, and wants to compare her students' IQ to the general population IQ. The way an IQ score is structured, we know that a standardized IQ test has a mean of 100, and a standard deviation of 16. When she tests her group of students, however, she gets an average IQ of 103. Based on this finding, does tutoring make a difference?\n",
    "\n",
    "## Step 1: State Your Hypotheses\n",
    "\n",
    "### The Alternative Hypothesis ($H_a$)\n",
    "\n",
    "The alternative hypothesis always reflects the idea or theory that needs to be tested. For this problem, you want to test if the tutoring has resulted in a significant increase in student IQ. So, you would write it down as:\n",
    "\n",
    "> The sample mean is **significantly** bigger than the population mean\n",
    "\n",
    "Again, significance is key here. If we denote sample mean as $\\bar{x}$, and population mean as mu ($\\mu$), you can write the alternative hypothesis as:\n",
    "\n",
    "$$\\large H_a\\text{:   }\\mu < \\bar{x}$$\n",
    "\n",
    "The alternative hypothesis here is that $\\mu$ is less than $M$. In other situations, you could check for both possibilities of $\\mu$ being smaller OR bigger than by checking  $\\mu \\neq M$. \n",
    "\n",
    "Maybe the tutoring results as a lower IQ... Who knows!\n",
    "\n",
    "For now, you'll just check for the **significant increase**, for now, to keep the process simple.\n",
    "\n",
    "### The Null Hypothesis ($H_0$)\n",
    "\n",
    "For a one-sample z-test, you define your null hypothesis as there being **no significant difference** between specified sample and population. This means that under the null hypothesis, you assume that any observed (generally small) difference may be present due to sampling or experimental error. Considering this, for this problem, you can define a null hypothesis ($H_0$) as:\n",
    "\n",
    "> There is **no significant difference** between the sample mean and population mean \n",
    "\n",
    "Remember the emphasis is on a _significant_ difference, rather than just any difference as a natural result of taking samples.\n",
    "\n",
    "Denoting the sample mean as $M$, and the population mean as mu ($\\mu$), you can write the null hypothesis as:\n",
    "\n",
    "$$\\large H_0\\text{:   }\\mu \\geq \\bar{x}$$\n",
    "\n",
    "\n",
    "## Step 2: Specify a Significance Level (alpha)\n",
    "\n",
    "Now that your hypotheses are in place, you have to decide on your significance level alpha ($\\alpha$) as a cut-off value to define whether you can reject your null hypothesis or not.\n",
    "\n",
    "As discussed previously, often, $\\alpha$ is set to 0.05, which also has as a side-effect that there is a 5 percent chance that you will reject the null hypothesis when it is true.\n",
    "Later, you'll see that using alpha, you'll formulate your test result as: \"with a confidence level of 95%, we can state that...\". For a z-distribution, this can be shown as below:\n",
    "\n",
    "<img src=\"img/hypothesis_test.png\" width=670>\n",
    "\n",
    "\n",
    "If you test both sides of the distribution ($\\mu \\neq \\bar{x}$, when $\\mu$ can either be smaller OR bigger), you need to perform a 2-tail test to see if tutoring lowers OR highers the IQ of students.\n",
    "\n",
    "Each red region would be calculated as $\\dfrac{\\alpha}{2}$. When testing of a single side (as in the example) i.e. just higher OR just lower, you can use a one-tail test as shown in the first and second images. The $\\alpha$ value we use is 0.05 or $5\\%$.\n",
    "\n",
    "## Step 3: Calculate the test statistic\n",
    "\n",
    "For z-tests, a z-statistic is used as our test statistic. You'll see other statistics suitable for other tests later. A one-sample z-statistic is calculated as:\n",
    "\n",
    "$$ \\large \\text{z-statistic} = \\dfrac{\\bar x - \\mu_0}{{\\sigma}/{\\sqrt{n}}} $$\n",
    "\n",
    "This formula slightly differs from the standard score formula. It includes the square square root of n to reflect that we are dealing with the sample variance here. \n",
    "\n",
    "Now, all you need to do is use this formula given your sample mean $\\bar x$, the population standard deviation $\\sigma$, and the number of items in the sample ($n$). $\\mu_0$ is the mean you're testing the hypothesis for, or the \"hypothesized mean\". \n",
    "\n",
    "Let's use Python to calculate this. "
   ]
  },
  {
   "cell_type": "code",
   "execution_count": null,
   "metadata": {},
   "outputs": [],
   "source": []
  }
 ],
 "metadata": {
  "kernelspec": {
   "display_name": "Python 3",
   "language": "python",
   "name": "python3"
  },
  "language_info": {
   "codemirror_mode": {
    "name": "ipython",
    "version": 3
   },
   "file_extension": ".py",
   "mimetype": "text/x-python",
   "name": "python",
   "nbconvert_exporter": "python",
   "pygments_lexer": "ipython3",
   "version": "3.8.1"
  },
  "toc": {
   "base_numbering": 1,
   "nav_menu": {},
   "number_sections": true,
   "sideBar": true,
   "skip_h1_title": false,
   "title_cell": "Table of Contents",
   "title_sidebar": "Contents",
   "toc_cell": false,
   "toc_position": {},
   "toc_section_display": true,
   "toc_window_display": false
  }
 },
 "nbformat": 4,
 "nbformat_minor": 4
}
