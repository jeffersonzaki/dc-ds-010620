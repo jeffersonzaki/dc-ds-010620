{
 "cells": [
  {
   "cell_type": "markdown",
   "metadata": {},
   "source": [
    "![seaborn](https://d2h0cx97tjks2p.cloudfront.net/blogs/wp-content/uploads/sites/2/2018/07/seaborn.png) \n",
    "# The good, the bad, the seaborn\n",
    "\n",
    "\n",
    "#### Whats wrong with this data visualization? (hint: so many things)\n",
    "\n",
    "<img src=\"https://pbs.twimg.com/media/DNTFhGaXcAEbrMO.jpg\" width=800>\n",
    "\n",
    "Learning goals:\n",
    "- Create a list of best practices for data visualization\n",
    "- Identify the differences between matplotlib and seaborn\n",
    "- Create a visualization with seaborn, applying best practices"
   ]
  },
  {
   "cell_type": "markdown",
   "metadata": {},
   "source": [
    "## Goal 1: Create a list of best practices for data visualization\n",
    "\n",
    "Documenting best practices:\n",
    "\n",
    "In groups:\n",
    "- Group 1: [article 1](https://www.jackhagley.com/What-s-the-difference-between-an-Infographic-and-a-Data-Visualisation)\n",
    "- Group 2: [article 2](https://thoughtbot.com/blog/analyzing-minards-visualization-of-napoleons-1812-march)\n",
    "- Group 3: [article 3](http://dataremixed.com/2016/04/the-design-of-everyday-visualizations/)\n",
    "- Group 4: [article 4](https://visme.co/blog/data-storytelling-tips/)\n",
    "- Group 5: [article 5](files/VisualizationsThatReallyWork.pdf)\n",
    "\n",
    "To fill in: [Best practices deck](https://docs.google.com/presentation/d/1KTeUKLNSap_NgTheLqhbZ7HRKi9173vqisVdVNqmE9E/edit?usp=sharing) "
   ]
  },
  {
   "cell_type": "markdown",
   "metadata": {},
   "source": [
    "## Goal 2:  Identify differences between seaborn & matplotlib\n",
    "\n",
    "\n",
    "### Two code examples to accomplish the same plot:\n",
    "\n",
    "**Resources:**\n",
    "- [python graph gallery on seaborn](https://python-graph-gallery.com/seaborn/)\n",
    "- [seaborn](https://seaborn.pydata.org/)\n"
   ]
  },
  {
   "cell_type": "code",
   "execution_count": 19,
   "metadata": {},
   "outputs": [
    {
     "name": "stdout",
     "output_type": "stream",
     "text": [
      "\u001b[33mDEPRECATION: Python 2.7 will reach the end of its life on January 1st, 2020. Please upgrade your Python as Python 2.7 won't be maintained after that date. A future version of pip will drop support for Python 2.7. More details about Python 2 support in pip, can be found at https://pip.pypa.io/en/latest/development/release-process/#python-2-support\u001b[0m\n",
      "Collecting xlrd\n",
      "  Using cached https://files.pythonhosted.org/packages/b0/16/63576a1a001752e34bf8ea62e367997530dc553b689356b9879339cf45a4/xlrd-1.2.0-py2.py3-none-any.whl\n",
      "Installing collected packages: xlrd\n",
      "Successfully installed xlrd-1.2.0\n"
     ]
    }
   ],
   "source": [
    "!pip install xlrd --user"
   ]
  },
  {
   "cell_type": "code",
   "execution_count": 21,
   "metadata": {},
   "outputs": [
    {
     "name": "stdout",
     "output_type": "stream",
     "text": [
      "Collecting package metadata (current_repodata.json): done\n",
      "Solving environment: done\n",
      "\n",
      "## Package Plan ##\n",
      "\n",
      "  environment location: /Users/zakijefferson/opt/anaconda3/envs/py3\n",
      "\n",
      "  added / updated specs:\n",
      "    - xlrd\n",
      "\n",
      "\n",
      "The following packages will be downloaded:\n",
      "\n",
      "    package                    |            build\n",
      "    ---------------------------|-----------------\n",
      "    xlrd-1.2.0                 |           py37_0         186 KB  anaconda\n",
      "    ------------------------------------------------------------\n",
      "                                           Total:         186 KB\n",
      "\n",
      "The following NEW packages will be INSTALLED:\n",
      "\n",
      "  xlrd               anaconda/osx-64::xlrd-1.2.0-py37_0\n",
      "\n",
      "\n",
      "\n",
      "Downloading and Extracting Packages\n",
      "xlrd-1.2.0           | 186 KB    | ##################################### | 100% \n",
      "Preparing transaction: done\n",
      "Verifying transaction: done\n",
      "Executing transaction: done\n",
      "\n",
      "Note: you may need to restart the kernel to use updated packages.\n"
     ]
    }
   ],
   "source": [
    "conda install -c anaconda xlrd"
   ]
  },
  {
   "cell_type": "code",
   "execution_count": 14,
   "metadata": {},
   "outputs": [
    {
     "name": "stdout",
     "output_type": "stream",
     "text": [
      "Collecting package metadata (current_repodata.json): done\n",
      "Solving environment: done\n",
      "\n",
      "## Package Plan ##\n",
      "\n",
      "  environment location: /Users/zakijefferson/opt/anaconda3/envs/py3\n",
      "\n",
      "  added / updated specs:\n",
      "    - seaborn\n",
      "\n",
      "\n",
      "The following packages will be downloaded:\n",
      "\n",
      "    package                    |            build\n",
      "    ---------------------------|-----------------\n",
      "    appnope-0.1.0              |           py37_0           8 KB  anaconda\n",
      "    backcall-0.1.0             |           py37_0          20 KB  anaconda\n",
      "    blas-1.0                   |              mkl           5 KB  anaconda\n",
      "    cycler-0.10.0              |           py37_0          14 KB  anaconda\n",
      "    freetype-2.9.1             |       hb4e5f40_0         864 KB  anaconda\n",
      "    intel-openmp-2019.5        |              281         1.1 MB  anaconda\n",
      "    ipykernel-5.1.3            |   py37h39e3cac_0         167 KB  anaconda\n",
      "    ipython-7.11.1             |   py37h39e3cac_0         1.1 MB  anaconda\n",
      "    ipython_genutils-0.2.0     |           py37_0          39 KB  anaconda\n",
      "    jedi-0.15.2                |           py37_0         760 KB  anaconda\n",
      "    jupyter_core-4.6.1         |           py37_0          74 KB  anaconda\n",
      "    kiwisolver-1.1.0           |   py37h0a44026_0          60 KB  anaconda\n",
      "    libgfortran-3.0.1          |       h93005f0_2         495 KB  anaconda\n",
      "    libpng-1.6.37              |       ha441bb4_0         325 KB  anaconda\n",
      "    matplotlib-3.1.1           |   py37h54f8f79_0         6.6 MB  anaconda\n",
      "    mkl-2019.5                 |              281       157.7 MB  anaconda\n",
      "    mkl-service-2.3.0          |   py37hfbe908c_0         187 KB  anaconda\n",
      "    mkl_fft-1.0.15             |   py37h5e564d8_0         157 KB  anaconda\n",
      "    mkl_random-1.1.0           |   py37ha771720_0         320 KB  anaconda\n",
      "    numpy-1.17.4               |   py37h890c691_0           4 KB  anaconda\n",
      "    numpy-base-1.17.4          |   py37h6575580_0         4.9 MB  anaconda\n",
      "    pandas-0.25.3              |   py37h0a44026_0        10.2 MB  anaconda\n",
      "    patsy-0.5.1                |           py37_0         375 KB  anaconda\n",
      "    pexpect-4.7.0              |           py37_0          82 KB  anaconda\n",
      "    pickleshare-0.7.5          |           py37_0          12 KB  anaconda\n",
      "    pip-19.3.1                 |           py37_0         1.9 MB  anaconda\n",
      "    ptyprocess-0.6.0           |           py37_0          23 KB  anaconda\n",
      "    pyparsing-2.4.6            |             py_0          64 KB  anaconda\n",
      "    python-3.7.6               |       h359304d_2        23.9 MB  anaconda\n",
      "    pytz-2019.3                |             py_0         231 KB  anaconda\n",
      "    pyzmq-18.1.0               |   py37h0a44026_0         435 KB  anaconda\n",
      "    scipy-1.3.1                |   py37h1410ff5_0        16.0 MB  anaconda\n",
      "    setuptools-44.0.0          |           py37_0         662 KB  anaconda\n",
      "    six-1.13.0                 |           py37_0          26 KB  anaconda\n",
      "    statsmodels-0.10.1         |   py37h1d22016_0         8.8 MB  anaconda\n",
      "    tornado-6.0.3              |   py37h1de35cc_0         644 KB  anaconda\n",
      "    traitlets-4.3.3            |           py37_0         137 KB  anaconda\n",
      "    wcwidth-0.1.7              |           py37_0          23 KB  anaconda\n",
      "    wheel-0.33.6               |           py37_0          40 KB  anaconda\n",
      "    ------------------------------------------------------------\n",
      "                                           Total:       238.4 MB\n",
      "\n",
      "The following NEW packages will be INSTALLED:\n",
      "\n",
      "  blas               anaconda/osx-64::blas-1.0-mkl\n",
      "  cycler             anaconda/osx-64::cycler-0.10.0-py37_0\n",
      "  freetype           anaconda/osx-64::freetype-2.9.1-hb4e5f40_0\n",
      "  intel-openmp       anaconda/osx-64::intel-openmp-2019.5-281\n",
      "  kiwisolver         anaconda/osx-64::kiwisolver-1.1.0-py37h0a44026_0\n",
      "  libgfortran        anaconda/osx-64::libgfortran-3.0.1-h93005f0_2\n",
      "  libpng             anaconda/osx-64::libpng-1.6.37-ha441bb4_0\n",
      "  matplotlib         anaconda/osx-64::matplotlib-3.1.1-py37h54f8f79_0\n",
      "  mkl                anaconda/osx-64::mkl-2019.5-281\n",
      "  mkl-service        anaconda/osx-64::mkl-service-2.3.0-py37hfbe908c_0\n",
      "  mkl_fft            anaconda/osx-64::mkl_fft-1.0.15-py37h5e564d8_0\n",
      "  mkl_random         anaconda/osx-64::mkl_random-1.1.0-py37ha771720_0\n",
      "  numpy              anaconda/osx-64::numpy-1.17.4-py37h890c691_0\n",
      "  numpy-base         anaconda/osx-64::numpy-base-1.17.4-py37h6575580_0\n",
      "  pandas             anaconda/osx-64::pandas-0.25.3-py37h0a44026_0\n",
      "  patsy              anaconda/osx-64::patsy-0.5.1-py37_0\n",
      "  pyparsing          anaconda/noarch::pyparsing-2.4.6-py_0\n",
      "  pytz               anaconda/noarch::pytz-2019.3-py_0\n",
      "  scipy              anaconda/osx-64::scipy-1.3.1-py37h1410ff5_0\n",
      "  seaborn            anaconda/noarch::seaborn-0.9.0-pyh91ea838_1\n",
      "  statsmodels        anaconda/osx-64::statsmodels-0.10.1-py37h1d22016_0\n",
      "\n",
      "The following packages will be UPDATED:\n",
      "\n",
      "  openssl              pkgs/main::openssl-1.1.1d-h1de35cc_3 --> anaconda::openssl-1.1.1-h1de35cc_0\n",
      "\n",
      "The following packages will be SUPERSEDED by a higher-priority channel:\n",
      "\n",
      "  appnope                   pkgs/main::appnope-0.1.0-py38_0 --> anaconda::appnope-0.1.0-py37_0\n",
      "  backcall                 pkgs/main::backcall-0.1.0-py38_0 --> anaconda::backcall-0.1.0-py37_0\n",
      "  ca-certificates                                 pkgs/main --> anaconda\n",
      "  certifi              pkgs/main::certifi-2019.11.28-py38_0 --> anaconda::certifi-2019.11.28-py37_0\n",
      "  ipykernel          pkgs/main::ipykernel-5.1.3-py38h39e3c~ --> anaconda::ipykernel-5.1.3-py37h39e3cac_0\n",
      "  ipython            pkgs/main::ipython-7.11.1-py38h39e3ca~ --> anaconda::ipython-7.11.1-py37h39e3cac_0\n",
      "  ipython_genutils   pkgs/main::ipython_genutils-0.2.0-py3~ --> anaconda::ipython_genutils-0.2.0-py37_0\n",
      "  jedi                        pkgs/main::jedi-0.15.2-py38_0 --> anaconda::jedi-0.15.2-py37_0\n",
      "  jupyter_core         pkgs/main::jupyter_core-4.6.1-py38_0 --> anaconda::jupyter_core-4.6.1-py37_0\n",
      "  pexpect                   pkgs/main::pexpect-4.7.0-py38_0 --> anaconda::pexpect-4.7.0-py37_0\n",
      "  pickleshare        pkgs/main::pickleshare-0.7.5-py38_1000 --> anaconda::pickleshare-0.7.5-py37_0\n",
      "  pip                          pkgs/main::pip-19.3.1-py38_0 --> anaconda::pip-19.3.1-py37_0\n",
      "  ptyprocess             pkgs/main::ptyprocess-0.6.0-py38_0 --> anaconda::ptyprocess-0.6.0-py37_0\n",
      "  python                 pkgs/main::python-3.8.0-h359304d_2 --> anaconda::python-3.7.6-h359304d_2\n",
      "  pyzmq              pkgs/main::pyzmq-18.1.0-py38h0a44026_0 --> anaconda::pyzmq-18.1.0-py37h0a44026_0\n",
      "  setuptools            pkgs/main::setuptools-44.0.0-py38_0 --> anaconda::setuptools-44.0.0-py37_0\n",
      "  six                          pkgs/main::six-1.13.0-py38_0 --> anaconda::six-1.13.0-py37_0\n",
      "  tornado            pkgs/main::tornado-6.0.3-py38h1de35cc~ --> anaconda::tornado-6.0.3-py37h1de35cc_0\n",
      "  traitlets               pkgs/main::traitlets-4.3.3-py38_0 --> anaconda::traitlets-4.3.3-py37_0\n",
      "  wcwidth                   pkgs/main::wcwidth-0.1.7-py38_0 --> anaconda::wcwidth-0.1.7-py37_0\n",
      "  wheel                      pkgs/main::wheel-0.33.6-py38_0 --> anaconda::wheel-0.33.6-py37_0\n",
      "\n",
      "\n",
      "\n",
      "Downloading and Extracting Packages\n",
      "pyparsing-2.4.6      | 64 KB     | ##################################### | 100% \n",
      "ipykernel-5.1.3      | 167 KB    | ##################################### | 100% \n",
      "traitlets-4.3.3      | 137 KB    | ##################################### | 100% \n",
      "intel-openmp-2019.5  | 1.1 MB    | ##################################### | 100% \n",
      "libgfortran-3.0.1    | 495 KB    | ##################################### | 100% \n",
      "backcall-0.1.0       | 20 KB     | ##################################### | 100% \n",
      "mkl_fft-1.0.15       | 157 KB    | ##################################### | 100% \n",
      "mkl-service-2.3.0    | 187 KB    | ##################################### | 100% \n",
      "pandas-0.25.3        | 10.2 MB   | ##################################### | 100% \n",
      "wheel-0.33.6         | 40 KB     | ##################################### | 100% \n",
      "statsmodels-0.10.1   | 8.8 MB    | ##################################### | 100% \n",
      "six-1.13.0           | 26 KB     | ##################################### | 100% \n",
      "wcwidth-0.1.7        | 23 KB     | ##################################### | 100% \n",
      "cycler-0.10.0        | 14 KB     | ##################################### | 100% \n",
      "kiwisolver-1.1.0     | 60 KB     | ##################################### | 100% \n",
      "numpy-1.17.4         | 4 KB      | ##################################### | 100% \n",
      "scipy-1.3.1          | 16.0 MB   | ##################################### | 100% \n",
      "freetype-2.9.1       | 864 KB    | ##################################### | 100% \n",
      "mkl-2019.5           | 157.7 MB  | ##################################### | 100% \n",
      "pip-19.3.1           | 1.9 MB    | ##################################### | 100% \n",
      "pytz-2019.3          | 231 KB    | ##################################### | 100% \n",
      "jupyter_core-4.6.1   | 74 KB     | ##################################### | 100% \n",
      "ptyprocess-0.6.0     | 23 KB     | ##################################### | 100% \n",
      "jedi-0.15.2          | 760 KB    | ##################################### | 100% \n",
      "appnope-0.1.0        | 8 KB      | ##################################### | 100% \n",
      "pexpect-4.7.0        | 82 KB     | ##################################### | 100% \n",
      "libpng-1.6.37        | 325 KB    | ##################################### | 100% \n",
      "python-3.7.6         | 23.9 MB   | ##################################### | 100% \n",
      "ipython_genutils-0.2 | 39 KB     | ##################################### | 100% \n",
      "pickleshare-0.7.5    | 12 KB     | ##################################### | 100% \n",
      "tornado-6.0.3        | 644 KB    | ##################################### | 100% \n",
      "matplotlib-3.1.1     | 6.6 MB    | ##################################### | 100% \n",
      "mkl_random-1.1.0     | 320 KB    | ##################################### | 100% \n",
      "patsy-0.5.1          | 375 KB    | ##################################### | 100% \n",
      "blas-1.0             | 5 KB      | ##################################### | 100% \n",
      "pyzmq-18.1.0         | 435 KB    | ##################################### | 100% \n",
      "numpy-base-1.17.4    | 4.9 MB    | ##################################### | 100% \n",
      "ipython-7.11.1       | 1.1 MB    | ##################################### | 100% \n",
      "setuptools-44.0.0    | 662 KB    | ##################################### | 100% \n",
      "Preparing transaction: done\n",
      "Verifying transaction: done\n",
      "Executing transaction: done\n",
      "\n",
      "Note: you may need to restart the kernel to use updated packages.\n"
     ]
    }
   ],
   "source": [
    "conda install -c anaconda seaborn"
   ]
  },
  {
   "cell_type": "code",
   "execution_count": 5,
   "metadata": {},
   "outputs": [
    {
     "name": "stdout",
     "output_type": "stream",
     "text": [
      "Collecting package metadata (current_repodata.json): done\n",
      "Solving environment: done\n",
      "\n",
      "# All requested packages already installed.\n",
      "\n"
     ]
    }
   ],
   "source": [
    "!conda install seaborn"
   ]
  },
  {
   "cell_type": "code",
   "execution_count": 1,
   "metadata": {},
   "outputs": [],
   "source": [
    "import matplotlib.pyplot as plt\n",
    "import pandas as pd\n",
    "import seaborn as sns\n",
    "%matplotlib inline\n",
    "\n",
    "# Load in data\n",
    "tips = pd.read_csv(\"https://raw.githubusercontent.com/mwaskom/seaborn-data/master/tips.csv\")\n"
   ]
  },
  {
   "cell_type": "code",
   "execution_count": 2,
   "metadata": {},
   "outputs": [
    {
     "data": {
      "image/png": "[encoded data removed]",
      "text/plain": [
       "<Figure size 432x288 with 1 Axes>"
      ]
     },
     "metadata": {
      "needs_background": "light"
     },
     "output_type": "display_data"
    },
    {
     "data": {
      "image/png": "[encoded data removed]",
      "text/plain": [
       "<Figure size 432x288 with 1 Axes>"
      ]
     },
     "metadata": {
      "needs_background": "light"
     },
     "output_type": "display_data"
    }
   ],
   "source": [
    "# Matplotlib:\n",
    "\n",
    "# Initialize Figure and Axes object\n",
    "fig, ax = plt.subplots()\n",
    "fig, bx = plt.subplots()\n",
    "\n",
    "\n",
    "# Create violinplot\n",
    "ax.violinplot(tips[\"total_bill\"], vert=False)\n",
    "\n",
    "# Show the plot\n",
    "plt.show()"
   ]
  },
  {
   "cell_type": "code",
   "execution_count": 3,
   "metadata": {},
   "outputs": [
    {
     "data": {
      "image/png": "[encoded data removed]",
      "text/plain": [
       "<Figure size 432x288 with 1 Axes>"
      ]
     },
     "metadata": {
      "needs_background": "light"
     },
     "output_type": "display_data"
    }
   ],
   "source": [
    "# Seaborn:\n",
    "\n",
    "import matplotlib.pyplot as plt\n",
    "import seaborn as sns\n",
    "\n",
    "# Load the data\n",
    "tips = sns.load_dataset(\"tips\")\n",
    "# tips = pd.read_csv(\"https://raw.githubusercontent.com/mwaskom/seaborn-data/master/tips.csv\")\n",
    "\n",
    "# Create violinplot\n",
    "# sns.violinplot(x = \"total_bill\", data=tips)\n",
    "sns.violinplot(x = \"total_bill\", data=tips)\n",
    "\n",
    "# Show the plot\n",
    "plt.show()"
   ]
  },
  {
   "cell_type": "markdown",
   "metadata": {},
   "source": [
    "## Goal 3: Create a visualization with seaborn, applying best practices\n",
    "\n",
    "[exercise from data world](https://data.world/makeovermonday/2018w37-paying-the-president)\n"
   ]
  },
  {
   "cell_type": "code",
   "execution_count": 7,
   "metadata": {},
   "outputs": [],
   "source": [
    "import pandas as pd\n",
    "df = pd.read_excel('https://query.data.world/s/5qxp2ldwsel3ow2pq5mkvfas2rfaup')"
   ]
  },
  {
   "cell_type": "code",
   "execution_count": 8,
   "metadata": {},
   "outputs": [
    {
     "data": {
      "text/html": [
       "<div>\n",
       "<style scoped>\n",
       "    .dataframe tbody tr th:only-of-type {\n",
       "        vertical-align: middle;\n",
       "    }\n",
       "\n",
       "    .dataframe tbody tr th {\n",
       "        vertical-align: top;\n",
       "    }\n",
       "\n",
       "    .dataframe thead th {\n",
       "        text-align: right;\n",
       "    }\n",
       "</style>\n",
       "<table border=\"1\" class=\"dataframe\">\n",
       "  <thead>\n",
       "    <tr style=\"text-align: right;\">\n",
       "      <th></th>\n",
       "      <th>type</th>\n",
       "      <th>source</th>\n",
       "      <th>date</th>\n",
       "      <th>amount</th>\n",
       "      <th>purpose_scrubbed</th>\n",
       "      <th>property_scrubbed</th>\n",
       "      <th>purpose</th>\n",
       "      <th>property</th>\n",
       "      <th>city</th>\n",
       "      <th>state</th>\n",
       "    </tr>\n",
       "  </thead>\n",
       "  <tbody>\n",
       "    <tr>\n",
       "      <th>0</th>\n",
       "      <td>FEC</td>\n",
       "      <td>Donald J. Trump for President, Inc.</td>\n",
       "      <td>Apr 1, 2016</td>\n",
       "      <td>9000.00</td>\n",
       "      <td>Rent</td>\n",
       "      <td>Trump Plaza LLC</td>\n",
       "      <td>RENT</td>\n",
       "      <td>TRUMP PLAZA LLC</td>\n",
       "      <td>New York</td>\n",
       "      <td>NY</td>\n",
       "    </tr>\n",
       "    <tr>\n",
       "      <th>1</th>\n",
       "      <td>FEC</td>\n",
       "      <td>Donald J. Trump for President, Inc.</td>\n",
       "      <td>Apr 1, 2016</td>\n",
       "      <td>6000.00</td>\n",
       "      <td>Rent</td>\n",
       "      <td>Trump CPS LLC</td>\n",
       "      <td>RENT</td>\n",
       "      <td>TRUMP CPS LLC</td>\n",
       "      <td>New York</td>\n",
       "      <td>NY</td>\n",
       "    </tr>\n",
       "    <tr>\n",
       "      <th>2</th>\n",
       "      <td>FEC</td>\n",
       "      <td>Donald J. Trump for President, Inc.</td>\n",
       "      <td>Apr 1, 2017</td>\n",
       "      <td>39816.67</td>\n",
       "      <td>Rent</td>\n",
       "      <td>Trump Tower Commercial LLC</td>\n",
       "      <td>RENT</td>\n",
       "      <td>TRUMP TOWER COMMERCIAL LLC</td>\n",
       "      <td>Hicksville</td>\n",
       "      <td>NY</td>\n",
       "    </tr>\n",
       "    <tr>\n",
       "      <th>3</th>\n",
       "      <td>FEC</td>\n",
       "      <td>Donald J. Trump for President, Inc.</td>\n",
       "      <td>Apr 1, 2017</td>\n",
       "      <td>1000.00</td>\n",
       "      <td>Rent</td>\n",
       "      <td>Trump Restaurants LLC</td>\n",
       "      <td>RENT</td>\n",
       "      <td>TRUMP RESTAURANTS LLC</td>\n",
       "      <td>New York</td>\n",
       "      <td>NY</td>\n",
       "    </tr>\n",
       "    <tr>\n",
       "      <th>4</th>\n",
       "      <td>government</td>\n",
       "      <td>Department of Defense</td>\n",
       "      <td>Apr 10, 2017</td>\n",
       "      <td>1422.00</td>\n",
       "      <td>Lodging</td>\n",
       "      <td>Trump Hotel Panama</td>\n",
       "      <td>Hotels-Lodging</td>\n",
       "      <td>Trump International Hotel &amp; Tower Panama</td>\n",
       "      <td>Panama City</td>\n",
       "      <td>Panama</td>\n",
       "    </tr>\n",
       "  </tbody>\n",
       "</table>\n",
       "</div>"
      ],
      "text/plain": [
       "         type                               source          date    amount  \\\n",
       "0         FEC  Donald J. Trump for President, Inc.   Apr 1, 2016   9000.00   \n",
       "1         FEC  Donald J. Trump for President, Inc.   Apr 1, 2016   6000.00   \n",
       "2         FEC  Donald J. Trump for President, Inc.   Apr 1, 2017  39816.67   \n",
       "3         FEC  Donald J. Trump for President, Inc.   Apr 1, 2017   1000.00   \n",
       "4  government                Department of Defense  Apr 10, 2017   1422.00   \n",
       "\n",
       "  purpose_scrubbed           property_scrubbed         purpose  \\\n",
       "0             Rent             Trump Plaza LLC            RENT   \n",
       "1             Rent               Trump CPS LLC            RENT   \n",
       "2             Rent  Trump Tower Commercial LLC            RENT   \n",
       "3             Rent       Trump Restaurants LLC            RENT   \n",
       "4          Lodging          Trump Hotel Panama  Hotels-Lodging   \n",
       "\n",
       "                                   property         city   state  \n",
       "0                           TRUMP PLAZA LLC     New York      NY  \n",
       "1                             TRUMP CPS LLC     New York      NY  \n",
       "2                TRUMP TOWER COMMERCIAL LLC   Hicksville      NY  \n",
       "3                     TRUMP RESTAURANTS LLC     New York      NY  \n",
       "4  Trump International Hotel & Tower Panama  Panama City  Panama  "
      ]
     },
     "execution_count": 8,
     "metadata": {},
     "output_type": "execute_result"
    }
   ],
   "source": [
    "df.head()"
   ]
  },
  {
   "cell_type": "markdown",
   "metadata": {},
   "source": [
    "## Reflection:\n",
    "\n",
    "- What worked from this training? \n",
    "- What can you apply moving forward?\n",
    "- What's one concept you would like to practice more?"
   ]
  },
  {
   "cell_type": "code",
   "execution_count": 34,
   "metadata": {},
   "outputs": [
    {
     "data": {
      "text/plain": [
       "<matplotlib.axes._subplots.AxesSubplot at 0x1a242dae10>"
      ]
     },
     "execution_count": 34,
     "metadata": {},
     "output_type": "execute_result"
    },
    {
     "data": {
      "image/png": "[encoded data removed]",
      "text/plain": [
       "<Figure size 720x432 with 6 Axes>"
      ]
     },
     "metadata": {
      "needs_background": "light"
     },
     "output_type": "display_data"
    }
   ],
   "source": [
    "fig, ax = plt.subplots(2, 3, figsize=(10, 6))\n",
    "sns.boxplot(x=\"amount\", y=\"purpose_scrubbed\", data=df.loc[df.purpose_scrubbed != \"Travel\"], color=\"red\", ax=ax[1][1])\n",
    "sns.boxplot(x=\"amount\", y=\"purpose_scrubbed\", data=df.loc[df.purpose_scrubbed == \"Travel\"], color=\"red\", ax=ax[0][1])\n",
    "sns.violinplot(x=\"amount\", y=\"purpose_scrubbed\", data=df.loc[df.purpose_scrubbed != \"Travel\"], color=\"blue\", ax=ax[0][0])\n"
   ]
  },
  {
   "cell_type": "code",
   "execution_count": null,
   "metadata": {},
   "outputs": [],
   "source": []
  },
  {
   "cell_type": "markdown",
   "metadata": {},
   "source": [
    "#### For extra fun:\n",
    "[visualization challenges](http://www.storytellingwithdata.com/blog/2019/3/1/swdchallenge-visualize-this-data)\n",
    "\n",
    "[seaborn cheatsheet](https://s3.amazonaws.com/assets.datacamp.com/blog_assets/Python_Seaborn_Cheat_Sheet.pdf)"
   ]
  }
 ],
 "metadata": {
  "kernelspec": {
   "display_name": "Python 3",
   "language": "python",
   "name": "python3"
  },
  "language_info": {
   "codemirror_mode": {
    "name": "ipython",
    "version": 3
   },
   "file_extension": ".py",
   "mimetype": "text/x-python",
   "name": "python",
   "nbconvert_exporter": "python",
   "pygments_lexer": "ipython3",
   "version": "3.8.0"
  }
 },
 "nbformat": 4,
 "nbformat_minor": 4
}
