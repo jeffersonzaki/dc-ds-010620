{
 "cells": [
  {
   "cell_type": "markdown",
   "metadata": {},
   "source": [
    "# HTTP Request/Response Cycle - Lab\n",
    "\n",
    "## Introduction \n",
    "\n",
    "In this lab, we'll make use of the `requests` module commands and properties seen in the previous lesson, to extract information for a web service called **\"Open Notify\"** to access NASA's space data. \n",
    "\n",
    "## Objectives\n",
    "\n",
    "You will be able to:\n",
    "\n",
    "* Explain the HTTP request/response cycle\n",
    "* List the status codes of responses and their meanings\n",
    "* Obtain and interpret status codes from responses\n",
    "* Make HTTP GET and POST requests in python using the `requests` library\n",
    "\n",
    "## Open Notify \n",
    "\n",
    "[Open Notify](http://open-notify.org/)  is an an open source project to provide a simple programming interface for some of NASA’s awesome data. This takes live raw data from NASA's systems and turn them into APIs related to space and spacecraft. We can access the following information from open notify. \n",
    "\n",
    "* Current Location of the International Space Station\n",
    "\n",
    "* Overhead Pass Predictions for the International Space Station\n",
    "\n",
    "* Number of People in Space\n",
    "    \n",
    "### API endpoints\n",
    "\n",
    "Open Notify has several API endpoints. \n",
    ">An endpoint is a server route that is used to retrieve different data from the API. \n",
    "\n",
    "For example, the `/comments` endpoint on the Reddit API might retrieve information about comments, whereas the `/users` endpoint might retrieve data about users. To access them, you would add the endpoint to the base url of the API.\n",
    "\n",
    "For the OpenNotify API, we have following end points \n",
    "\n",
    "1. Current Location of the International Space Station `/iss-now.json`\n",
    "2. Overhead Pass Predictions for the International Space Station `/iss-pass.json`    \n",
    "3. Number of People in Space `/astros.json`\n",
    "\n",
    "The `.json` extension simply tells us that the data is being returned in a JSON format.\n",
    "\n",
    "In this lab, we'll be querying this API to retrieve live data about the International Space Station (ISS). Details on OpenNofity, endpoints, syntax, and the services it offers can be viewed [Here](http://open-notify.org/Open-Notify-API/)\n",
    "\n",
    "![](images/iss.jpg)\n",
    "\n",
    "### Current location of International Space Station\n",
    "\n",
    "The first endpoint we'll look at on Open Notify is the ` iss-now.json` endpoint (current location of international space station). This endpoint gets the current latitude and longitude of the International Space Station.  Perform the following tasks \n",
    "* Make a get request to get the latest position of the international space station from the opennotify api's `iss-now` endpoint at http://api.open-notify.org/iss-now.json\n",
    "* Check the status code of the response\n",
    "* Interpret the returned code"
   ]
  },
  {
   "cell_type": "code",
   "execution_count": 1,
   "metadata": {},
   "outputs": [],
   "source": [
    "# Import Libraries\n",
    "import json\n",
    "import requests"
   ]
  },
  {
   "cell_type": "code",
   "execution_count": 66,
   "metadata": {},
   "outputs": [
    {
     "name": "stdout",
     "output_type": "stream",
     "text": [
      "{\"timestamp\": 1580240997, \"message\": \"success\", \"iss_position\": {\"longitude\": \"146.5507\", \"latitude\": \"-49.6209\"}}\n"
     ]
    }
   ],
   "source": [
    "iss = requests.get(\"http://api.open-notify.org/iss-now.json\") # Making a get requests of the last position from the /iss-now.json API endpoint\n",
    "\n",
    "# ISS positional updates\n",
    "print(iss.text) # If you continue to refresh it shows a new position of the ISS"
   ]
  },
  {
   "cell_type": "markdown",
   "metadata": {},
   "source": [
    "* Print the contents of the response and identify its current location"
   ]
  },
  {
   "cell_type": "code",
   "execution_count": 17,
   "metadata": {},
   "outputs": [
    {
     "data": {
      "text/plain": [
       "200"
      ]
     },
     "execution_count": 17,
     "metadata": {},
     "output_type": "execute_result"
    }
   ],
   "source": [
    "# Checking the status code of our get request\n",
    "iss.status_code"
   ]
  },
  {
   "cell_type": "markdown",
   "metadata": {},
   "source": [
    "### Check the next pass of International space station for a given location\n",
    "\n",
    "Let's repeat the above for the second endpoint `iss-pass.json`. This end point is used to query the next pass of the space station on a given location. Let's just run as above and record your observations."
   ]
  },
  {
   "cell_type": "code",
   "execution_count": 89,
   "metadata": {},
   "outputs": [
    {
     "name": "stdout",
     "output_type": "stream",
     "text": [
      "404\n",
      "<!doctype html>\n",
      "<html lang=\"en-us\">\n",
      " <head>\n",
      "  <meta http-equiv=\"Content-Type\" content=\"text/html; charset=UTF-8\">\n",
      "  <meta name=\"viewport\" content=\"width=device-width, initial-scale=1.0\">\n",
      "  <link href=\"/css/bootstrap.min.css\" rel=\"stylesheet\">\n",
      "  <link href='http://fonts.googleapis.com/css?family=Oswald:400,300' rel='stylesheet' type='text/css'>\n",
      "  <link href=\"/css/style.css\" rel=\"stylesheet\">\n",
      "  <link href=\"/css/syntax.css\" rel=\"stylesheet\">\n",
      "  <title>Open Notify - Page Not Found</title>\n",
      " </head>\n",
      "<body>\n",
      "<div class=\"wrapper\">\n",
      " <div id=\"header\">\n",
      " <div class=\"container\">\n",
      "  <h1><a href=\"/\">Open Notify</a></h1>\n",
      "  <ul id=\"navigation\" class=\"nav nav-tabs\">\n",
      "    \n",
      "      <li >\n",
      "        <a href=\"/\">Home</a>\n",
      "      </li>\n",
      "    \n",
      "      <li >\n",
      "        <a href=\"/Open-Notify-API\">API Docs</a>\n",
      "      </li>\n",
      "    \n",
      "      <li >\n",
      "        <a href=\"https://github.com/open-notify\">Source Code</a>\n",
      "      </li>\n",
      "    \n",
      "      <li >\n",
      "        <a href=\"/about\">About</a>\n",
      "      </li>\n",
      "     \n",
      "  </ul>\n",
      " </div>\n",
      "</div>\n",
      "<div id=\"content\">\n",
      " <div class=\"container\">\n",
      "  <div class=\"row\">\n",
      "   <div class=\"span8\">\n",
      "    <h1 id='404__page_not_found'>404 - Page Not Found</h1>\n",
      "\n",
      "<p>Ya, that&#8217;s not here. Sorry.</p>\n",
      "<ul class='thumbnails'>\n",
      "  <li class='span4'>\n",
      "    <a class='thumbnail' href='http://www.flickr.com/photos/jurvetson/252084585/'>\n",
      "      <img class='img-rounded' src='/img/XPRS_CATO_jurvetson.jpg' />\n",
      "    </a>\n",
      "    <a href='http://www.flickr.com/photos/jurvetson/252084585/'>XPRS CATO!</a> by <a href=''>jurvetson</a> on Flickr.\n",
      "  </li>\n",
      "</ul>\n",
      "<p>This site was rebuilt recently and older content was removed.</p>\n",
      "\n",
      "<p>Maybe you were looking for the <a href=''>API docs</a>?</p>\n",
      "   </div>\n",
      "  </div>\n",
      " </div>\n",
      "</div>\n",
      "\n",
      "</div>\n",
      " <div id=\"footer\">\n",
      "  <div class=\"container\">\n",
      "    <p class=\"pull-right\"><a href=\"#\">Back to top</a></p>\n",
      "    <p>Like what I'm doing? Consider donating with <iframe style=\"border: 0; margin-bottom: -7px; padding: 0;\"\n",
      "        src=\"https://www.gittip.com/natronics/widget.html\"\n",
      "        width=\"48pt\" height=\"22pt\"></iframe>\n",
      "    </p>\n",
      "    <p>\n",
      "     &nbsp;\n",
      "    </p>\n",
      "    <p class=\"license\">\n",
      "    This site is licensed under a <a rel=\"license\" href=\"http://creativecommons.org/licenses/by/3.0/deed.en_US\">\n",
      "     Creative Commons Attribution 3.0 Unported License.\n",
      "     <img alt=\"Creative Commons License\" src=\"http://i.creativecommons.org/l/by/3.0/80x15.png\">\n",
      "    </a>\n",
      "   </p>\n",
      "  </div>\n",
      " </div>\n",
      " <script type=\"text/javascript\">\n",
      "\n",
      "  var _gaq = _gaq || [];\n",
      "  _gaq.push(['_setAccount', 'UA-24692957-1']);\n",
      "  _gaq.push(['_setDomainName', 'open-notify.org']);\n",
      "  _gaq.push(['_setAllowLinker', true]);\n",
      "  _gaq.push(['_trackPageview']);\n",
      "\n",
      "  (function() {\n",
      "    var ga = document.createElement('script'); ga.type = 'text/javascript'; ga.async = true;\n",
      "    ga.src = ('https:' == document.location.protocol ? 'https://ssl' : 'http://www') + '.google-analytics.com/ga.js';\n",
      "    var s = document.getElementsByTagName('script')[0]; s.parentNode.insertBefore(ga, s);\n",
      "  })();\n",
      "\n",
      " </script>\n",
      "</body>\n",
      "</html>\n",
      "\n"
     ]
    }
   ],
   "source": [
    "# Next pass for ISS using the /iss-pass.json API endpoint\n",
    "iss_pass = requests.get(\"http://open-notify.org/iss-pass.json\")\n",
    "\n",
    "# Status code\n",
    "print(iss_pass.status_code) # Given an error. 404\n",
    "\n",
    "print(iss_pass.text)"
   ]
  },
  {
   "cell_type": "markdown",
   "metadata": {},
   "source": [
    "So clearly there is something wrong as we had a 400 response. This is how you should always test your responses for validity. \n",
    "\n",
    "If we look at the documentation for the Open Notify API, we see that the ISS Pass endpoint requires two parameters.\n",
    "\n",
    "> The ISS Pass endpoint returns when the ISS will next pass over a given location on earth. In order to compute this, we need to pass the coordinates of the location to the API. We do this by passing two parameters -- latitude and longitude.\n",
    "\n",
    "We can do this by adding an optional keyword argument, `params`, to our request. In this case, there are two parameters we need to pass:\n",
    "\n",
    "* `lat` -- The latitude of the location we want.\n",
    "* `lon` -- The longitude of the location we want.\n",
    "\n",
    "Perform the following tasks :\n",
    "* Set parameters to reflect the lat and long of New York  (40.71, -74)\n",
    "* Send a get request to Open Notify passing in the lat long parameters as k:v pairs in a dictionary\n",
    "* Check the status code and interpret\n",
    "* Print the header information and the returned content"
   ]
  },
  {
   "cell_type": "code",
   "execution_count": 99,
   "metadata": {},
   "outputs": [
    {
     "name": "stdout",
     "output_type": "stream",
     "text": [
      "200\n",
      "{\n",
      "  \"message\": \"success\", \n",
      "  \"request\": {\n",
      "    \"altitude\": 100, \n",
      "    \"datetime\": 1580238599, \n",
      "    \"latitude\": 40.71, \n",
      "    \"longitude\": -74.0, \n",
      "    \"passes\": 5\n",
      "  }, \n",
      "  \"response\": [\n",
      "    {\n",
      "      \"duration\": 653, \n",
      "      \"risetime\": 1580243106\n",
      "    }, \n",
      "    {\n",
      "      \"duration\": 620, \n",
      "      \"risetime\": 1580248944\n",
      "    }, \n",
      "    {\n",
      "      \"duration\": 562, \n",
      "      \"risetime\": 1580254837\n",
      "    }, \n",
      "    {\n",
      "      \"duration\": 605, \n",
      "      \"risetime\": 1580260683\n",
      "    }, \n",
      "    {\n",
      "      \"duration\": 654, \n",
      "      \"risetime\": 1580266489\n",
      "    }\n",
      "  ]\n",
      "}\n",
      "\n"
     ]
    }
   ],
   "source": [
    "# Need to put the 2 required input values into the get request parameter\n",
    "ny_lat_and_lon = {\"lat\": 40.71, \"lon\": -74} # New Yorks latitude and longitude\n",
    "\n",
    "ny_iss_pass = requests.get(\"http://api.open-notify.org/iss-pass.json\", params=ny_lat_and_lon)\n",
    "print(ny_iss_pass.status_code) # Returns the status code of our get requests\n",
    "\n",
    "print(dict(ny_iss_pass.headers)) # Shows headers\n",
    "\n",
    "print(ny_iss_pass.text) # Shows our query"
   ]
  },
  {
   "cell_type": "markdown",
   "metadata": {},
   "source": [
    "### Finding the number of people in space\n",
    "\n",
    "Open Notify has one more API endpoint, `/astros.json`. It tells you how many people are currently in space. The format of the responses can be studied [HERE](http://open-notify.org/Open-Notify-API/People-In-Space/).\n",
    "\n",
    "Read the above documentation and perform the following tasks:\n",
    "\n",
    "* Get the response from astros.json endpoint\n",
    "* Count how many people are currently in space\n",
    "* List the names of people currently in space."
   ]
  },
  {
   "cell_type": "code",
   "execution_count": 107,
   "metadata": {},
   "outputs": [
    {
     "name": "stdout",
     "output_type": "stream",
     "text": [
      "200\n",
      "{\"people\": [{\"name\": \"Christina Koch\", \"craft\": \"ISS\"}, {\"name\": \"Alexander Skvortsov\", \"craft\": \"ISS\"}, {\"name\": \"Luca Parmitano\", \"craft\": \"ISS\"}, {\"name\": \"Andrew Morgan\", \"craft\": \"ISS\"}, {\"name\": \"Oleg Skripochka\", \"craft\": \"ISS\"}, {\"name\": \"Jessica Meir\", \"craft\": \"ISS\"}], \"number\": 6, \"message\": \"success\"}\n"
     ]
    }
   ],
   "source": [
    "# get request on the number of people there are in space\n",
    "ppl_iss = requests.get(\"http://api.open-notify.org/astros.json\")\n",
    "print(ppl_iss.status_code) # status code of our get requests\n",
    "\n",
    "print(ppl_iss.text)"
   ]
  },
  {
   "cell_type": "markdown",
   "metadata": {},
   "source": [
    "### Interpret the Results - How many people are in space and what are their names \n",
    "\n",
    "There are 6 people in space, whose names are: \n",
    " - Christina Koch\n",
    " - Alexander Skortsov\n",
    " - Luca Parmitano\n",
    " - Andrew Morgan \n",
    " - Oleg Skripochka \n",
    " - Jessica Meir"
   ]
  },
  {
   "cell_type": "markdown",
   "metadata": {},
   "source": [
    "## Summary \n",
    "\n",
    "In this lesson, we saw how we can use request and response methods to query an Open API. We also saw how to look at the contents returned with the API calls and how to parse them. Next, we'll look at connecting to APIs which are not OPEN, i.e. we would need to pass in some authentication information and filter the results. "
   ]
  }
 ],
 "metadata": {
  "kernelspec": {
   "display_name": "Python 3",
   "language": "python",
   "name": "python3"
  },
  "language_info": {
   "codemirror_mode": {
    "name": "ipython",
    "version": 3
   },
   "file_extension": ".py",
   "mimetype": "text/x-python",
   "name": "python",
   "nbconvert_exporter": "python",
   "pygments_lexer": "ipython3",
   "version": "3.8.1"
  },
  "toc": {
   "base_numbering": 1,
   "nav_menu": {},
   "number_sections": true,
   "sideBar": true,
   "skip_h1_title": false,
   "title_cell": "Table of Contents",
   "title_sidebar": "Contents",
   "toc_cell": false,
   "toc_position": {},
   "toc_section_display": true,
   "toc_window_display": false
  }
 },
 "nbformat": 4,
 "nbformat_minor": 4
}
