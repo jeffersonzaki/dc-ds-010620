{
 "cells": [
  {
   "cell_type": "markdown",
   "metadata": {},
   "source": [
    "https://github.com/adam-p/markdown-here/wiki/Markdown-Cheatsheet\n",
    "# LEGEND: \n",
    "    gudieline = Black\n",
    "    easy      = Blue\n",
    "    Medium    = Green\n",
    "    Hard      = Red\n",
    "    VeryHard  = Pink\n",
    "    Math      = Gray\n",
    "    \n",
    "<a id=\"table_content\"> </a>\n",
    "# Table of Content \n",
    "| Topic      | Concept            |\n",
    "|------------|--------------------|\n",
    "|SQL  | <a href=\"#SQL_table_join\"> Joining Tables (On & Using) </a> |\n",
    "|SQL  | <a href=\"#SQL_sub_query\"> Subquery </a>   |\n",
    "|SQL  | <a href=\"#SQL_data_types\"> SQL Datatypes </a>         |\n",
    "|Pandas  | <a href=\"#pandas_connect_databd\"> Connect to database via pandas </a> |\n",
    "|Pandas  | <a href=\"#pandas_query\"> Pandas query (wild card)</a>         |\n",
    "|Pandas  | <a href=\"#pandas_image_scrap\"> Scraping an image and putting it in a dataframe</a>         |\n",
    "|Python Class  | <a href=\"#python_class_add_attribute\">Adding attributes to class and defining as a callable</a>|\n",
    "|Python Class  | <a href=\"#python_class_initialize_attribute\">Intializing attributes on class creation (BETTER THAN ABOVE^)</a>         |\n",
    "|Python Class  | <a href=\"#python_class_attribute_setting\">Setting class attributes and setting all instances</a>         |\n",
    "|Python Class  | <a href=\"#python_inheritance_polymorphism\">Inheritance and Polymorphism</a>         |\n",
    "|API   | <a href=\"#API_call\">Calling </a>         |\n",
    "|API   | <a href=\"#API_call_parms\">Calling (query/parms) </a>         |\n",
    "|Webscraping   | <a href=\"#scrap_soup\">creating a soup object from a webpage </a>         |\n",
    "|Webscraping   | <a href=\"#scrap_bookpage\">Getting an online webpage and scrapping it   </a>         |\n",
    "|Regex  | <a href=\"#scrap_regex\">Using regex in your webscrap (IMPORTANT)   </a>         |\n",
    "|MongoDB  | <a href=\"#mongodb_access_store\">Storing/Accessing/creating/Updating data    </a>         |\n",
    "|---------------|--------------------------------------------------|"
   ]
  },
  {
   "cell_type": "markdown",
   "metadata": {},
   "source": [
    "<a id='SQL_table_join'></a>\n",
    "# SQL - <span style=\"color:blue\"> Joining Tables (On & Using) </span>\n",
    "</span> <a href=\"#table_content\"> [Return to table]</a>"
   ]
  },
  {
   "cell_type": "code",
   "execution_count": 14,
   "metadata": {},
   "outputs": [
    {
     "ename": "OperationalError",
     "evalue": "no such table: Matches",
     "output_type": "error",
     "traceback": [
      "\u001b[0;31m---------------------------------------------------------------------------\u001b[0m",
      "\u001b[0;31mOperationalError\u001b[0m                          Traceback (most recent call last)",
      "\u001b[0;32m<ipython-input-14-d66bbcaa9db1>\u001b[0m in \u001b[0;36m<module>\u001b[0;34m\u001b[0m\n\u001b[1;32m      5\u001b[0m \u001b[0;34m\u001b[0m\u001b[0m\n\u001b[1;32m      6\u001b[0m \u001b[0;31m#USING THE \"ON\" COMMAND\u001b[0m\u001b[0;34m\u001b[0m\u001b[0;34m\u001b[0m\u001b[0;34m\u001b[0m\u001b[0m\n\u001b[0;32m----> 7\u001b[0;31m cur.execute(\"\"\"SELECT * \n\u001b[0m\u001b[1;32m      8\u001b[0m                \u001b[0mFROM\u001b[0m \u001b[0mMatches\u001b[0m\u001b[0;34m\u001b[0m\u001b[0;34m\u001b[0m\u001b[0m\n\u001b[1;32m      9\u001b[0m                \u001b[0mJOIN\u001b[0m \u001b[0mTeams\u001b[0m\u001b[0;34m\u001b[0m\u001b[0;34m\u001b[0m\u001b[0m\n",
      "\u001b[0;31mOperationalError\u001b[0m: no such table: Matches"
     ]
    }
   ],
   "source": [
    "import sqlite3\n",
    "import pandas as pd\n",
    "conn = sqlite3.connect('database.sqlite')\n",
    "cur = conn.cursor()\n",
    "\n",
    "#USING THE \"ON\" COMMAND\n",
    "cur.execute(\"\"\"SELECT * \n",
    "               FROM Matches\n",
    "               JOIN Teams\n",
    "                   ON Matches.Season = Teams.Season\n",
    "               LIMIT 10;\n",
    "               \"\"\")\n",
    "ON_df = pd.DataFrame(cur.fetchall()) #Take results and create dataframe.\n",
    "ON_df.columns = [i[0] for i in cur.description]\n",
    "\n",
    "#USING THE \"USING\" COMMAND\n",
    "cur.execute(\"\"\"SELECT * \n",
    "               FROM Matches\n",
    "               JOIN Teams\n",
    "                   USING(Season)\n",
    "               LIMIT 10;\n",
    "               \"\"\")\n",
    "USING_df = pd.DataFrame(cur.fetchall()) #Take results and create dataframe. (columns must use the same name)\n",
    "USING_df.columns = [i[0] for i in cur.description]\n",
    "\n",
    "\n",
    "display(ON_df.head(3))\n",
    "display(USING_df.head(3))"
   ]
  },
  {
   "cell_type": "markdown",
   "metadata": {},
   "source": [
    "<a id='SQL_sub_query'></a>\n",
    "# SQL - <span style=\"color:red\"> Subquery </span>\n",
    "</span> <a href=\"#table_content\"> [Return to table]</a>"
   ]
  },
  {
   "cell_type": "code",
   "execution_count": 12,
   "metadata": {},
   "outputs": [
    {
     "ename": "OperationalError",
     "evalue": "no such table: Matches",
     "output_type": "error",
     "traceback": [
      "\u001b[0;31m---------------------------------------------------------------------------\u001b[0m",
      "\u001b[0;31mOperationalError\u001b[0m                          Traceback (most recent call last)",
      "\u001b[0;32m<ipython-input-12-e90b5b098034>\u001b[0m in \u001b[0;36m<module>\u001b[0;34m\u001b[0m\n\u001b[1;32m      5\u001b[0m \u001b[0;34m\u001b[0m\u001b[0m\n\u001b[1;32m      6\u001b[0m \u001b[0;31m#Sub query on WHERE command\u001b[0m\u001b[0;34m\u001b[0m\u001b[0;34m\u001b[0m\u001b[0;34m\u001b[0m\u001b[0m\n\u001b[0;32m----> 7\u001b[0;31m cur.execute(\"\"\"SELECT AwayTeam, Season\n\u001b[0m\u001b[1;32m      8\u001b[0m                \u001b[0mFROM\u001b[0m \u001b[0mMatches\u001b[0m\u001b[0;34m\u001b[0m\u001b[0;34m\u001b[0m\u001b[0m\n\u001b[1;32m      9\u001b[0m                WHERE Season IN (SELECT Season\n",
      "\u001b[0;31mOperationalError\u001b[0m: no such table: Matches"
     ]
    }
   ],
   "source": [
    "import sqlite3\n",
    "import pandas as pd\n",
    "conn = sqlite3.connect('database.sqlite')\n",
    "cur = conn.cursor()\n",
    "\n",
    "#Sub query on WHERE command\n",
    "cur.execute(\"\"\"SELECT AwayTeam, Season\n",
    "               FROM Matches\n",
    "               WHERE Season IN (SELECT Season\n",
    "                                FROM Teams \n",
    "                                WHERE TeamName = \"Dortmund\")\n",
    "            ;\"\"\")\n",
    "df = pd.DataFrame(cur.fetchall())\n",
    "df.columns = [x[0] for x in cur.description]\n",
    "display(df.head())\n",
    "\n",
    "#///////////////////////////////////////////////////////////////////\n",
    "#Sub query on FROM command\n",
    "cur.execute(\"\"\"SELECT AVG(ftag_average) AS  ftag_avg\n",
    "                FROM (SELECT AVG(FTAG) AS ftag_average\n",
    "                        FROM Matches\n",
    "                        GROUP BY Matches.FTAG);\"\"\")\n",
    "df = pd.DataFrame(cur.fetchall())\n",
    "df.columns = [x[0] for x in cur.description]\n",
    "display(df.head())"
   ]
  },
  {
   "cell_type": "markdown",
   "metadata": {},
   "source": [
    "<a id='SQL_data_types'></a>\n",
    "# SQL - <span style=\"color:blue\"> SQL Datatypes </span>\n",
    "</span> <a href=\"#table_content\"> [Return to table]</a>\n",
    "\n",
    "http://www.sqlite.org/datatype3.html\n",
    "\n",
    "#### Data Types\n",
    "    -TEXT:    Any alphanumeric characters\n",
    "    -INTEGER: Anything you want to represent as a whole number.\n",
    "    -REAL:    Anything that's a decimal like 1.3\n",
    "    -BLOB:    Anything binary data|"
   ]
  },
  {
   "cell_type": "markdown",
   "metadata": {},
   "source": [
    "<a id='pandas_connect_databd'></a>\n",
    "# Pandas - <span style=\"color:blue\"> Connect to database via pandas </span>\n",
    "</span> <a href=\"#table_content\"> [Return to table]</a>"
   ]
  },
  {
   "cell_type": "code",
   "execution_count": null,
   "metadata": {},
   "outputs": [],
   "source": [
    "import sqlite3\n",
    "import pandas as pd\n",
    "conn = sqlite3.connect('database.sqlite')\n",
    "cur = conn.cursor()\n",
    "df = pd.read_sql_query(\"\"\"SELECT * \n",
    "                           FROM Matches\n",
    "                           JOIN Teams\n",
    "                           USING(Season)\n",
    "                           GROUP BY Date\n",
    "                           LIMIT 10\n",
    "                           ;\"\"\", \n",
    "                        conn)\n",
    "df.head(3)"
   ]
  },
  {
   "cell_type": "markdown",
   "metadata": {},
   "source": [
    "<a id='pandas_query'></a>\n",
    "# Pandas - <span style=\"color:blue\"> Pandas query (wild card)</span>\n",
    "</span> <a href=\"#table_content\"> [Return to table]</a>"
   ]
  },
  {
   "cell_type": "code",
   "execution_count": null,
   "metadata": {},
   "outputs": [],
   "source": [
    "import pandas as pd\n",
    "import numpy as np\n",
    "from pandasql import sqldf\n",
    "pysqldf = lambda q: sqldf(q, globals())\n",
    "\n",
    "#Performing a simply query\n",
    "df = pd.read_csv('titanic.csv')\n",
    "display(df.query(\"\"\"Survived > 0 & Sex == 'male'\"\"\").head(3))\n",
    "\n",
    "#Querying a dataframe with SQL commands. % = Wildcard => any characters\n",
    "q = \"\"\"SELECT Name\n",
    "        FROM df\n",
    "        WHERE Name LIKE 'b%'\"\"\"\n",
    "results = pysqldf(q)\n",
    "results.head(3)\n"
   ]
  },
  {
   "cell_type": "markdown",
   "metadata": {},
   "source": [
    "<a id='pandas_image_scrap'></a>\n",
    "# Pandas - <span style=\"color:blue\"> Scraping an image and putting it in a dataframe</span>\n",
    "</span> <a href=\"#table_content\"> [Return to table]</a>"
   ]
  },
  {
   "cell_type": "code",
   "execution_count": 3,
   "metadata": {},
   "outputs": [
    {
     "ename": "ValueError",
     "evalue": "Only know how to handle extensions: ['png']; with Pillow installed matplotlib can handle more images",
     "output_type": "error",
     "traceback": [
      "\u001b[0;31m---------------------------------------------------------------------------\u001b[0m",
      "\u001b[0;31mModuleNotFoundError\u001b[0m                       Traceback (most recent call last)",
      "\u001b[0;32m/Library/Frameworks/Python.framework/Versions/3.8/lib/python3.8/site-packages/matplotlib/image.py\u001b[0m in \u001b[0;36mimread\u001b[0;34m(fname, format)\u001b[0m\n\u001b[1;32m   1411\u001b[0m         \u001b[0;32mtry\u001b[0m\u001b[0;34m:\u001b[0m\u001b[0;34m\u001b[0m\u001b[0;34m\u001b[0m\u001b[0m\n\u001b[0;32m-> 1412\u001b[0;31m             \u001b[0;32mfrom\u001b[0m \u001b[0mPIL\u001b[0m \u001b[0;32mimport\u001b[0m \u001b[0mImage\u001b[0m\u001b[0;34m\u001b[0m\u001b[0;34m\u001b[0m\u001b[0m\n\u001b[0m\u001b[1;32m   1413\u001b[0m         \u001b[0;32mexcept\u001b[0m \u001b[0mImportError\u001b[0m\u001b[0;34m:\u001b[0m\u001b[0;34m\u001b[0m\u001b[0;34m\u001b[0m\u001b[0m\n",
      "\u001b[0;31mModuleNotFoundError\u001b[0m: No module named 'PIL'",
      "\nDuring handling of the above exception, another exception occurred:\n",
      "\u001b[0;31mValueError\u001b[0m                                Traceback (most recent call last)",
      "\u001b[0;32m<ipython-input-3-3d204a7109f8>\u001b[0m in \u001b[0;36m<module>\u001b[0;34m\u001b[0m\n\u001b[1;32m     23\u001b[0m         \u001b[0mshutil\u001b[0m\u001b[0;34m.\u001b[0m\u001b[0mcopyfileobj\u001b[0m\u001b[0;34m(\u001b[0m\u001b[0mr\u001b[0m\u001b[0;34m.\u001b[0m\u001b[0mraw\u001b[0m\u001b[0;34m,\u001b[0m \u001b[0mf\u001b[0m\u001b[0;34m)\u001b[0m\u001b[0;34m\u001b[0m\u001b[0;34m\u001b[0m\u001b[0m\n\u001b[1;32m     24\u001b[0m \u001b[0;34m\u001b[0m\u001b[0m\n\u001b[0;32m---> 25\u001b[0;31m \u001b[0mimg\u001b[0m \u001b[0;34m=\u001b[0m \u001b[0mmpimg\u001b[0m\u001b[0;34m.\u001b[0m\u001b[0mimread\u001b[0m\u001b[0;34m(\u001b[0m\u001b[0;34m'book1.jpg'\u001b[0m\u001b[0;34m)\u001b[0m\u001b[0;34m\u001b[0m\u001b[0;34m\u001b[0m\u001b[0m\n\u001b[0m\u001b[1;32m     26\u001b[0m \u001b[0mimgplot\u001b[0m \u001b[0;34m=\u001b[0m \u001b[0mplt\u001b[0m\u001b[0;34m.\u001b[0m\u001b[0mimshow\u001b[0m\u001b[0;34m(\u001b[0m\u001b[0mimg\u001b[0m\u001b[0;34m)\u001b[0m\u001b[0;34m\u001b[0m\u001b[0;34m\u001b[0m\u001b[0m\n\u001b[1;32m     27\u001b[0m \u001b[0mplt\u001b[0m\u001b[0;34m.\u001b[0m\u001b[0mshow\u001b[0m\u001b[0;34m(\u001b[0m\u001b[0;34m)\u001b[0m\u001b[0;34m\u001b[0m\u001b[0;34m\u001b[0m\u001b[0m\n",
      "\u001b[0;32m/Library/Frameworks/Python.framework/Versions/3.8/lib/python3.8/site-packages/matplotlib/image.py\u001b[0m in \u001b[0;36mimread\u001b[0;34m(fname, format)\u001b[0m\n\u001b[1;32m   1412\u001b[0m             \u001b[0;32mfrom\u001b[0m \u001b[0mPIL\u001b[0m \u001b[0;32mimport\u001b[0m \u001b[0mImage\u001b[0m\u001b[0;34m\u001b[0m\u001b[0;34m\u001b[0m\u001b[0m\n\u001b[1;32m   1413\u001b[0m         \u001b[0;32mexcept\u001b[0m \u001b[0mImportError\u001b[0m\u001b[0;34m:\u001b[0m\u001b[0;34m\u001b[0m\u001b[0;34m\u001b[0m\u001b[0m\n\u001b[0;32m-> 1414\u001b[0;31m             raise ValueError('Only know how to handle extensions: %s; '\n\u001b[0m\u001b[1;32m   1415\u001b[0m                              \u001b[0;34m'with Pillow installed matplotlib can handle '\u001b[0m\u001b[0;34m\u001b[0m\u001b[0;34m\u001b[0m\u001b[0m\n\u001b[1;32m   1416\u001b[0m                              'more images' % list(handlers))\n",
      "\u001b[0;31mValueError\u001b[0m: Only know how to handle extensions: ['png']; with Pillow installed matplotlib can handle more images"
     ]
    }
   ],
   "source": [
    "from bs4 import BeautifulSoup\n",
    "import requests\n",
    "import shutil\n",
    "import matplotlib.pyplot as plt\n",
    "import matplotlib.image as mpimg\n",
    "import pandas as pd\n",
    "from IPython.display import Image, HTML\n",
    "\n",
    "html_page = requests.get('http://books.toscrape.com/') # Make a get request to retrieve the page\n",
    "soup = BeautifulSoup(html_page.content, 'html.parser') # Pass the page contents to beautiful soup for parsing\n",
    "warning = soup.find('div', class_=\"alert alert-warning\")\n",
    "book_container = warning.nextSibling.nextSibling\n",
    "images = book_container.findAll('img')\n",
    "ex_img = images[0] # Preview an entry\n",
    "\n",
    "url_base = \"http://books.toscrape.com/\"\n",
    "url_ext = ex_img.attrs['src']\n",
    "full_url = url_base + url_ext\n",
    "r = requests.get(full_url, stream=True)\n",
    "if r.status_code == 200:\n",
    "    with open(\"book1.jpg\", 'wb') as f:\n",
    "        r.raw.decode_content = True\n",
    "        shutil.copyfileobj(r.raw, f)\n",
    "        \n",
    "img = mpimg.imread('book1.jpg')\n",
    "imgplot = plt.imshow(img)\n",
    "plt.show()\n",
    "\n",
    "row1 = [ex_img.attrs['alt'], '<img src=\"book1.jpg\"/>']\n",
    "df = pd.DataFrame(row1).transpose()\n",
    "df.columns = ['title', 'cover']\n",
    "HTML(df.to_html(escape=False))"
   ]
  },
  {
   "cell_type": "markdown",
   "metadata": {},
   "source": [
    "<a id='python_class_add_attribute'></a>\n",
    "# Python- <span style=\"color:blue\"> Adding attributes to class and defining as a callable</span>\n",
    "</span> <a href=\"#table_content\"> [Return to table]</a>"
   ]
  },
  {
   "cell_type": "code",
   "execution_count": null,
   "metadata": {},
   "outputs": [],
   "source": [
    "#Adding the bark attibute to the class dog.... Make this attribute callable with ()\n",
    "class Dog:\n",
    "    pass\n",
    "\n",
    "#This method is NOT a part of the class dog\n",
    "def make_a_bark():\n",
    "    return 'ruff ruff!'\n",
    "\n",
    "\n",
    "rex = Dog()\n",
    "#We made an new method for the dog class called \"bark\". It has the same functionality as make_a_bark()\n",
    "rex.bark = make_a_bark\n",
    "\n",
    "# Creating a new attribute for this instant on the spot\n",
    "rex.my_att = 'fuck the police coming straight from the underground'\n",
    "print(rex.bark)\n",
    "print(rex.bark())\n",
    "print(rex.my_att)"
   ]
  },
  {
   "cell_type": "markdown",
   "metadata": {},
   "source": [
    "<a id='python_class_initialize_attribute'></a>\n",
    "# Python- <span style=\"color:blue\"> Intializing attributes on class creation (BETTER THAN ABOVE^)</span>\n",
    "</span> <a href=\"#table_content\"> [Return to table]</a>"
   ]
  },
  {
   "cell_type": "code",
   "execution_count": null,
   "metadata": {},
   "outputs": [],
   "source": [
    "#Class with intialized attributes\n",
    "class Dog():\n",
    "    def __init__(self, color):\n",
    "        self.color = color\n",
    "def make_a_bark():\n",
    "    return 'ruff ruff!'\n",
    "rex = Dog('blue')\n",
    "#//////////////////////////////////////////////////////////////////////////////\n",
    "#//////////////////////////////////////////////////////////////////////////////\n",
    "#Class with intialized attributes that have default values and has a variable defined in the class defintion\n",
    "class Cat:\n",
    "    kitten = 0\n",
    "    def __init__(self, color='black'):\n",
    "        self.color = color\n",
    "        pass\n",
    "def make_a_bark():\n",
    "    return 'ruff ruff!'\n",
    "ray = Cat('blue')\n",
    "rey = Cat()\n",
    "\n",
    "\n",
    "print('Dogs Color:', rex.color)\n",
    "print('Cats Color:', ray.color, rey.color, rey.kitten)"
   ]
  },
  {
   "cell_type": "markdown",
   "metadata": {},
   "source": [
    "<a id='python_class_attribute_setting'></a>\n",
    "# Python- <span style=\"color:blue\"> Setting class attributes and setting all instances </span>\n",
    "</span> <a href=\"#table_content\"> [Return to table]</a>"
   ]
  },
  {
   "cell_type": "code",
   "execution_count": 17,
   "metadata": {},
   "outputs": [
    {
     "name": "stdout",
     "output_type": "stream",
     "text": [
      "True True\n",
      "False True\n",
      "False False\n"
     ]
    }
   ],
   "source": [
    "class Dog():\n",
    "    pet = True\n",
    "    def __init__(self, color):\n",
    "        self.color = color\n",
    "\n",
    "rex = Dog('blue')\n",
    "rax = Dog('purple')\n",
    "\n",
    "print(rex.pet, rax.pet)\n",
    "rex.pet = False\n",
    "\n",
    "print(rex.pet, rax.pet)\n",
    "\n",
    "#Both dogs reference this object. Both dogs will change when it is overwritten...However until it is overwritten\n",
    "#There will be two objects dog classes with each instances referenceing the class it originally spawned.\n",
    "Dog.pet = False\n",
    "print(rex.pet, rax.pet)\n"
   ]
  },
  {
   "cell_type": "markdown",
   "metadata": {},
   "source": [
    "<a id='python_inheritance_polymorphism'></a>\n",
    "# Python- <span style=\"color:green\"> Inheritance and Polymorphism </span>\n",
    "</span> <a href=\"#table_content\"> [Return to table]</a>"
   ]
  },
  {
   "cell_type": "code",
   "execution_count": 15,
   "metadata": {},
   "outputs": [
    {
     "name": "stdout",
     "output_type": "stream",
     "text": [
      "John Lennon is the Singer!\n",
      "Ringo Starr is the Drummer!\n",
      "George Harrison is the Guitarist!\n",
      "Paul McCartney is the Bass_Guitarist!\n"
     ]
    }
   ],
   "source": [
    "#Super Class. Starts out with Init\n",
    "class Musician():\n",
    "    def __init__(self, name): # We'll set name at instantiation time to demonstrate passing in arguments to super().__init__()\n",
    "        self.name = name\n",
    "        self.band = \"The Beatles\"\n",
    "    \n",
    "    def tune_instrument(self):\n",
    "        print(\"Tuning Instrument!\")\n",
    "    \n",
    "    def practice(self):\n",
    "        print(\"Practicing!\")\n",
    "        \n",
    "    def perform(self):\n",
    "        print(\"Hello New York!\")\n",
    "        \n",
    "        \n",
    "class Singer(Musician):\n",
    "    def __init__(self, name):\n",
    "        super().__init__(name)  # Notice how we pass in name argument from init to the super().__init() method, because it expects it\n",
    "        self.role = \"Singer\"\n",
    "    \n",
    "    \n",
    "    def tune_instrument(self): #This is polymorphism. Same method name different code\n",
    "        print(\"No tuning needed -- I'm a singer!\")\n",
    "    \n",
    "class Guitarist(Musician):\n",
    "    def __init__(self, name):\n",
    "        super().__init__(name)\n",
    "        self.role = \"Guitarist\"\n",
    "        \n",
    "    def practice(self):\n",
    "        print(\"Strumming the old 6 string!\")\n",
    "        \n",
    "class Bass_Guitarist(Guitarist):\n",
    "    def __init__(self, name):\n",
    "        super().__init__(name)\n",
    "        self.role = \"Bass Guitarist\"\n",
    "        \n",
    "    def practice(self):\n",
    "        print(\"I play the Seinfeld Theme Song when I get bored\")\n",
    "        \n",
    "    def perform(self):\n",
    "        super().perform() #You can this call super methods if you want\n",
    "        print(\"Thanks for coming out!\")\n",
    "        \n",
    "class Drummer(Musician):\n",
    "    def __init__(self, name):\n",
    "        super().__init__(name)\n",
    "        self.role = \"Drummer\"\n",
    "        \n",
    "    def tune_instrument(self):\n",
    "        print('Where did I put those drum sticks?')\n",
    "        \n",
    "    def practice(self):\n",
    "        print('Why does my chair still say \"Pete Best\"?')\n",
    "\n",
    "john = Singer('John Lennon')\n",
    "paul = Bass_Guitarist('Paul McCartney')\n",
    "ringo = Drummer('Ringo Starr')\n",
    "george = Guitarist('George Harrison')\n",
    "\n",
    "the_beatles = [john, ringo, george, paul]\n",
    "for musician in the_beatles:\n",
    "    print('{} is the {}!'.format(musician.name, musician.__class__.__name__))"
   ]
  },
  {
   "cell_type": "markdown",
   "metadata": {},
   "source": [
    "<a id='API_call'></a>\n",
    "# API- <span style=\"color:blue\"> Calling </span>\n",
    "</span> <a href=\"#table_content\"> [Return to table]</a>\n",
    "\n",
    "Documentation (Read it carefully) http://open-notify.org/Open-Notify-API/ISS-Pass-Times/"
   ]
  },
  {
   "cell_type": "code",
   "execution_count": 18,
   "metadata": {},
   "outputs": [
    {
     "name": "stdout",
     "output_type": "stream",
     "text": [
      "Status Code 200\n",
      "{'Server': 'nginx/1.10.3', 'Date': 'Mon, 03 Feb 2020 21:19:29 GMT', 'Content-Type': 'application/json', 'Content-Length': '113', 'Connection': 'keep-alive', 'access-control-allow-origin': '*'}\n",
      "\n",
      "b'{\"iss_position\": {\"latitude\": \"-45.9699\", \"longitude\": \"74.5786\"}, \"timestamp\": 1580764769, \"message\": \"success\"}'\n"
     ]
    }
   ],
   "source": [
    "import requests # Make HTTP request\n",
    "response = requests.get('http://api.open-notify.org/iss-now')\n",
    "print('Status Code',response.status_code)\n",
    "\n",
    "print(response.headers)\n",
    "print()\n",
    "print(response.content)"
   ]
  },
  {
   "cell_type": "markdown",
   "metadata": {},
   "source": [
    "<a id='API_call_parms'></a>\n",
    "# API- <span style=\"color:green\"> Calling (query/parms)  </span>\n",
    "</span> <a href=\"#table_content\"> [Return to table]</a>\n",
    "\n",
    "Documentation (Read it carefully) http://open-notify.org/Open-Notify-API/ISS-Pass-Times/"
   ]
  },
  {
   "cell_type": "code",
   "execution_count": 4,
   "metadata": {},
   "outputs": [
    {
     "name": "stdout",
     "output_type": "stream",
     "text": [
      "{'Server': 'nginx/1.10.3', 'Date': 'Mon, 03 Feb 2020 20:03:51 GMT', 'Content-Type': 'application/json', 'Content-Length': '519', 'Connection': 'keep-alive', 'Via': '1.1 vegur'}\n",
      "\n",
      "b'{\\n  \"message\": \"success\", \\n  \"request\": {\\n    \"altitude\": 100, \\n    \"datetime\": 1580759322, \\n    \"latitude\": 40.71, \\n    \"longitude\": -74.0, \\n    \"passes\": 5\\n  }, \\n  \"response\": [\\n    {\\n      \"duration\": 584, \\n      \"risetime\": 1580761880\\n    }, \\n    {\\n      \"duration\": 573, \\n      \"risetime\": 1580767757\\n    }, \\n    {\\n      \"duration\": 641, \\n      \"risetime\": 1580773576\\n    }, \\n    {\\n      \"duration\": 624, \\n      \"risetime\": 1580779389\\n    }, \\n    {\\n      \"duration\": 105, \\n      \"risetime\": 1580785401\\n    }\\n  ]\\n}\\n'\n"
     ]
    }
   ],
   "source": [
    "import requests # Make HTTP request\n",
    "\n",
    "PARM = {'lat':40.71, 'lon': -74}\n",
    "\n",
    "#Standard format <url>?<parm>=<value> & <extraparm>=<extravalue>\n",
    "response = requests.get('http://api.open-notify.org/iss-pass.json', params=PARM)\n",
    "print(response.headers)\n",
    "print()\n",
    "print(response.content)\n",
    "\n",
    "\n",
    "#Values with whitespace replace whitespace with % or ?"
   ]
  },
  {
   "cell_type": "markdown",
   "metadata": {},
   "source": [
    "<a id='scrap_soup'></a>\n",
    "# Webscraping- <span style=\"color:blue\"> creating a soup object from a webpage  </span>\n",
    "</span> <a href=\"#table_content\"> [Return to table]</a>"
   ]
  },
  {
   "cell_type": "code",
   "execution_count": 5,
   "metadata": {},
   "outputs": [
    {
     "ename": "FileNotFoundError",
     "evalue": "[Errno 2] No such file or directory: 'sample_page.html'",
     "output_type": "error",
     "traceback": [
      "\u001b[0;31m---------------------------------------------------------------------------\u001b[0m",
      "\u001b[0;31mFileNotFoundError\u001b[0m                         Traceback (most recent call last)",
      "\u001b[0;32m<ipython-input-5-48bb9eb9f4e2>\u001b[0m in \u001b[0;36m<module>\u001b[0;34m\u001b[0m\n\u001b[1;32m      1\u001b[0m \u001b[0;32mfrom\u001b[0m \u001b[0mbs4\u001b[0m \u001b[0;32mimport\u001b[0m \u001b[0mBeautifulSoup\u001b[0m\u001b[0;34m\u001b[0m\u001b[0;34m\u001b[0m\u001b[0m\n\u001b[1;32m      2\u001b[0m \u001b[0;34m\u001b[0m\u001b[0m\n\u001b[0;32m----> 3\u001b[0;31m \u001b[0;32mwith\u001b[0m \u001b[0mopen\u001b[0m\u001b[0;34m(\u001b[0m\u001b[0;34m'sample_page.html'\u001b[0m\u001b[0;34m)\u001b[0m \u001b[0;32mas\u001b[0m \u001b[0mf\u001b[0m\u001b[0;34m:\u001b[0m \u001b[0;31m#with open in most cases is the best way to open a file\u001b[0m\u001b[0;34m\u001b[0m\u001b[0;34m\u001b[0m\u001b[0m\n\u001b[0m\u001b[1;32m      4\u001b[0m     \u001b[0msoup\u001b[0m \u001b[0;34m=\u001b[0m \u001b[0mBeautifulSoup\u001b[0m\u001b[0;34m(\u001b[0m\u001b[0mf\u001b[0m\u001b[0;34m,\u001b[0m \u001b[0;34m'html.parser'\u001b[0m\u001b[0;34m)\u001b[0m\u001b[0;34m\u001b[0m\u001b[0;34m\u001b[0m\u001b[0m\n\u001b[1;32m      5\u001b[0m \u001b[0mprint\u001b[0m\u001b[0;34m(\u001b[0m\u001b[0;34m'object type'\u001b[0m\u001b[0;34m,\u001b[0m\u001b[0mtype\u001b[0m\u001b[0;34m(\u001b[0m\u001b[0msoup\u001b[0m\u001b[0;34m)\u001b[0m\u001b[0;34m)\u001b[0m \u001b[0;31m#soup objects are very pretty but they aren't strings\u001b[0m\u001b[0;34m\u001b[0m\u001b[0;34m\u001b[0m\u001b[0m\n",
      "\u001b[0;31mFileNotFoundError\u001b[0m: [Errno 2] No such file or directory: 'sample_page.html'"
     ]
    }
   ],
   "source": [
    "from bs4 import BeautifulSoup\n",
    "\n",
    "with open('sample_page.html') as f: #with open in most cases is the best way to open a file\n",
    "    soup = BeautifulSoup(f, 'html.parser')\n",
    "print('object type',type(soup)) #soup objects are very pretty but they aren't strings\n",
    "print(soup.prettify()[:200])    #This class method returns a string but soup is not a string it is a class object"
   ]
  },
  {
   "cell_type": "markdown",
   "metadata": {},
   "source": [
    "<a id='scrap_bookpage'></a>\n",
    "# Webscraping- <span style=\"color:green\"> Getting an online webpage and scrapping it  </span>\n",
    "</span> <a href=\"#table_content\"> [Return to table]</a>"
   ]
  },
  {
   "cell_type": "code",
   "execution_count": 6,
   "metadata": {},
   "outputs": [
    {
     "name": "stdout",
     "output_type": "stream",
     "text": [
      "<div class=\"tombstone-container\">\n",
      "<p class=\"period-name\">Tonight<br/><br/></p>\n",
      "<p><img alt=\"Tonight: Isolated showers.  Partly cloudy, with a low around 74. East wind 7 to 10 mph.  Chance of precipitation is 20%.\" class=\"forecast-icon\" src=\"newimages/medium/hi_nshwrs20.png\" title=\"Tonight: Isolated showers.  Partly cloudy, with a low around 74. East wind 7 to 10 mph.  Chance of precipitation is 20%.\"/></p><p class=\"short-desc\">Isolated<br/>Showers</p><p class=\"temp temp-low\">Low: 74 °F</p></div>\n",
      "\n",
      "\n",
      "Tonight\n",
      "IsolatedShowersLow: 74 °F\n"
     ]
    }
   ],
   "source": [
    "from bs4 import BeautifulSoup\n",
    "import requests\n",
    "\n",
    "#Remember the first step is to inspect the page with your browser tools\n",
    "\n",
    "# Example 1 - Getting book titles \n",
    "html_page = requests.get('http://books.toscrape.com/') # Make a get request to retrieve the page\n",
    "soup = BeautifulSoup(html_page.content, 'html.parser') # Pass the page contents to beautiful soup for parsing\n",
    "warning = soup.find('div', class_=\"alert alert-warning\") # This class is a container for the books\n",
    "lst = list(soup.children)                                # Get a list of all the children of the header \n",
    "book_container = warning.nextSibling.nextSibling         #Get the child you want to work with\n",
    "titles = [h3.find('a').attrs['title'] for h3 in book_container.findAll('h3')]  \n",
    "\n",
    "\n",
    "#Example 2 Getting the temperture from weather data\n",
    "page = requests.get(\"https://forecast.weather.gov/MapClick.php?lat=18.4655&lon=-66.1057\")\n",
    "soup = BeautifulSoup(page.content, 'html.parser')\n",
    "seven_day = soup.find('div', id='seven-day-forecast')\n",
    "days = seven_day.find_all('div', class_='tombstone-container')\n",
    "print(days[0])\n",
    "print()\n",
    "print(days[0].text)"
   ]
  },
  {
   "cell_type": "markdown",
   "metadata": {},
   "source": [
    "<a id='scrap_regex'></a>\n",
    "# Regex - <span style=\"color:green\"> Using regex in your webscrap (IMPORTANT)  </span>\n",
    "</span> <a href=\"#table_content\"> [Return to table]</a>\n",
    "\n",
    "https://docs.python.org/3/howto/regex.html"
   ]
  },
  {
   "cell_type": "code",
   "execution_count": 7,
   "metadata": {},
   "outputs": [
    {
     "name": "stdout",
     "output_type": "stream",
     "text": [
      "<re.Match object; span=(0, 7), match='.hel.lo'>\n",
      "None\n"
     ]
    }
   ],
   "source": [
    "import re\n",
    "\n",
    "# Regular expression OR Regex  are simply used to find stuff in text. \n",
    "#Complete list of operators# . ^ $ * + ? { } [ ] \\ | ( )\n",
    "regex = re.compile(\".*\") # Wrting out an expression in string text format\n",
    "string = '.hel.lo'\n",
    "print(regex.match(string)) #checking the string for the pattern of text \".*\" (dot + anything)\n",
    "\n",
    "regex = re.compile('hello*') \n",
    "string = '.hello..'\n",
    "print(regex.match(string)) #checking the string for the pattern of text \"hello\""
   ]
  },
  {
   "cell_type": "markdown",
   "metadata": {},
   "source": [
    "<a id='mongodb_access_store'></a>\n",
    "# MongoDB- <span style=\"color:blue\"> Storing/Accessing/creating/Updating data  </span>\n",
    "</span> <a href=\"#table_content\"> [Return to table]</a>"
   ]
  },
  {
   "cell_type": "code",
   "execution_count": 9,
   "metadata": {},
   "outputs": [
    {
     "name": "stdout",
     "output_type": "stream",
     "text": [
      "{'_id': ObjectId('5e387c9fcfdae9813802975e'), 'Name': 'John Smith', 'Email': 'j.smith@thesmiths.com', 'Mailing_Address': '123 mulberry lane', 'Balance': 0.0, 'Notes': 'Called technical support, issue not yet resolved.'}\n",
      "{'_id': ObjectId('5e387ca8cfdae98138029762'), 'Name': 'John Smith', 'Email': 'j.smith@thesmiths.com', 'Mailing_Address': '123 mulberry lane', 'Balance': 0.0, 'Notes': 'Called technical support, issue not yet resolved.'}\n",
      "{'_id': ObjectId('5e387cb7cfdae98138029766'), 'Name': 'John Smith', 'Email': 'j.smith@thesmiths.com', 'Mailing_Address': '123 mulberry lane', 'Balance': 0.0, 'Notes': 'Called technical support, issue not yet resolved.'}\n"
     ]
    },
    {
     "data": {
      "text/plain": [
       "<pymongo.results.UpdateResult at 0x1265ef1c0>"
      ]
     },
     "execution_count": 9,
     "metadata": {},
     "output_type": "execute_result"
    }
   ],
   "source": [
    "#Start the Mongodb server by going into the commandline/git bash and typing \"mongod\"\n",
    "#Next start the compass application\n",
    "\n",
    "import pymongo\n",
    "myclient = pymongo.MongoClient('mongodb://localhost:27017') # Standard defualt ports\n",
    "mydb = myclient['example_laurent']                          # New database called \"example_laurent\"\n",
    "mycollection = mydb['lab_collection']                       # Creating a collection\n",
    "\n",
    "#Data\n",
    "customer_1 = {'Name': 'John Smith', 'Email': 'j.smith@thesmiths.com', 'Mailing_Address': '123 mulberry lane', 'Balance': 0.0, 'Notes': 'Called technical support, issue not yet resolved.'}\n",
    "customer_2 = {'Name': 'Jane Smith', 'Email': 'jane_smith@thesmiths.com', 'Balance': 25.0}\n",
    "customer_3 = {'Name': 'Adam Enbar', 'Email': 'adam@theflatironschool.com', 'Mailing_Address': '11 Broadway', 'Balance': 14.99, 'Notes': 'Set up on recurring billing cycle.'}\n",
    "all_records = [customer_1, customer_2, customer_3]\n",
    "\n",
    "\n",
    "#Inserting into database laurent. If this fuction is called in ANY fashion data is inserted\n",
    "#insertion_results = mycollection.insert_one(example_customer_data)\n",
    "insertion_results = mycollection.insert_many(all_records)\n",
    "\n",
    "\n",
    "#Query\n",
    "query = mycollection.find({'Name': 'John Smith'})\n",
    "for item in query:\n",
    "    print(item) \n",
    "\n",
    "#Update\n",
    "record_to_update_1 = {'Name': 'John Smith'}\n",
    "update_1 = {'$set': {'Mailing_Address': '367 55th St., apt 2A'}}\n",
    "mycollection.update_one(record_to_update_1, update_1)"
   ]
  }
 ],
 "metadata": {
  "kernelspec": {
   "display_name": "Python 3",
   "language": "python",
   "name": "python3"
  },
  "language_info": {
   "codemirror_mode": {
    "name": "ipython",
    "version": 3
   },
   "file_extension": ".py",
   "mimetype": "text/x-python",
   "name": "python",
   "nbconvert_exporter": "python",
   "pygments_lexer": "ipython3",
   "version": "3.8.1"
  }
 },
 "nbformat": 4,
 "nbformat_minor": 4
}
