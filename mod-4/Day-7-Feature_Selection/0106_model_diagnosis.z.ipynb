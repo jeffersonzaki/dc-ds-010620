{
 "cells": [
  {
   "cell_type": "code",
   "execution_count": 1,
   "metadata": {},
   "outputs": [],
   "source": [
    "import pandas as pd\n",
    "\n",
    "import matplotlib.pyplot as plt\n",
    "\n",
    "## for correlation matrices\n",
    "import seaborn as sns\n",
    "%matplotlib inline\n",
    "\n",
    "## for linear models\n",
    "import statsmodels.api as sm"
   ]
  },
  {
   "cell_type": "code",
   "execution_count": 2,
   "metadata": {},
   "outputs": [
    {
     "data": {
      "text/html": [
       "<div>\n",
       "<style scoped>\n",
       "    .dataframe tbody tr th:only-of-type {\n",
       "        vertical-align: middle;\n",
       "    }\n",
       "\n",
       "    .dataframe tbody tr th {\n",
       "        vertical-align: top;\n",
       "    }\n",
       "\n",
       "    .dataframe thead th {\n",
       "        text-align: right;\n",
       "    }\n",
       "</style>\n",
       "<table border=\"1\" class=\"dataframe\">\n",
       "  <thead>\n",
       "    <tr style=\"text-align: right;\">\n",
       "      <th></th>\n",
       "      <th>MPG Highway</th>\n",
       "      <th>Passengers</th>\n",
       "      <th>Length</th>\n",
       "      <th>Wheelbase</th>\n",
       "      <th>Width</th>\n",
       "      <th>U Turn Space</th>\n",
       "      <th>Rear seat</th>\n",
       "      <th>Luggage</th>\n",
       "      <th>Weight</th>\n",
       "      <th>Horsepower</th>\n",
       "      <th>Fueltank</th>\n",
       "    </tr>\n",
       "  </thead>\n",
       "  <tbody>\n",
       "    <tr>\n",
       "      <th>0</th>\n",
       "      <td>31</td>\n",
       "      <td>5</td>\n",
       "      <td>177</td>\n",
       "      <td>102</td>\n",
       "      <td>68</td>\n",
       "      <td>37</td>\n",
       "      <td>26.5</td>\n",
       "      <td>11</td>\n",
       "      <td>2705</td>\n",
       "      <td>140</td>\n",
       "      <td>13.2</td>\n",
       "    </tr>\n",
       "    <tr>\n",
       "      <th>1</th>\n",
       "      <td>25</td>\n",
       "      <td>5</td>\n",
       "      <td>195</td>\n",
       "      <td>115</td>\n",
       "      <td>71</td>\n",
       "      <td>38</td>\n",
       "      <td>30.0</td>\n",
       "      <td>15</td>\n",
       "      <td>3560</td>\n",
       "      <td>200</td>\n",
       "      <td>18.0</td>\n",
       "    </tr>\n",
       "    <tr>\n",
       "      <th>2</th>\n",
       "      <td>26</td>\n",
       "      <td>5</td>\n",
       "      <td>180</td>\n",
       "      <td>102</td>\n",
       "      <td>67</td>\n",
       "      <td>37</td>\n",
       "      <td>28.0</td>\n",
       "      <td>14</td>\n",
       "      <td>3375</td>\n",
       "      <td>172</td>\n",
       "      <td>16.9</td>\n",
       "    </tr>\n",
       "    <tr>\n",
       "      <th>3</th>\n",
       "      <td>26</td>\n",
       "      <td>6</td>\n",
       "      <td>193</td>\n",
       "      <td>106</td>\n",
       "      <td>70</td>\n",
       "      <td>37</td>\n",
       "      <td>31.0</td>\n",
       "      <td>17</td>\n",
       "      <td>3405</td>\n",
       "      <td>172</td>\n",
       "      <td>21.1</td>\n",
       "    </tr>\n",
       "    <tr>\n",
       "      <th>4</th>\n",
       "      <td>30</td>\n",
       "      <td>4</td>\n",
       "      <td>186</td>\n",
       "      <td>109</td>\n",
       "      <td>69</td>\n",
       "      <td>39</td>\n",
       "      <td>27.0</td>\n",
       "      <td>13</td>\n",
       "      <td>3640</td>\n",
       "      <td>208</td>\n",
       "      <td>21.1</td>\n",
       "    </tr>\n",
       "  </tbody>\n",
       "</table>\n",
       "</div>"
      ],
      "text/plain": [
       "   MPG Highway  Passengers  Length  Wheelbase  Width  U Turn Space  Rear seat  \\\n",
       "0           31           5     177        102     68            37       26.5   \n",
       "1           25           5     195        115     71            38       30.0   \n",
       "2           26           5     180        102     67            37       28.0   \n",
       "3           26           6     193        106     70            37       31.0   \n",
       "4           30           4     186        109     69            39       27.0   \n",
       "\n",
       "   Luggage  Weight  Horsepower  Fueltank  \n",
       "0       11    2705         140      13.2  \n",
       "1       15    3560         200      18.0  \n",
       "2       14    3375         172      16.9  \n",
       "3       17    3405         172      21.1  \n",
       "4       13    3640         208      21.1  "
      ]
     },
     "execution_count": 2,
     "metadata": {},
     "output_type": "execute_result"
    }
   ],
   "source": [
    "## read the dataset mpg exercise.xls as df\n",
    "## note that this is an xls file\n",
    "df = pd.read_excel('mpg excercise.xls')\n",
    "df.head()"
   ]
  },
  {
   "cell_type": "code",
   "execution_count": 3,
   "metadata": {},
   "outputs": [
    {
     "data": {
      "text/html": [
       "<div>\n",
       "<style scoped>\n",
       "    .dataframe tbody tr th:only-of-type {\n",
       "        vertical-align: middle;\n",
       "    }\n",
       "\n",
       "    .dataframe tbody tr th {\n",
       "        vertical-align: top;\n",
       "    }\n",
       "\n",
       "    .dataframe thead th {\n",
       "        text-align: right;\n",
       "    }\n",
       "</style>\n",
       "<table border=\"1\" class=\"dataframe\">\n",
       "  <thead>\n",
       "    <tr style=\"text-align: right;\">\n",
       "      <th></th>\n",
       "      <th>MPG Highway</th>\n",
       "      <th>Passengers</th>\n",
       "      <th>Length</th>\n",
       "      <th>Wheelbase</th>\n",
       "      <th>Width</th>\n",
       "      <th>U Turn Space</th>\n",
       "      <th>Rear seat</th>\n",
       "      <th>Luggage</th>\n",
       "      <th>Weight</th>\n",
       "      <th>Horsepower</th>\n",
       "      <th>Fueltank</th>\n",
       "    </tr>\n",
       "  </thead>\n",
       "  <tbody>\n",
       "    <tr>\n",
       "      <th>0</th>\n",
       "      <td>31</td>\n",
       "      <td>5</td>\n",
       "      <td>177</td>\n",
       "      <td>102</td>\n",
       "      <td>68</td>\n",
       "      <td>37</td>\n",
       "      <td>26.5</td>\n",
       "      <td>11</td>\n",
       "      <td>2705</td>\n",
       "      <td>140</td>\n",
       "      <td>13.2</td>\n",
       "    </tr>\n",
       "    <tr>\n",
       "      <th>1</th>\n",
       "      <td>25</td>\n",
       "      <td>5</td>\n",
       "      <td>195</td>\n",
       "      <td>115</td>\n",
       "      <td>71</td>\n",
       "      <td>38</td>\n",
       "      <td>30.0</td>\n",
       "      <td>15</td>\n",
       "      <td>3560</td>\n",
       "      <td>200</td>\n",
       "      <td>18.0</td>\n",
       "    </tr>\n",
       "    <tr>\n",
       "      <th>2</th>\n",
       "      <td>26</td>\n",
       "      <td>5</td>\n",
       "      <td>180</td>\n",
       "      <td>102</td>\n",
       "      <td>67</td>\n",
       "      <td>37</td>\n",
       "      <td>28.0</td>\n",
       "      <td>14</td>\n",
       "      <td>3375</td>\n",
       "      <td>172</td>\n",
       "      <td>16.9</td>\n",
       "    </tr>\n",
       "    <tr>\n",
       "      <th>3</th>\n",
       "      <td>26</td>\n",
       "      <td>6</td>\n",
       "      <td>193</td>\n",
       "      <td>106</td>\n",
       "      <td>70</td>\n",
       "      <td>37</td>\n",
       "      <td>31.0</td>\n",
       "      <td>17</td>\n",
       "      <td>3405</td>\n",
       "      <td>172</td>\n",
       "      <td>21.1</td>\n",
       "    </tr>\n",
       "    <tr>\n",
       "      <th>4</th>\n",
       "      <td>30</td>\n",
       "      <td>4</td>\n",
       "      <td>186</td>\n",
       "      <td>109</td>\n",
       "      <td>69</td>\n",
       "      <td>39</td>\n",
       "      <td>27.0</td>\n",
       "      <td>13</td>\n",
       "      <td>3640</td>\n",
       "      <td>208</td>\n",
       "      <td>21.1</td>\n",
       "    </tr>\n",
       "  </tbody>\n",
       "</table>\n",
       "</div>"
      ],
      "text/plain": [
       "   MPG Highway  Passengers  Length  Wheelbase  Width  U Turn Space  Rear seat  \\\n",
       "0           31           5     177        102     68            37       26.5   \n",
       "1           25           5     195        115     71            38       30.0   \n",
       "2           26           5     180        102     67            37       28.0   \n",
       "3           26           6     193        106     70            37       31.0   \n",
       "4           30           4     186        109     69            39       27.0   \n",
       "\n",
       "   Luggage  Weight  Horsepower  Fueltank  \n",
       "0       11    2705         140      13.2  \n",
       "1       15    3560         200      18.0  \n",
       "2       14    3375         172      16.9  \n",
       "3       17    3405         172      21.1  \n",
       "4       13    3640         208      21.1  "
      ]
     },
     "execution_count": 3,
     "metadata": {},
     "output_type": "execute_result"
    }
   ],
   "source": [
    "df.head()"
   ]
  },
  {
   "cell_type": "code",
   "execution_count": 4,
   "metadata": {},
   "outputs": [],
   "source": [
    "# Define the problem\n",
    "outcome = 'MPG_Highway'\n",
    "x_cols = ['Passengers', 'Length', 'Wheelbase', 'Width', 'U_Turn_Space',\n",
    "          'Rear_seat', 'Luggage', 'Weight', 'Horsepower', 'Fueltank']"
   ]
  },
  {
   "cell_type": "code",
   "execution_count": 5,
   "metadata": {},
   "outputs": [
    {
     "data": {
      "text/html": [
       "<div>\n",
       "<style scoped>\n",
       "    .dataframe tbody tr th:only-of-type {\n",
       "        vertical-align: middle;\n",
       "    }\n",
       "\n",
       "    .dataframe tbody tr th {\n",
       "        vertical-align: top;\n",
       "    }\n",
       "\n",
       "    .dataframe thead th {\n",
       "        text-align: right;\n",
       "    }\n",
       "</style>\n",
       "<table border=\"1\" class=\"dataframe\">\n",
       "  <thead>\n",
       "    <tr style=\"text-align: right;\">\n",
       "      <th></th>\n",
       "      <th>MPG_Highway</th>\n",
       "      <th>Passengers</th>\n",
       "      <th>Length</th>\n",
       "      <th>Wheelbase</th>\n",
       "      <th>Width</th>\n",
       "      <th>U_Turn_Space</th>\n",
       "      <th>Rear_seat</th>\n",
       "      <th>Luggage</th>\n",
       "      <th>Weight</th>\n",
       "      <th>Horsepower</th>\n",
       "      <th>Fueltank</th>\n",
       "    </tr>\n",
       "  </thead>\n",
       "  <tbody>\n",
       "    <tr>\n",
       "      <th>0</th>\n",
       "      <td>31</td>\n",
       "      <td>-0.082794</td>\n",
       "      <td>-0.424883</td>\n",
       "      <td>-0.285386</td>\n",
       "      <td>-0.364210</td>\n",
       "      <td>-0.607145</td>\n",
       "      <td>-0.456945</td>\n",
       "      <td>-0.992270</td>\n",
       "      <td>-0.623674</td>\n",
       "      <td>-0.073088</td>\n",
       "      <td>-1.056458</td>\n",
       "    </tr>\n",
       "    <tr>\n",
       "      <th>1</th>\n",
       "      <td>25</td>\n",
       "      <td>-0.082794</td>\n",
       "      <td>0.807793</td>\n",
       "      <td>1.620864</td>\n",
       "      <td>0.429654</td>\n",
       "      <td>-0.296901</td>\n",
       "      <td>0.723496</td>\n",
       "      <td>0.326032</td>\n",
       "      <td>0.825733</td>\n",
       "      <td>1.072509</td>\n",
       "      <td>0.407238</td>\n",
       "    </tr>\n",
       "    <tr>\n",
       "      <th>2</th>\n",
       "      <td>26</td>\n",
       "      <td>-0.082794</td>\n",
       "      <td>-0.219437</td>\n",
       "      <td>-0.285386</td>\n",
       "      <td>-0.628831</td>\n",
       "      <td>-0.607145</td>\n",
       "      <td>0.048958</td>\n",
       "      <td>-0.003544</td>\n",
       "      <td>0.512118</td>\n",
       "      <td>0.537897</td>\n",
       "      <td>0.071808</td>\n",
       "    </tr>\n",
       "    <tr>\n",
       "      <th>3</th>\n",
       "      <td>26</td>\n",
       "      <td>0.879689</td>\n",
       "      <td>0.670829</td>\n",
       "      <td>0.301153</td>\n",
       "      <td>0.165033</td>\n",
       "      <td>-0.607145</td>\n",
       "      <td>1.060764</td>\n",
       "      <td>0.985183</td>\n",
       "      <td>0.562975</td>\n",
       "      <td>0.537897</td>\n",
       "      <td>1.352541</td>\n",
       "    </tr>\n",
       "    <tr>\n",
       "      <th>4</th>\n",
       "      <td>30</td>\n",
       "      <td>-1.045278</td>\n",
       "      <td>0.191455</td>\n",
       "      <td>0.741057</td>\n",
       "      <td>-0.099589</td>\n",
       "      <td>0.013344</td>\n",
       "      <td>-0.288310</td>\n",
       "      <td>-0.333119</td>\n",
       "      <td>0.961350</td>\n",
       "      <td>1.225256</td>\n",
       "      <td>1.352541</td>\n",
       "    </tr>\n",
       "  </tbody>\n",
       "</table>\n",
       "</div>"
      ],
      "text/plain": [
       "   MPG_Highway  Passengers    Length  Wheelbase     Width  U_Turn_Space  \\\n",
       "0           31   -0.082794 -0.424883  -0.285386 -0.364210     -0.607145   \n",
       "1           25   -0.082794  0.807793   1.620864  0.429654     -0.296901   \n",
       "2           26   -0.082794 -0.219437  -0.285386 -0.628831     -0.607145   \n",
       "3           26    0.879689  0.670829   0.301153  0.165033     -0.607145   \n",
       "4           30   -1.045278  0.191455   0.741057 -0.099589      0.013344   \n",
       "\n",
       "   Rear_seat   Luggage    Weight  Horsepower  Fueltank  \n",
       "0  -0.456945 -0.992270 -0.623674   -0.073088 -1.056458  \n",
       "1   0.723496  0.326032  0.825733    1.072509  0.407238  \n",
       "2   0.048958 -0.003544  0.512118    0.537897  0.071808  \n",
       "3   1.060764  0.985183  0.562975    0.537897  1.352541  \n",
       "4  -0.288310 -0.333119  0.961350    1.225256  1.352541  "
      ]
     },
     "execution_count": 5,
     "metadata": {},
     "output_type": "execute_result"
    }
   ],
   "source": [
    "# Some brief preprocessing\n",
    "df.columns = [col.replace(' ', '_') for col in df.columns]\n",
    "for col in x_cols:\n",
    "    ## This is called standard scaling \n",
    "    ## Here we don't have to do this but still it is a good practice\n",
    "    df[col] = (df[col] - df[col].mean())/df[col].std()\n",
    "df.head()"
   ]
  },
  {
   "cell_type": "code",
   "execution_count": 6,
   "metadata": {},
   "outputs": [],
   "source": [
    "## Fit a simple linear regression \n",
    "## Use X ~ Passengers and Y~MPG_Highway"
   ]
  },
  {
   "cell_type": "code",
   "execution_count": 7,
   "metadata": {},
   "outputs": [
    {
     "data": {
      "text/html": [
       "<table class=\"simpletable\">\n",
       "<caption>OLS Regression Results</caption>\n",
       "<tr>\n",
       "  <th>Dep. Variable:</th>       <td>MPG_Highway</td>   <th>  R-squared:         </th> <td>   0.218</td>\n",
       "</tr>\n",
       "<tr>\n",
       "  <th>Model:</th>                   <td>OLS</td>       <th>  Adj. R-squared:    </th> <td>   0.209</td>\n",
       "</tr>\n",
       "<tr>\n",
       "  <th>Method:</th>             <td>Least Squares</td>  <th>  F-statistic:       </th> <td>   25.30</td>\n",
       "</tr>\n",
       "<tr>\n",
       "  <th>Date:</th>             <td>Fri, 28 Feb 2020</td> <th>  Prob (F-statistic):</th> <td>2.46e-06</td>\n",
       "</tr>\n",
       "<tr>\n",
       "  <th>Time:</th>                 <td>12:28:15</td>     <th>  Log-Likelihood:    </th> <td> -275.70</td>\n",
       "</tr>\n",
       "<tr>\n",
       "  <th>No. Observations:</th>      <td>    93</td>      <th>  AIC:               </th> <td>   555.4</td>\n",
       "</tr>\n",
       "<tr>\n",
       "  <th>Df Residuals:</th>          <td>    91</td>      <th>  BIC:               </th> <td>   560.5</td>\n",
       "</tr>\n",
       "<tr>\n",
       "  <th>Df Model:</th>              <td>     1</td>      <th>                     </th>     <td> </td>   \n",
       "</tr>\n",
       "<tr>\n",
       "  <th>Covariance Type:</th>      <td>nonrobust</td>    <th>                     </th>     <td> </td>   \n",
       "</tr>\n",
       "</table>\n",
       "<table class=\"simpletable\">\n",
       "<tr>\n",
       "    <td></td>       <th>coef</th>     <th>std err</th>      <th>t</th>      <th>P>|t|</th>  <th>[0.025</th>    <th>0.975]</th>  \n",
       "</tr>\n",
       "<tr>\n",
       "  <th>const</th> <td>   29.0860</td> <td>    0.492</td> <td>   59.149</td> <td> 0.000</td> <td>   28.109</td> <td>   30.063</td>\n",
       "</tr>\n",
       "<tr>\n",
       "  <th>x1</th>    <td>   -2.4866</td> <td>    0.494</td> <td>   -5.030</td> <td> 0.000</td> <td>   -3.469</td> <td>   -1.505</td>\n",
       "</tr>\n",
       "</table>\n",
       "<table class=\"simpletable\">\n",
       "<tr>\n",
       "  <th>Omnibus:</th>       <td>19.691</td> <th>  Durbin-Watson:     </th> <td>   1.707</td>\n",
       "</tr>\n",
       "<tr>\n",
       "  <th>Prob(Omnibus):</th> <td> 0.000</td> <th>  Jarque-Bera (JB):  </th> <td>  35.868</td>\n",
       "</tr>\n",
       "<tr>\n",
       "  <th>Skew:</th>          <td> 0.826</td> <th>  Prob(JB):          </th> <td>1.63e-08</td>\n",
       "</tr>\n",
       "<tr>\n",
       "  <th>Kurtosis:</th>      <td> 5.554</td> <th>  Cond. No.          </th> <td>    1.01</td>\n",
       "</tr>\n",
       "</table><br/><br/>Warnings:<br/>[1] Standard Errors assume that the covariance matrix of the errors is correctly specified."
      ],
      "text/plain": [
       "<class 'statsmodels.iolib.summary.Summary'>\n",
       "\"\"\"\n",
       "                            OLS Regression Results                            \n",
       "==============================================================================\n",
       "Dep. Variable:            MPG_Highway   R-squared:                       0.218\n",
       "Model:                            OLS   Adj. R-squared:                  0.209\n",
       "Method:                 Least Squares   F-statistic:                     25.30\n",
       "Date:                Fri, 28 Feb 2020   Prob (F-statistic):           2.46e-06\n",
       "Time:                        12:28:15   Log-Likelihood:                -275.70\n",
       "No. Observations:                  93   AIC:                             555.4\n",
       "Df Residuals:                      91   BIC:                             560.5\n",
       "Df Model:                           1                                         \n",
       "Covariance Type:            nonrobust                                         \n",
       "==============================================================================\n",
       "                 coef    std err          t      P>|t|      [0.025      0.975]\n",
       "------------------------------------------------------------------------------\n",
       "const         29.0860      0.492     59.149      0.000      28.109      30.063\n",
       "x1            -2.4866      0.494     -5.030      0.000      -3.469      -1.505\n",
       "==============================================================================\n",
       "Omnibus:                       19.691   Durbin-Watson:                   1.707\n",
       "Prob(Omnibus):                  0.000   Jarque-Bera (JB):               35.868\n",
       "Skew:                           0.826   Prob(JB):                     1.63e-08\n",
       "Kurtosis:                       5.554   Cond. No.                         1.01\n",
       "==============================================================================\n",
       "\n",
       "Warnings:\n",
       "[1] Standard Errors assume that the covariance matrix of the errors is correctly specified.\n",
       "\"\"\""
      ]
     },
     "execution_count": 7,
     "metadata": {},
     "output_type": "execute_result"
    }
   ],
   "source": [
    "# %load -r 1-6 answers.py\n",
    "X_passengers = df.Passengers.values\n",
    "y = df.MPG_Highway\n",
    "X_passengers = sm.add_constant(X_passengers)\n",
    "model = sm.OLS(y, X_passengers, hasconst=True)\n",
    "result = model.fit()\n",
    "result.summary()"
   ]
  },
  {
   "cell_type": "markdown",
   "metadata": {},
   "source": [
    "It loooks like the predictor 'Passengers' explained 0.218 percent of the variance in the response variable\n",
    "'MPG_Highway'. As we see the coefficient's p_value is very small, that means we have strong evidence that \n",
    "the relationship between 'Passengers' and 'MPG_'Highway' is not coincidence.\n",
    "\n",
    "Now let's use the other variables to improve the model."
   ]
  },
  {
   "cell_type": "code",
   "execution_count": 8,
   "metadata": {},
   "outputs": [],
   "source": [
    "## Now use all the variables to fit a multiple linear regression model"
   ]
  },
  {
   "cell_type": "code",
   "execution_count": 9,
   "metadata": {},
   "outputs": [
    {
     "name": "stdout",
     "output_type": "stream",
     "text": [
      "['intercept', 'Passengers', 'Length', 'Wheelbase', 'Width', 'U_Turn_Space', 'Rear_seat', 'Luggage', 'Weight', 'Horsepower', 'Fueltank']\n"
     ]
    },
    {
     "data": {
      "text/html": [
       "<table class=\"simpletable\">\n",
       "<caption>OLS Regression Results</caption>\n",
       "<tr>\n",
       "  <th>Dep. Variable:</th>       <td>MPG_Highway</td>   <th>  R-squared:         </th> <td>   0.746</td>\n",
       "</tr>\n",
       "<tr>\n",
       "  <th>Model:</th>                   <td>OLS</td>       <th>  Adj. R-squared:    </th> <td>   0.715</td>\n",
       "</tr>\n",
       "<tr>\n",
       "  <th>Method:</th>             <td>Least Squares</td>  <th>  F-statistic:       </th> <td>   24.03</td>\n",
       "</tr>\n",
       "<tr>\n",
       "  <th>Date:</th>             <td>Fri, 28 Feb 2020</td> <th>  Prob (F-statistic):</th> <td>2.02e-20</td>\n",
       "</tr>\n",
       "<tr>\n",
       "  <th>Time:</th>                 <td>12:28:17</td>     <th>  Log-Likelihood:    </th> <td> -223.47</td>\n",
       "</tr>\n",
       "<tr>\n",
       "  <th>No. Observations:</th>      <td>    93</td>      <th>  AIC:               </th> <td>   468.9</td>\n",
       "</tr>\n",
       "<tr>\n",
       "  <th>Df Residuals:</th>          <td>    82</td>      <th>  BIC:               </th> <td>   496.8</td>\n",
       "</tr>\n",
       "<tr>\n",
       "  <th>Df Model:</th>              <td>    10</td>      <th>                     </th>     <td> </td>   \n",
       "</tr>\n",
       "<tr>\n",
       "  <th>Covariance Type:</th>      <td>nonrobust</td>    <th>                     </th>     <td> </td>   \n",
       "</tr>\n",
       "</table>\n",
       "<table class=\"simpletable\">\n",
       "<tr>\n",
       "        <td></td>          <th>coef</th>     <th>std err</th>      <th>t</th>      <th>P>|t|</th>  <th>[0.025</th>    <th>0.975]</th>  \n",
       "</tr>\n",
       "<tr>\n",
       "  <th>intercept</th>    <td>   29.0860</td> <td>    0.295</td> <td>   98.465</td> <td> 0.000</td> <td>   28.498</td> <td>   29.674</td>\n",
       "</tr>\n",
       "<tr>\n",
       "  <th>Passengers</th>   <td>   -1.0138</td> <td>    0.577</td> <td>   -1.757</td> <td> 0.083</td> <td>   -2.162</td> <td>    0.134</td>\n",
       "</tr>\n",
       "<tr>\n",
       "  <th>Length</th>       <td>    0.4625</td> <td>    0.624</td> <td>    0.741</td> <td> 0.461</td> <td>   -0.779</td> <td>    1.704</td>\n",
       "</tr>\n",
       "<tr>\n",
       "  <th>Wheelbase</th>    <td>    1.9899</td> <td>    0.833</td> <td>    2.389</td> <td> 0.019</td> <td>    0.333</td> <td>    3.647</td>\n",
       "</tr>\n",
       "<tr>\n",
       "  <th>Width</th>        <td>    1.2067</td> <td>    0.759</td> <td>    1.591</td> <td> 0.115</td> <td>   -0.302</td> <td>    2.716</td>\n",
       "</tr>\n",
       "<tr>\n",
       "  <th>U_Turn_Space</th> <td>   -0.4858</td> <td>    0.545</td> <td>   -0.892</td> <td> 0.375</td> <td>   -1.570</td> <td>    0.598</td>\n",
       "</tr>\n",
       "<tr>\n",
       "  <th>Rear_seat</th>    <td>    0.2338</td> <td>    0.459</td> <td>    0.509</td> <td> 0.612</td> <td>   -0.679</td> <td>    1.147</td>\n",
       "</tr>\n",
       "<tr>\n",
       "  <th>Luggage</th>      <td>    0.3229</td> <td>    0.447</td> <td>    0.723</td> <td> 0.472</td> <td>   -0.566</td> <td>    1.212</td>\n",
       "</tr>\n",
       "<tr>\n",
       "  <th>Weight</th>       <td>   -5.2787</td> <td>    1.220</td> <td>   -4.327</td> <td> 0.000</td> <td>   -7.705</td> <td>   -2.852</td>\n",
       "</tr>\n",
       "<tr>\n",
       "  <th>Horsepower</th>   <td>   -0.1101</td> <td>    0.660</td> <td>   -0.167</td> <td> 0.868</td> <td>   -1.422</td> <td>    1.202</td>\n",
       "</tr>\n",
       "<tr>\n",
       "  <th>Fueltank</th>     <td>   -1.6742</td> <td>    0.703</td> <td>   -2.383</td> <td> 0.019</td> <td>   -3.072</td> <td>   -0.276</td>\n",
       "</tr>\n",
       "</table>\n",
       "<table class=\"simpletable\">\n",
       "<tr>\n",
       "  <th>Omnibus:</th>       <td>15.867</td> <th>  Durbin-Watson:     </th> <td>   1.460</td>\n",
       "</tr>\n",
       "<tr>\n",
       "  <th>Prob(Omnibus):</th> <td> 0.000</td> <th>  Jarque-Bera (JB):  </th> <td>  23.638</td>\n",
       "</tr>\n",
       "<tr>\n",
       "  <th>Skew:</th>          <td> 0.749</td> <th>  Prob(JB):          </th> <td>7.36e-06</td>\n",
       "</tr>\n",
       "<tr>\n",
       "  <th>Kurtosis:</th>      <td> 4.963</td> <th>  Cond. No.          </th> <td>    12.2</td>\n",
       "</tr>\n",
       "</table><br/><br/>Warnings:<br/>[1] Standard Errors assume that the covariance matrix of the errors is correctly specified."
      ],
      "text/plain": [
       "<class 'statsmodels.iolib.summary.Summary'>\n",
       "\"\"\"\n",
       "                            OLS Regression Results                            \n",
       "==============================================================================\n",
       "Dep. Variable:            MPG_Highway   R-squared:                       0.746\n",
       "Model:                            OLS   Adj. R-squared:                  0.715\n",
       "Method:                 Least Squares   F-statistic:                     24.03\n",
       "Date:                Fri, 28 Feb 2020   Prob (F-statistic):           2.02e-20\n",
       "Time:                        12:28:17   Log-Likelihood:                -223.47\n",
       "No. Observations:                  93   AIC:                             468.9\n",
       "Df Residuals:                      82   BIC:                             496.8\n",
       "Df Model:                          10                                         \n",
       "Covariance Type:            nonrobust                                         \n",
       "================================================================================\n",
       "                   coef    std err          t      P>|t|      [0.025      0.975]\n",
       "--------------------------------------------------------------------------------\n",
       "intercept       29.0860      0.295     98.465      0.000      28.498      29.674\n",
       "Passengers      -1.0138      0.577     -1.757      0.083      -2.162       0.134\n",
       "Length           0.4625      0.624      0.741      0.461      -0.779       1.704\n",
       "Wheelbase        1.9899      0.833      2.389      0.019       0.333       3.647\n",
       "Width            1.2067      0.759      1.591      0.115      -0.302       2.716\n",
       "U_Turn_Space    -0.4858      0.545     -0.892      0.375      -1.570       0.598\n",
       "Rear_seat        0.2338      0.459      0.509      0.612      -0.679       1.147\n",
       "Luggage          0.3229      0.447      0.723      0.472      -0.566       1.212\n",
       "Weight          -5.2787      1.220     -4.327      0.000      -7.705      -2.852\n",
       "Horsepower      -0.1101      0.660     -0.167      0.868      -1.422       1.202\n",
       "Fueltank        -1.6742      0.703     -2.383      0.019      -3.072      -0.276\n",
       "==============================================================================\n",
       "Omnibus:                       15.867   Durbin-Watson:                   1.460\n",
       "Prob(Omnibus):                  0.000   Jarque-Bera (JB):               23.638\n",
       "Skew:                           0.749   Prob(JB):                     7.36e-06\n",
       "Kurtosis:                       4.963   Cond. No.                         12.2\n",
       "==============================================================================\n",
       "\n",
       "Warnings:\n",
       "[1] Standard Errors assume that the covariance matrix of the errors is correctly specified.\n",
       "\"\"\""
      ]
     },
     "execution_count": 9,
     "metadata": {},
     "output_type": "execute_result"
    }
   ],
   "source": [
    "# %load -r 10-20 answers.py\n",
    "X = df.drop(columns='MPG_Highway').values\n",
    "\n",
    "y = df.MPG_Highway\n",
    "\n",
    "# Fitting the actual model\n",
    "X = sm.add_constant(X)\n",
    "model = sm.OLS(y, X, hasconst=True )\n",
    "result = model.fit()\n",
    "labels = ['intercept'] + x_cols\n",
    "print(labels)\n",
    "result.summary(xname=labels)"
   ]
  },
  {
   "cell_type": "markdown",
   "metadata": {},
   "source": [
    "Note that the $R^{2}$ and $R^{2}_{adj}$ increased significantly but at the same time some predictors p_values are not significant anymore.\n",
    "\n",
    "W can easily convert it to an adjusted $R^{2}$ by using the formula:\n",
    "\n",
    "$$ \\bar{R}^{2} = 1 - (1- R^{2})\\frac{n-1}{n-p-1}$$\n",
    "\n",
    "where $p$ is the total number of features used to train model.\n",
    "\n",
    "[Wikipedia-$R^{2}$](https://en.wikipedia.org/wiki/Coefficient_of_determination#Adjusted_R2)"
   ]
  },
  {
   "cell_type": "code",
   "execution_count": 10,
   "metadata": {},
   "outputs": [],
   "source": [
    "## Now focus on the columns with significant p_values\n",
    "\n",
    "cols_subset = ['Passengers', 'Wheelbase', 'Weight', 'Fueltank']\n",
    "\n",
    "## Let's fit another model with only these columns\n",
    "## compare the results"
   ]
  },
  {
   "cell_type": "code",
   "execution_count": 11,
   "metadata": {},
   "outputs": [
    {
     "name": "stdout",
     "output_type": "stream",
     "text": [
      "['intercept', 'Passengers', 'Wheelbase', 'Weight', 'Fueltank']\n"
     ]
    },
    {
     "data": {
      "text/html": [
       "<table class=\"simpletable\">\n",
       "<caption>OLS Regression Results</caption>\n",
       "<tr>\n",
       "  <th>Dep. Variable:</th>       <td>MPG_Highway</td>   <th>  R-squared:         </th> <td>   0.726</td>\n",
       "</tr>\n",
       "<tr>\n",
       "  <th>Model:</th>                   <td>OLS</td>       <th>  Adj. R-squared:    </th> <td>   0.713</td>\n",
       "</tr>\n",
       "<tr>\n",
       "  <th>Method:</th>             <td>Least Squares</td>  <th>  F-statistic:       </th> <td>   58.19</td>\n",
       "</tr>\n",
       "<tr>\n",
       "  <th>Date:</th>             <td>Fri, 28 Feb 2020</td> <th>  Prob (F-statistic):</th> <td>6.35e-24</td>\n",
       "</tr>\n",
       "<tr>\n",
       "  <th>Time:</th>                 <td>12:28:18</td>     <th>  Log-Likelihood:    </th> <td> -226.97</td>\n",
       "</tr>\n",
       "<tr>\n",
       "  <th>No. Observations:</th>      <td>    93</td>      <th>  AIC:               </th> <td>   463.9</td>\n",
       "</tr>\n",
       "<tr>\n",
       "  <th>Df Residuals:</th>          <td>    88</td>      <th>  BIC:               </th> <td>   476.6</td>\n",
       "</tr>\n",
       "<tr>\n",
       "  <th>Df Model:</th>              <td>     4</td>      <th>                     </th>     <td> </td>   \n",
       "</tr>\n",
       "<tr>\n",
       "  <th>Covariance Type:</th>      <td>nonrobust</td>    <th>                     </th>     <td> </td>   \n",
       "</tr>\n",
       "</table>\n",
       "<table class=\"simpletable\">\n",
       "<tr>\n",
       "       <td></td>         <th>coef</th>     <th>std err</th>      <th>t</th>      <th>P>|t|</th>  <th>[0.025</th>    <th>0.975]</th>  \n",
       "</tr>\n",
       "<tr>\n",
       "  <th>intercept</th>  <td>   29.0860</td> <td>    0.296</td> <td>   98.232</td> <td> 0.000</td> <td>   28.498</td> <td>   29.674</td>\n",
       "</tr>\n",
       "<tr>\n",
       "  <th>Passengers</th> <td>   -1.0457</td> <td>    0.418</td> <td>   -2.501</td> <td> 0.014</td> <td>   -1.877</td> <td>   -0.215</td>\n",
       "</tr>\n",
       "<tr>\n",
       "  <th>Wheelbase</th>  <td>    2.8249</td> <td>    0.713</td> <td>    3.960</td> <td> 0.000</td> <td>    1.407</td> <td>    4.243</td>\n",
       "</tr>\n",
       "<tr>\n",
       "  <th>Weight</th>     <td>   -4.9206</td> <td>    0.894</td> <td>   -5.505</td> <td> 0.000</td> <td>   -6.697</td> <td>   -3.144</td>\n",
       "</tr>\n",
       "<tr>\n",
       "  <th>Fueltank</th>   <td>   -1.4385</td> <td>    0.668</td> <td>   -2.154</td> <td> 0.034</td> <td>   -2.766</td> <td>   -0.111</td>\n",
       "</tr>\n",
       "</table>\n",
       "<table class=\"simpletable\">\n",
       "<tr>\n",
       "  <th>Omnibus:</th>       <td>10.649</td> <th>  Durbin-Watson:     </th> <td>   1.397</td>\n",
       "</tr>\n",
       "<tr>\n",
       "  <th>Prob(Omnibus):</th> <td> 0.005</td> <th>  Jarque-Bera (JB):  </th> <td>  15.761</td>\n",
       "</tr>\n",
       "<tr>\n",
       "  <th>Skew:</th>          <td> 0.489</td> <th>  Prob(JB):          </th> <td>0.000378</td>\n",
       "</tr>\n",
       "<tr>\n",
       "  <th>Kurtosis:</th>      <td> 4.763</td> <th>  Cond. No.          </th> <td>    6.70</td>\n",
       "</tr>\n",
       "</table><br/><br/>Warnings:<br/>[1] Standard Errors assume that the covariance matrix of the errors is correctly specified."
      ],
      "text/plain": [
       "<class 'statsmodels.iolib.summary.Summary'>\n",
       "\"\"\"\n",
       "                            OLS Regression Results                            \n",
       "==============================================================================\n",
       "Dep. Variable:            MPG_Highway   R-squared:                       0.726\n",
       "Model:                            OLS   Adj. R-squared:                  0.713\n",
       "Method:                 Least Squares   F-statistic:                     58.19\n",
       "Date:                Fri, 28 Feb 2020   Prob (F-statistic):           6.35e-24\n",
       "Time:                        12:28:18   Log-Likelihood:                -226.97\n",
       "No. Observations:                  93   AIC:                             463.9\n",
       "Df Residuals:                      88   BIC:                             476.6\n",
       "Df Model:                           4                                         \n",
       "Covariance Type:            nonrobust                                         \n",
       "==============================================================================\n",
       "                 coef    std err          t      P>|t|      [0.025      0.975]\n",
       "------------------------------------------------------------------------------\n",
       "intercept     29.0860      0.296     98.232      0.000      28.498      29.674\n",
       "Passengers    -1.0457      0.418     -2.501      0.014      -1.877      -0.215\n",
       "Wheelbase      2.8249      0.713      3.960      0.000       1.407       4.243\n",
       "Weight        -4.9206      0.894     -5.505      0.000      -6.697      -3.144\n",
       "Fueltank      -1.4385      0.668     -2.154      0.034      -2.766      -0.111\n",
       "==============================================================================\n",
       "Omnibus:                       10.649   Durbin-Watson:                   1.397\n",
       "Prob(Omnibus):                  0.005   Jarque-Bera (JB):               15.761\n",
       "Skew:                           0.489   Prob(JB):                     0.000378\n",
       "Kurtosis:                       4.763   Cond. No.                         6.70\n",
       "==============================================================================\n",
       "\n",
       "Warnings:\n",
       "[1] Standard Errors assume that the covariance matrix of the errors is correctly specified.\n",
       "\"\"\""
      ]
     },
     "execution_count": 11,
     "metadata": {},
     "output_type": "execute_result"
    }
   ],
   "source": [
    "# %load -r 24-30 answers.py\n",
    "X = df[cols_subset].values\n",
    "X = sm.add_constant(X)\n",
    "model = sm.OLS(y, X, hasconst=True, )\n",
    "result = model.fit()\n",
    "cols_subset = ['intercept'] + cols_subset\n",
    "print(cols_subset)\n",
    "result.summary(xname = cols_subset)"
   ]
  },
  {
   "cell_type": "markdown",
   "metadata": {},
   "source": [
    "Again the last model with only four variables worked almost as good as the previous one which had  11 predictors ($R_{adj} = 0.715$ vs $R_{adj} = 0.713$). For more on this read p74 of ISLR."
   ]
  },
  {
   "cell_type": "markdown",
   "metadata": {},
   "source": [
    "### Multicollinearity\n",
    "\n",
    "As we discussed before the multicollinearity is a problem for interprettability and confidence intervels. Now we will see how to detect multicolinearity and how to solve this problem.\n",
    "\n",
    "[Statistics by Jim - Multicollinearity in linear regression](https://statisticsbyjim.com/regression/multicollinearity-in-regression-analysis/)\n",
    "\n",
    "\n",
    "[Wikipedia VIF - Calculation and Analysis](https://en.wikipedia.org/wiki/Variance_inflation_factor)"
   ]
  },
  {
   "cell_type": "code",
   "execution_count": 12,
   "metadata": {},
   "outputs": [
    {
     "data": {
      "image/png": "[encoded data removed]",
      "text/plain": [
       "<Figure size 432x288 with 2 Axes>"
      ]
     },
     "metadata": {
      "needs_background": "light"
     },
     "output_type": "display_data"
    }
   ],
   "source": [
    "## one way to check collinearity is to \n",
    "## plot collinearity heatmap\n",
    "\n",
    "import seaborn as sns\n",
    "%matplotlib inline\n",
    "\n",
    "\n",
    "\n",
    "# calculate the correlation matrix\n",
    "corr = df.corr()\n",
    "\n",
    "# plot the heatmap\n",
    "sns.heatmap(corr, \n",
    "        xticklabels=corr.columns,\n",
    "        yticklabels=corr.columns)\n",
    "\n",
    "plt.show()"
   ]
  },
  {
   "cell_type": "code",
   "execution_count": 13,
   "metadata": {},
   "outputs": [],
   "source": [
    "## One way of detecting multicollinearity is Variance inflation factor.\n",
    "\n",
    "from statsmodels.stats.outliers_influence import variance_inflation_factor"
   ]
  },
  {
   "cell_type": "code",
   "execution_count": 14,
   "metadata": {},
   "outputs": [
    {
     "data": {
      "text/plain": [
       "[('Passengers', 1.9723303443573645),\n",
       " ('Wheelbase', 5.743165022553869),\n",
       " ('Weight', 9.016035842933382),\n",
       " ('Fueltank', 5.032060527995971)]"
      ]
     },
     "execution_count": 14,
     "metadata": {},
     "output_type": "execute_result"
    }
   ],
   "source": [
    "refined_cols = ['Passengers', 'Wheelbase', 'Weight', 'Fueltank']\n",
    "X = df[refined_cols]\n",
    "vif = [variance_inflation_factor(X.values, i) for i in range(X.shape[1])]\n",
    "list(zip(refined_cols, vif))"
   ]
  },
  {
   "cell_type": "code",
   "execution_count": 15,
   "metadata": {},
   "outputs": [
    {
     "data": {
      "image/png": "[encoded data removed]",
      "text/plain": [
       "<Figure size 720x720 with 20 Axes>"
      ]
     },
     "metadata": {
      "needs_background": "light"
     },
     "output_type": "display_data"
    }
   ],
   "source": [
    "from pandas.plotting import scatter_matrix\n",
    "import seaborn as sns\n",
    "# scatter_matrix(df[['Fueltank', 'Weight', 'Wheelbase', 'MPG_Highway']]);\n",
    "\n",
    "sns.pairplot(df[refined_cols]);"
   ]
  },
  {
   "cell_type": "code",
   "execution_count": 16,
   "metadata": {},
   "outputs": [],
   "source": [
    "## Check the above link from wikipedia\n",
    "## and try to figure out what the vif score corresponds to. \n",
    "\n",
    "## Let's try to show very quickly that our\n",
    "## interpretation is correct\n",
    "## We will focus on vif score for \n",
    "## Passenger variable only."
   ]
  },
  {
   "cell_type": "code",
   "execution_count": 17,
   "metadata": {},
   "outputs": [
    {
     "data": {
      "text/plain": [
       "1.972330344357365"
      ]
     },
     "execution_count": 17,
     "metadata": {},
     "output_type": "execute_result"
    }
   ],
   "source": [
    "# %load -r 35-50 answers.py\n",
    "## take the passenger as target\n",
    "y_vif = df.Passengers\n",
    "## remove Passenger from predictor list\n",
    "refined_cols.remove('Passengers')\n",
    "## prepare data for the linear model\n",
    "X_vif = df[refined_cols]\n",
    "## add intercept term\n",
    "X_vif = sm.add_constant(X_vif.values)\n",
    "## fit model\n",
    "model_vif = sm.OLS(y_vif, X_vif, hasconst=True)\n",
    "result_vif = model_vif.fit()\n",
    "## check the r2-score\n",
    "result_vif.summary()\n",
    "## calculate vif score directly from r2-score\n",
    "passenger_vif = 1/(1 - result_vif.rsquared)\n",
    "passenger_vif"
   ]
  },
  {
   "cell_type": "markdown",
   "metadata": {},
   "source": [
    "In the literature, you might see that it is suggested that if VIF> 10 then this column can  be dropped. Some other resources say if VIF > 5 it is ok to drop a column. Note that these corresponds to $R^{2} = 0.90$ and $R^{2} = 0.80$ respectively. In this case, we can consider to drop 'weight' feature as its VIF >5. Let's see how this effects the model."
   ]
  },
  {
   "cell_type": "code",
   "execution_count": 18,
   "metadata": {},
   "outputs": [
    {
     "data": {
      "text/html": [
       "<table class=\"simpletable\">\n",
       "<caption>OLS Regression Results</caption>\n",
       "<tr>\n",
       "  <th>Dep. Variable:</th>       <td>MPG_Highway</td>   <th>  R-squared:         </th> <td>   0.631</td>\n",
       "</tr>\n",
       "<tr>\n",
       "  <th>Model:</th>                   <td>OLS</td>       <th>  Adj. R-squared:    </th> <td>   0.619</td>\n",
       "</tr>\n",
       "<tr>\n",
       "  <th>Method:</th>             <td>Least Squares</td>  <th>  F-statistic:       </th> <td>   50.77</td>\n",
       "</tr>\n",
       "<tr>\n",
       "  <th>Date:</th>             <td>Fri, 28 Feb 2020</td> <th>  Prob (F-statistic):</th> <td>3.21e-19</td>\n",
       "</tr>\n",
       "<tr>\n",
       "  <th>Time:</th>                 <td>12:28:23</td>     <th>  Log-Likelihood:    </th> <td> -240.73</td>\n",
       "</tr>\n",
       "<tr>\n",
       "  <th>No. Observations:</th>      <td>    93</td>      <th>  AIC:               </th> <td>   489.5</td>\n",
       "</tr>\n",
       "<tr>\n",
       "  <th>Df Residuals:</th>          <td>    89</td>      <th>  BIC:               </th> <td>   499.6</td>\n",
       "</tr>\n",
       "<tr>\n",
       "  <th>Df Model:</th>              <td>     3</td>      <th>                     </th>     <td> </td>   \n",
       "</tr>\n",
       "<tr>\n",
       "  <th>Covariance Type:</th>      <td>nonrobust</td>    <th>                     </th>     <td> </td>   \n",
       "</tr>\n",
       "</table>\n",
       "<table class=\"simpletable\">\n",
       "<tr>\n",
       "    <td></td>       <th>coef</th>     <th>std err</th>      <th>t</th>      <th>P>|t|</th>  <th>[0.025</th>    <th>0.975]</th>  \n",
       "</tr>\n",
       "<tr>\n",
       "  <th>const</th> <td>   29.0860</td> <td>    0.341</td> <td>   85.203</td> <td> 0.000</td> <td>   28.408</td> <td>   29.764</td>\n",
       "</tr>\n",
       "<tr>\n",
       "  <th>x1</th>    <td>   -0.8302</td> <td>    0.480</td> <td>   -1.730</td> <td> 0.087</td> <td>   -1.784</td> <td>    0.123</td>\n",
       "</tr>\n",
       "<tr>\n",
       "  <th>x2</th>    <td>    0.4075</td> <td>    0.648</td> <td>    0.629</td> <td> 0.531</td> <td>   -0.881</td> <td>    1.696</td>\n",
       "</tr>\n",
       "<tr>\n",
       "  <th>x3</th>    <td>   -4.1077</td> <td>    0.529</td> <td>   -7.759</td> <td> 0.000</td> <td>   -5.160</td> <td>   -3.056</td>\n",
       "</tr>\n",
       "</table>\n",
       "<table class=\"simpletable\">\n",
       "<tr>\n",
       "  <th>Omnibus:</th>       <td>25.731</td> <th>  Durbin-Watson:     </th> <td>   1.417</td>\n",
       "</tr>\n",
       "<tr>\n",
       "  <th>Prob(Omnibus):</th> <td> 0.000</td> <th>  Jarque-Bera (JB):  </th> <td>  56.037</td>\n",
       "</tr>\n",
       "<tr>\n",
       "  <th>Skew:</th>          <td> 1.002</td> <th>  Prob(JB):          </th> <td>6.79e-13</td>\n",
       "</tr>\n",
       "<tr>\n",
       "  <th>Kurtosis:</th>      <td> 6.231</td> <th>  Cond. No.          </th> <td>    3.57</td>\n",
       "</tr>\n",
       "</table><br/><br/>Warnings:<br/>[1] Standard Errors assume that the covariance matrix of the errors is correctly specified."
      ],
      "text/plain": [
       "<class 'statsmodels.iolib.summary.Summary'>\n",
       "\"\"\"\n",
       "                            OLS Regression Results                            \n",
       "==============================================================================\n",
       "Dep. Variable:            MPG_Highway   R-squared:                       0.631\n",
       "Model:                            OLS   Adj. R-squared:                  0.619\n",
       "Method:                 Least Squares   F-statistic:                     50.77\n",
       "Date:                Fri, 28 Feb 2020   Prob (F-statistic):           3.21e-19\n",
       "Time:                        12:28:23   Log-Likelihood:                -240.73\n",
       "No. Observations:                  93   AIC:                             489.5\n",
       "Df Residuals:                      89   BIC:                             499.6\n",
       "Df Model:                           3                                         \n",
       "Covariance Type:            nonrobust                                         \n",
       "==============================================================================\n",
       "                 coef    std err          t      P>|t|      [0.025      0.975]\n",
       "------------------------------------------------------------------------------\n",
       "const         29.0860      0.341     85.203      0.000      28.408      29.764\n",
       "x1            -0.8302      0.480     -1.730      0.087      -1.784       0.123\n",
       "x2             0.4075      0.648      0.629      0.531      -0.881       1.696\n",
       "x3            -4.1077      0.529     -7.759      0.000      -5.160      -3.056\n",
       "==============================================================================\n",
       "Omnibus:                       25.731   Durbin-Watson:                   1.417\n",
       "Prob(Omnibus):                  0.000   Jarque-Bera (JB):               56.037\n",
       "Skew:                           1.002   Prob(JB):                     6.79e-13\n",
       "Kurtosis:                       6.231   Cond. No.                         3.57\n",
       "==============================================================================\n",
       "\n",
       "Warnings:\n",
       "[1] Standard Errors assume that the covariance matrix of the errors is correctly specified.\n",
       "\"\"\""
      ]
     },
     "execution_count": 18,
     "metadata": {},
     "output_type": "execute_result"
    }
   ],
   "source": [
    "X = df[['Passengers', 'Wheelbase', 'Fueltank']]\n",
    "X = sm.add_constant(X.values)\n",
    "\n",
    "model = sm.OLS(y, X, hasconst= True)\n",
    "\n",
    "res = model.fit()\n",
    "\n",
    "res.summary()"
   ]
  },
  {
   "cell_type": "markdown",
   "metadata": {},
   "source": [
    "After we dropped the 'weight' the score ($R_{adj}$) dropped from 0.713 to 0.619.\n",
    "\n",
    "Also we could use forward and backward selection methods."
   ]
  },
  {
   "cell_type": "code",
   "execution_count": 19,
   "metadata": {},
   "outputs": [],
   "source": [
    "## sklearn.feature_selection has a class\n",
    "## called RFE for recursive feature selection\n",
    "\n",
    "from sklearn.feature_selection import RFE\n",
    "from sklearn.linear_model import LinearRegression"
   ]
  },
  {
   "cell_type": "markdown",
   "metadata": {},
   "source": [
    "For more details and the documentation of RFE you can check:\n",
    "\n",
    "[sklearn- Recursive Feature Selection](https://scikit-learn.org/stable/modules/generated/sklearn.feature_selection.RFE.html)\n",
    "\n",
    "[Feature Selection in sklearn -RFE](https://scikit-learn.org/stable/modules/feature_selection.html#rfe)\n",
    "\n",
    "[Other methods in sklearn for feature selection](https://scikit-learn.org/stable/modules/feature_selection.html#)"
   ]
  },
  {
   "cell_type": "code",
   "execution_count": 20,
   "metadata": {},
   "outputs": [
    {
     "name": "stdout",
     "output_type": "stream",
     "text": [
      "[False False  True False False False False  True False  True]\n"
     ]
    },
    {
     "data": {
      "text/html": [
       "<div>\n",
       "<style scoped>\n",
       "    .dataframe tbody tr th:only-of-type {\n",
       "        vertical-align: middle;\n",
       "    }\n",
       "\n",
       "    .dataframe tbody tr th {\n",
       "        vertical-align: top;\n",
       "    }\n",
       "\n",
       "    .dataframe thead th {\n",
       "        text-align: right;\n",
       "    }\n",
       "</style>\n",
       "<table border=\"1\" class=\"dataframe\">\n",
       "  <thead>\n",
       "    <tr style=\"text-align: right;\">\n",
       "      <th></th>\n",
       "      <th>Wheelbase</th>\n",
       "      <th>Weight</th>\n",
       "      <th>Fueltank</th>\n",
       "    </tr>\n",
       "  </thead>\n",
       "  <tbody>\n",
       "    <tr>\n",
       "      <th>0</th>\n",
       "      <td>-0.285386</td>\n",
       "      <td>-0.623674</td>\n",
       "      <td>-1.056458</td>\n",
       "    </tr>\n",
       "    <tr>\n",
       "      <th>1</th>\n",
       "      <td>1.620864</td>\n",
       "      <td>0.825733</td>\n",
       "      <td>0.407238</td>\n",
       "    </tr>\n",
       "    <tr>\n",
       "      <th>2</th>\n",
       "      <td>-0.285386</td>\n",
       "      <td>0.512118</td>\n",
       "      <td>0.071808</td>\n",
       "    </tr>\n",
       "    <tr>\n",
       "      <th>3</th>\n",
       "      <td>0.301153</td>\n",
       "      <td>0.562975</td>\n",
       "      <td>1.352541</td>\n",
       "    </tr>\n",
       "    <tr>\n",
       "      <th>4</th>\n",
       "      <td>0.741057</td>\n",
       "      <td>0.961350</td>\n",
       "      <td>1.352541</td>\n",
       "    </tr>\n",
       "  </tbody>\n",
       "</table>\n",
       "</div>"
      ],
      "text/plain": [
       "   Wheelbase    Weight  Fueltank\n",
       "0  -0.285386 -0.623674 -1.056458\n",
       "1   1.620864  0.825733  0.407238\n",
       "2  -0.285386  0.512118  0.071808\n",
       "3   0.301153  0.562975  1.352541\n",
       "4   0.741057  0.961350  1.352541"
      ]
     },
     "execution_count": 20,
     "metadata": {},
     "output_type": "execute_result"
    }
   ],
   "source": [
    "## instantiate the linear regression object\n",
    "lm = LinearRegression()\n",
    "## instantiate the selector object\n",
    "selector = RFE(lm, n_features_to_select=3 )\n",
    "X = df.drop(columns= 'MPG_Highway')\n",
    "y = df.MPG_Highway\n",
    "\n",
    "## fit the model\n",
    "selector.fit(X,y)\n",
    "\n",
    "## check which columns are selected\n",
    "ind = selector.get_support()\n",
    "print(ind)\n",
    "\n",
    "## Note that we got different columns\n",
    "X.loc[:, ind].head()"
   ]
  },
  {
   "cell_type": "code",
   "execution_count": 21,
   "metadata": {},
   "outputs": [
    {
     "name": "stdout",
     "output_type": "stream",
     "text": [
      "0.7061447200343105\n"
     ]
    }
   ],
   "source": [
    "## let's compare the R2 scores with these predictors\n",
    "lm3 = selector.estimator_\n",
    "\n",
    "R2 = lm3.score(X.loc[:, ind],y)\n",
    "print(R2)"
   ]
  },
  {
   "cell_type": "markdown",
   "metadata": {},
   "source": [
    "Sklearn library returns $R^{2}$-score and we can easily convert it to an adjusted $R^{2}$ by using the formula:\n",
    "\n",
    "$$ \\bar{R}^{2} = 1 - (1- R^{2})\\frac{n-1}{n-p-1}$$\n",
    "\n",
    "where $p$ is the total number of features used to train model.\n",
    "\n",
    "[Wikipedia-$R^{2}$](https://en.wikipedia.org/wiki/Coefficient_of_determination#Adjusted_R2)"
   ]
  },
  {
   "cell_type": "code",
   "execution_count": 22,
   "metadata": {},
   "outputs": [],
   "source": [
    "## We can also calculate adjusted R2 score \n",
    "## directly from R2"
   ]
  },
  {
   "cell_type": "code",
   "execution_count": 23,
   "metadata": {},
   "outputs": [
    {
     "name": "stdout",
     "output_type": "stream",
     "text": [
      "0.6962394858781636\n"
     ]
    }
   ],
   "source": [
    "# %load -r 54-55 answers.py\n",
    "R2_adj = 1- (1-R2)*(len(y)-1)/(len(y) - 3 - 1)\n",
    "print(R2_adj)"
   ]
  },
  {
   "cell_type": "code",
   "execution_count": 24,
   "metadata": {},
   "outputs": [],
   "source": [
    "# X.drop(columns= 'const', inplace = True)\n",
    "\n",
    "# X.head()"
   ]
  },
  {
   "cell_type": "markdown",
   "metadata": {},
   "source": [
    "## Normality of Errors and Residual Plots"
   ]
  },
  {
   "cell_type": "code",
   "execution_count": 25,
   "metadata": {},
   "outputs": [],
   "source": [
    "X = df[['Weight', 'Wheelbase', 'Fueltank']]\n",
    "y_predict = lm3.predict(X)\n",
    "\n",
    "residuals = y - y_predict"
   ]
  },
  {
   "cell_type": "code",
   "execution_count": 27,
   "metadata": {},
   "outputs": [
    {
     "data": {
      "image/png": "[encoded data removed]",
      "text/plain": [
       "<Figure size 432x288 with 1 Axes>"
      ]
     },
     "metadata": {
      "needs_background": "light"
     },
     "output_type": "display_data"
    }
   ],
   "source": [
    "plt.scatter(y_predict, residuals)\n",
    "plt.plot(y_predict, [0 for i in range(len(df))])\n",
    "plt.xlabel(\"Predicted MPG Values\")\n",
    "plt.ylabel(\"Residuals\")\n",
    "\n",
    "plt.show()"
   ]
  },
  {
   "cell_type": "code",
   "execution_count": 46,
   "metadata": {},
   "outputs": [],
   "source": [
    "import scipy.stats as stats"
   ]
  },
  {
   "cell_type": "code",
   "execution_count": 49,
   "metadata": {},
   "outputs": [
    {
     "data": {
      "image/png": "[encoded data removed]",
      "text/plain": [
       "<Figure size 432x288 with 1 Axes>"
      ]
     },
     "metadata": {
      "needs_background": "light"
     },
     "output_type": "display_data"
    }
   ],
   "source": [
    "fig = sm.graphics.qqplot(residuals, dist=stats.norm, line='45', fit=True)"
   ]
  },
  {
   "cell_type": "markdown",
   "metadata": {},
   "source": [
    "## Potential Problems in Multiple Linear Regression\n",
    "\n",
    "In a perfect linear regression model we expect no pattern in the residual plots. In that sense, any pattern in the residual plots corresponds to a violation of assumptions.\n",
    "\n",
    "- 1. Non-linearity of the data\n",
    "\n",
    "U shape patter suggests that we have a non-linear relation between the predictors and the target. In thsi case adding $\\log{X}$, $\\sqrt{X}$ or $X^{2}$ terms to the model might be helpful.\n",
    "\n",
    "<img src='img/non_linearity.png' width=550>\n",
    "\n",
    "- 2. Correlation of the Error Terms \n",
    "\n",
    "This means the errors $\\epsilon_{1}, \\dots, \\epsilon_{i}$ tells nothing about the error $\\epsilon_{i+1}$. If we have correlation between the error terms then confidence intervals are narrower than they should be. \n",
    "\n",
    "- A classic example where we might get correlated errors is when we are dealing with time series data.\n",
    "\n",
    "<img src='img/timeseries_errors.png' width=550>\n",
    "\n",
    "- 3. Non-constant variance of the errors\n",
    "\n",
    "Possible solutions: try $\\log(Y)$ or $\\sqrt{Y}$ transformations, in some cases giving weights to observations.\n",
    "\n",
    "<img src='img/nonconstant_varience.png' width=550>\n",
    "\n",
    "- 4. Outliers\n",
    "\n",
    "<img src='img/outliers.png' width=550>\n",
    "\n",
    "For more on Studentized residuals, check:\n",
    "\n",
    "[PennState - Studentized residuals](https://newonlinecourses.science.psu.edu/stat462/node/247/)\n",
    "\n",
    "[Statsmodel.Stats outliers_influence module documentation](https://www.statsmodels.org/devel/generated/statsmodels.stats.outliers_influence.OLSInfluence.html)\n"
   ]
  },
  {
   "cell_type": "code",
   "execution_count": 77,
   "metadata": {},
   "outputs": [],
   "source": [
    "from statsmodels import stats\n",
    "\n",
    "import numpy as np"
   ]
  },
  {
   "cell_type": "code",
   "execution_count": 55,
   "metadata": {},
   "outputs": [
    {
     "name": "stderr",
     "output_type": "stream",
     "text": [
      "//anaconda3/lib/python3.7/site-packages/numpy/core/fromnumeric.py:2389: FutureWarning: Method .ptp is deprecated and will be removed in a future version. Use numpy.ptp instead.\n",
      "  return ptp(axis=axis, out=out, **kwargs)\n"
     ]
    }
   ],
   "source": [
    "X = sm.add_constant(X)\n",
    "model  = sm.OLS(y,X)\n",
    "results = model.fit()\n"
   ]
  },
  {
   "cell_type": "code",
   "execution_count": 78,
   "metadata": {},
   "outputs": [
    {
     "data": {
      "text/plain": [
       "<matplotlib.legend.Legend at 0x1c296e4f98>"
      ]
     },
     "execution_count": 78,
     "metadata": {},
     "output_type": "execute_result"
    },
    {
     "data": {
      "image/png": "[encoded data removed]",
      "text/plain": [
       "<Figure size 432x288 with 1 Axes>"
      ]
     },
     "metadata": {
      "needs_background": "light"
     },
     "output_type": "display_data"
    }
   ],
   "source": [
    "of = stats.outliers_influence.OLSInfluence(results)\n",
    "\n",
    "plt.scatter(y_predict, residuals, label = 'residuals')\n",
    "plt.scatter(y_predict, of.resid_studentized, label= 'studentized')\n",
    "plt.plot(y_predict, [0 for i in range(len(df))])\n",
    "plt.yticks(np.arange(residuals.min(), residuals.max(), 2))\n",
    "plt.legend()"
   ]
  },
  {
   "cell_type": "markdown",
   "metadata": {},
   "source": [
    "Typical expected values are between -3 and 3. So in that sense we can say we don't have outliers in this model.\n",
    "\n",
    "5. High Leverage Points \n",
    "\n",
    "<img src='img/leverage.png' width=550>\n",
    "\n",
    "For more details on leverage read:\n",
    "\n",
    "    - p97 of ISLR\n",
    "\n",
    "[Penn State Stats](https://newonlinecourses.science.psu.edu/stat462/node/171/)\n",
    "\n",
    "[Statsmodel - Documentation](https://www.statsmodels.org/devel/generated/statsmodels.stats.outliers_influence.OLSInfluence.html)\n",
    "\n",
    "[A blogpost with implementation](http://songhuiming.github.io/pages/2016/12/31/linear-regression-in-python-chapter-2/)\n",
    "\n",
    "\n",
    "- 6. Collinearity\n",
    "\n",
    "Which we discussed earlier."
   ]
  },
  {
   "cell_type": "markdown",
   "metadata": {},
   "source": [
    "## Further Reading\n",
    "\n",
    "To address the collinearity in multiple linear regression we can also use methods like Principal Component Analysis(PCA) and Partial Least Squares (PLS).\n",
    "\n",
    "[Wikipedia- Partial Least Squares ](https://en.wikipedia.org/wiki/Partial_least_squares_regression)\n",
    "\n",
    "[Partial Least Squares](http://www.statsoft.com/Textbook/Partial-Least-Squares)\n",
    "\n",
    "[sklearn - Partial Least Squares](https://scikit-learn.org/stable/modules/generated/sklearn.cross_decomposition.PLSRegression.html#sklearn.cross_decomposition.PLSRegression)\n",
    "\n",
    "[Robust Linear Models](https://www.statsmodels.org/stable/examples/notebooks/generated/robust_models_0.html)"
   ]
  },
  {
   "cell_type": "code",
   "execution_count": null,
   "metadata": {},
   "outputs": [],
   "source": []
  }
 ],
 "metadata": {
  "kernelspec": {
   "display_name": "Python 3",
   "language": "python",
   "name": "python3"
  },
  "language_info": {
   "codemirror_mode": {
    "name": "ipython",
    "version": 3
   },
   "file_extension": ".py",
   "mimetype": "text/x-python",
   "name": "python",
   "nbconvert_exporter": "python",
   "pygments_lexer": "ipython3",
   "version": "3.8.1"
  },
  "toc": {
   "base_numbering": 1,
   "nav_menu": {},
   "number_sections": true,
   "sideBar": true,
   "skip_h1_title": false,
   "title_cell": "Table of Contents",
   "title_sidebar": "Contents",
   "toc_cell": false,
   "toc_position": {},
   "toc_section_display": true,
   "toc_window_display": false
  }
 },
 "nbformat": 4,
 "nbformat_minor": 4
}
