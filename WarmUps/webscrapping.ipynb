{
 "cells": [
  {
   "cell_type": "markdown",
   "metadata": {},
   "source": [
    "## Question:\n",
    "Provide the code that will scrape the rental price of the last apartment/house listed on this craigslist website https://washingtondc.craigslist.org/search/apa."
   ]
  },
  {
   "cell_type": "code",
   "execution_count": 60,
   "metadata": {},
   "outputs": [],
   "source": [
    "import requests\n",
    "from bs4 import BeautifulSoup"
   ]
  },
  {
   "cell_type": "code",
   "execution_count": 78,
   "metadata": {},
   "outputs": [],
   "source": [
    "def last_price():\n",
    "    craiglist = requests.get(\"https://washingtondc.craigslist.org/search/apa\")\n",
    "    craiglist_soup = BeautifulSoup(craiglist.text, \"html.parser\")\n",
    "    price = craiglist_soup.find_all(\"span\", class_=\"result-price\")\n",
    "    return price[0].text\n",
    "    "
   ]
  },
  {
   "cell_type": "code",
   "execution_count": 77,
   "metadata": {},
   "outputs": [
    {
     "name": "stdout",
     "output_type": "stream",
     "text": [
      "200\n"
     ]
    },
    {
     "data": {
      "text/plain": [
       "'$1195'"
      ]
     },
     "execution_count": 77,
     "metadata": {},
     "output_type": "execute_result"
    }
   ],
   "source": [
    "last_price()"
   ]
  },
  {
   "cell_type": "code",
   "execution_count": 63,
   "metadata": {},
   "outputs": [
    {
     "data": {
      "text/plain": [
       "'$1195'"
      ]
     },
     "execution_count": 63,
     "metadata": {},
     "output_type": "execute_result"
    }
   ],
   "source": [
    "# By Christain\n",
    "#Remember the first step is to inspect the page with your browser tools\n",
    "# Example 1 - Getting book titles \n",
    "html_page = requests.get('https://washingtondc.craigslist.org/search/apa') # Make a get request to retrieve the page\n",
    "soup = BeautifulSoup(html_page.content, 'html.parser')        # Pass the page contents to beautiful soup for parsing\n",
    "rows = soup.find('ul', class_=\"rows\")\n",
    "row_results = rows.find_all('li', class_=\"result-row\")\n",
    "retail_prices = [prices.find('span', class_='result-price') for prices in row_results]\n",
    "retail_prices[0].text"
   ]
  },
  {
   "cell_type": "code",
   "execution_count": 72,
   "metadata": {},
   "outputs": [
    {
     "data": {
      "text/plain": [
       "'$1195'"
      ]
     },
     "execution_count": 72,
     "metadata": {},
     "output_type": "execute_result"
    }
   ],
   "source": [
    "# By Joe\n",
    "def latest_price(soup):\n",
    "    response = requests.get('https://washingtondc.craigslist.org/search/apa')\n",
    "    soup = BeautifulSoup(response.content, 'html.parser')\n",
    "    price = soup.find_all('span', class_='result-price')\n",
    "    return price[0].text\n",
    "latest_price(soup)\n"
   ]
  }
 ],
 "metadata": {
  "kernelspec": {
   "display_name": "Python 3",
   "language": "python",
   "name": "python3"
  },
  "language_info": {
   "codemirror_mode": {
    "name": "ipython",
    "version": 3
   },
   "file_extension": ".py",
   "mimetype": "text/x-python",
   "name": "python",
   "nbconvert_exporter": "python",
   "pygments_lexer": "ipython3",
   "version": "3.8.1"
  }
 },
 "nbformat": 4,
 "nbformat_minor": 4
}
