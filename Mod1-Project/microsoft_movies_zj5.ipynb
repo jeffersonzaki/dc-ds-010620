{
 "cells": [
  {
   "cell_type": "markdown",
   "metadata": {},
   "source": [
    "# Objective\n",
    "\n",
    "Help Microsoft choose waht type of movies they should implement\n",
    "\n",
    "To help choose which movies are best for Microsoft to start with, we should consider using\n",
    "\n",
    "**movie genres**\n",
    "\n",
    "**production budget**\n",
    "\n",
    "**revenue(gross)**\n",
    "\n",
    "**votes/ratings**"
   ]
  },
  {
   "cell_type": "markdown",
   "metadata": {},
   "source": [
    "## Methodology\n",
    "\n",
    "Some areas you can look to examine are movie genres (Thriller, Drama, Comedy, etc.), movie ratings, budget, social media discussion, and critic or user reviews. Your team gets to define its _own questions_ about the movie industry and then use its knowledge of descriptive statistics and the EDA process to try and answer those questions. <br>\n",
    "Questions to consider:\n",
    "- How are you defining _success_?\n",
    " - Return on investment?\n",
    " - Revenue?\n",
    " - Guaranteed box-office hit?\n",
    " - Social media buzz?"
   ]
  },
  {
   "cell_type": "code",
   "execution_count": 1,
   "metadata": {},
   "outputs": [
    {
     "ename": "ModuleNotFoundError",
     "evalue": "No module named 'seaborn'",
     "output_type": "error",
     "traceback": [
      "\u001b[0;31m---------------------------------------------------------------------------\u001b[0m",
      "\u001b[0;31mModuleNotFoundError\u001b[0m                       Traceback (most recent call last)",
      "\u001b[0;32m<ipython-input-1-5065df5aad6d>\u001b[0m in \u001b[0;36m<module>\u001b[0;34m\u001b[0m\n\u001b[1;32m      5\u001b[0m \u001b[0;32mimport\u001b[0m \u001b[0mre\u001b[0m\u001b[0;34m\u001b[0m\u001b[0;34m\u001b[0m\u001b[0m\n\u001b[1;32m      6\u001b[0m \u001b[0;32mfrom\u001b[0m \u001b[0mdatetime\u001b[0m \u001b[0;32mimport\u001b[0m \u001b[0mdatetime\u001b[0m\u001b[0;34m\u001b[0m\u001b[0;34m\u001b[0m\u001b[0m\n\u001b[0;32m----> 7\u001b[0;31m \u001b[0;32mimport\u001b[0m \u001b[0mseaborn\u001b[0m \u001b[0;32mas\u001b[0m \u001b[0msns\u001b[0m\u001b[0;34m\u001b[0m\u001b[0;34m\u001b[0m\u001b[0m\n\u001b[0m\u001b[1;32m      8\u001b[0m \u001b[0;34m\u001b[0m\u001b[0m\n\u001b[1;32m      9\u001b[0m \u001b[0mget_ipython\u001b[0m\u001b[0;34m(\u001b[0m\u001b[0;34m)\u001b[0m\u001b[0;34m.\u001b[0m\u001b[0mrun_line_magic\u001b[0m\u001b[0;34m(\u001b[0m\u001b[0;34m'matplotlib'\u001b[0m\u001b[0;34m,\u001b[0m \u001b[0;34m'inline'\u001b[0m\u001b[0;34m)\u001b[0m\u001b[0;34m\u001b[0m\u001b[0;34m\u001b[0m\u001b[0m\n",
      "\u001b[0;31mModuleNotFoundError\u001b[0m: No module named 'seaborn'"
     ]
    }
   ],
   "source": [
    "# Import all libraries\n",
    "import pandas as pd\n",
    "import matplotlib.pylab as plt\n",
    "import numpy as np\n",
    "import re\n",
    "from datetime import datetime\n",
    "import seaborn as sns\n",
    "\n",
    "%matplotlib inline"
   ]
  },
  {
   "cell_type": "code",
   "execution_count": null,
   "metadata": {},
   "outputs": [],
   "source": [
    "# Creating data-frames out of the existing files and assigning them names\n",
    "movie_gross_df = pd.read_csv(\"Data/bom.movie_gross.csv.gz\")\n",
    "name_basics_df = pd.read_csv(\"Data/imdb.name.basics.csv.gz\")\n",
    "akas_df = pd.read_csv(\"Data/imdb.title.akas.csv.gz\")\n",
    "basics_df = pd.read_csv(\"Data/imdb.title.basics.csv.gz\")\n",
    "crew_df = pd.read_csv(\"Data/imdb.title.crew.csv.gz\")\n",
    "principals_df = pd.read_csv(\"Data/imdb.title.principals.csv.gz\")\n",
    "ratings_df = pd.read_csv(\"Data/imdb.title.ratings.csv.gz\")\n",
    "movies_df = pd.read_csv(\"Data/tmdb.movies.csv.gz\")\n",
    "movie_budget_df = pd.read_csv(\"Data/tn.movie_budgets.csv.gz\")\n",
    "rt_info_df = pd.read_csv(\"Data/rt.movie_info.tsv.gz\", sep='\\t')\n",
    "rt_reviews_df = pd.read_csv(\"Data/rt.reviews.tsv.gz\", sep='\\t', encoding=\"unicode_escape\")"
   ]
  },
  {
   "cell_type": "markdown",
   "metadata": {},
   "source": [
    "# Data Description\n",
    "\n",
    "**movie_budget_df** \n",
    "- release date \n",
    "- movie name\n",
    "- production budget\n",
    "- domestic gross\n",
    "- worldwide gross\n",
    "\n",
    "**movie_gross_df**\n",
    "- movie name\n",
    "- studio name\n",
    "- domestic gross\n",
    "- foreign gross\n",
    "- year of movie\n",
    "\n",
    "**movies_df**\n",
    "- genre ids\n",
    "- the id\n",
    "- original language filmed in\n",
    "- movie name\n",
    "- popularity\n",
    "- release date\n",
    "- vote\n",
    "- vote count\n",
    "\n",
    "**name_basics_df**\n",
    "\n",
    "**akas_df**\n",
    "\n",
    "**basics_df**\n",
    "- primary and original title\n",
    "- start year\n",
    "- runtime in mins\n",
    "- genre\n",
    "\n",
    "**crew_df**\n",
    "- directors\n",
    "- writers\n",
    "\n",
    "**principals_df**\n",
    "\n",
    "**ratings_df**\n",
    "- average num. of ratings\n",
    "- num. of votes\n",
    "\n",
    "**rt_reviews_df**\n",
    "- review\n",
    "- rating\n",
    "- fresh/rotten\n",
    "- critic/top critic\n",
    "- publisher\n",
    "- date\n",
    "\n",
    "**rt_info_df**\n",
    "- synopsis\n",
    "- movie rating\n",
    "- genre\n",
    "- director\n",
    "- writer\n",
    "- release date\n",
    "- dvd date\n",
    "- currency\n",
    "- box office\n",
    "- runtime\n",
    "- studio"
   ]
  },
  {
   "cell_type": "markdown",
   "metadata": {},
   "source": [
    "# Data that are similar\n",
    "\n",
    "movie_budget_df & movie_gross_df\n",
    "\n",
    "movies_df & ratings_df\n",
    "\n",
    "# Data To Use\n",
    "\n",
    "**movie_gross_df**\n",
    "\n",
    "**movie_budget_df**\n",
    "\n",
    "**movies_df**"
   ]
  },
  {
   "cell_type": "markdown",
   "metadata": {},
   "source": [
    "# What To Show\n",
    "Name of Movie\n",
    "\n",
    "**Genre**\n",
    "\n",
    "**Movie Rating**\n",
    "\n",
    "Release Date - Not a priority\n",
    "\n",
    "**Production Budget/Gross Revenue/ROI**\n",
    "\n",
    "Ratings\n",
    "\n",
    "## Game-Plane\n",
    "- **From The movie_budget_df**\n",
    "\n",
    " - The **first** data visulization will show domestic ROI\n",
    "\n",
    " - The **second** data visualization will show worldwide ROI\n",
    " \n",
    "- **From The "
   ]
  },
  {
   "cell_type": "markdown",
   "metadata": {},
   "source": [
    "# **Code Starts Here**"
   ]
  },
  {
   "cell_type": "markdown",
   "metadata": {},
   "source": [
    "### What Data-Frames Were Chosen\n",
    "We chose two dataframes to use, **movie_budget_df** and **movie_gross_df**"
   ]
  },
  {
   "cell_type": "markdown",
   "metadata": {},
   "source": [
    "## Problem\n",
    "The **movie_budget_df** had special characters, \"$\" and \",\", that the other dataframe, **movie_gross_df** did not.\n",
    "\n",
    "We are not able to merge because of these differences\n",
    "\n",
    "## Solution\n",
    "We created a function that allows us to input any dataframe and take out the commas and USD signs"
   ]
  },
  {
   "cell_type": "code",
   "execution_count": null,
   "metadata": {},
   "outputs": [],
   "source": [
    "# Gitting rid of \"$\" and \",\" in a dataframe\n",
    "def remove_format(dataframe):\n",
    "    for strings in dataframe:\n",
    "        dataframe.replace('[\\$,)]','', regex=True, inplace=True)"
   ]
  },
  {
   "cell_type": "code",
   "execution_count": null,
   "metadata": {},
   "outputs": [],
   "source": [
    "# Removing specified characters in this dataframe\n",
    "remove_format(movie_budget_df)"
   ]
  },
  {
   "cell_type": "markdown",
   "metadata": {},
   "source": [
    "# Changing Data Types\n",
    "\n",
    "## Problem\n",
    "There's more Inconsistency with our dataframes. **movie_budget_df** has a dtype of int, while **movie_gross_df** had a dtype of float.\n",
    "\n",
    "In order to merge we need to have our data as consistent as possible\n",
    "\n",
    "## Solution\n",
    "We access the **movie_budget_df** and choose our specific columns and change the dtype to a float.\n",
    "\n",
    "Now our **movie_budget_df** has a float dtype, just like the **movie_gross_df**"
   ]
  },
  {
   "cell_type": "code",
   "execution_count": null,
   "metadata": {},
   "outputs": [],
   "source": [
    "# Changing data types to a float to match same content\n",
    "movie_budget_df['production_budget']  = movie_budget_df['production_budget'].astype(float)\n",
    "movie_budget_df['domestic_gross']  = movie_budget_df['domestic_gross'].astype(float)\n",
    "movie_budget_df['worldwide_gross']  = movie_budget_df['worldwide_gross'].astype(float)"
   ]
  },
  {
   "cell_type": "code",
   "execution_count": null,
   "metadata": {},
   "outputs": [],
   "source": [
    "movie_budget_df.info() # Checking to see if info matches in order to merge"
   ]
  },
  {
   "cell_type": "code",
   "execution_count": null,
   "metadata": {},
   "outputs": [],
   "source": [
    "movie_gross_df.info() # Checking to see if info matches in order to merge"
   ]
  },
  {
   "cell_type": "markdown",
   "metadata": {},
   "source": [
    "# Dropping Columns\n",
    "\n",
    "## Problem\n",
    "We've found missing data in **movie_gross_df**\n",
    "\n",
    "## Solution\n",
    "We use the dropna() method and set its' parameters as inplace=True. \n",
    "\n",
    "We set that specific key argument because that allows our changes to be inside that dataframe, acting as if it was a save and remember key."
   ]
  },
  {
   "cell_type": "code",
   "execution_count": null,
   "metadata": {},
   "outputs": [],
   "source": [
    "# Dropping all missing values(NaN) inside the dataframe\n",
    "movie_gross_df.dropna(inplace=True)"
   ]
  },
  {
   "cell_type": "code",
   "execution_count": null,
   "metadata": {},
   "outputs": [],
   "source": [
    "movie_gross_df.isna().sum() # Sums the amount of NaN's there are in each column"
   ]
  },
  {
   "cell_type": "code",
   "execution_count": null,
   "metadata": {},
   "outputs": [],
   "source": [
    "movie_budget_df.isna().sum() # Sums the amount of NaN's there are in each column"
   ]
  },
  {
   "cell_type": "markdown",
   "metadata": {},
   "source": [
    "# Changing Column Names\n",
    "\n",
    "## Problem\n",
    "Not able to combine data without recieving NaN or an error because the column names were different\n",
    "\n",
    "## Solution\n",
    "Used the rename() method to change certain titles"
   ]
  },
  {
   "cell_type": "code",
   "execution_count": null,
   "metadata": {},
   "outputs": [],
   "source": [
    "# Changing column names\n",
    "movie_gross_df = movie_gross_df.rename(columns={\"title\": \"movie\", \"foreign_gross\": \"worldwide_gross\"})"
   ]
  },
  {
   "cell_type": "code",
   "execution_count": null,
   "metadata": {},
   "outputs": [],
   "source": [
    "movie_budget_df.head()"
   ]
  },
  {
   "cell_type": "markdown",
   "metadata": {},
   "source": [
    "# Adding 2 New Columns\n",
    "\n",
    "## Description\n",
    "Added 2 new columns that shows the ROI of worldwide and domestic "
   ]
  },
  {
   "cell_type": "code",
   "execution_count": null,
   "metadata": {},
   "outputs": [],
   "source": [
    "percent = 100 # Defining the percent for we can convert a given number into percent form\n",
    "\n",
    "# Creating a new column that shows ROI\n",
    "movie_budget_df[\"worldwide_roi\"] = (movie_budget_df.worldwide_gross / movie_budget_df.production_budget) * percent\n",
    "movie_budget_df[\"domestic_roi\"] = (movie_budget_df.domestic_gross / movie_budget_df.production_budget) * percent"
   ]
  },
  {
   "cell_type": "code",
   "execution_count": null,
   "metadata": {},
   "outputs": [],
   "source": [
    "movie_budget_df.head()"
   ]
  },
  {
   "cell_type": "markdown",
   "metadata": {},
   "source": [
    "# Looking At **rt_info_df**\n",
    "\n",
    "## Description\n",
    "Using the **rt_info_df** dataframe we can possibly make 1 or 2 data visualizations:\n",
    "    \n",
    "- We can use this to choose what movie rating does a specific genre usually recieve\n",
    "\n",
    "- Or we can see a trend on what genres are being produced more in the following years, meaning, what genre is more likely to be produced, and is ok to produced now, rather than back then.\n",
    "\n",
    "**We can choose to use 1 of these suggestions or both**"
   ]
  },
  {
   "cell_type": "code",
   "execution_count": null,
   "metadata": {},
   "outputs": [],
   "source": [
    "# Dropping all missing values, NaN.\n",
    "rt_info_df.dropna(inplace=True)"
   ]
  },
  {
   "cell_type": "code",
   "execution_count": null,
   "metadata": {},
   "outputs": [],
   "source": [
    "rt_info_df.head() # We can use this to choose what movie rating does a specific genre usually recieve\n",
    "\n",
    "# Or we can see a trend on what genres are being produced more in the following years, meaning, what genre is more likely to be produced, and is ok to produced now, rather than back then."
   ]
  },
  {
   "cell_type": "code",
   "execution_count": null,
   "metadata": {},
   "outputs": [],
   "source": [
    "# Changing column name\n",
    "rt_info_df = rt_info_df.rename(columns={\"theater_date\": \"release_date\"})"
   ]
  },
  {
   "cell_type": "markdown",
   "metadata": {},
   "source": [
    "# Changing More Of The **rt_info_df** Dataframe\n",
    "We want to create a data visualization around this data using ratings and years.\n",
    "\n",
    "## Problem\n",
    "There is not year column in order to create our data visualization.\n",
    "We also need to format our column to get just the year\n",
    "\n",
    "## Solution\n",
    "Used the **to_datetime()** method on our release date in order to transform the format\n",
    "\n",
    "Created a new column named **year** and got the year from the already formatted **release_date** column"
   ]
  },
  {
   "cell_type": "code",
   "execution_count": null,
   "metadata": {},
   "outputs": [],
   "source": [
    "# Altering release_date column to only show years\n",
    "rt_info_df['release_date'] = pd.to_datetime(rt_info_df[\"release_date\"]) # Changes the release_date column to a date time format\n",
    "\n",
    "rt_info_df['year'] = rt_info_df['release_date'].dt.year # Creating a new column called years that shows only the years from the release_date column"
   ]
  },
  {
   "cell_type": "markdown",
   "metadata": {},
   "source": [
    "# Looking At What To Drop In **rt_info_df**\n",
    "There's data that will be irrelevant to our graph; this is shown in the year column and the ratings column\n",
    "\n",
    "## Problem\n",
    "Data that's not paramount to our graph\n",
    "\n",
    "## Solution\n",
    "We search for said irrelevant data using the **unique()** method. This will show the values that we have, without duplication.\n",
    "\n",
    "We then use the **value_counts()** method to check how many values there are for a key.\n",
    "\n",
    "We want to drop the rows that have small values attached to it.\n",
    "\n",
    "We want to drop our values using the **drop()** method and add said row's index.\n",
    "\n",
    "We find the index of a value by using **loc**. This returns the entire row(s) we are looking for.\n",
    "We can now use the **drop()** method and set the index that we want to drop"
   ]
  },
  {
   "cell_type": "code",
   "execution_count": null,
   "metadata": {},
   "outputs": [],
   "source": [
    "# Seeing years in our year column, so we can drop the ones we don't want\n",
    "rt_info_df.year.unique()"
   ]
  },
  {
   "cell_type": "code",
   "execution_count": null,
   "metadata": {},
   "outputs": [],
   "source": [
    "rt_info_df.rating.unique()"
   ]
  },
  {
   "cell_type": "code",
   "execution_count": null,
   "metadata": {},
   "outputs": [],
   "source": [
    "rt_info_df.year.value_counts()"
   ]
  },
  {
   "cell_type": "code",
   "execution_count": null,
   "metadata": {},
   "outputs": [],
   "source": [
    "# Finding what this specific year's index is, so we can drop that row\n",
    "rt_info_df.loc[rt_info_df.year == 1974]"
   ]
  },
  {
   "cell_type": "code",
   "execution_count": null,
   "metadata": {},
   "outputs": [],
   "source": [
    "# Finding what this specific year's index is, so we can drop that row\n",
    "rt_info_df.loc[rt_info_df.year == 1993]"
   ]
  },
  {
   "cell_type": "code",
   "execution_count": null,
   "metadata": {},
   "outputs": [],
   "source": [
    "rt_info_df.drop(index=913, inplace=True) # Dropping a year by its index"
   ]
  },
  {
   "cell_type": "code",
   "execution_count": null,
   "metadata": {},
   "outputs": [],
   "source": [
    "rt_info_df.drop(index=691, inplace=True) # Dropping a year by its index"
   ]
  },
  {
   "cell_type": "markdown",
   "metadata": {},
   "source": [
    "# Dropping Certain Rating On **rt_info_df**\n",
    "Dropping irrelevant data\n",
    "\n",
    "## Problem\n",
    "In our dataframe there is a value that only shows up once.\n",
    "\n",
    "We want to git rid of that irrelevant data in order to have a more paramount representation of our data\n",
    "\n",
    "## Solution\n",
    "We use **loc** in order to find what row NC17 occupies.\n",
    "\n",
    "If we are able to get the index of NC17, we are able to use the **drop()** method to drop that row.\n",
    "\n",
    "We find the row and drop it. We then use the **inplace** argument and set it equals to \"True\" in order to keep that change inside the dataframe "
   ]
  },
  {
   "cell_type": "code",
   "execution_count": null,
   "metadata": {},
   "outputs": [],
   "source": [
    "rt_info_df.rating.value_counts()"
   ]
  },
  {
   "cell_type": "code",
   "execution_count": null,
   "metadata": {},
   "outputs": [],
   "source": [
    "rating_df = pd.DataFrame(rt_info_df.groupby([\"rating\", \"year\"])[\"year\"].count())\n",
    "\n",
    "# renaming column from year to count\n",
    "rating_df.columns = [\"count\"]\n",
    "\n",
    "# to_records at end and pd.Dataframe again"
   ]
  },
  {
   "cell_type": "code",
   "execution_count": null,
   "metadata": {},
   "outputs": [],
   "source": [
    "rating_df = pd.DataFrame(rating_df.to_records())"
   ]
  },
  {
   "cell_type": "code",
   "execution_count": null,
   "metadata": {},
   "outputs": [],
   "source": [
    "rt_info_df.groupby([\"rating\"])[\"year\"].count()"
   ]
  },
  {
   "cell_type": "code",
   "execution_count": null,
   "metadata": {},
   "outputs": [],
   "source": [
    "# Changing to DF to get to_records()\n",
    "pd.DataFrame(rt_info_df.groupby([\"rating\"])[\"year\"].count())"
   ]
  },
  {
   "cell_type": "code",
   "execution_count": null,
   "metadata": {},
   "outputs": [],
   "source": [
    "# Finding the row for NC17 in order to retrive its index, that way we can drop the row\n",
    "rt_info_df.loc[rt_info_df.rating == \"NC17\"] # Index is 1215"
   ]
  },
  {
   "cell_type": "code",
   "execution_count": null,
   "metadata": {},
   "outputs": [],
   "source": [
    "# Found NC17's row information. Now we can delete the row\n",
    "rt_info_df.drop(index=1215, inplace=True)"
   ]
  },
  {
   "cell_type": "markdown",
   "metadata": {},
   "source": [
    "# Using **movies_df**\n",
    "\n",
    "## Description\n",
    "Able to use the **movie_df** dataframe and compare which genres recieves high votes. This will allow us to see what genres people want more of\n",
    "\n",
    "## Problem\n",
    "The **movie_df** has the genre_ids column in ids/codes. The reader does not understand what the numbers in the genre_ids column of **movie_df** mean.\n",
    "\n",
    "## Solution\n",
    "Able to google genre ids and put it into a dictionary. The genre name is the key, while the values are the genre ids.\n",
    "\n",
    "This allows us to match the ids in the dataframe to the genre dictionary's keys.\n",
    "\n",
    "If the keys in the dictionary match the numbers/ids in the genre_id column then it will replace it with the dictionary's values, which are the genre names."
   ]
  },
  {
   "cell_type": "code",
   "execution_count": null,
   "metadata": {},
   "outputs": [],
   "source": [
    "movies_df.head()"
   ]
  },
  {
   "cell_type": "code",
   "execution_count": null,
   "metadata": {},
   "outputs": [],
   "source": [
    "genre_id_in_str = {\"action\": \"28\", \"animated\": \"16\", \"documentary\": \"99\", \"drama\": \"18\",\n",
    "            \"family\": \"10751\", \"fantasy\": \"14\", \"history\": \"36\", \"comedy\": \"35\", \n",
    "            \"war\": \"10752\", \"crime\": \"80\", \"music\": \"10402\", \"mystery\": \"9648\",\n",
    "            \"romance\": \"10749\", \"sci fi\": \"878\", \"horror\": \"27\",\n",
    "            \"TV movie\": \"10770\", \"thriller\": \"53\", \"western\": \"37\", \n",
    "            \"adventure\": \"12\"}"
   ]
  },
  {
   "cell_type": "code",
   "execution_count": null,
   "metadata": {},
   "outputs": [],
   "source": [
    "genre_id = {\"action\": 28, \"animated\": 16, \"documentary\": 99, \"drama\": 18,\n",
    "            \"family\": 10751, \"fantasy\": 14, \"history\": 36, \"comedy\": 35, \n",
    "            \"war\": 10752, \"crime\": 80, \"music\": 10402, \"mystery\": 9648,\n",
    "            \"romance\": 10749, \"sci fi\": 878, \"horror\": 27,\n",
    "            \"TV movie\": 10770, \"thriller\": 53, \"western\": 37, \n",
    "            \"adventure\": 12}"
   ]
  },
  {
   "cell_type": "code",
   "execution_count": null,
   "metadata": {},
   "outputs": [],
   "source": [
    "# Returns ALL key, value pairs in a tuple\n",
    "genre_id.items()"
   ]
  },
  {
   "cell_type": "code",
   "execution_count": null,
   "metadata": {},
   "outputs": [],
   "source": [
    "# If the genre_ids in movies_df match the values \n",
    "# in the genre id dict, replace it with the genre id dict's keys   \n",
    "def fetch_genre(dataframe):\n",
    "    for key, values in genre_id_in_str.items():\n",
    "        for value in values:\n",
    "            if value in dataframe:\n",
    "                return key"
   ]
  },
  {
   "cell_type": "code",
   "execution_count": null,
   "metadata": {},
   "outputs": [],
   "source": [
    "# ONLY RUN THIS CODE BLOCK 1 TIME, OR YOU WILL RECIEVE AN ERROR AND HAVE TO RUN IT FROM THE TOP\n",
    "movies_df[\"genre_ids\"] = movies_df[\"genre_ids\"].apply(fetch_genre)"
   ]
  },
  {
   "cell_type": "code",
   "execution_count": null,
   "metadata": {},
   "outputs": [],
   "source": [
    "movies_df.head()"
   ]
  },
  {
   "cell_type": "code",
   "execution_count": null,
   "metadata": {},
   "outputs": [],
   "source": [
    "# Renaming certain columns\n",
    "movies_df = movies_df.rename(columns={\"title\": \"movie\"})"
   ]
  },
  {
   "cell_type": "code",
   "execution_count": null,
   "metadata": {},
   "outputs": [],
   "source": [
    "movies_df.head()"
   ]
  },
  {
   "cell_type": "code",
   "execution_count": null,
   "metadata": {
    "jupyter": {
     "source_hidden": true
    }
   },
   "outputs": [],
   "source": []
  },
  {
   "cell_type": "markdown",
   "metadata": {},
   "source": [
    "# **DATA VISUALIZATIONS**\n",
    "Bubble Plot\n",
    "\n",
    "## **rt_info_df**\n",
    "Using Ratings, Years, and number of Occurrences"
   ]
  },
  {
   "cell_type": "code",
   "execution_count": null,
   "metadata": {},
   "outputs": [],
   "source": [
    "rt_info_df.year.unique()"
   ]
  },
  {
   "cell_type": "code",
   "execution_count": null,
   "metadata": {},
   "outputs": [],
   "source": [
    "rt_info_df.rating.unique()"
   ]
  },
  {
   "cell_type": "code",
   "execution_count": null,
   "metadata": {},
   "outputs": [],
   "source": [
    "# Changing the size of the figure in inches\n",
    "plt.figure(figsize=(10, 7))\n",
    "\n",
    "# z-axis\n",
    "z = rating_df[\"count\"]\n",
    "\n",
    "\n",
    "# Ttick Marks\n",
    "plt.yticks(fontsize=15)\n",
    "plt.xticks(fontsize=15 )\n",
    "\n",
    "# Labels\n",
    "plt.ylabel(\"Movie Ratings\", fontsize=20)\n",
    "plt.xlabel(\"Years\", fontsize=20)\n",
    "plt.title(\"Ratings per Year\", fontsize=30)\n",
    "\n",
    "# MAKING OUR PLOT\n",
    "plt.scatter(rating_df.year, rating_df.rating, \n",
    "            s=rating_df[\"count\"]*300, \n",
    "            color=\"blue\", alpha=0.4, \n",
    "            label=\"# Of Occurrences\", edgecolors=\"gold\")\n",
    "\n",
    "# Doesnt Cut off data that's we are using\n",
    "plt.tight_layout()\n",
    "\n",
    "plt.legend(loc='upper center', \n",
    "           bbox_to_anchor=(0.5, -0.05), \n",
    "           shadow=True, ncol=2)\n",
    "\n",
    "plt.show()"
   ]
  },
  {
   "cell_type": "markdown",
   "metadata": {},
   "source": [
    "# OTHER DATA VISUALIZATION"
   ]
  },
  {
   "cell_type": "code",
   "execution_count": null,
   "metadata": {},
   "outputs": [],
   "source": [
    "movie_budget_df['domestic_roi']=(movie_budget_df['domestic_gross']-movie_budget_df['production_budget'])/movie_budget_df['production_budget']\n",
    "movie_budget_df['worldwide_roi']=(movie_budget_df['worldwide_gross']-movie_budget_df['production_budget'])/movie_budget_df['production_budget']"
   ]
  },
  {
   "cell_type": "code",
   "execution_count": null,
   "metadata": {},
   "outputs": [],
   "source": [
    "movie_budget_df['release_date']=pd.to_datetime(movie_budget_df['release_date']) #converting release date to datetime object\n",
    "movie_budget_df['year']=movie_budget_df['release_date'].dt.year\n",
    "movie_budget_df['month']=movie_budget_df['release_date'].dt.month\n",
    "movie_budget_df['year'].unique()"
   ]
  },
  {
   "cell_type": "code",
   "execution_count": null,
   "metadata": {},
   "outputs": [],
   "source": [
    "time_df=movie_budget_df.loc[(movie_budget_df['year']>=2010) & (movie_budget_df['year']<2020)]\n",
    "time_df.head()\n",
    "print(time_df['domestic_roi'].min())\n",
    "print(time_df['domestic_roi'].max())\n",
    "time_df.loc[time_df['domestic_roi']==time_df['domestic_roi'].max(),'movie']"
   ]
  },
  {
   "cell_type": "code",
   "execution_count": null,
   "metadata": {},
   "outputs": [],
   "source": [
    "sns.set_style('darkgrid')\n",
    "sns.set_context('poster')\n",
    "plt.figure(figsize=(18, 8))\n",
    "g1=sns.boxplot(x='year',y='domestic_roi',data=time_df)\n",
    "g1.set(xlabel = \"Year\", ylabel='Domestic ROI(units in 100%)' , title= 'Domestic ROI by Year')\n",
    "g1.set(ylim=(-2, 6))\n",
    "\n",
    "plt.savefig('dom_year.png')\n",
    "plt.show(g1)"
   ]
  },
  {
   "cell_type": "code",
   "execution_count": null,
   "metadata": {},
   "outputs": [],
   "source": [
    "plt.figure(figsize=(18, 8))\n",
    "g2=sns.boxplot(x='year',y='worldwide_roi',data=time_df)\n",
    "g2.set(xlabel = \"Year\", ylabel='Worldwide ROI (units in 100%)', title='Worldwide ROI by Year')\n",
    "g2.set(ylim=(-2, 8))\n",
    "plt.savefig('wol_year.png')\n",
    "plt.show(g2)"
   ]
  },
  {
   "cell_type": "code",
   "execution_count": null,
   "metadata": {},
   "outputs": [],
   "source": [
    "imdbmerge = pd.merge(principals_df, name_basics_df, on = 'nconst')\n",
    "imdbmerge.head()"
   ]
  },
  {
   "cell_type": "code",
   "execution_count": null,
   "metadata": {},
   "outputs": [],
   "source": [
    "imdbfinal = pd.merge(imdbmerge, basics_df, on = 'tconst')\n",
    "imdbfinal.head()"
   ]
  },
  {
   "cell_type": "code",
   "execution_count": null,
   "metadata": {},
   "outputs": [],
   "source": [
    "imdbfinal = imdbfinal.rename(columns = {'primary_title': 'movie'})\n",
    "imdbfinal.head()"
   ]
  },
  {
   "cell_type": "code",
   "execution_count": null,
   "metadata": {},
   "outputs": [],
   "source": [
    "moviefinal = pd.merge(imdbfinal, movie_budget_df, on = 'movie', how = 'right')\n",
    "moviefinal.head()"
   ]
  },
  {
   "cell_type": "markdown",
   "metadata": {},
   "source": [
    "# Data Cleaning for Merged Movie and IMDB Dataframe "
   ]
  },
  {
   "cell_type": "code",
   "execution_count": null,
   "metadata": {},
   "outputs": [],
   "source": [
    "# Removing unnecessary columns\n",
    "moviefinal = moviefinal.drop(columns=['job', 'characters', 'birth_year', 'death_year', 'primary_profession'])\n",
    "moviefinal.head()"
   ]
  },
  {
   "cell_type": "code",
   "execution_count": null,
   "metadata": {},
   "outputs": [],
   "source": [
    "#dropping NaN values\n",
    "moviefinal = moviefinal.dropna()\n",
    "moviefinal"
   ]
  },
  {
   "cell_type": "markdown",
   "metadata": {},
   "source": [
    "# Data Analysis for Merged Movie and IMDB Dataframe "
   ]
  },
  {
   "cell_type": "code",
   "execution_count": null,
   "metadata": {},
   "outputs": [],
   "source": [
    "#roles of cast\n",
    "moviecategory = moviefinal.groupby('category').size()\n",
    "moviecategory"
   ]
  },
  {
   "cell_type": "code",
   "execution_count": null,
   "metadata": {},
   "outputs": [],
   "source": [
    "moviecategorylist = ['actor', 'producer', 'actress', 'writer', 'director', 'composer', 'cinematographer', 'editor', 'self', 'production_designer']\n",
    "moviecategorycountlist = [7256, 4895, 4260, 4024, 3359, 1836, 1395, 856, 503, 243]"
   ]
  },
  {
   "cell_type": "code",
   "execution_count": null,
   "metadata": {},
   "outputs": [],
   "source": [
    "#Categories Bar Plot\n",
    "plt.figure(figsize=(16,6))\n",
    "ax = sns.barplot(x=moviecategorylist, y=moviecategorycountlist)\n",
    "plt.xticks(rotation=90)\n",
    "plt.xlabel('Categories', fontsize=16, fontweight='bold')\n",
    "plt.ylabel('Frequency of Appearances in Moviefinal Data Set', fontsize=16, fontweight='bold')\n",
    "plt.savefig('Cat.png')\n",
    "plt.title('Categories Bar Plot', fontsize=18, fontweight='bold')"
   ]
  },
  {
   "cell_type": "code",
   "execution_count": null,
   "metadata": {},
   "outputs": [],
   "source": [
    "#When you are producing movies it is more important to hire more people from the categories with higher frequency of appearances than lower frequency of appearances"
   ]
  }
 ],
 "metadata": {
  "kernelspec": {
   "display_name": "Python 3",
   "language": "python",
   "name": "python3"
  },
  "language_info": {
   "codemirror_mode": {
    "name": "ipython",
    "version": 3
   },
   "file_extension": ".py",
   "mimetype": "text/x-python",
   "name": "python",
   "nbconvert_exporter": "python",
   "pygments_lexer": "ipython3",
   "version": "3.8.1"
  }
 },
 "nbformat": 4,
 "nbformat_minor": 4
}
